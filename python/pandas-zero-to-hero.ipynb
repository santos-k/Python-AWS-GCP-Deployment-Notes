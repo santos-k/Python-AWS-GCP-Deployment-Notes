{
 "cells": [
  {
   "cell_type": "markdown",
   "id": "25eff5e3",
   "metadata": {
    "papermill": {
     "duration": 0.152784,
     "end_time": "2023-10-25T14:10:29.231156",
     "exception": false,
     "start_time": "2023-10-25T14:10:29.078372",
     "status": "completed"
    },
    "tags": []
   },
   "source": [
    "# Pandas\n",
    "**Pandas** is a powerful and popular open-source Python library for data manipulation and analysis. It is built on top of NumPy and provides easy-to-use data structures and functions for working with structured data, making it an essential tool in the data science and data analysis toolkit. Here's a more detailed explanation of what pandas is and what it offers:\n",
    "\n",
    "1. **Data Structures:**\n",
    "   - **DataFrame:** The primary data structure in pandas is the DataFrame, which is a 2-dimensional, size-mutable, and tabular data structure. Think of it as a table or spreadsheet where you can store and manipulate data. Each column in a DataFrame is a Series, which is a one-dimensional labeled array with data of any type.\n",
    "   \n",
    "2. **Key Features:**\n",
    "   - **Data Loading:** Pandas can read data from various sources, including CSV files, Excel spreadsheets, SQL databases, and more. It can also connect to online data sources, making it versatile for data ingestion.\n",
    "   - **Data Cleaning:** It provides powerful tools for handling missing data, transforming data, and dealing with outliers.\n",
    "   - **Data Indexing and Selection:** Pandas offers flexible indexing methods, including label-based, integer-based, and Boolean-based indexing, allowing you to select and filter data easily.\n",
    "   - **Data Aggregation and Grouping:** You can group and aggregate data based on certain criteria using pandas, which is essential for performing summary statistics and analysis.\n",
    "   - **Merging and Joining:** Pandas can merge and join datasets similar to SQL databases, enabling you to combine data from multiple sources.\n",
    "   - **Time Series Analysis:** It has built-in support for time series data, making it suitable for financial and temporal data analysis.\n",
    "   - **Data Visualization:** While pandas is primarily a data manipulation library, it can also work seamlessly with data visualization libraries like Matplotlib and Seaborn for creating charts and plots.\n",
    "\n",
    "3. **Use Cases:**\n",
    "   - **Data Analysis:** Pandas is widely used for data exploration and analysis, allowing data scientists and analysts to perform tasks like data cleaning, transformation, and statistical analysis.\n",
    "   - **Data Preparation:** Before feeding data into machine learning models, you often need to preprocess and structure it correctly. Pandas is invaluable for this purpose.\n",
    "   - **Data Wrangling:** When working with real-world data, it's common to have data in messy formats. Pandas helps clean and prepare this data for analysis.\n",
    "   - **Data Reporting and Visualization:** While not a data visualization library in itself, pandas can be combined with libraries like Matplotlib and Seaborn to create informative visualizations.\n",
    "\n",
    "4. **Community and Documentation:**\n",
    "   - Pandas has a large and active community, which means that there is plenty of support, documentation, and online resources available. This makes it easy to find solutions to common data-related problems.\n",
    "\n",
    "In summary, pandas is an indispensable tool for data manipulation and analysis in Python. It simplifies the handling of structured data, making it more accessible for users to perform various data-related tasks, from basic data cleaning to complex data analysis.\n"
   ]
  },
  {
   "cell_type": "markdown",
   "id": "d7997fb3",
   "metadata": {
    "papermill": {
     "duration": 0.093407,
     "end_time": "2023-10-25T14:10:29.391488",
     "exception": false,
     "start_time": "2023-10-25T14:10:29.298081",
     "status": "completed"
    },
    "tags": []
   },
   "source": [
    "Pandas provides a wide range of functions and methods for data manipulation and analysis. Here's a list of some of the most commonly used basic functions and methods in pandas:\n",
    "\n",
    "**DataFrame and Series Creation:**\n",
    "1. `pd.DataFrame(data)`: Create a new DataFrame from data (e.g., a dictionary or a 2D array).\n",
    "2. `pd.Series(data)`: Create a new Series from data.\n",
    "\n",
    "**Data Loading and Input/Output:**\n",
    "\n",
    "3. `pd.read_csv(filename)`: Read data from a CSV file.\n",
    "4. `pd.read_excel(filename)`: Read data from an Excel file.\n",
    "5. `pd.read_sql(query, connection)`: Read data from a SQL database.\n",
    "6. `df.to_csv(filename)`: Write data to a CSV file.\n",
    "7. `df.to_excel(filename)`: Write data to an Excel file.\n",
    "\n",
    "**Data Exploration and Information:**\n",
    "\n",
    "8. `df.head(n)`: Display the first n rows of the DataFrame.\n",
    "9. `df.tail(n)`: Display the last n rows of the DataFrame.\n",
    "10. `df.info()`: Display information about the DataFrame, including data types and missing values.\n",
    "11. `df.describe()`: Generate summary statistics of the DataFrame.\n",
    "12. `df.shape`: Get the dimensions (rows, columns) of the DataFrame.\n",
    "\n",
    "**Indexing and Selection:**\n",
    "\n",
    "13. `df[column]`: Select a single column by name.\n",
    "14. `df[[column1, column2]]`: Select multiple columns by name.\n",
    "15. `df.iloc[row, column]`: Select data by integer-based location.\n",
    "16. `df.loc[row_label, column_label]`: Select data by label-based location.\n",
    "\n",
    "**Data Cleaning and Transformation:**\n",
    "\n",
    "17. `df.drop(labels, axis)`: Remove rows or columns.\n",
    "18. `df.fillna(value)`: Fill missing values with a specified value.\n",
    "19. `df.dropna()`: Remove rows with missing values.\n",
    "20. `df.rename(columns)`: Rename columns.\n",
    "21. `df.sort_values(by)`: Sort DataFrame by column(s).\n",
    "22. `df.groupby(column)`: Group data based on a column.\n",
    "23. `df.pivot_table()`: Create a pivot table.\n",
    "\n",
    "**Filtering and Querying:**\n",
    "\n",
    "24. `df[df['column'] > value]`: Filter data based on a condition.\n",
    "25. `df.query('condition')`: Query data using a SQL-like syntax.\n",
    "\n",
    "**Aggregation and Statistics:**\n",
    "\n",
    "26. `df.mean()`, `df.median()`, `df.sum()`, `df.min()`, `df.max()`: Compute various statistics.\n",
    "27. `df.groupby(column).agg(func)`: Perform custom aggregation.\n",
    "\n",
    "**Data Visualization:**\n",
    "\n",
    "28. `df.plot()`: Create basic plots using Matplotlib.\n",
    "29. `df.hist()`, `df.plot.hist()`: Create histograms.\n",
    "30. `df.plot.scatter()`: Create scatter plots.\n",
    "\n",
    "**Merging and Joining:**\n",
    "\n",
    "31. `pd.concat([df1, df2])`: Concatenate DataFrames.\n",
    "32. `df1.merge(df2, on='key')`: Perform SQL-like joins.\n",
    "\n",
    "**Time Series and Datetime Handling:**\n",
    "\n",
    "33. `pd.to_datetime(series)`: Convert a series to datetime.\n",
    "34. `df.resample('D').sum()`: Resample time series data.\n",
    "\n",
    "**Serialization:**\n",
    "\n",
    "35. `df.to_pickle(filename)`: Serialize the DataFrame to a pickle file.\n",
    "36. `pd.read_pickle(filename)`: Deserialize a pickle file to a DataFrame.\n",
    "\n",
    "These are some of the basic functions and methods in pandas. The library offers many more functions for specialized data operations, so be sure to consult the official pandas documentation for more detailed information and examples."
   ]
  },
  {
   "cell_type": "markdown",
   "id": "bfaf30b6",
   "metadata": {
    "papermill": {
     "duration": 0.077901,
     "end_time": "2023-10-25T14:10:29.553712",
     "exception": false,
     "start_time": "2023-10-25T14:10:29.475811",
     "status": "completed"
    },
    "tags": []
   },
   "source": [
    "# DataFrame and Series Creation:\n",
    "### 1. Series Creation\n",
    "\n",
    "Certainly! To create Pandas Series from various data sources, including lists, tuples, dictionaries, JSON, strings, and NumPy arrays, you can use the `pd.Series()` constructor or simply access a specific column of a DataFrame. Here are examples for each data source:\n",
    "\n",
    "#### **1. From a List:**"
   ]
  },
  {
   "cell_type": "code",
   "execution_count": 1,
   "id": "b9d35e4c",
   "metadata": {
    "execution": {
     "iopub.execute_input": "2023-10-25T14:10:29.704593Z",
     "iopub.status.busy": "2023-10-25T14:10:29.703501Z",
     "iopub.status.idle": "2023-10-25T14:10:30.095699Z",
     "shell.execute_reply": "2023-10-25T14:10:30.094466Z"
    },
    "papermill": {
     "duration": 0.459879,
     "end_time": "2023-10-25T14:10:30.098460",
     "exception": false,
     "start_time": "2023-10-25T14:10:29.638581",
     "status": "completed"
    },
    "tags": []
   },
   "outputs": [
    {
     "name": "stdout",
     "output_type": "stream",
     "text": [
      "0    1\n",
      "1    2\n",
      "2    3\n",
      "3    4\n",
      "4    5\n",
      "dtype: int64\n"
     ]
    }
   ],
   "source": [
    "import pandas as pd\n",
    "# Create a Pandas Series from a list\n",
    "data_list = [1, 2, 3, 4, 5]\n",
    "series_from_list = pd.Series(data_list)\n",
    "# Display the Series\n",
    "print(series_from_list)"
   ]
  },
  {
   "cell_type": "code",
   "execution_count": 2,
   "id": "4aad227a",
   "metadata": {
    "execution": {
     "iopub.execute_input": "2023-10-25T14:10:30.234811Z",
     "iopub.status.busy": "2023-10-25T14:10:30.234100Z",
     "iopub.status.idle": "2023-10-25T14:10:30.241308Z",
     "shell.execute_reply": "2023-10-25T14:10:30.240264Z"
    },
    "papermill": {
     "duration": 0.07958,
     "end_time": "2023-10-25T14:10:30.243567",
     "exception": false,
     "start_time": "2023-10-25T14:10:30.163987",
     "status": "completed"
    },
    "tags": []
   },
   "outputs": [
    {
     "data": {
      "text/plain": [
       "(5,)"
      ]
     },
     "execution_count": 2,
     "metadata": {},
     "output_type": "execute_result"
    }
   ],
   "source": [
    "series_from_list.shape"
   ]
  },
  {
   "cell_type": "code",
   "execution_count": 3,
   "id": "4a2d3bb4",
   "metadata": {
    "execution": {
     "iopub.execute_input": "2023-10-25T14:10:30.373487Z",
     "iopub.status.busy": "2023-10-25T14:10:30.373102Z",
     "iopub.status.idle": "2023-10-25T14:10:30.379665Z",
     "shell.execute_reply": "2023-10-25T14:10:30.378601Z"
    },
    "papermill": {
     "duration": 0.074844,
     "end_time": "2023-10-25T14:10:30.381810",
     "exception": false,
     "start_time": "2023-10-25T14:10:30.306966",
     "status": "completed"
    },
    "tags": []
   },
   "outputs": [
    {
     "data": {
      "text/plain": [
       "pandas.core.series.Series"
      ]
     },
     "execution_count": 3,
     "metadata": {},
     "output_type": "execute_result"
    }
   ],
   "source": [
    "type(series_from_list)"
   ]
  },
  {
   "cell_type": "markdown",
   "id": "fec8d6ff",
   "metadata": {
    "papermill": {
     "duration": 0.064018,
     "end_time": "2023-10-25T14:10:30.509620",
     "exception": false,
     "start_time": "2023-10-25T14:10:30.445602",
     "status": "completed"
    },
    "tags": []
   },
   "source": [
    "#### **2. From a Tuple:**"
   ]
  },
  {
   "cell_type": "code",
   "execution_count": 4,
   "id": "2f7c6954",
   "metadata": {
    "execution": {
     "iopub.execute_input": "2023-10-25T14:10:30.640136Z",
     "iopub.status.busy": "2023-10-25T14:10:30.639749Z",
     "iopub.status.idle": "2023-10-25T14:10:30.646022Z",
     "shell.execute_reply": "2023-10-25T14:10:30.644975Z"
    },
    "papermill": {
     "duration": 0.072645,
     "end_time": "2023-10-25T14:10:30.648174",
     "exception": false,
     "start_time": "2023-10-25T14:10:30.575529",
     "status": "completed"
    },
    "tags": []
   },
   "outputs": [
    {
     "name": "stdout",
     "output_type": "stream",
     "text": [
      "0    1\n",
      "1    2\n",
      "2    3\n",
      "3    4\n",
      "4    5\n",
      "dtype: int64\n"
     ]
    }
   ],
   "source": [
    "# Create a Pandas Series from a tuple\n",
    "data_tuple = (1, 2, 3, 4, 5)\n",
    "series_from_tuple = pd.Series(data_tuple)\n",
    "\n",
    "# Display the Series\n",
    "print(series_from_tuple)"
   ]
  },
  {
   "cell_type": "markdown",
   "id": "1f01bb6e",
   "metadata": {
    "papermill": {
     "duration": 0.065242,
     "end_time": "2023-10-25T14:10:30.776636",
     "exception": false,
     "start_time": "2023-10-25T14:10:30.711394",
     "status": "completed"
    },
    "tags": []
   },
   "source": [
    "#### **3. From a Dictionary:**"
   ]
  },
  {
   "cell_type": "code",
   "execution_count": 5,
   "id": "ab01343f",
   "metadata": {
    "execution": {
     "iopub.execute_input": "2023-10-25T14:10:30.906654Z",
     "iopub.status.busy": "2023-10-25T14:10:30.905813Z",
     "iopub.status.idle": "2023-10-25T14:10:30.912980Z",
     "shell.execute_reply": "2023-10-25T14:10:30.911615Z"
    },
    "papermill": {
     "duration": 0.074509,
     "end_time": "2023-10-25T14:10:30.915369",
     "exception": false,
     "start_time": "2023-10-25T14:10:30.840860",
     "status": "completed"
    },
    "tags": []
   },
   "outputs": [
    {
     "name": "stdout",
     "output_type": "stream",
     "text": [
      "A    10\n",
      "B    20\n",
      "C    30\n",
      "D    40\n",
      "E    50\n",
      "dtype: int64\n"
     ]
    }
   ],
   "source": [
    "# Create a Pandas Series from a dictionary\n",
    "data_dict = {'A': 10, 'B': 20, 'C': 30, 'D': 40, 'E': 50}\n",
    "series_from_dict = pd.Series(data_dict)\n",
    "\n",
    "# Display the Series\n",
    "print(series_from_dict)"
   ]
  },
  {
   "cell_type": "markdown",
   "id": "925631d6",
   "metadata": {
    "papermill": {
     "duration": 0.06403,
     "end_time": "2023-10-25T14:10:31.043556",
     "exception": false,
     "start_time": "2023-10-25T14:10:30.979526",
     "status": "completed"
    },
    "tags": []
   },
   "source": [
    "#### **4. From JSON Data (as a string):**"
   ]
  },
  {
   "cell_type": "code",
   "execution_count": 6,
   "id": "b71da96a",
   "metadata": {
    "execution": {
     "iopub.execute_input": "2023-10-25T14:10:31.173035Z",
     "iopub.status.busy": "2023-10-25T14:10:31.172654Z",
     "iopub.status.idle": "2023-10-25T14:10:31.184066Z",
     "shell.execute_reply": "2023-10-25T14:10:31.182808Z"
    },
    "papermill": {
     "duration": 0.078536,
     "end_time": "2023-10-25T14:10:31.186039",
     "exception": false,
     "start_time": "2023-10-25T14:10:31.107503",
     "status": "completed"
    },
    "tags": []
   },
   "outputs": [
    {
     "name": "stdout",
     "output_type": "stream",
     "text": [
      "A    10\n",
      "B    20\n",
      "C    30\n",
      "D    40\n",
      "E    50\n",
      "dtype: int64\n"
     ]
    }
   ],
   "source": [
    "# JSON data as a string\n",
    "json_data = '{\"A\": 10, \"B\": 20, \"C\": 30, \"D\": 40, \"E\": 50}'\n",
    "\n",
    "# Create a Pandas Series from JSON data\n",
    "series_from_json = pd.read_json(json_data, typ='series')\n",
    "\n",
    "# Display the Series\n",
    "print(series_from_json)"
   ]
  },
  {
   "cell_type": "markdown",
   "id": "eb82faee",
   "metadata": {
    "papermill": {
     "duration": 0.063834,
     "end_time": "2023-10-25T14:10:31.315154",
     "exception": false,
     "start_time": "2023-10-25T14:10:31.251320",
     "status": "completed"
    },
    "tags": []
   },
   "source": [
    "#### **5. From a String (with data separated by commas):**"
   ]
  },
  {
   "cell_type": "code",
   "execution_count": 7,
   "id": "bf77a209",
   "metadata": {
    "execution": {
     "iopub.execute_input": "2023-10-25T14:10:31.447397Z",
     "iopub.status.busy": "2023-10-25T14:10:31.446765Z",
     "iopub.status.idle": "2023-10-25T14:10:31.452675Z",
     "shell.execute_reply": "2023-10-25T14:10:31.451677Z"
    },
    "papermill": {
     "duration": 0.074792,
     "end_time": "2023-10-25T14:10:31.454844",
     "exception": false,
     "start_time": "2023-10-25T14:10:31.380052",
     "status": "completed"
    },
    "tags": []
   },
   "outputs": [
    {
     "name": "stdout",
     "output_type": "stream",
     "text": [
      "0    1\n",
      "1    2\n",
      "2    3\n",
      "3    4\n",
      "4    5\n",
      "dtype: object\n"
     ]
    }
   ],
   "source": [
    "# Data in CSV format as a string\n",
    "csv_data = \"1,2,3,4,5\"\n",
    "\n",
    "# Create a Pandas Series from CSV data\n",
    "series_from_csv = pd.Series(csv_data.split(','))\n",
    "\n",
    "# Display the Series\n",
    "print(series_from_csv)"
   ]
  },
  {
   "cell_type": "markdown",
   "id": "2ed9b523",
   "metadata": {
    "papermill": {
     "duration": 0.064616,
     "end_time": "2023-10-25T14:10:31.584548",
     "exception": false,
     "start_time": "2023-10-25T14:10:31.519932",
     "status": "completed"
    },
    "tags": []
   },
   "source": [
    "#### **6. From a NumPy Array:**"
   ]
  },
  {
   "cell_type": "code",
   "execution_count": 8,
   "id": "08886db0",
   "metadata": {
    "execution": {
     "iopub.execute_input": "2023-10-25T14:10:31.715730Z",
     "iopub.status.busy": "2023-10-25T14:10:31.715349Z",
     "iopub.status.idle": "2023-10-25T14:10:31.722206Z",
     "shell.execute_reply": "2023-10-25T14:10:31.720974Z"
    },
    "papermill": {
     "duration": 0.076363,
     "end_time": "2023-10-25T14:10:31.724606",
     "exception": false,
     "start_time": "2023-10-25T14:10:31.648243",
     "status": "completed"
    },
    "tags": []
   },
   "outputs": [
    {
     "name": "stdout",
     "output_type": "stream",
     "text": [
      "0    1\n",
      "1    2\n",
      "2    3\n",
      "3    4\n",
      "4    5\n",
      "dtype: int64\n"
     ]
    }
   ],
   "source": [
    "import pandas as pd\n",
    "import numpy as np\n",
    "\n",
    "# Create a Pandas Series from a NumPy array\n",
    "data_np = np.array([1, 2, 3, 4, 5])\n",
    "series_from_numpy = pd.Series(data_np)\n",
    "\n",
    "# Display the Series\n",
    "print(series_from_numpy)"
   ]
  },
  {
   "cell_type": "markdown",
   "id": "a9a26336",
   "metadata": {
    "papermill": {
     "duration": 0.063055,
     "end_time": "2023-10-25T14:10:31.851714",
     "exception": false,
     "start_time": "2023-10-25T14:10:31.788659",
     "status": "completed"
    },
    "tags": []
   },
   "source": [
    "In each example, a Pandas Series is created from a different data source, and it is then displayed. You can access elements in these Series by index and perform various operations on them, just like you would with any Pandas Series."
   ]
  },
  {
   "cell_type": "markdown",
   "id": "4bf007b6",
   "metadata": {
    "papermill": {
     "duration": 0.065509,
     "end_time": "2023-10-25T14:10:31.981166",
     "exception": false,
     "start_time": "2023-10-25T14:10:31.915657",
     "status": "completed"
    },
    "tags": []
   },
   "source": [
    "### 2. DataFrame Creation\n",
    "\n",
    "You can create a Pandas DataFrame with columns of different data types from various data sources, such as lists, tuples, dictionaries, JSON, strings, and NumPy arrays. Here are examples for each data source:\n",
    "\n",
    "#### **1. From a List:**"
   ]
  },
  {
   "cell_type": "code",
   "execution_count": 9,
   "id": "a4904586",
   "metadata": {
    "execution": {
     "iopub.execute_input": "2023-10-25T14:10:32.110382Z",
     "iopub.status.busy": "2023-10-25T14:10:32.109933Z",
     "iopub.status.idle": "2023-10-25T14:10:32.136518Z",
     "shell.execute_reply": "2023-10-25T14:10:32.135323Z"
    },
    "papermill": {
     "duration": 0.093773,
     "end_time": "2023-10-25T14:10:32.139066",
     "exception": false,
     "start_time": "2023-10-25T14:10:32.045293",
     "status": "completed"
    },
    "tags": []
   },
   "outputs": [
    {
     "data": {
      "text/html": [
       "<div>\n",
       "<style scoped>\n",
       "    .dataframe tbody tr th:only-of-type {\n",
       "        vertical-align: middle;\n",
       "    }\n",
       "\n",
       "    .dataframe tbody tr th {\n",
       "        vertical-align: top;\n",
       "    }\n",
       "\n",
       "    .dataframe thead th {\n",
       "        text-align: right;\n",
       "    }\n",
       "</style>\n",
       "<table border=\"1\" class=\"dataframe\">\n",
       "  <thead>\n",
       "    <tr style=\"text-align: right;\">\n",
       "      <th></th>\n",
       "      <th>Name</th>\n",
       "      <th>Age</th>\n",
       "      <th>Height (inches)</th>\n",
       "      <th>Is Student</th>\n",
       "      <th>Scores</th>\n",
       "    </tr>\n",
       "  </thead>\n",
       "  <tbody>\n",
       "    <tr>\n",
       "      <th>0</th>\n",
       "      <td>John</td>\n",
       "      <td>30</td>\n",
       "      <td>68.5</td>\n",
       "      <td>True</td>\n",
       "      <td>95.5</td>\n",
       "    </tr>\n",
       "    <tr>\n",
       "      <th>1</th>\n",
       "      <td>Alice</td>\n",
       "      <td>25</td>\n",
       "      <td>63.2</td>\n",
       "      <td>False</td>\n",
       "      <td>88.0</td>\n",
       "    </tr>\n",
       "    <tr>\n",
       "      <th>2</th>\n",
       "      <td>Bob</td>\n",
       "      <td>35</td>\n",
       "      <td>71.0</td>\n",
       "      <td>True</td>\n",
       "      <td>76.5</td>\n",
       "    </tr>\n",
       "    <tr>\n",
       "      <th>3</th>\n",
       "      <td>Eve</td>\n",
       "      <td>28</td>\n",
       "      <td>65.8</td>\n",
       "      <td>False</td>\n",
       "      <td>92.0</td>\n",
       "    </tr>\n",
       "    <tr>\n",
       "      <th>4</th>\n",
       "      <td>Charlie</td>\n",
       "      <td>40</td>\n",
       "      <td>72.3</td>\n",
       "      <td>False</td>\n",
       "      <td>87.5</td>\n",
       "    </tr>\n",
       "  </tbody>\n",
       "</table>\n",
       "</div>"
      ],
      "text/plain": [
       "      Name  Age  Height (inches)  Is Student  Scores\n",
       "0     John   30             68.5        True    95.5\n",
       "1    Alice   25             63.2       False    88.0\n",
       "2      Bob   35             71.0        True    76.5\n",
       "3      Eve   28             65.8       False    92.0\n",
       "4  Charlie   40             72.3       False    87.5"
      ]
     },
     "execution_count": 9,
     "metadata": {},
     "output_type": "execute_result"
    }
   ],
   "source": [
    "data_list = [\n",
    "    ['John', 30, 68.5, True, 95.5],\n",
    "    ['Alice', 25, 63.2, False, 88.0],\n",
    "    ['Bob', 35, 71.0, True, 76.5],\n",
    "    ['Eve', 28, 65.8, False, 92.0],\n",
    "    ['Charlie', 40, 72.3, False, 87.5]\n",
    "]\n",
    "\n",
    "column_names = ['Name', 'Age', 'Height (inches)', 'Is Student', 'Scores']\n",
    "\n",
    "df = pd.DataFrame(data_list, columns=column_names)\n",
    "\n",
    "# Display the DataFrame\n",
    "df"
   ]
  },
  {
   "cell_type": "markdown",
   "id": "15113dd4",
   "metadata": {
    "papermill": {
     "duration": 0.064876,
     "end_time": "2023-10-25T14:10:32.270834",
     "exception": false,
     "start_time": "2023-10-25T14:10:32.205958",
     "status": "completed"
    },
    "tags": []
   },
   "source": [
    "#### **2. From a Tuple:**"
   ]
  },
  {
   "cell_type": "code",
   "execution_count": 10,
   "id": "26fa25b7",
   "metadata": {
    "execution": {
     "iopub.execute_input": "2023-10-25T14:10:32.403738Z",
     "iopub.status.busy": "2023-10-25T14:10:32.403025Z",
     "iopub.status.idle": "2023-10-25T14:10:32.418366Z",
     "shell.execute_reply": "2023-10-25T14:10:32.417175Z"
    },
    "papermill": {
     "duration": 0.084345,
     "end_time": "2023-10-25T14:10:32.420581",
     "exception": false,
     "start_time": "2023-10-25T14:10:32.336236",
     "status": "completed"
    },
    "tags": []
   },
   "outputs": [
    {
     "data": {
      "text/html": [
       "<div>\n",
       "<style scoped>\n",
       "    .dataframe tbody tr th:only-of-type {\n",
       "        vertical-align: middle;\n",
       "    }\n",
       "\n",
       "    .dataframe tbody tr th {\n",
       "        vertical-align: top;\n",
       "    }\n",
       "\n",
       "    .dataframe thead th {\n",
       "        text-align: right;\n",
       "    }\n",
       "</style>\n",
       "<table border=\"1\" class=\"dataframe\">\n",
       "  <thead>\n",
       "    <tr style=\"text-align: right;\">\n",
       "      <th></th>\n",
       "      <th>Name</th>\n",
       "      <th>Age</th>\n",
       "      <th>Height (inches)</th>\n",
       "      <th>Is Student</th>\n",
       "      <th>Scores</th>\n",
       "    </tr>\n",
       "  </thead>\n",
       "  <tbody>\n",
       "    <tr>\n",
       "      <th>0</th>\n",
       "      <td>John</td>\n",
       "      <td>30</td>\n",
       "      <td>68.5</td>\n",
       "      <td>True</td>\n",
       "      <td>95.5</td>\n",
       "    </tr>\n",
       "    <tr>\n",
       "      <th>1</th>\n",
       "      <td>Alice</td>\n",
       "      <td>25</td>\n",
       "      <td>63.2</td>\n",
       "      <td>False</td>\n",
       "      <td>88.0</td>\n",
       "    </tr>\n",
       "    <tr>\n",
       "      <th>2</th>\n",
       "      <td>Bob</td>\n",
       "      <td>35</td>\n",
       "      <td>71.0</td>\n",
       "      <td>True</td>\n",
       "      <td>76.5</td>\n",
       "    </tr>\n",
       "    <tr>\n",
       "      <th>3</th>\n",
       "      <td>Eve</td>\n",
       "      <td>28</td>\n",
       "      <td>65.8</td>\n",
       "      <td>False</td>\n",
       "      <td>92.0</td>\n",
       "    </tr>\n",
       "    <tr>\n",
       "      <th>4</th>\n",
       "      <td>Charlie</td>\n",
       "      <td>40</td>\n",
       "      <td>72.3</td>\n",
       "      <td>False</td>\n",
       "      <td>87.5</td>\n",
       "    </tr>\n",
       "  </tbody>\n",
       "</table>\n",
       "</div>"
      ],
      "text/plain": [
       "      Name  Age  Height (inches)  Is Student  Scores\n",
       "0     John   30             68.5        True    95.5\n",
       "1    Alice   25             63.2       False    88.0\n",
       "2      Bob   35             71.0        True    76.5\n",
       "3      Eve   28             65.8       False    92.0\n",
       "4  Charlie   40             72.3       False    87.5"
      ]
     },
     "execution_count": 10,
     "metadata": {},
     "output_type": "execute_result"
    }
   ],
   "source": [
    "data_tuple = (\n",
    "    ('John', 30, 68.5, True, 95.5),\n",
    "    ('Alice', 25, 63.2, False, 88.0),\n",
    "    ('Bob', 35, 71.0, True, 76.5),\n",
    "    ('Eve', 28, 65.8, False, 92.0),\n",
    "    ('Charlie', 40, 72.3, False, 87.5)\n",
    ")\n",
    "\n",
    "column_names = ['Name', 'Age', 'Height (inches)', 'Is Student', 'Scores']\n",
    "\n",
    "df = pd.DataFrame(data_tuple, columns=column_names)\n",
    "\n",
    "# Display the DataFrame\n",
    "df"
   ]
  },
  {
   "cell_type": "markdown",
   "id": "b7074624",
   "metadata": {
    "papermill": {
     "duration": 0.067118,
     "end_time": "2023-10-25T14:10:32.554245",
     "exception": false,
     "start_time": "2023-10-25T14:10:32.487127",
     "status": "completed"
    },
    "tags": []
   },
   "source": [
    "#### **3. From a Dictionary:**"
   ]
  },
  {
   "cell_type": "code",
   "execution_count": 11,
   "id": "c814156a",
   "metadata": {
    "execution": {
     "iopub.execute_input": "2023-10-25T14:10:32.688013Z",
     "iopub.status.busy": "2023-10-25T14:10:32.687214Z",
     "iopub.status.idle": "2023-10-25T14:10:32.702647Z",
     "shell.execute_reply": "2023-10-25T14:10:32.701414Z"
    },
    "papermill": {
     "duration": 0.085797,
     "end_time": "2023-10-25T14:10:32.704980",
     "exception": false,
     "start_time": "2023-10-25T14:10:32.619183",
     "status": "completed"
    },
    "tags": []
   },
   "outputs": [
    {
     "data": {
      "text/html": [
       "<div>\n",
       "<style scoped>\n",
       "    .dataframe tbody tr th:only-of-type {\n",
       "        vertical-align: middle;\n",
       "    }\n",
       "\n",
       "    .dataframe tbody tr th {\n",
       "        vertical-align: top;\n",
       "    }\n",
       "\n",
       "    .dataframe thead th {\n",
       "        text-align: right;\n",
       "    }\n",
       "</style>\n",
       "<table border=\"1\" class=\"dataframe\">\n",
       "  <thead>\n",
       "    <tr style=\"text-align: right;\">\n",
       "      <th></th>\n",
       "      <th>Name</th>\n",
       "      <th>Age</th>\n",
       "      <th>Height (inches)</th>\n",
       "      <th>Is Student</th>\n",
       "      <th>Scores</th>\n",
       "    </tr>\n",
       "  </thead>\n",
       "  <tbody>\n",
       "    <tr>\n",
       "      <th>0</th>\n",
       "      <td>John</td>\n",
       "      <td>30</td>\n",
       "      <td>68.5</td>\n",
       "      <td>True</td>\n",
       "      <td>95.5</td>\n",
       "    </tr>\n",
       "    <tr>\n",
       "      <th>1</th>\n",
       "      <td>Alice</td>\n",
       "      <td>25</td>\n",
       "      <td>63.2</td>\n",
       "      <td>False</td>\n",
       "      <td>88.0</td>\n",
       "    </tr>\n",
       "    <tr>\n",
       "      <th>2</th>\n",
       "      <td>Bob</td>\n",
       "      <td>35</td>\n",
       "      <td>71.0</td>\n",
       "      <td>True</td>\n",
       "      <td>76.5</td>\n",
       "    </tr>\n",
       "    <tr>\n",
       "      <th>3</th>\n",
       "      <td>Eve</td>\n",
       "      <td>28</td>\n",
       "      <td>65.8</td>\n",
       "      <td>False</td>\n",
       "      <td>92.0</td>\n",
       "    </tr>\n",
       "    <tr>\n",
       "      <th>4</th>\n",
       "      <td>Charlie</td>\n",
       "      <td>40</td>\n",
       "      <td>72.3</td>\n",
       "      <td>False</td>\n",
       "      <td>87.5</td>\n",
       "    </tr>\n",
       "  </tbody>\n",
       "</table>\n",
       "</div>"
      ],
      "text/plain": [
       "      Name  Age  Height (inches)  Is Student  Scores\n",
       "0     John   30             68.5        True    95.5\n",
       "1    Alice   25             63.2       False    88.0\n",
       "2      Bob   35             71.0        True    76.5\n",
       "3      Eve   28             65.8       False    92.0\n",
       "4  Charlie   40             72.3       False    87.5"
      ]
     },
     "execution_count": 11,
     "metadata": {},
     "output_type": "execute_result"
    }
   ],
   "source": [
    "data_dict = {\n",
    "    'Name': ['John', 'Alice', 'Bob', 'Eve', 'Charlie'],\n",
    "    'Age': [30, 25, 35, 28, 40],\n",
    "    'Height (inches)': [68.5, 63.2, 71.0, 65.8, 72.3],\n",
    "    'Is Student': [True, False, True, False, False],\n",
    "    'Scores': [95.5, 88.0, 76.5, 92.0, 87.5]\n",
    "}\n",
    "\n",
    "df = pd.DataFrame(data_dict)\n",
    "\n",
    "# Display the DataFrame\n",
    "df"
   ]
  },
  {
   "cell_type": "markdown",
   "id": "839aaba3",
   "metadata": {
    "papermill": {
     "duration": 0.066806,
     "end_time": "2023-10-25T14:10:32.837666",
     "exception": false,
     "start_time": "2023-10-25T14:10:32.770860",
     "status": "completed"
    },
    "tags": []
   },
   "source": [
    "#### **4. From JSON Data (as a string):**"
   ]
  },
  {
   "cell_type": "code",
   "execution_count": 12,
   "id": "035ce289",
   "metadata": {
    "execution": {
     "iopub.execute_input": "2023-10-25T14:10:32.976526Z",
     "iopub.status.busy": "2023-10-25T14:10:32.975075Z",
     "iopub.status.idle": "2023-10-25T14:10:32.994051Z",
     "shell.execute_reply": "2023-10-25T14:10:32.992839Z"
    },
    "papermill": {
     "duration": 0.091044,
     "end_time": "2023-10-25T14:10:32.996600",
     "exception": false,
     "start_time": "2023-10-25T14:10:32.905556",
     "status": "completed"
    },
    "tags": []
   },
   "outputs": [
    {
     "data": {
      "text/html": [
       "<div>\n",
       "<style scoped>\n",
       "    .dataframe tbody tr th:only-of-type {\n",
       "        vertical-align: middle;\n",
       "    }\n",
       "\n",
       "    .dataframe tbody tr th {\n",
       "        vertical-align: top;\n",
       "    }\n",
       "\n",
       "    .dataframe thead th {\n",
       "        text-align: right;\n",
       "    }\n",
       "</style>\n",
       "<table border=\"1\" class=\"dataframe\">\n",
       "  <thead>\n",
       "    <tr style=\"text-align: right;\">\n",
       "      <th></th>\n",
       "      <th>Name</th>\n",
       "      <th>Age</th>\n",
       "      <th>Height (inches)</th>\n",
       "      <th>Is Student</th>\n",
       "      <th>Scores</th>\n",
       "    </tr>\n",
       "  </thead>\n",
       "  <tbody>\n",
       "    <tr>\n",
       "      <th>0</th>\n",
       "      <td>John</td>\n",
       "      <td>30</td>\n",
       "      <td>68.5</td>\n",
       "      <td>True</td>\n",
       "      <td>95.5</td>\n",
       "    </tr>\n",
       "    <tr>\n",
       "      <th>1</th>\n",
       "      <td>Alice</td>\n",
       "      <td>25</td>\n",
       "      <td>63.2</td>\n",
       "      <td>False</td>\n",
       "      <td>88.0</td>\n",
       "    </tr>\n",
       "    <tr>\n",
       "      <th>2</th>\n",
       "      <td>Bob</td>\n",
       "      <td>35</td>\n",
       "      <td>71.0</td>\n",
       "      <td>True</td>\n",
       "      <td>76.5</td>\n",
       "    </tr>\n",
       "    <tr>\n",
       "      <th>3</th>\n",
       "      <td>Eve</td>\n",
       "      <td>28</td>\n",
       "      <td>65.8</td>\n",
       "      <td>False</td>\n",
       "      <td>92.0</td>\n",
       "    </tr>\n",
       "    <tr>\n",
       "      <th>4</th>\n",
       "      <td>Charlie</td>\n",
       "      <td>40</td>\n",
       "      <td>72.3</td>\n",
       "      <td>False</td>\n",
       "      <td>87.5</td>\n",
       "    </tr>\n",
       "  </tbody>\n",
       "</table>\n",
       "</div>"
      ],
      "text/plain": [
       "      Name  Age  Height (inches)  Is Student  Scores\n",
       "0     John   30             68.5        True    95.5\n",
       "1    Alice   25             63.2       False    88.0\n",
       "2      Bob   35             71.0        True    76.5\n",
       "3      Eve   28             65.8       False    92.0\n",
       "4  Charlie   40             72.3       False    87.5"
      ]
     },
     "execution_count": 12,
     "metadata": {},
     "output_type": "execute_result"
    }
   ],
   "source": [
    "json_data = '{\"Name\": [\"John\", \"Alice\", \"Bob\", \"Eve\", \"Charlie\"], ' \\\n",
    "            '\"Age\": [30, 25, 35, 28, 40], ' \\\n",
    "            '\"Height (inches)\": [68.5, 63.2, 71.0, 65.8, 72.3], ' \\\n",
    "            '\"Is Student\": [true, false, true, false, false], ' \\\n",
    "            '\"Scores\": [95.5, 88.0, 76.5, 92.0, 87.5]}'\n",
    "\n",
    "df = pd.read_json(json_data)\n",
    "\n",
    "# Display the DataFrame\n",
    "df"
   ]
  },
  {
   "cell_type": "markdown",
   "id": "b6f53a7f",
   "metadata": {
    "papermill": {
     "duration": 0.066914,
     "end_time": "2023-10-25T14:10:33.133113",
     "exception": false,
     "start_time": "2023-10-25T14:10:33.066199",
     "status": "completed"
    },
    "tags": []
   },
   "source": [
    "#### **5. From a String (with data in CSV or TSV format):**"
   ]
  },
  {
   "cell_type": "code",
   "execution_count": 13,
   "id": "3cfe5cb3",
   "metadata": {
    "execution": {
     "iopub.execute_input": "2023-10-25T14:10:33.270661Z",
     "iopub.status.busy": "2023-10-25T14:10:33.269517Z",
     "iopub.status.idle": "2023-10-25T14:10:33.291496Z",
     "shell.execute_reply": "2023-10-25T14:10:33.290699Z"
    },
    "papermill": {
     "duration": 0.093629,
     "end_time": "2023-10-25T14:10:33.293501",
     "exception": false,
     "start_time": "2023-10-25T14:10:33.199872",
     "status": "completed"
    },
    "tags": []
   },
   "outputs": [
    {
     "data": {
      "text/html": [
       "<div>\n",
       "<style scoped>\n",
       "    .dataframe tbody tr th:only-of-type {\n",
       "        vertical-align: middle;\n",
       "    }\n",
       "\n",
       "    .dataframe tbody tr th {\n",
       "        vertical-align: top;\n",
       "    }\n",
       "\n",
       "    .dataframe thead th {\n",
       "        text-align: right;\n",
       "    }\n",
       "</style>\n",
       "<table border=\"1\" class=\"dataframe\">\n",
       "  <thead>\n",
       "    <tr style=\"text-align: right;\">\n",
       "      <th></th>\n",
       "      <th>Name</th>\n",
       "      <th>Age</th>\n",
       "      <th>Height (inches)</th>\n",
       "      <th>Is Student</th>\n",
       "      <th>Scores</th>\n",
       "    </tr>\n",
       "  </thead>\n",
       "  <tbody>\n",
       "    <tr>\n",
       "      <th>0</th>\n",
       "      <td>John</td>\n",
       "      <td>30</td>\n",
       "      <td>68.5</td>\n",
       "      <td>True</td>\n",
       "      <td>95.5</td>\n",
       "    </tr>\n",
       "    <tr>\n",
       "      <th>1</th>\n",
       "      <td>Alice</td>\n",
       "      <td>25</td>\n",
       "      <td>63.2</td>\n",
       "      <td>False</td>\n",
       "      <td>88.0</td>\n",
       "    </tr>\n",
       "    <tr>\n",
       "      <th>2</th>\n",
       "      <td>Bob</td>\n",
       "      <td>35</td>\n",
       "      <td>71.0</td>\n",
       "      <td>True</td>\n",
       "      <td>76.5</td>\n",
       "    </tr>\n",
       "    <tr>\n",
       "      <th>3</th>\n",
       "      <td>Eve</td>\n",
       "      <td>28</td>\n",
       "      <td>65.8</td>\n",
       "      <td>False</td>\n",
       "      <td>92.0</td>\n",
       "    </tr>\n",
       "    <tr>\n",
       "      <th>4</th>\n",
       "      <td>Charlie</td>\n",
       "      <td>40</td>\n",
       "      <td>72.3</td>\n",
       "      <td>False</td>\n",
       "      <td>87.5</td>\n",
       "    </tr>\n",
       "  </tbody>\n",
       "</table>\n",
       "</div>"
      ],
      "text/plain": [
       "      Name   Age   Height (inches)  Is Student   Scores\n",
       "0     John    30              68.5        True     95.5\n",
       "1    Alice    25              63.2       False     88.0\n",
       "2      Bob    35              71.0        True     76.5\n",
       "3      Eve    28              65.8       False     92.0\n",
       "4  Charlie    40              72.3       False     87.5"
      ]
     },
     "execution_count": 13,
     "metadata": {},
     "output_type": "execute_result"
    }
   ],
   "source": [
    "from io import StringIO\n",
    "csv_data = \"\"\"Name, Age, Height (inches), Is Student, Scores\n",
    "John, 30, 68.5, True, 95.5\n",
    "Alice, 25, 63.2, False, 88.0\n",
    "Bob, 35, 71.0, True, 76.5\n",
    "Eve, 28, 65.8, False, 92.0\n",
    "Charlie, 40, 72.3, False, 87.5\"\"\"\n",
    "\n",
    "df = pd.read_csv(StringIO(csv_data))\n",
    "\n",
    "# Display the DataFrame\n",
    "df"
   ]
  },
  {
   "cell_type": "markdown",
   "id": "ed8659f0",
   "metadata": {
    "papermill": {
     "duration": 0.065459,
     "end_time": "2023-10-25T14:10:33.424799",
     "exception": false,
     "start_time": "2023-10-25T14:10:33.359340",
     "status": "completed"
    },
    "tags": []
   },
   "source": [
    "#### **6. From a NumPy Array:**"
   ]
  },
  {
   "cell_type": "code",
   "execution_count": 14,
   "id": "b3e870f1",
   "metadata": {
    "execution": {
     "iopub.execute_input": "2023-10-25T14:10:33.562386Z",
     "iopub.status.busy": "2023-10-25T14:10:33.561657Z",
     "iopub.status.idle": "2023-10-25T14:10:33.586704Z",
     "shell.execute_reply": "2023-10-25T14:10:33.585639Z"
    },
    "papermill": {
     "duration": 0.097406,
     "end_time": "2023-10-25T14:10:33.589500",
     "exception": false,
     "start_time": "2023-10-25T14:10:33.492094",
     "status": "completed"
    },
    "tags": []
   },
   "outputs": [
    {
     "data": {
      "text/html": [
       "<div>\n",
       "<style scoped>\n",
       "    .dataframe tbody tr th:only-of-type {\n",
       "        vertical-align: middle;\n",
       "    }\n",
       "\n",
       "    .dataframe tbody tr th {\n",
       "        vertical-align: top;\n",
       "    }\n",
       "\n",
       "    .dataframe thead th {\n",
       "        text-align: right;\n",
       "    }\n",
       "</style>\n",
       "<table border=\"1\" class=\"dataframe\">\n",
       "  <thead>\n",
       "    <tr style=\"text-align: right;\">\n",
       "      <th></th>\n",
       "      <th>Name</th>\n",
       "      <th>Age</th>\n",
       "      <th>Height (inches)</th>\n",
       "      <th>Is Student</th>\n",
       "      <th>Scores</th>\n",
       "    </tr>\n",
       "  </thead>\n",
       "  <tbody>\n",
       "    <tr>\n",
       "      <th>0</th>\n",
       "      <td>John</td>\n",
       "      <td>30.0</td>\n",
       "      <td>68.5</td>\n",
       "      <td>True</td>\n",
       "      <td>95.5</td>\n",
       "    </tr>\n",
       "    <tr>\n",
       "      <th>1</th>\n",
       "      <td>Alice</td>\n",
       "      <td>25.0</td>\n",
       "      <td>63.2</td>\n",
       "      <td>True</td>\n",
       "      <td>88.0</td>\n",
       "    </tr>\n",
       "    <tr>\n",
       "      <th>2</th>\n",
       "      <td>Bob</td>\n",
       "      <td>35.0</td>\n",
       "      <td>71.0</td>\n",
       "      <td>True</td>\n",
       "      <td>76.5</td>\n",
       "    </tr>\n",
       "    <tr>\n",
       "      <th>3</th>\n",
       "      <td>Eve</td>\n",
       "      <td>28.0</td>\n",
       "      <td>65.8</td>\n",
       "      <td>True</td>\n",
       "      <td>92.0</td>\n",
       "    </tr>\n",
       "    <tr>\n",
       "      <th>4</th>\n",
       "      <td>Charlie</td>\n",
       "      <td>40.0</td>\n",
       "      <td>72.3</td>\n",
       "      <td>True</td>\n",
       "      <td>87.5</td>\n",
       "    </tr>\n",
       "  </tbody>\n",
       "</table>\n",
       "</div>"
      ],
      "text/plain": [
       "      Name   Age Height (inches)  Is Student  Scores\n",
       "0     John  30.0            68.5        True    95.5\n",
       "1    Alice  25.0            63.2        True    88.0\n",
       "2      Bob  35.0            71.0        True    76.5\n",
       "3      Eve  28.0            65.8        True    92.0\n",
       "4  Charlie  40.0            72.3        True    87.5"
      ]
     },
     "execution_count": 14,
     "metadata": {},
     "output_type": "execute_result"
    }
   ],
   "source": [
    "import pandas as pd\n",
    "import numpy as np\n",
    "\n",
    "data_np = np.array([\n",
    "    ['John', 30, 68.5, True, 95.5],\n",
    "    ['Alice', 25, 63.2, False, 88.0],\n",
    "    ['Bob', 35, 71.0, True, 76.5],\n",
    "    ['Eve', 28, 65.8, False, 92.0],\n",
    "    ['Charlie', 40, 72.3, False, 87.5]\n",
    "])\n",
    "\n",
    "column_names = ['Name', 'Age', 'Height (inches)', 'Is Student', 'Scores']\n",
    "\n",
    "df = pd.DataFrame(data_np, columns=column_names)\n",
    "\n",
    "# Convert data types as needed\n",
    "df[['Age', 'Scores']] = df[['Age', 'Scores']].astype(float)\n",
    "df['Is Student'] = df['Is Student'].astype(bool)\n",
    "\n",
    "# Display the DataFrame\n",
    "df"
   ]
  },
  {
   "cell_type": "markdown",
   "id": "fbf3fb42",
   "metadata": {
    "papermill": {
     "duration": 0.067181,
     "end_time": "2023-10-25T14:10:33.723078",
     "exception": false,
     "start_time": "2023-10-25T14:10:33.655897",
     "status": "completed"
    },
    "tags": []
   },
   "source": [
    "These examples demonstrate how to create Pandas DataFrames from various data sources, allowing for columns of different data types. Depending on the data source, you may need to convert data types as necessary to match your desired DataFrame structure."
   ]
  },
  {
   "cell_type": "markdown",
   "id": "d81a75ca",
   "metadata": {
    "papermill": {
     "duration": 0.066476,
     "end_time": "2023-10-25T14:10:33.858528",
     "exception": false,
     "start_time": "2023-10-25T14:10:33.792052",
     "status": "completed"
    },
    "tags": []
   },
   "source": [
    "# Reading Dataset Files in Pandas"
   ]
  },
  {
   "cell_type": "code",
   "execution_count": 15,
   "id": "afde59aa",
   "metadata": {
    "execution": {
     "iopub.execute_input": "2023-10-25T14:10:33.994144Z",
     "iopub.status.busy": "2023-10-25T14:10:33.993338Z",
     "iopub.status.idle": "2023-10-25T14:10:34.558935Z",
     "shell.execute_reply": "2023-10-25T14:10:34.557874Z"
    },
    "papermill": {
     "duration": 0.637119,
     "end_time": "2023-10-25T14:10:34.562235",
     "exception": false,
     "start_time": "2023-10-25T14:10:33.925116",
     "status": "completed"
    },
    "tags": []
   },
   "outputs": [
    {
     "name": "stderr",
     "output_type": "stream",
     "text": [
      "/tmp/ipykernel_20/1375529911.py:17: PerformanceWarning: \n",
      "your performance may suffer as PyTables will pickle object types that it cannot\n",
      "map directly to c-types [inferred_type->mixed,key->block2_values] [items->Index(['Name', 'Surname', 'Gender', 'Birthdate', 'Date', 'Merchant Name',\n",
      "       'Category'],\n",
      "      dtype='object')]\n",
      "\n",
      "  df.to_hdf(\"sample_dataset.h5\", \"sample_dataset\")\n"
     ]
    }
   ],
   "source": [
    "# creating different file types dataset from csv\n",
    "df = pd.read_csv(\"/kaggle/input/customer-transactions/sample_dataset.csv\")\n",
    "df = df[:100]\n",
    "# # writing dataset to html\n",
    "df.to_html(\"sample_dataset.html\")\n",
    "\n",
    "# writing dataset as pickle\n",
    "df.to_pickle(\"sample_dataset.pkl\")\n",
    "\n",
    "# writing dataset as feather\n",
    "df.to_feather(\"sample_dataset.feather\")\n",
    "\n",
    "# writing dataset as parquet\n",
    "df.to_parquet(\"sample_dataset.parquet\")\n",
    "\n",
    "# writing dataset as hdf5\n",
    "df.to_hdf(\"sample_dataset.h5\", \"sample_dataset\")\n",
    "\n",
    "# Save the DataFrame to a tab-separated value (TSV) file\n",
    "df.to_csv('sample_dataset.tsv', sep='\\t', index=False)"
   ]
  },
  {
   "cell_type": "markdown",
   "id": "9d3d087b",
   "metadata": {
    "papermill": {
     "duration": 0.070468,
     "end_time": "2023-10-25T14:10:34.764009",
     "exception": false,
     "start_time": "2023-10-25T14:10:34.693541",
     "status": "completed"
    },
    "tags": []
   },
   "source": [
    "Pandas is a versatile library that allows you to read various types of files into a DataFrame. Here's how you can read different types of files using Pandas:\n",
    "\n",
    "#### 1. **CSV Files:**\n",
    "   To read a CSV file, you can use the `pd.read_csv()` function:\n",
    "   ```python\n",
    "   import pandas as pd\n",
    "   df = pd.read_csv('your_file.csv')\n",
    "   ```"
   ]
  },
  {
   "cell_type": "code",
   "execution_count": 16,
   "id": "49994455",
   "metadata": {
    "execution": {
     "iopub.execute_input": "2023-10-25T14:10:34.900515Z",
     "iopub.status.busy": "2023-10-25T14:10:34.900106Z",
     "iopub.status.idle": "2023-10-25T14:10:35.019885Z",
     "shell.execute_reply": "2023-10-25T14:10:35.018575Z"
    },
    "papermill": {
     "duration": 0.190915,
     "end_time": "2023-10-25T14:10:35.022221",
     "exception": false,
     "start_time": "2023-10-25T14:10:34.831306",
     "status": "completed"
    },
    "tags": []
   },
   "outputs": [],
   "source": [
    "csv_df = pd.read_csv('/kaggle/input/customer-transactions/sample_dataset.csv')"
   ]
  },
  {
   "cell_type": "code",
   "execution_count": 17,
   "id": "41c4976d",
   "metadata": {
    "execution": {
     "iopub.execute_input": "2023-10-25T14:10:35.160327Z",
     "iopub.status.busy": "2023-10-25T14:10:35.159312Z",
     "iopub.status.idle": "2023-10-25T14:10:35.165051Z",
     "shell.execute_reply": "2023-10-25T14:10:35.164345Z"
    },
    "papermill": {
     "duration": 0.07495,
     "end_time": "2023-10-25T14:10:35.167079",
     "exception": false,
     "start_time": "2023-10-25T14:10:35.092129",
     "status": "completed"
    },
    "tags": []
   },
   "outputs": [
    {
     "data": {
      "text/plain": [
       "(50000, 9)"
      ]
     },
     "execution_count": 17,
     "metadata": {},
     "output_type": "execute_result"
    }
   ],
   "source": [
    "csv_df.shape"
   ]
  },
  {
   "cell_type": "code",
   "execution_count": 18,
   "id": "cc0b4dba",
   "metadata": {
    "execution": {
     "iopub.execute_input": "2023-10-25T14:10:35.306407Z",
     "iopub.status.busy": "2023-10-25T14:10:35.305710Z",
     "iopub.status.idle": "2023-10-25T14:10:35.319950Z",
     "shell.execute_reply": "2023-10-25T14:10:35.318987Z"
    },
    "papermill": {
     "duration": 0.086678,
     "end_time": "2023-10-25T14:10:35.322097",
     "exception": false,
     "start_time": "2023-10-25T14:10:35.235419",
     "status": "completed"
    },
    "tags": []
   },
   "outputs": [
    {
     "data": {
      "text/html": [
       "<div>\n",
       "<style scoped>\n",
       "    .dataframe tbody tr th:only-of-type {\n",
       "        vertical-align: middle;\n",
       "    }\n",
       "\n",
       "    .dataframe tbody tr th {\n",
       "        vertical-align: top;\n",
       "    }\n",
       "\n",
       "    .dataframe thead th {\n",
       "        text-align: right;\n",
       "    }\n",
       "</style>\n",
       "<table border=\"1\" class=\"dataframe\">\n",
       "  <thead>\n",
       "    <tr style=\"text-align: right;\">\n",
       "      <th></th>\n",
       "      <th>Customer ID</th>\n",
       "      <th>Name</th>\n",
       "      <th>Surname</th>\n",
       "      <th>Gender</th>\n",
       "      <th>Birthdate</th>\n",
       "      <th>Transaction Amount</th>\n",
       "      <th>Date</th>\n",
       "      <th>Merchant Name</th>\n",
       "      <th>Category</th>\n",
       "    </tr>\n",
       "  </thead>\n",
       "  <tbody>\n",
       "    <tr>\n",
       "      <th>0</th>\n",
       "      <td>752858</td>\n",
       "      <td>Sean</td>\n",
       "      <td>Rodriguez</td>\n",
       "      <td>F</td>\n",
       "      <td>2002-10-20</td>\n",
       "      <td>35.47</td>\n",
       "      <td>2023-04-03</td>\n",
       "      <td>Smith-Russell</td>\n",
       "      <td>Cosmetic</td>\n",
       "    </tr>\n",
       "    <tr>\n",
       "      <th>1</th>\n",
       "      <td>26381</td>\n",
       "      <td>Michelle</td>\n",
       "      <td>Phelps</td>\n",
       "      <td>NaN</td>\n",
       "      <td>1985-10-24</td>\n",
       "      <td>2552.72</td>\n",
       "      <td>2023-07-17</td>\n",
       "      <td>Peck, Spence and Young</td>\n",
       "      <td>Travel</td>\n",
       "    </tr>\n",
       "    <tr>\n",
       "      <th>2</th>\n",
       "      <td>305449</td>\n",
       "      <td>Jacob</td>\n",
       "      <td>Williams</td>\n",
       "      <td>M</td>\n",
       "      <td>1981-10-25</td>\n",
       "      <td>115.97</td>\n",
       "      <td>2023-09-20</td>\n",
       "      <td>Steele Inc</td>\n",
       "      <td>Clothing</td>\n",
       "    </tr>\n",
       "    <tr>\n",
       "      <th>3</th>\n",
       "      <td>988259</td>\n",
       "      <td>Nathan</td>\n",
       "      <td>Snyder</td>\n",
       "      <td>M</td>\n",
       "      <td>1977-10-26</td>\n",
       "      <td>11.31</td>\n",
       "      <td>2023-01-11</td>\n",
       "      <td>Wilson, Wilson and Russell</td>\n",
       "      <td>Cosmetic</td>\n",
       "    </tr>\n",
       "    <tr>\n",
       "      <th>4</th>\n",
       "      <td>764762</td>\n",
       "      <td>Crystal</td>\n",
       "      <td>Knapp</td>\n",
       "      <td>F</td>\n",
       "      <td>1951-11-02</td>\n",
       "      <td>62.21</td>\n",
       "      <td>2023-06-13</td>\n",
       "      <td>Palmer-Hinton</td>\n",
       "      <td>Electronics</td>\n",
       "    </tr>\n",
       "  </tbody>\n",
       "</table>\n",
       "</div>"
      ],
      "text/plain": [
       "   Customer ID      Name    Surname Gender   Birthdate  Transaction Amount  \\\n",
       "0       752858      Sean  Rodriguez      F  2002-10-20               35.47   \n",
       "1        26381  Michelle     Phelps    NaN  1985-10-24             2552.72   \n",
       "2       305449     Jacob   Williams      M  1981-10-25              115.97   \n",
       "3       988259    Nathan     Snyder      M  1977-10-26               11.31   \n",
       "4       764762   Crystal      Knapp      F  1951-11-02               62.21   \n",
       "\n",
       "         Date               Merchant Name     Category  \n",
       "0  2023-04-03               Smith-Russell     Cosmetic  \n",
       "1  2023-07-17      Peck, Spence and Young       Travel  \n",
       "2  2023-09-20                  Steele Inc     Clothing  \n",
       "3  2023-01-11  Wilson, Wilson and Russell     Cosmetic  \n",
       "4  2023-06-13               Palmer-Hinton  Electronics  "
      ]
     },
     "execution_count": 18,
     "metadata": {},
     "output_type": "execute_result"
    }
   ],
   "source": [
    "csv_df.head()"
   ]
  },
  {
   "cell_type": "markdown",
   "id": "a816d2cb",
   "metadata": {
    "papermill": {
     "duration": 0.0664,
     "end_time": "2023-10-25T14:10:35.455808",
     "exception": false,
     "start_time": "2023-10-25T14:10:35.389408",
     "status": "completed"
    },
    "tags": []
   },
   "source": [
    "#### 2. **Excel Files:**\n",
    "   To read an Excel file, use the `pd.read_excel()` function:\n",
    "   ```python\n",
    "   import pandas as pd\n",
    "   df = pd.read_excel('your_file.xlsx')\n",
    "   ```"
   ]
  },
  {
   "cell_type": "code",
   "execution_count": 19,
   "id": "09229961",
   "metadata": {
    "execution": {
     "iopub.execute_input": "2023-10-25T14:10:35.613294Z",
     "iopub.status.busy": "2023-10-25T14:10:35.612489Z",
     "iopub.status.idle": "2023-10-25T14:10:36.049918Z",
     "shell.execute_reply": "2023-10-25T14:10:36.048990Z"
    },
    "papermill": {
     "duration": 0.528272,
     "end_time": "2023-10-25T14:10:36.052916",
     "exception": false,
     "start_time": "2023-10-25T14:10:35.524644",
     "status": "completed"
    },
    "tags": []
   },
   "outputs": [],
   "source": [
    "excel_df = pd.read_excel('/kaggle/input/dirty-excel-data/Cola.xlsx')"
   ]
  },
  {
   "cell_type": "code",
   "execution_count": 20,
   "id": "ae2be8ae",
   "metadata": {
    "execution": {
     "iopub.execute_input": "2023-10-25T14:10:36.197160Z",
     "iopub.status.busy": "2023-10-25T14:10:36.195815Z",
     "iopub.status.idle": "2023-10-25T14:10:36.202258Z",
     "shell.execute_reply": "2023-10-25T14:10:36.201462Z"
    },
    "papermill": {
     "duration": 0.08222,
     "end_time": "2023-10-25T14:10:36.204309",
     "exception": false,
     "start_time": "2023-10-25T14:10:36.122089",
     "status": "completed"
    },
    "tags": []
   },
   "outputs": [
    {
     "data": {
      "text/plain": [
       "(103, 12)"
      ]
     },
     "execution_count": 20,
     "metadata": {},
     "output_type": "execute_result"
    }
   ],
   "source": [
    "excel_df.shape"
   ]
  },
  {
   "cell_type": "code",
   "execution_count": 21,
   "id": "029b27f0",
   "metadata": {
    "execution": {
     "iopub.execute_input": "2023-10-25T14:10:36.343686Z",
     "iopub.status.busy": "2023-10-25T14:10:36.342990Z",
     "iopub.status.idle": "2023-10-25T14:10:36.358491Z",
     "shell.execute_reply": "2023-10-25T14:10:36.357346Z"
    },
    "papermill": {
     "duration": 0.085923,
     "end_time": "2023-10-25T14:10:36.360987",
     "exception": false,
     "start_time": "2023-10-25T14:10:36.275064",
     "status": "completed"
    },
    "tags": []
   },
   "outputs": [
    {
     "data": {
      "text/html": [
       "<div>\n",
       "<style scoped>\n",
       "    .dataframe tbody tr th:only-of-type {\n",
       "        vertical-align: middle;\n",
       "    }\n",
       "\n",
       "    .dataframe tbody tr th {\n",
       "        vertical-align: top;\n",
       "    }\n",
       "\n",
       "    .dataframe thead th {\n",
       "        text-align: right;\n",
       "    }\n",
       "</style>\n",
       "<table border=\"1\" class=\"dataframe\">\n",
       "  <thead>\n",
       "    <tr style=\"text-align: right;\">\n",
       "      <th></th>\n",
       "      <th>Data provided by SimFin</th>\n",
       "      <th>Unnamed: 1</th>\n",
       "      <th>Unnamed: 2</th>\n",
       "      <th>Unnamed: 3</th>\n",
       "      <th>Unnamed: 4</th>\n",
       "      <th>Unnamed: 5</th>\n",
       "      <th>Unnamed: 6</th>\n",
       "      <th>Unnamed: 7</th>\n",
       "      <th>Unnamed: 8</th>\n",
       "      <th>Unnamed: 9</th>\n",
       "      <th>Unnamed: 10</th>\n",
       "      <th>Unnamed: 11</th>\n",
       "    </tr>\n",
       "  </thead>\n",
       "  <tbody>\n",
       "    <tr>\n",
       "      <th>0</th>\n",
       "      <td>NaN</td>\n",
       "      <td>NaN</td>\n",
       "      <td>NaN</td>\n",
       "      <td>NaN</td>\n",
       "      <td>NaN</td>\n",
       "      <td>NaN</td>\n",
       "      <td>NaN</td>\n",
       "      <td>NaN</td>\n",
       "      <td>NaN</td>\n",
       "      <td>NaN</td>\n",
       "      <td>NaN</td>\n",
       "      <td>NaN</td>\n",
       "    </tr>\n",
       "    <tr>\n",
       "      <th>1</th>\n",
       "      <td>Profit &amp; Loss statement</td>\n",
       "      <td>NaN</td>\n",
       "      <td>NaN</td>\n",
       "      <td>NaN</td>\n",
       "      <td>NaN</td>\n",
       "      <td>NaN</td>\n",
       "      <td>NaN</td>\n",
       "      <td>NaN</td>\n",
       "      <td>NaN</td>\n",
       "      <td>NaN</td>\n",
       "      <td>NaN</td>\n",
       "      <td>NaN</td>\n",
       "    </tr>\n",
       "    <tr>\n",
       "      <th>2</th>\n",
       "      <td>NaN</td>\n",
       "      <td>in million USD</td>\n",
       "      <td>FY '09</td>\n",
       "      <td>FY '10</td>\n",
       "      <td>FY '11</td>\n",
       "      <td>FY '12</td>\n",
       "      <td>FY '13</td>\n",
       "      <td>FY '14</td>\n",
       "      <td>FY '15</td>\n",
       "      <td>FY '16</td>\n",
       "      <td>FY '17</td>\n",
       "      <td>FY '18</td>\n",
       "    </tr>\n",
       "    <tr>\n",
       "      <th>3</th>\n",
       "      <td>NaN</td>\n",
       "      <td>NET OPERATING REVENUES</td>\n",
       "      <td>30990</td>\n",
       "      <td>35119</td>\n",
       "      <td>46542</td>\n",
       "      <td>48017</td>\n",
       "      <td>46854</td>\n",
       "      <td>45998</td>\n",
       "      <td>44294</td>\n",
       "      <td>41863</td>\n",
       "      <td>35410</td>\n",
       "      <td>31856</td>\n",
       "    </tr>\n",
       "    <tr>\n",
       "      <th>4</th>\n",
       "      <td>NaN</td>\n",
       "      <td>Cost of goods sold</td>\n",
       "      <td>11088</td>\n",
       "      <td>12693</td>\n",
       "      <td>18215</td>\n",
       "      <td>19053</td>\n",
       "      <td>18421</td>\n",
       "      <td>17889</td>\n",
       "      <td>17482</td>\n",
       "      <td>16465</td>\n",
       "      <td>13255</td>\n",
       "      <td>11770</td>\n",
       "    </tr>\n",
       "  </tbody>\n",
       "</table>\n",
       "</div>"
      ],
      "text/plain": [
       "   Data provided by SimFin              Unnamed: 1 Unnamed: 2 Unnamed: 3  \\\n",
       "0                      NaN                     NaN        NaN        NaN   \n",
       "1  Profit & Loss statement                     NaN        NaN        NaN   \n",
       "2                      NaN          in million USD     FY '09     FY '10   \n",
       "3                      NaN  NET OPERATING REVENUES      30990      35119   \n",
       "4                      NaN      Cost of goods sold      11088      12693   \n",
       "\n",
       "  Unnamed: 4 Unnamed: 5 Unnamed: 6 Unnamed: 7 Unnamed: 8 Unnamed: 9  \\\n",
       "0        NaN        NaN        NaN        NaN        NaN        NaN   \n",
       "1        NaN        NaN        NaN        NaN        NaN        NaN   \n",
       "2     FY '11     FY '12     FY '13     FY '14     FY '15     FY '16   \n",
       "3      46542      48017      46854      45998      44294      41863   \n",
       "4      18215      19053      18421      17889      17482      16465   \n",
       "\n",
       "  Unnamed: 10 Unnamed: 11  \n",
       "0         NaN         NaN  \n",
       "1         NaN         NaN  \n",
       "2      FY '17      FY '18  \n",
       "3       35410       31856  \n",
       "4       13255       11770  "
      ]
     },
     "execution_count": 21,
     "metadata": {},
     "output_type": "execute_result"
    }
   ],
   "source": [
    "excel_df.head()"
   ]
  },
  {
   "cell_type": "markdown",
   "id": "f8a27ef8",
   "metadata": {
    "papermill": {
     "duration": 0.068644,
     "end_time": "2023-10-25T14:10:36.496639",
     "exception": false,
     "start_time": "2023-10-25T14:10:36.427995",
     "status": "completed"
    },
    "tags": []
   },
   "source": [
    "#### 3. **SQL Databases:**\n",
    "   You can use the `pandas.read_sql()` function to read data from a SQL database using an appropriate connection:\n",
    "   ```python\n",
    "   import pandas as pd\n",
    "   import sqlite3  # Example using SQLite\n",
    "   conn = sqlite3.connect('your_database.db')\n",
    "   query = 'SELECT * FROM your_table'\n",
    "   df = pd.read_sql(query, conn)\n",
    "   ```"
   ]
  },
  {
   "cell_type": "code",
   "execution_count": 22,
   "id": "c6f2c651",
   "metadata": {
    "execution": {
     "iopub.execute_input": "2023-10-25T14:10:36.642464Z",
     "iopub.status.busy": "2023-10-25T14:10:36.642060Z",
     "iopub.status.idle": "2023-10-25T14:10:36.671476Z",
     "shell.execute_reply": "2023-10-25T14:10:36.670348Z"
    },
    "papermill": {
     "duration": 0.098611,
     "end_time": "2023-10-25T14:10:36.673912",
     "exception": false,
     "start_time": "2023-10-25T14:10:36.575301",
     "status": "completed"
    },
    "tags": []
   },
   "outputs": [
    {
     "name": "stdout",
     "output_type": "stream",
     "text": [
      "movies\n",
      "sqlite_sequence\n",
      "directors\n"
     ]
    }
   ],
   "source": [
    "import sqlite3\n",
    "\n",
    "# Create a connection to the SQLite database\n",
    "conn = sqlite3.connect('/kaggle/input/imdb-project-sql/movies.sqlite')\n",
    "\n",
    "# Create a cursor object\n",
    "cursor = conn.cursor()\n",
    "\n",
    "# Execute a query to fetch table names from the 'sqlite_master' table\n",
    "cursor.execute(\"SELECT name FROM sqlite_master WHERE type='table';\")\n",
    "\n",
    "# Fetch all the table names\n",
    "table_names = cursor.fetchall()\n",
    "\n",
    "# Close the database connection\n",
    "conn.close()\n",
    "\n",
    "# Extract table names from the result\n",
    "table_names = [table[0] for table in table_names]\n",
    "\n",
    "# Print the table names\n",
    "for table_name in table_names:\n",
    "    print(table_name)\n"
   ]
  },
  {
   "cell_type": "code",
   "execution_count": 23,
   "id": "8590958d",
   "metadata": {
    "execution": {
     "iopub.execute_input": "2023-10-25T14:10:36.810441Z",
     "iopub.status.busy": "2023-10-25T14:10:36.809191Z",
     "iopub.status.idle": "2023-10-25T14:10:37.354929Z",
     "shell.execute_reply": "2023-10-25T14:10:37.352894Z"
    },
    "papermill": {
     "duration": 0.617451,
     "end_time": "2023-10-25T14:10:37.358086",
     "exception": false,
     "start_time": "2023-10-25T14:10:36.740635",
     "status": "completed"
    },
    "tags": []
   },
   "outputs": [],
   "source": [
    "conn = sqlite3.connect('/kaggle/input/imdb-project-sql/movies.sqlite')\n",
    "query = 'SELECT * FROM movies'\n",
    "sql_df = pd.read_sql(query, conn)"
   ]
  },
  {
   "cell_type": "code",
   "execution_count": 24,
   "id": "1b3d4210",
   "metadata": {
    "execution": {
     "iopub.execute_input": "2023-10-25T14:10:37.496301Z",
     "iopub.status.busy": "2023-10-25T14:10:37.495902Z",
     "iopub.status.idle": "2023-10-25T14:10:37.502838Z",
     "shell.execute_reply": "2023-10-25T14:10:37.501878Z"
    },
    "papermill": {
     "duration": 0.077488,
     "end_time": "2023-10-25T14:10:37.505085",
     "exception": false,
     "start_time": "2023-10-25T14:10:37.427597",
     "status": "completed"
    },
    "tags": []
   },
   "outputs": [
    {
     "data": {
      "text/plain": [
       "(4773, 13)"
      ]
     },
     "execution_count": 24,
     "metadata": {},
     "output_type": "execute_result"
    }
   ],
   "source": [
    "sql_df.shape"
   ]
  },
  {
   "cell_type": "code",
   "execution_count": 25,
   "id": "0546e177",
   "metadata": {
    "execution": {
     "iopub.execute_input": "2023-10-25T14:10:37.642864Z",
     "iopub.status.busy": "2023-10-25T14:10:37.642452Z",
     "iopub.status.idle": "2023-10-25T14:10:37.659082Z",
     "shell.execute_reply": "2023-10-25T14:10:37.657945Z"
    },
    "papermill": {
     "duration": 0.087924,
     "end_time": "2023-10-25T14:10:37.661520",
     "exception": false,
     "start_time": "2023-10-25T14:10:37.573596",
     "status": "completed"
    },
    "tags": []
   },
   "outputs": [
    {
     "data": {
      "text/html": [
       "<div>\n",
       "<style scoped>\n",
       "    .dataframe tbody tr th:only-of-type {\n",
       "        vertical-align: middle;\n",
       "    }\n",
       "\n",
       "    .dataframe tbody tr th {\n",
       "        vertical-align: top;\n",
       "    }\n",
       "\n",
       "    .dataframe thead th {\n",
       "        text-align: right;\n",
       "    }\n",
       "</style>\n",
       "<table border=\"1\" class=\"dataframe\">\n",
       "  <thead>\n",
       "    <tr style=\"text-align: right;\">\n",
       "      <th></th>\n",
       "      <th>id</th>\n",
       "      <th>original_title</th>\n",
       "      <th>budget</th>\n",
       "      <th>popularity</th>\n",
       "      <th>release_date</th>\n",
       "      <th>revenue</th>\n",
       "      <th>title</th>\n",
       "      <th>vote_average</th>\n",
       "      <th>vote_count</th>\n",
       "      <th>overview</th>\n",
       "      <th>tagline</th>\n",
       "      <th>uid</th>\n",
       "      <th>director_id</th>\n",
       "    </tr>\n",
       "  </thead>\n",
       "  <tbody>\n",
       "    <tr>\n",
       "      <th>0</th>\n",
       "      <td>43597</td>\n",
       "      <td>Avatar</td>\n",
       "      <td>237000000</td>\n",
       "      <td>150</td>\n",
       "      <td>2009-12-10</td>\n",
       "      <td>2787965087</td>\n",
       "      <td>Avatar</td>\n",
       "      <td>7.2</td>\n",
       "      <td>11800</td>\n",
       "      <td>In the 22nd century, a paraplegic Marine is di...</td>\n",
       "      <td>Enter the World of Pandora.</td>\n",
       "      <td>19995</td>\n",
       "      <td>4762</td>\n",
       "    </tr>\n",
       "    <tr>\n",
       "      <th>1</th>\n",
       "      <td>43598</td>\n",
       "      <td>Pirates of the Caribbean: At World's End</td>\n",
       "      <td>300000000</td>\n",
       "      <td>139</td>\n",
       "      <td>2007-05-19</td>\n",
       "      <td>961000000</td>\n",
       "      <td>Pirates of the Caribbean: At World's End</td>\n",
       "      <td>6.9</td>\n",
       "      <td>4500</td>\n",
       "      <td>Captain Barbossa, long believed to be dead, ha...</td>\n",
       "      <td>At the end of the world, the adventure begins.</td>\n",
       "      <td>285</td>\n",
       "      <td>4763</td>\n",
       "    </tr>\n",
       "    <tr>\n",
       "      <th>2</th>\n",
       "      <td>43599</td>\n",
       "      <td>Spectre</td>\n",
       "      <td>245000000</td>\n",
       "      <td>107</td>\n",
       "      <td>2015-10-26</td>\n",
       "      <td>880674609</td>\n",
       "      <td>Spectre</td>\n",
       "      <td>6.3</td>\n",
       "      <td>4466</td>\n",
       "      <td>A cryptic message from Bond’s past sends him o...</td>\n",
       "      <td>A Plan No One Escapes</td>\n",
       "      <td>206647</td>\n",
       "      <td>4764</td>\n",
       "    </tr>\n",
       "    <tr>\n",
       "      <th>3</th>\n",
       "      <td>43600</td>\n",
       "      <td>The Dark Knight Rises</td>\n",
       "      <td>250000000</td>\n",
       "      <td>112</td>\n",
       "      <td>2012-07-16</td>\n",
       "      <td>1084939099</td>\n",
       "      <td>The Dark Knight Rises</td>\n",
       "      <td>7.6</td>\n",
       "      <td>9106</td>\n",
       "      <td>Following the death of District Attorney Harve...</td>\n",
       "      <td>The Legend Ends</td>\n",
       "      <td>49026</td>\n",
       "      <td>4765</td>\n",
       "    </tr>\n",
       "    <tr>\n",
       "      <th>4</th>\n",
       "      <td>43601</td>\n",
       "      <td>John Carter</td>\n",
       "      <td>260000000</td>\n",
       "      <td>43</td>\n",
       "      <td>2012-03-07</td>\n",
       "      <td>284139100</td>\n",
       "      <td>John Carter</td>\n",
       "      <td>6.1</td>\n",
       "      <td>2124</td>\n",
       "      <td>John Carter is a war-weary, former military ca...</td>\n",
       "      <td>Lost in our world, found in another.</td>\n",
       "      <td>49529</td>\n",
       "      <td>4766</td>\n",
       "    </tr>\n",
       "  </tbody>\n",
       "</table>\n",
       "</div>"
      ],
      "text/plain": [
       "      id                            original_title     budget  popularity  \\\n",
       "0  43597                                    Avatar  237000000         150   \n",
       "1  43598  Pirates of the Caribbean: At World's End  300000000         139   \n",
       "2  43599                                   Spectre  245000000         107   \n",
       "3  43600                     The Dark Knight Rises  250000000         112   \n",
       "4  43601                               John Carter  260000000          43   \n",
       "\n",
       "  release_date     revenue                                     title  \\\n",
       "0   2009-12-10  2787965087                                    Avatar   \n",
       "1   2007-05-19   961000000  Pirates of the Caribbean: At World's End   \n",
       "2   2015-10-26   880674609                                   Spectre   \n",
       "3   2012-07-16  1084939099                     The Dark Knight Rises   \n",
       "4   2012-03-07   284139100                               John Carter   \n",
       "\n",
       "   vote_average  vote_count  \\\n",
       "0           7.2       11800   \n",
       "1           6.9        4500   \n",
       "2           6.3        4466   \n",
       "3           7.6        9106   \n",
       "4           6.1        2124   \n",
       "\n",
       "                                            overview  \\\n",
       "0  In the 22nd century, a paraplegic Marine is di...   \n",
       "1  Captain Barbossa, long believed to be dead, ha...   \n",
       "2  A cryptic message from Bond’s past sends him o...   \n",
       "3  Following the death of District Attorney Harve...   \n",
       "4  John Carter is a war-weary, former military ca...   \n",
       "\n",
       "                                          tagline     uid  director_id  \n",
       "0                     Enter the World of Pandora.   19995         4762  \n",
       "1  At the end of the world, the adventure begins.     285         4763  \n",
       "2                           A Plan No One Escapes  206647         4764  \n",
       "3                                 The Legend Ends   49026         4765  \n",
       "4            Lost in our world, found in another.   49529         4766  "
      ]
     },
     "execution_count": 25,
     "metadata": {},
     "output_type": "execute_result"
    }
   ],
   "source": [
    "sql_df.head()"
   ]
  },
  {
   "cell_type": "markdown",
   "id": "fde1d95c",
   "metadata": {
    "papermill": {
     "duration": 0.066874,
     "end_time": "2023-10-25T14:10:37.797498",
     "exception": false,
     "start_time": "2023-10-25T14:10:37.730624",
     "status": "completed"
    },
    "tags": []
   },
   "source": [
    "#### 4. **JSON Files:**\n",
    "   To read JSON data, use the `pd.read_json()` function:\n",
    "   ```python\n",
    "   import pandas as pd\n",
    "   df = pd.read_json('your_file.json')\n",
    "   ```"
   ]
  },
  {
   "cell_type": "code",
   "execution_count": 26,
   "id": "3a68471e",
   "metadata": {
    "execution": {
     "iopub.execute_input": "2023-10-25T14:10:37.936730Z",
     "iopub.status.busy": "2023-10-25T14:10:37.935496Z",
     "iopub.status.idle": "2023-10-25T14:10:37.954462Z",
     "shell.execute_reply": "2023-10-25T14:10:37.952820Z"
    },
    "papermill": {
     "duration": 0.091866,
     "end_time": "2023-10-25T14:10:37.958169",
     "exception": false,
     "start_time": "2023-10-25T14:10:37.866303",
     "status": "completed"
    },
    "tags": []
   },
   "outputs": [],
   "source": [
    "json_df = pd.read_json('/kaggle/input/iris-dataset-json-version/iris.json')"
   ]
  },
  {
   "cell_type": "code",
   "execution_count": 27,
   "id": "7e65666e",
   "metadata": {
    "execution": {
     "iopub.execute_input": "2023-10-25T14:10:38.109061Z",
     "iopub.status.busy": "2023-10-25T14:10:38.108660Z",
     "iopub.status.idle": "2023-10-25T14:10:38.115724Z",
     "shell.execute_reply": "2023-10-25T14:10:38.114694Z"
    },
    "papermill": {
     "duration": 0.082759,
     "end_time": "2023-10-25T14:10:38.117983",
     "exception": false,
     "start_time": "2023-10-25T14:10:38.035224",
     "status": "completed"
    },
    "tags": []
   },
   "outputs": [
    {
     "data": {
      "text/plain": [
       "(150, 5)"
      ]
     },
     "execution_count": 27,
     "metadata": {},
     "output_type": "execute_result"
    }
   ],
   "source": [
    "json_df.shape"
   ]
  },
  {
   "cell_type": "code",
   "execution_count": 28,
   "id": "9b63cbae",
   "metadata": {
    "execution": {
     "iopub.execute_input": "2023-10-25T14:10:38.257031Z",
     "iopub.status.busy": "2023-10-25T14:10:38.256666Z",
     "iopub.status.idle": "2023-10-25T14:10:38.271190Z",
     "shell.execute_reply": "2023-10-25T14:10:38.269940Z"
    },
    "papermill": {
     "duration": 0.086743,
     "end_time": "2023-10-25T14:10:38.273701",
     "exception": false,
     "start_time": "2023-10-25T14:10:38.186958",
     "status": "completed"
    },
    "tags": []
   },
   "outputs": [
    {
     "data": {
      "text/html": [
       "<div>\n",
       "<style scoped>\n",
       "    .dataframe tbody tr th:only-of-type {\n",
       "        vertical-align: middle;\n",
       "    }\n",
       "\n",
       "    .dataframe tbody tr th {\n",
       "        vertical-align: top;\n",
       "    }\n",
       "\n",
       "    .dataframe thead th {\n",
       "        text-align: right;\n",
       "    }\n",
       "</style>\n",
       "<table border=\"1\" class=\"dataframe\">\n",
       "  <thead>\n",
       "    <tr style=\"text-align: right;\">\n",
       "      <th></th>\n",
       "      <th>sepalLength</th>\n",
       "      <th>sepalWidth</th>\n",
       "      <th>petalLength</th>\n",
       "      <th>petalWidth</th>\n",
       "      <th>species</th>\n",
       "    </tr>\n",
       "  </thead>\n",
       "  <tbody>\n",
       "    <tr>\n",
       "      <th>0</th>\n",
       "      <td>5.1</td>\n",
       "      <td>3.5</td>\n",
       "      <td>1.4</td>\n",
       "      <td>0.2</td>\n",
       "      <td>setosa</td>\n",
       "    </tr>\n",
       "    <tr>\n",
       "      <th>1</th>\n",
       "      <td>4.9</td>\n",
       "      <td>3.0</td>\n",
       "      <td>1.4</td>\n",
       "      <td>0.2</td>\n",
       "      <td>setosa</td>\n",
       "    </tr>\n",
       "    <tr>\n",
       "      <th>2</th>\n",
       "      <td>4.7</td>\n",
       "      <td>3.2</td>\n",
       "      <td>1.3</td>\n",
       "      <td>0.2</td>\n",
       "      <td>setosa</td>\n",
       "    </tr>\n",
       "    <tr>\n",
       "      <th>3</th>\n",
       "      <td>4.6</td>\n",
       "      <td>3.1</td>\n",
       "      <td>1.5</td>\n",
       "      <td>0.2</td>\n",
       "      <td>setosa</td>\n",
       "    </tr>\n",
       "    <tr>\n",
       "      <th>4</th>\n",
       "      <td>5.0</td>\n",
       "      <td>3.6</td>\n",
       "      <td>1.4</td>\n",
       "      <td>0.2</td>\n",
       "      <td>setosa</td>\n",
       "    </tr>\n",
       "  </tbody>\n",
       "</table>\n",
       "</div>"
      ],
      "text/plain": [
       "   sepalLength  sepalWidth  petalLength  petalWidth species\n",
       "0          5.1         3.5          1.4         0.2  setosa\n",
       "1          4.9         3.0          1.4         0.2  setosa\n",
       "2          4.7         3.2          1.3         0.2  setosa\n",
       "3          4.6         3.1          1.5         0.2  setosa\n",
       "4          5.0         3.6          1.4         0.2  setosa"
      ]
     },
     "execution_count": 28,
     "metadata": {},
     "output_type": "execute_result"
    }
   ],
   "source": [
    "json_df.head()"
   ]
  },
  {
   "cell_type": "markdown",
   "id": "a3a0cf55",
   "metadata": {
    "papermill": {
     "duration": 0.068548,
     "end_time": "2023-10-25T14:10:38.411416",
     "exception": false,
     "start_time": "2023-10-25T14:10:38.342868",
     "status": "completed"
    },
    "tags": []
   },
   "source": [
    "#### 5. **HTML Tables:**\n",
    "   You can scrape tables from HTML web pages using `pd.read_html()`. This function returns a list of DataFrames if there are multiple tables on the page:\n",
    "   ```python\n",
    "   import pandas as pd\n",
    "   dfs = pd.read_html('https://example.com/page_with_tables.html')\n",
    "   df = dfs[0]  # Select the appropriate DataFrame from the list\n",
    "   ```\n",
    "   \n",
    "   "
   ]
  },
  {
   "cell_type": "code",
   "execution_count": 29,
   "id": "d1e53be2",
   "metadata": {
    "execution": {
     "iopub.execute_input": "2023-10-25T14:10:38.549702Z",
     "iopub.status.busy": "2023-10-25T14:10:38.549342Z",
     "iopub.status.idle": "2023-10-25T14:10:38.717757Z",
     "shell.execute_reply": "2023-10-25T14:10:38.716543Z"
    },
    "papermill": {
     "duration": 0.240501,
     "end_time": "2023-10-25T14:10:38.720420",
     "exception": false,
     "start_time": "2023-10-25T14:10:38.479919",
     "status": "completed"
    },
    "tags": []
   },
   "outputs": [],
   "source": [
    "html_df = pd.read_html(\"/kaggle/working/sample_dataset.html\")"
   ]
  },
  {
   "cell_type": "code",
   "execution_count": 30,
   "id": "ada4fa36",
   "metadata": {
    "execution": {
     "iopub.execute_input": "2023-10-25T14:10:38.861947Z",
     "iopub.status.busy": "2023-10-25T14:10:38.861591Z",
     "iopub.status.idle": "2023-10-25T14:10:38.866033Z",
     "shell.execute_reply": "2023-10-25T14:10:38.864924Z"
    },
    "papermill": {
     "duration": 0.078769,
     "end_time": "2023-10-25T14:10:38.868263",
     "exception": false,
     "start_time": "2023-10-25T14:10:38.789494",
     "status": "completed"
    },
    "tags": []
   },
   "outputs": [],
   "source": [
    "html_df = html_df[0]"
   ]
  },
  {
   "cell_type": "code",
   "execution_count": 31,
   "id": "42473029",
   "metadata": {
    "execution": {
     "iopub.execute_input": "2023-10-25T14:10:39.011262Z",
     "iopub.status.busy": "2023-10-25T14:10:39.010898Z",
     "iopub.status.idle": "2023-10-25T14:10:39.017842Z",
     "shell.execute_reply": "2023-10-25T14:10:39.016713Z"
    },
    "papermill": {
     "duration": 0.082548,
     "end_time": "2023-10-25T14:10:39.019975",
     "exception": false,
     "start_time": "2023-10-25T14:10:38.937427",
     "status": "completed"
    },
    "tags": []
   },
   "outputs": [
    {
     "data": {
      "text/plain": [
       "(100, 10)"
      ]
     },
     "execution_count": 31,
     "metadata": {},
     "output_type": "execute_result"
    }
   ],
   "source": [
    "html_df.shape"
   ]
  },
  {
   "cell_type": "code",
   "execution_count": 32,
   "id": "006fab36",
   "metadata": {
    "execution": {
     "iopub.execute_input": "2023-10-25T14:10:39.159487Z",
     "iopub.status.busy": "2023-10-25T14:10:39.158693Z",
     "iopub.status.idle": "2023-10-25T14:10:39.173595Z",
     "shell.execute_reply": "2023-10-25T14:10:39.172050Z"
    },
    "papermill": {
     "duration": 0.087785,
     "end_time": "2023-10-25T14:10:39.176193",
     "exception": false,
     "start_time": "2023-10-25T14:10:39.088408",
     "status": "completed"
    },
    "tags": []
   },
   "outputs": [
    {
     "data": {
      "text/html": [
       "<div>\n",
       "<style scoped>\n",
       "    .dataframe tbody tr th:only-of-type {\n",
       "        vertical-align: middle;\n",
       "    }\n",
       "\n",
       "    .dataframe tbody tr th {\n",
       "        vertical-align: top;\n",
       "    }\n",
       "\n",
       "    .dataframe thead th {\n",
       "        text-align: right;\n",
       "    }\n",
       "</style>\n",
       "<table border=\"1\" class=\"dataframe\">\n",
       "  <thead>\n",
       "    <tr style=\"text-align: right;\">\n",
       "      <th></th>\n",
       "      <th>Unnamed: 0</th>\n",
       "      <th>Customer ID</th>\n",
       "      <th>Name</th>\n",
       "      <th>Surname</th>\n",
       "      <th>Gender</th>\n",
       "      <th>Birthdate</th>\n",
       "      <th>Transaction Amount</th>\n",
       "      <th>Date</th>\n",
       "      <th>Merchant Name</th>\n",
       "      <th>Category</th>\n",
       "    </tr>\n",
       "  </thead>\n",
       "  <tbody>\n",
       "    <tr>\n",
       "      <th>0</th>\n",
       "      <td>0</td>\n",
       "      <td>752858</td>\n",
       "      <td>Sean</td>\n",
       "      <td>Rodriguez</td>\n",
       "      <td>F</td>\n",
       "      <td>2002-10-20</td>\n",
       "      <td>35.47</td>\n",
       "      <td>2023-04-03</td>\n",
       "      <td>Smith-Russell</td>\n",
       "      <td>Cosmetic</td>\n",
       "    </tr>\n",
       "    <tr>\n",
       "      <th>1</th>\n",
       "      <td>1</td>\n",
       "      <td>26381</td>\n",
       "      <td>Michelle</td>\n",
       "      <td>Phelps</td>\n",
       "      <td>NaN</td>\n",
       "      <td>1985-10-24</td>\n",
       "      <td>2552.72</td>\n",
       "      <td>2023-07-17</td>\n",
       "      <td>Peck, Spence and Young</td>\n",
       "      <td>Travel</td>\n",
       "    </tr>\n",
       "    <tr>\n",
       "      <th>2</th>\n",
       "      <td>2</td>\n",
       "      <td>305449</td>\n",
       "      <td>Jacob</td>\n",
       "      <td>Williams</td>\n",
       "      <td>M</td>\n",
       "      <td>1981-10-25</td>\n",
       "      <td>115.97</td>\n",
       "      <td>2023-09-20</td>\n",
       "      <td>Steele Inc</td>\n",
       "      <td>Clothing</td>\n",
       "    </tr>\n",
       "    <tr>\n",
       "      <th>3</th>\n",
       "      <td>3</td>\n",
       "      <td>988259</td>\n",
       "      <td>Nathan</td>\n",
       "      <td>Snyder</td>\n",
       "      <td>M</td>\n",
       "      <td>1977-10-26</td>\n",
       "      <td>11.31</td>\n",
       "      <td>2023-01-11</td>\n",
       "      <td>Wilson, Wilson and Russell</td>\n",
       "      <td>Cosmetic</td>\n",
       "    </tr>\n",
       "    <tr>\n",
       "      <th>4</th>\n",
       "      <td>4</td>\n",
       "      <td>764762</td>\n",
       "      <td>Crystal</td>\n",
       "      <td>Knapp</td>\n",
       "      <td>F</td>\n",
       "      <td>1951-11-02</td>\n",
       "      <td>62.21</td>\n",
       "      <td>2023-06-13</td>\n",
       "      <td>Palmer-Hinton</td>\n",
       "      <td>Electronics</td>\n",
       "    </tr>\n",
       "  </tbody>\n",
       "</table>\n",
       "</div>"
      ],
      "text/plain": [
       "   Unnamed: 0  Customer ID      Name    Surname Gender   Birthdate  \\\n",
       "0           0       752858      Sean  Rodriguez      F  2002-10-20   \n",
       "1           1        26381  Michelle     Phelps    NaN  1985-10-24   \n",
       "2           2       305449     Jacob   Williams      M  1981-10-25   \n",
       "3           3       988259    Nathan     Snyder      M  1977-10-26   \n",
       "4           4       764762   Crystal      Knapp      F  1951-11-02   \n",
       "\n",
       "   Transaction Amount        Date               Merchant Name     Category  \n",
       "0               35.47  2023-04-03               Smith-Russell     Cosmetic  \n",
       "1             2552.72  2023-07-17      Peck, Spence and Young       Travel  \n",
       "2              115.97  2023-09-20                  Steele Inc     Clothing  \n",
       "3               11.31  2023-01-11  Wilson, Wilson and Russell     Cosmetic  \n",
       "4               62.21  2023-06-13               Palmer-Hinton  Electronics  "
      ]
     },
     "execution_count": 32,
     "metadata": {},
     "output_type": "execute_result"
    }
   ],
   "source": [
    "html_df.head()"
   ]
  },
  {
   "cell_type": "markdown",
   "id": "66e998bf",
   "metadata": {
    "papermill": {
     "duration": 0.071475,
     "end_time": "2023-10-25T14:10:39.316449",
     "exception": false,
     "start_time": "2023-10-25T14:10:39.244974",
     "status": "completed"
    },
    "tags": []
   },
   "source": [
    "#### 6. **Clipboard Content:**\n",
    "   You can read data from your clipboard using `pd.read_clipboard()`:\n",
    "   ```python\n",
    "   import pandas as pd\n",
    "   df = pd.read_clipboard()\n",
    "   ```"
   ]
  },
  {
   "cell_type": "markdown",
   "id": "0f45ebab",
   "metadata": {
    "papermill": {
     "duration": 0.068519,
     "end_time": "2023-10-25T14:10:39.455779",
     "exception": false,
     "start_time": "2023-10-25T14:10:39.387260",
     "status": "completed"
    },
    "tags": []
   },
   "source": [
    "#### 7. **Other Text-Based Formats:**\n",
    "   Pandas can read other text-based formats like TSV (Tab-Separated Values) or any delimited text files using `pd.read_csv()` by specifying the delimiter:\n",
    "   ```python\n",
    "   import pandas as pd\n",
    "   df = pd.read_csv('your_file.tsv', delimiter='\\t')\n",
    "   ```"
   ]
  },
  {
   "cell_type": "code",
   "execution_count": null,
   "id": "6e3424ae",
   "metadata": {
    "papermill": {
     "duration": 0.069783,
     "end_time": "2023-10-25T14:10:39.593692",
     "exception": false,
     "start_time": "2023-10-25T14:10:39.523909",
     "status": "completed"
    },
    "tags": []
   },
   "outputs": [],
   "source": []
  },
  {
   "cell_type": "code",
   "execution_count": 33,
   "id": "165df12f",
   "metadata": {
    "execution": {
     "iopub.execute_input": "2023-10-25T14:10:39.734573Z",
     "iopub.status.busy": "2023-10-25T14:10:39.734020Z",
     "iopub.status.idle": "2023-10-25T14:10:39.756343Z",
     "shell.execute_reply": "2023-10-25T14:10:39.755519Z"
    },
    "papermill": {
     "duration": 0.094545,
     "end_time": "2023-10-25T14:10:39.758493",
     "exception": false,
     "start_time": "2023-10-25T14:10:39.663948",
     "status": "completed"
    },
    "tags": []
   },
   "outputs": [
    {
     "data": {
      "text/html": [
       "<div>\n",
       "<style scoped>\n",
       "    .dataframe tbody tr th:only-of-type {\n",
       "        vertical-align: middle;\n",
       "    }\n",
       "\n",
       "    .dataframe tbody tr th {\n",
       "        vertical-align: top;\n",
       "    }\n",
       "\n",
       "    .dataframe thead th {\n",
       "        text-align: right;\n",
       "    }\n",
       "</style>\n",
       "<table border=\"1\" class=\"dataframe\">\n",
       "  <thead>\n",
       "    <tr style=\"text-align: right;\">\n",
       "      <th></th>\n",
       "      <th>Customer ID</th>\n",
       "      <th>Name</th>\n",
       "      <th>Surname</th>\n",
       "      <th>Gender</th>\n",
       "      <th>Birthdate</th>\n",
       "      <th>Transaction Amount</th>\n",
       "      <th>Date</th>\n",
       "      <th>Merchant Name</th>\n",
       "      <th>Category</th>\n",
       "    </tr>\n",
       "  </thead>\n",
       "  <tbody>\n",
       "    <tr>\n",
       "      <th>0</th>\n",
       "      <td>752858</td>\n",
       "      <td>Sean</td>\n",
       "      <td>Rodriguez</td>\n",
       "      <td>F</td>\n",
       "      <td>2002-10-20</td>\n",
       "      <td>35.47</td>\n",
       "      <td>2023-04-03</td>\n",
       "      <td>Smith-Russell</td>\n",
       "      <td>Cosmetic</td>\n",
       "    </tr>\n",
       "    <tr>\n",
       "      <th>1</th>\n",
       "      <td>26381</td>\n",
       "      <td>Michelle</td>\n",
       "      <td>Phelps</td>\n",
       "      <td>NaN</td>\n",
       "      <td>1985-10-24</td>\n",
       "      <td>2552.72</td>\n",
       "      <td>2023-07-17</td>\n",
       "      <td>Peck, Spence and Young</td>\n",
       "      <td>Travel</td>\n",
       "    </tr>\n",
       "    <tr>\n",
       "      <th>2</th>\n",
       "      <td>305449</td>\n",
       "      <td>Jacob</td>\n",
       "      <td>Williams</td>\n",
       "      <td>M</td>\n",
       "      <td>1981-10-25</td>\n",
       "      <td>115.97</td>\n",
       "      <td>2023-09-20</td>\n",
       "      <td>Steele Inc</td>\n",
       "      <td>Clothing</td>\n",
       "    </tr>\n",
       "    <tr>\n",
       "      <th>3</th>\n",
       "      <td>988259</td>\n",
       "      <td>Nathan</td>\n",
       "      <td>Snyder</td>\n",
       "      <td>M</td>\n",
       "      <td>1977-10-26</td>\n",
       "      <td>11.31</td>\n",
       "      <td>2023-01-11</td>\n",
       "      <td>Wilson, Wilson and Russell</td>\n",
       "      <td>Cosmetic</td>\n",
       "    </tr>\n",
       "    <tr>\n",
       "      <th>4</th>\n",
       "      <td>764762</td>\n",
       "      <td>Crystal</td>\n",
       "      <td>Knapp</td>\n",
       "      <td>F</td>\n",
       "      <td>1951-11-02</td>\n",
       "      <td>62.21</td>\n",
       "      <td>2023-06-13</td>\n",
       "      <td>Palmer-Hinton</td>\n",
       "      <td>Electronics</td>\n",
       "    </tr>\n",
       "    <tr>\n",
       "      <th>...</th>\n",
       "      <td>...</td>\n",
       "      <td>...</td>\n",
       "      <td>...</td>\n",
       "      <td>...</td>\n",
       "      <td>...</td>\n",
       "      <td>...</td>\n",
       "      <td>...</td>\n",
       "      <td>...</td>\n",
       "      <td>...</td>\n",
       "    </tr>\n",
       "    <tr>\n",
       "      <th>95</th>\n",
       "      <td>838514</td>\n",
       "      <td>Andrew</td>\n",
       "      <td>Armstrong</td>\n",
       "      <td>M</td>\n",
       "      <td>2004-10-19</td>\n",
       "      <td>231.35</td>\n",
       "      <td>2023-03-02</td>\n",
       "      <td>Miller Inc</td>\n",
       "      <td>Clothing</td>\n",
       "    </tr>\n",
       "    <tr>\n",
       "      <th>96</th>\n",
       "      <td>981118</td>\n",
       "      <td>Anthony</td>\n",
       "      <td>Arnold</td>\n",
       "      <td>M</td>\n",
       "      <td>1971-10-28</td>\n",
       "      <td>2362.42</td>\n",
       "      <td>2023-06-28</td>\n",
       "      <td>Thomas, Simpson and Tyler</td>\n",
       "      <td>Travel</td>\n",
       "    </tr>\n",
       "    <tr>\n",
       "      <th>97</th>\n",
       "      <td>658610</td>\n",
       "      <td>Nicole</td>\n",
       "      <td>Peterson</td>\n",
       "      <td>M</td>\n",
       "      <td>1965-10-29</td>\n",
       "      <td>395.33</td>\n",
       "      <td>2023-03-20</td>\n",
       "      <td>Bryant, Mcbride and White</td>\n",
       "      <td>Market</td>\n",
       "    </tr>\n",
       "    <tr>\n",
       "      <th>98</th>\n",
       "      <td>463162</td>\n",
       "      <td>Stephanie</td>\n",
       "      <td>Miller</td>\n",
       "      <td>NaN</td>\n",
       "      <td>1958-10-31</td>\n",
       "      <td>958.43</td>\n",
       "      <td>2023-04-28</td>\n",
       "      <td>Young and Sons</td>\n",
       "      <td>Electronics</td>\n",
       "    </tr>\n",
       "    <tr>\n",
       "      <th>99</th>\n",
       "      <td>707412</td>\n",
       "      <td>Derek</td>\n",
       "      <td>Thompson</td>\n",
       "      <td>F</td>\n",
       "      <td>1985-10-24</td>\n",
       "      <td>94.93</td>\n",
       "      <td>2023-08-27</td>\n",
       "      <td>Fuller, Bowen and Davis</td>\n",
       "      <td>Restaurant</td>\n",
       "    </tr>\n",
       "  </tbody>\n",
       "</table>\n",
       "<p>100 rows × 9 columns</p>\n",
       "</div>"
      ],
      "text/plain": [
       "    Customer ID       Name    Surname Gender   Birthdate  Transaction Amount  \\\n",
       "0        752858       Sean  Rodriguez      F  2002-10-20               35.47   \n",
       "1         26381   Michelle     Phelps    NaN  1985-10-24             2552.72   \n",
       "2        305449      Jacob   Williams      M  1981-10-25              115.97   \n",
       "3        988259     Nathan     Snyder      M  1977-10-26               11.31   \n",
       "4        764762    Crystal      Knapp      F  1951-11-02               62.21   \n",
       "..          ...        ...        ...    ...         ...                 ...   \n",
       "95       838514     Andrew  Armstrong      M  2004-10-19              231.35   \n",
       "96       981118    Anthony     Arnold      M  1971-10-28             2362.42   \n",
       "97       658610     Nicole   Peterson      M  1965-10-29              395.33   \n",
       "98       463162  Stephanie     Miller    NaN  1958-10-31              958.43   \n",
       "99       707412      Derek   Thompson      F  1985-10-24               94.93   \n",
       "\n",
       "          Date               Merchant Name     Category  \n",
       "0   2023-04-03               Smith-Russell     Cosmetic  \n",
       "1   2023-07-17      Peck, Spence and Young       Travel  \n",
       "2   2023-09-20                  Steele Inc     Clothing  \n",
       "3   2023-01-11  Wilson, Wilson and Russell     Cosmetic  \n",
       "4   2023-06-13               Palmer-Hinton  Electronics  \n",
       "..         ...                         ...          ...  \n",
       "95  2023-03-02                  Miller Inc     Clothing  \n",
       "96  2023-06-28   Thomas, Simpson and Tyler       Travel  \n",
       "97  2023-03-20   Bryant, Mcbride and White       Market  \n",
       "98  2023-04-28              Young and Sons  Electronics  \n",
       "99  2023-08-27     Fuller, Bowen and Davis   Restaurant  \n",
       "\n",
       "[100 rows x 9 columns]"
      ]
     },
     "execution_count": 33,
     "metadata": {},
     "output_type": "execute_result"
    }
   ],
   "source": [
    "pd.read_csv(\"/kaggle/working/sample_dataset.tsv\",sep='\\t')"
   ]
  },
  {
   "cell_type": "markdown",
   "id": "353388b8",
   "metadata": {
    "papermill": {
     "duration": 0.068919,
     "end_time": "2023-10-25T14:10:39.896565",
     "exception": false,
     "start_time": "2023-10-25T14:10:39.827646",
     "status": "completed"
    },
    "tags": []
   },
   "source": [
    "#### 8. **Parquet Files:**\n",
    "   To read Parquet files, you can use the `pd.read_parquet()` function:\n",
    "   ```python\n",
    "   import pandas as pd\n",
    "   df = pd.read_parquet('your_file.parquet')\n",
    "   ```"
   ]
  },
  {
   "cell_type": "code",
   "execution_count": 34,
   "id": "354862bb",
   "metadata": {
    "execution": {
     "iopub.execute_input": "2023-10-25T14:10:40.038846Z",
     "iopub.status.busy": "2023-10-25T14:10:40.038149Z",
     "iopub.status.idle": "2023-10-25T14:10:40.130004Z",
     "shell.execute_reply": "2023-10-25T14:10:40.128662Z"
    },
    "papermill": {
     "duration": 0.167142,
     "end_time": "2023-10-25T14:10:40.132382",
     "exception": false,
     "start_time": "2023-10-25T14:10:39.965240",
     "status": "completed"
    },
    "tags": []
   },
   "outputs": [
    {
     "data": {
      "text/html": [
       "<div>\n",
       "<style scoped>\n",
       "    .dataframe tbody tr th:only-of-type {\n",
       "        vertical-align: middle;\n",
       "    }\n",
       "\n",
       "    .dataframe tbody tr th {\n",
       "        vertical-align: top;\n",
       "    }\n",
       "\n",
       "    .dataframe thead th {\n",
       "        text-align: right;\n",
       "    }\n",
       "</style>\n",
       "<table border=\"1\" class=\"dataframe\">\n",
       "  <thead>\n",
       "    <tr style=\"text-align: right;\">\n",
       "      <th></th>\n",
       "      <th>Customer ID</th>\n",
       "      <th>Name</th>\n",
       "      <th>Surname</th>\n",
       "      <th>Gender</th>\n",
       "      <th>Birthdate</th>\n",
       "      <th>Transaction Amount</th>\n",
       "      <th>Date</th>\n",
       "      <th>Merchant Name</th>\n",
       "      <th>Category</th>\n",
       "    </tr>\n",
       "  </thead>\n",
       "  <tbody>\n",
       "    <tr>\n",
       "      <th>0</th>\n",
       "      <td>752858</td>\n",
       "      <td>Sean</td>\n",
       "      <td>Rodriguez</td>\n",
       "      <td>F</td>\n",
       "      <td>2002-10-20</td>\n",
       "      <td>35.47</td>\n",
       "      <td>2023-04-03</td>\n",
       "      <td>Smith-Russell</td>\n",
       "      <td>Cosmetic</td>\n",
       "    </tr>\n",
       "    <tr>\n",
       "      <th>1</th>\n",
       "      <td>26381</td>\n",
       "      <td>Michelle</td>\n",
       "      <td>Phelps</td>\n",
       "      <td>None</td>\n",
       "      <td>1985-10-24</td>\n",
       "      <td>2552.72</td>\n",
       "      <td>2023-07-17</td>\n",
       "      <td>Peck, Spence and Young</td>\n",
       "      <td>Travel</td>\n",
       "    </tr>\n",
       "    <tr>\n",
       "      <th>2</th>\n",
       "      <td>305449</td>\n",
       "      <td>Jacob</td>\n",
       "      <td>Williams</td>\n",
       "      <td>M</td>\n",
       "      <td>1981-10-25</td>\n",
       "      <td>115.97</td>\n",
       "      <td>2023-09-20</td>\n",
       "      <td>Steele Inc</td>\n",
       "      <td>Clothing</td>\n",
       "    </tr>\n",
       "    <tr>\n",
       "      <th>3</th>\n",
       "      <td>988259</td>\n",
       "      <td>Nathan</td>\n",
       "      <td>Snyder</td>\n",
       "      <td>M</td>\n",
       "      <td>1977-10-26</td>\n",
       "      <td>11.31</td>\n",
       "      <td>2023-01-11</td>\n",
       "      <td>Wilson, Wilson and Russell</td>\n",
       "      <td>Cosmetic</td>\n",
       "    </tr>\n",
       "    <tr>\n",
       "      <th>4</th>\n",
       "      <td>764762</td>\n",
       "      <td>Crystal</td>\n",
       "      <td>Knapp</td>\n",
       "      <td>F</td>\n",
       "      <td>1951-11-02</td>\n",
       "      <td>62.21</td>\n",
       "      <td>2023-06-13</td>\n",
       "      <td>Palmer-Hinton</td>\n",
       "      <td>Electronics</td>\n",
       "    </tr>\n",
       "    <tr>\n",
       "      <th>...</th>\n",
       "      <td>...</td>\n",
       "      <td>...</td>\n",
       "      <td>...</td>\n",
       "      <td>...</td>\n",
       "      <td>...</td>\n",
       "      <td>...</td>\n",
       "      <td>...</td>\n",
       "      <td>...</td>\n",
       "      <td>...</td>\n",
       "    </tr>\n",
       "    <tr>\n",
       "      <th>95</th>\n",
       "      <td>838514</td>\n",
       "      <td>Andrew</td>\n",
       "      <td>Armstrong</td>\n",
       "      <td>M</td>\n",
       "      <td>2004-10-19</td>\n",
       "      <td>231.35</td>\n",
       "      <td>2023-03-02</td>\n",
       "      <td>Miller Inc</td>\n",
       "      <td>Clothing</td>\n",
       "    </tr>\n",
       "    <tr>\n",
       "      <th>96</th>\n",
       "      <td>981118</td>\n",
       "      <td>Anthony</td>\n",
       "      <td>Arnold</td>\n",
       "      <td>M</td>\n",
       "      <td>1971-10-28</td>\n",
       "      <td>2362.42</td>\n",
       "      <td>2023-06-28</td>\n",
       "      <td>Thomas, Simpson and Tyler</td>\n",
       "      <td>Travel</td>\n",
       "    </tr>\n",
       "    <tr>\n",
       "      <th>97</th>\n",
       "      <td>658610</td>\n",
       "      <td>Nicole</td>\n",
       "      <td>Peterson</td>\n",
       "      <td>M</td>\n",
       "      <td>1965-10-29</td>\n",
       "      <td>395.33</td>\n",
       "      <td>2023-03-20</td>\n",
       "      <td>Bryant, Mcbride and White</td>\n",
       "      <td>Market</td>\n",
       "    </tr>\n",
       "    <tr>\n",
       "      <th>98</th>\n",
       "      <td>463162</td>\n",
       "      <td>Stephanie</td>\n",
       "      <td>Miller</td>\n",
       "      <td>None</td>\n",
       "      <td>1958-10-31</td>\n",
       "      <td>958.43</td>\n",
       "      <td>2023-04-28</td>\n",
       "      <td>Young and Sons</td>\n",
       "      <td>Electronics</td>\n",
       "    </tr>\n",
       "    <tr>\n",
       "      <th>99</th>\n",
       "      <td>707412</td>\n",
       "      <td>Derek</td>\n",
       "      <td>Thompson</td>\n",
       "      <td>F</td>\n",
       "      <td>1985-10-24</td>\n",
       "      <td>94.93</td>\n",
       "      <td>2023-08-27</td>\n",
       "      <td>Fuller, Bowen and Davis</td>\n",
       "      <td>Restaurant</td>\n",
       "    </tr>\n",
       "  </tbody>\n",
       "</table>\n",
       "<p>100 rows × 9 columns</p>\n",
       "</div>"
      ],
      "text/plain": [
       "    Customer ID       Name    Surname Gender   Birthdate  Transaction Amount  \\\n",
       "0        752858       Sean  Rodriguez      F  2002-10-20               35.47   \n",
       "1         26381   Michelle     Phelps   None  1985-10-24             2552.72   \n",
       "2        305449      Jacob   Williams      M  1981-10-25              115.97   \n",
       "3        988259     Nathan     Snyder      M  1977-10-26               11.31   \n",
       "4        764762    Crystal      Knapp      F  1951-11-02               62.21   \n",
       "..          ...        ...        ...    ...         ...                 ...   \n",
       "95       838514     Andrew  Armstrong      M  2004-10-19              231.35   \n",
       "96       981118    Anthony     Arnold      M  1971-10-28             2362.42   \n",
       "97       658610     Nicole   Peterson      M  1965-10-29              395.33   \n",
       "98       463162  Stephanie     Miller   None  1958-10-31              958.43   \n",
       "99       707412      Derek   Thompson      F  1985-10-24               94.93   \n",
       "\n",
       "          Date               Merchant Name     Category  \n",
       "0   2023-04-03               Smith-Russell     Cosmetic  \n",
       "1   2023-07-17      Peck, Spence and Young       Travel  \n",
       "2   2023-09-20                  Steele Inc     Clothing  \n",
       "3   2023-01-11  Wilson, Wilson and Russell     Cosmetic  \n",
       "4   2023-06-13               Palmer-Hinton  Electronics  \n",
       "..         ...                         ...          ...  \n",
       "95  2023-03-02                  Miller Inc     Clothing  \n",
       "96  2023-06-28   Thomas, Simpson and Tyler       Travel  \n",
       "97  2023-03-20   Bryant, Mcbride and White       Market  \n",
       "98  2023-04-28              Young and Sons  Electronics  \n",
       "99  2023-08-27     Fuller, Bowen and Davis   Restaurant  \n",
       "\n",
       "[100 rows x 9 columns]"
      ]
     },
     "execution_count": 34,
     "metadata": {},
     "output_type": "execute_result"
    }
   ],
   "source": [
    "pd.read_parquet(\"/kaggle/working/sample_dataset.parquet\")"
   ]
  },
  {
   "cell_type": "markdown",
   "id": "ab370817",
   "metadata": {
    "papermill": {
     "duration": 0.070621,
     "end_time": "2023-10-25T14:10:40.272472",
     "exception": false,
     "start_time": "2023-10-25T14:10:40.201851",
     "status": "completed"
    },
    "tags": []
   },
   "source": [
    "#### 9. **HDF5 Files:**\n",
    "   Pandas can read data from HDF5 files using the `pd.read_hdf()` function:\n",
    "   ```python\n",
    "   import pandas as pd\n",
    "   df = pd.read_hdf('your_file.h5')\n",
    "   ```"
   ]
  },
  {
   "cell_type": "code",
   "execution_count": 35,
   "id": "5c766c6b",
   "metadata": {
    "execution": {
     "iopub.execute_input": "2023-10-25T14:10:40.472258Z",
     "iopub.status.busy": "2023-10-25T14:10:40.471897Z",
     "iopub.status.idle": "2023-10-25T14:10:40.507158Z",
     "shell.execute_reply": "2023-10-25T14:10:40.506066Z"
    },
    "papermill": {
     "duration": 0.16877,
     "end_time": "2023-10-25T14:10:40.509385",
     "exception": false,
     "start_time": "2023-10-25T14:10:40.340615",
     "status": "completed"
    },
    "tags": []
   },
   "outputs": [
    {
     "data": {
      "text/html": [
       "<div>\n",
       "<style scoped>\n",
       "    .dataframe tbody tr th:only-of-type {\n",
       "        vertical-align: middle;\n",
       "    }\n",
       "\n",
       "    .dataframe tbody tr th {\n",
       "        vertical-align: top;\n",
       "    }\n",
       "\n",
       "    .dataframe thead th {\n",
       "        text-align: right;\n",
       "    }\n",
       "</style>\n",
       "<table border=\"1\" class=\"dataframe\">\n",
       "  <thead>\n",
       "    <tr style=\"text-align: right;\">\n",
       "      <th></th>\n",
       "      <th>Customer ID</th>\n",
       "      <th>Name</th>\n",
       "      <th>Surname</th>\n",
       "      <th>Gender</th>\n",
       "      <th>Birthdate</th>\n",
       "      <th>Transaction Amount</th>\n",
       "      <th>Date</th>\n",
       "      <th>Merchant Name</th>\n",
       "      <th>Category</th>\n",
       "    </tr>\n",
       "  </thead>\n",
       "  <tbody>\n",
       "    <tr>\n",
       "      <th>0</th>\n",
       "      <td>752858</td>\n",
       "      <td>Sean</td>\n",
       "      <td>Rodriguez</td>\n",
       "      <td>F</td>\n",
       "      <td>2002-10-20</td>\n",
       "      <td>35.47</td>\n",
       "      <td>2023-04-03</td>\n",
       "      <td>Smith-Russell</td>\n",
       "      <td>Cosmetic</td>\n",
       "    </tr>\n",
       "    <tr>\n",
       "      <th>1</th>\n",
       "      <td>26381</td>\n",
       "      <td>Michelle</td>\n",
       "      <td>Phelps</td>\n",
       "      <td>NaN</td>\n",
       "      <td>1985-10-24</td>\n",
       "      <td>2552.72</td>\n",
       "      <td>2023-07-17</td>\n",
       "      <td>Peck, Spence and Young</td>\n",
       "      <td>Travel</td>\n",
       "    </tr>\n",
       "    <tr>\n",
       "      <th>2</th>\n",
       "      <td>305449</td>\n",
       "      <td>Jacob</td>\n",
       "      <td>Williams</td>\n",
       "      <td>M</td>\n",
       "      <td>1981-10-25</td>\n",
       "      <td>115.97</td>\n",
       "      <td>2023-09-20</td>\n",
       "      <td>Steele Inc</td>\n",
       "      <td>Clothing</td>\n",
       "    </tr>\n",
       "    <tr>\n",
       "      <th>3</th>\n",
       "      <td>988259</td>\n",
       "      <td>Nathan</td>\n",
       "      <td>Snyder</td>\n",
       "      <td>M</td>\n",
       "      <td>1977-10-26</td>\n",
       "      <td>11.31</td>\n",
       "      <td>2023-01-11</td>\n",
       "      <td>Wilson, Wilson and Russell</td>\n",
       "      <td>Cosmetic</td>\n",
       "    </tr>\n",
       "    <tr>\n",
       "      <th>4</th>\n",
       "      <td>764762</td>\n",
       "      <td>Crystal</td>\n",
       "      <td>Knapp</td>\n",
       "      <td>F</td>\n",
       "      <td>1951-11-02</td>\n",
       "      <td>62.21</td>\n",
       "      <td>2023-06-13</td>\n",
       "      <td>Palmer-Hinton</td>\n",
       "      <td>Electronics</td>\n",
       "    </tr>\n",
       "    <tr>\n",
       "      <th>...</th>\n",
       "      <td>...</td>\n",
       "      <td>...</td>\n",
       "      <td>...</td>\n",
       "      <td>...</td>\n",
       "      <td>...</td>\n",
       "      <td>...</td>\n",
       "      <td>...</td>\n",
       "      <td>...</td>\n",
       "      <td>...</td>\n",
       "    </tr>\n",
       "    <tr>\n",
       "      <th>95</th>\n",
       "      <td>838514</td>\n",
       "      <td>Andrew</td>\n",
       "      <td>Armstrong</td>\n",
       "      <td>M</td>\n",
       "      <td>2004-10-19</td>\n",
       "      <td>231.35</td>\n",
       "      <td>2023-03-02</td>\n",
       "      <td>Miller Inc</td>\n",
       "      <td>Clothing</td>\n",
       "    </tr>\n",
       "    <tr>\n",
       "      <th>96</th>\n",
       "      <td>981118</td>\n",
       "      <td>Anthony</td>\n",
       "      <td>Arnold</td>\n",
       "      <td>M</td>\n",
       "      <td>1971-10-28</td>\n",
       "      <td>2362.42</td>\n",
       "      <td>2023-06-28</td>\n",
       "      <td>Thomas, Simpson and Tyler</td>\n",
       "      <td>Travel</td>\n",
       "    </tr>\n",
       "    <tr>\n",
       "      <th>97</th>\n",
       "      <td>658610</td>\n",
       "      <td>Nicole</td>\n",
       "      <td>Peterson</td>\n",
       "      <td>M</td>\n",
       "      <td>1965-10-29</td>\n",
       "      <td>395.33</td>\n",
       "      <td>2023-03-20</td>\n",
       "      <td>Bryant, Mcbride and White</td>\n",
       "      <td>Market</td>\n",
       "    </tr>\n",
       "    <tr>\n",
       "      <th>98</th>\n",
       "      <td>463162</td>\n",
       "      <td>Stephanie</td>\n",
       "      <td>Miller</td>\n",
       "      <td>NaN</td>\n",
       "      <td>1958-10-31</td>\n",
       "      <td>958.43</td>\n",
       "      <td>2023-04-28</td>\n",
       "      <td>Young and Sons</td>\n",
       "      <td>Electronics</td>\n",
       "    </tr>\n",
       "    <tr>\n",
       "      <th>99</th>\n",
       "      <td>707412</td>\n",
       "      <td>Derek</td>\n",
       "      <td>Thompson</td>\n",
       "      <td>F</td>\n",
       "      <td>1985-10-24</td>\n",
       "      <td>94.93</td>\n",
       "      <td>2023-08-27</td>\n",
       "      <td>Fuller, Bowen and Davis</td>\n",
       "      <td>Restaurant</td>\n",
       "    </tr>\n",
       "  </tbody>\n",
       "</table>\n",
       "<p>100 rows × 9 columns</p>\n",
       "</div>"
      ],
      "text/plain": [
       "    Customer ID       Name    Surname Gender   Birthdate  Transaction Amount  \\\n",
       "0        752858       Sean  Rodriguez      F  2002-10-20               35.47   \n",
       "1         26381   Michelle     Phelps    NaN  1985-10-24             2552.72   \n",
       "2        305449      Jacob   Williams      M  1981-10-25              115.97   \n",
       "3        988259     Nathan     Snyder      M  1977-10-26               11.31   \n",
       "4        764762    Crystal      Knapp      F  1951-11-02               62.21   \n",
       "..          ...        ...        ...    ...         ...                 ...   \n",
       "95       838514     Andrew  Armstrong      M  2004-10-19              231.35   \n",
       "96       981118    Anthony     Arnold      M  1971-10-28             2362.42   \n",
       "97       658610     Nicole   Peterson      M  1965-10-29              395.33   \n",
       "98       463162  Stephanie     Miller    NaN  1958-10-31              958.43   \n",
       "99       707412      Derek   Thompson      F  1985-10-24               94.93   \n",
       "\n",
       "          Date               Merchant Name     Category  \n",
       "0   2023-04-03               Smith-Russell     Cosmetic  \n",
       "1   2023-07-17      Peck, Spence and Young       Travel  \n",
       "2   2023-09-20                  Steele Inc     Clothing  \n",
       "3   2023-01-11  Wilson, Wilson and Russell     Cosmetic  \n",
       "4   2023-06-13               Palmer-Hinton  Electronics  \n",
       "..         ...                         ...          ...  \n",
       "95  2023-03-02                  Miller Inc     Clothing  \n",
       "96  2023-06-28   Thomas, Simpson and Tyler       Travel  \n",
       "97  2023-03-20   Bryant, Mcbride and White       Market  \n",
       "98  2023-04-28              Young and Sons  Electronics  \n",
       "99  2023-08-27     Fuller, Bowen and Davis   Restaurant  \n",
       "\n",
       "[100 rows x 9 columns]"
      ]
     },
     "execution_count": 35,
     "metadata": {},
     "output_type": "execute_result"
    }
   ],
   "source": [
    "pd.read_hdf(\"/kaggle/working/sample_dataset.h5\")"
   ]
  },
  {
   "cell_type": "markdown",
   "id": "eda28166",
   "metadata": {
    "papermill": {
     "duration": 0.069672,
     "end_time": "2023-10-25T14:10:40.648646",
     "exception": false,
     "start_time": "2023-10-25T14:10:40.578974",
     "status": "completed"
    },
    "tags": []
   },
   "source": [
    "#### 10. **Feather Files:**\n",
    "    Feather is another file format for efficiently storing data frames. You can use `pd.read_feather()` to read Feather files:\n",
    "    ```python\n",
    "    import pandas as pd\n",
    "    df = pd.read_feather('your_file.feather')\n",
    "    ```"
   ]
  },
  {
   "cell_type": "code",
   "execution_count": 36,
   "id": "54686760",
   "metadata": {
    "execution": {
     "iopub.execute_input": "2023-10-25T14:10:40.792048Z",
     "iopub.status.busy": "2023-10-25T14:10:40.790848Z",
     "iopub.status.idle": "2023-10-25T14:10:40.812180Z",
     "shell.execute_reply": "2023-10-25T14:10:40.811081Z"
    },
    "papermill": {
     "duration": 0.095679,
     "end_time": "2023-10-25T14:10:40.814596",
     "exception": false,
     "start_time": "2023-10-25T14:10:40.718917",
     "status": "completed"
    },
    "tags": []
   },
   "outputs": [
    {
     "data": {
      "text/html": [
       "<div>\n",
       "<style scoped>\n",
       "    .dataframe tbody tr th:only-of-type {\n",
       "        vertical-align: middle;\n",
       "    }\n",
       "\n",
       "    .dataframe tbody tr th {\n",
       "        vertical-align: top;\n",
       "    }\n",
       "\n",
       "    .dataframe thead th {\n",
       "        text-align: right;\n",
       "    }\n",
       "</style>\n",
       "<table border=\"1\" class=\"dataframe\">\n",
       "  <thead>\n",
       "    <tr style=\"text-align: right;\">\n",
       "      <th></th>\n",
       "      <th>Customer ID</th>\n",
       "      <th>Name</th>\n",
       "      <th>Surname</th>\n",
       "      <th>Gender</th>\n",
       "      <th>Birthdate</th>\n",
       "      <th>Transaction Amount</th>\n",
       "      <th>Date</th>\n",
       "      <th>Merchant Name</th>\n",
       "      <th>Category</th>\n",
       "    </tr>\n",
       "  </thead>\n",
       "  <tbody>\n",
       "    <tr>\n",
       "      <th>0</th>\n",
       "      <td>752858</td>\n",
       "      <td>Sean</td>\n",
       "      <td>Rodriguez</td>\n",
       "      <td>F</td>\n",
       "      <td>2002-10-20</td>\n",
       "      <td>35.47</td>\n",
       "      <td>2023-04-03</td>\n",
       "      <td>Smith-Russell</td>\n",
       "      <td>Cosmetic</td>\n",
       "    </tr>\n",
       "    <tr>\n",
       "      <th>1</th>\n",
       "      <td>26381</td>\n",
       "      <td>Michelle</td>\n",
       "      <td>Phelps</td>\n",
       "      <td>None</td>\n",
       "      <td>1985-10-24</td>\n",
       "      <td>2552.72</td>\n",
       "      <td>2023-07-17</td>\n",
       "      <td>Peck, Spence and Young</td>\n",
       "      <td>Travel</td>\n",
       "    </tr>\n",
       "    <tr>\n",
       "      <th>2</th>\n",
       "      <td>305449</td>\n",
       "      <td>Jacob</td>\n",
       "      <td>Williams</td>\n",
       "      <td>M</td>\n",
       "      <td>1981-10-25</td>\n",
       "      <td>115.97</td>\n",
       "      <td>2023-09-20</td>\n",
       "      <td>Steele Inc</td>\n",
       "      <td>Clothing</td>\n",
       "    </tr>\n",
       "    <tr>\n",
       "      <th>3</th>\n",
       "      <td>988259</td>\n",
       "      <td>Nathan</td>\n",
       "      <td>Snyder</td>\n",
       "      <td>M</td>\n",
       "      <td>1977-10-26</td>\n",
       "      <td>11.31</td>\n",
       "      <td>2023-01-11</td>\n",
       "      <td>Wilson, Wilson and Russell</td>\n",
       "      <td>Cosmetic</td>\n",
       "    </tr>\n",
       "    <tr>\n",
       "      <th>4</th>\n",
       "      <td>764762</td>\n",
       "      <td>Crystal</td>\n",
       "      <td>Knapp</td>\n",
       "      <td>F</td>\n",
       "      <td>1951-11-02</td>\n",
       "      <td>62.21</td>\n",
       "      <td>2023-06-13</td>\n",
       "      <td>Palmer-Hinton</td>\n",
       "      <td>Electronics</td>\n",
       "    </tr>\n",
       "    <tr>\n",
       "      <th>...</th>\n",
       "      <td>...</td>\n",
       "      <td>...</td>\n",
       "      <td>...</td>\n",
       "      <td>...</td>\n",
       "      <td>...</td>\n",
       "      <td>...</td>\n",
       "      <td>...</td>\n",
       "      <td>...</td>\n",
       "      <td>...</td>\n",
       "    </tr>\n",
       "    <tr>\n",
       "      <th>95</th>\n",
       "      <td>838514</td>\n",
       "      <td>Andrew</td>\n",
       "      <td>Armstrong</td>\n",
       "      <td>M</td>\n",
       "      <td>2004-10-19</td>\n",
       "      <td>231.35</td>\n",
       "      <td>2023-03-02</td>\n",
       "      <td>Miller Inc</td>\n",
       "      <td>Clothing</td>\n",
       "    </tr>\n",
       "    <tr>\n",
       "      <th>96</th>\n",
       "      <td>981118</td>\n",
       "      <td>Anthony</td>\n",
       "      <td>Arnold</td>\n",
       "      <td>M</td>\n",
       "      <td>1971-10-28</td>\n",
       "      <td>2362.42</td>\n",
       "      <td>2023-06-28</td>\n",
       "      <td>Thomas, Simpson and Tyler</td>\n",
       "      <td>Travel</td>\n",
       "    </tr>\n",
       "    <tr>\n",
       "      <th>97</th>\n",
       "      <td>658610</td>\n",
       "      <td>Nicole</td>\n",
       "      <td>Peterson</td>\n",
       "      <td>M</td>\n",
       "      <td>1965-10-29</td>\n",
       "      <td>395.33</td>\n",
       "      <td>2023-03-20</td>\n",
       "      <td>Bryant, Mcbride and White</td>\n",
       "      <td>Market</td>\n",
       "    </tr>\n",
       "    <tr>\n",
       "      <th>98</th>\n",
       "      <td>463162</td>\n",
       "      <td>Stephanie</td>\n",
       "      <td>Miller</td>\n",
       "      <td>None</td>\n",
       "      <td>1958-10-31</td>\n",
       "      <td>958.43</td>\n",
       "      <td>2023-04-28</td>\n",
       "      <td>Young and Sons</td>\n",
       "      <td>Electronics</td>\n",
       "    </tr>\n",
       "    <tr>\n",
       "      <th>99</th>\n",
       "      <td>707412</td>\n",
       "      <td>Derek</td>\n",
       "      <td>Thompson</td>\n",
       "      <td>F</td>\n",
       "      <td>1985-10-24</td>\n",
       "      <td>94.93</td>\n",
       "      <td>2023-08-27</td>\n",
       "      <td>Fuller, Bowen and Davis</td>\n",
       "      <td>Restaurant</td>\n",
       "    </tr>\n",
       "  </tbody>\n",
       "</table>\n",
       "<p>100 rows × 9 columns</p>\n",
       "</div>"
      ],
      "text/plain": [
       "    Customer ID       Name    Surname Gender   Birthdate  Transaction Amount  \\\n",
       "0        752858       Sean  Rodriguez      F  2002-10-20               35.47   \n",
       "1         26381   Michelle     Phelps   None  1985-10-24             2552.72   \n",
       "2        305449      Jacob   Williams      M  1981-10-25              115.97   \n",
       "3        988259     Nathan     Snyder      M  1977-10-26               11.31   \n",
       "4        764762    Crystal      Knapp      F  1951-11-02               62.21   \n",
       "..          ...        ...        ...    ...         ...                 ...   \n",
       "95       838514     Andrew  Armstrong      M  2004-10-19              231.35   \n",
       "96       981118    Anthony     Arnold      M  1971-10-28             2362.42   \n",
       "97       658610     Nicole   Peterson      M  1965-10-29              395.33   \n",
       "98       463162  Stephanie     Miller   None  1958-10-31              958.43   \n",
       "99       707412      Derek   Thompson      F  1985-10-24               94.93   \n",
       "\n",
       "          Date               Merchant Name     Category  \n",
       "0   2023-04-03               Smith-Russell     Cosmetic  \n",
       "1   2023-07-17      Peck, Spence and Young       Travel  \n",
       "2   2023-09-20                  Steele Inc     Clothing  \n",
       "3   2023-01-11  Wilson, Wilson and Russell     Cosmetic  \n",
       "4   2023-06-13               Palmer-Hinton  Electronics  \n",
       "..         ...                         ...          ...  \n",
       "95  2023-03-02                  Miller Inc     Clothing  \n",
       "96  2023-06-28   Thomas, Simpson and Tyler       Travel  \n",
       "97  2023-03-20   Bryant, Mcbride and White       Market  \n",
       "98  2023-04-28              Young and Sons  Electronics  \n",
       "99  2023-08-27     Fuller, Bowen and Davis   Restaurant  \n",
       "\n",
       "[100 rows x 9 columns]"
      ]
     },
     "execution_count": 36,
     "metadata": {},
     "output_type": "execute_result"
    }
   ],
   "source": [
    "pd.read_feather('/kaggle/working/sample_dataset.feather')"
   ]
  },
  {
   "cell_type": "markdown",
   "id": "bf0dcb2b",
   "metadata": {
    "papermill": {
     "duration": 0.071765,
     "end_time": "2023-10-25T14:10:40.957331",
     "exception": false,
     "start_time": "2023-10-25T14:10:40.885566",
     "status": "completed"
    },
    "tags": []
   },
   "source": [
    "These are some common file formats that Pandas can handle. Depending on your data source and format, you can choose the appropriate function to read the data into a Pandas DataFrame."
   ]
  },
  {
   "cell_type": "markdown",
   "id": "6420fbbb",
   "metadata": {
    "papermill": {
     "duration": 0.068672,
     "end_time": "2023-10-25T14:10:41.095995",
     "exception": false,
     "start_time": "2023-10-25T14:10:41.027323",
     "status": "completed"
    },
    "tags": []
   },
   "source": [
    "# Data Exploration and Information:\n",
    "Data exploration and information functions in Pandas are used to gain insights into your data, understand its structure, and obtain summary statistics. Here are some common data exploration and information functions in Pandas:\n",
    "\n",
    "1. **`head(n)` and `tail(n)`**:\n",
    "   - `df.head(n)`: Returns the first `n` rows of the DataFrame (default is 5).\n",
    "   - `df.tail(n)`: Returns the last `n` rows of the DataFrame (default is 5).\n",
    "\n",
    "2. **`info()`**:\n",
    "   - `df.info()`: Provides a summary of the DataFrame, including the data types of columns and the count of non-null values. Useful for understanding the data's structure.\n",
    "\n",
    "3. **`describe()`**:\n",
    "   - `df.describe()`: Generates descriptive statistics (count, mean, std, min, 25%, 50%, 75%, max) for numerical columns.\n",
    "\n",
    "4. **`shape`**:\n",
    "   - `df.shape`: Returns a tuple representing the dimensions of the DataFrame (number of rows, number of columns).\n",
    "\n",
    "5. **`dtypes`**:\n",
    "   - `df.dtypes`: Returns a Series with the data types of each column.\n",
    "\n",
    "6. **`columns`**:\n",
    "   - `df.columns`: Returns a list of column names.\n",
    "\n",
    "7. **`nunique()` and `unique()`**:\n",
    "   - `df['column_name'].nunique()`: Returns the number of unique values in a specific column.\n",
    "   - `df['column_name'].unique()`: Returns an array of unique values in a specific column.\n",
    "\n",
    "8. **`value_counts()`**:\n",
    "   - `df['column_name'].value_counts()`: Counts the frequency of each unique value in a specific column.\n",
    "\n",
    "9. **`isna()` and `isnull()`**:\n",
    "   - `df.isna()`: Returns a DataFrame of the same shape with `True` for missing values and `False` for non-missing values.\n",
    "   - `df.isnull()`: Same as `isna()`.\n",
    "\n",
    "10. **`notna()` and `notnull()`**:\n",
    "   - `df.notna()`: Returns a DataFrame of the same shape with `True` for non-missing values and `False` for missing values.\n",
    "   - `df.notnull()`: Same as `notna()`.\n",
    "\n",
    "11. **`corr()`**:\n",
    "   - `df.corr()`: Calculates the pairwise correlation of numerical columns in the DataFrame.\n",
    "\n",
    "12. **`cov()`**:\n",
    "   - `df.cov()`: Calculates the covariance matrix of numerical columns.\n",
    "\n",
    "13. **`mean()`, `median()`, `std()`, `min()`, and `max()`**:\n",
    "   - `df.mean()`: Computes the mean of each numerical column.\n",
    "   - `df.median()`: Computes the median of each numerical column.\n",
    "   - `df.std()`: Computes the standard deviation of each numerical column.\n",
    "   - `df.min()`: Returns the minimum value of each column.\n",
    "   - `df.max()`: Returns the maximum value of each column.\n",
    "\n",
    "These functions are valuable for understanding your data, identifying missing values, finding summary statistics, and performing initial data exploration and cleaning before more in-depth analysis."
   ]
  },
  {
   "cell_type": "code",
   "execution_count": 37,
   "id": "35dc1635",
   "metadata": {
    "execution": {
     "iopub.execute_input": "2023-10-25T14:10:41.238940Z",
     "iopub.status.busy": "2023-10-25T14:10:41.238521Z",
     "iopub.status.idle": "2023-10-25T14:10:41.248749Z",
     "shell.execute_reply": "2023-10-25T14:10:41.247840Z"
    },
    "papermill": {
     "duration": 0.084555,
     "end_time": "2023-10-25T14:10:41.250931",
     "exception": false,
     "start_time": "2023-10-25T14:10:41.166376",
     "status": "completed"
    },
    "tags": []
   },
   "outputs": [],
   "source": [
    "df = pd.read_feather('/kaggle/working/sample_dataset.feather')"
   ]
  },
  {
   "cell_type": "code",
   "execution_count": 38,
   "id": "9a586fd2",
   "metadata": {
    "execution": {
     "iopub.execute_input": "2023-10-25T14:10:41.394474Z",
     "iopub.status.busy": "2023-10-25T14:10:41.394056Z",
     "iopub.status.idle": "2023-10-25T14:10:41.401044Z",
     "shell.execute_reply": "2023-10-25T14:10:41.399834Z"
    },
    "papermill": {
     "duration": 0.081629,
     "end_time": "2023-10-25T14:10:41.403649",
     "exception": false,
     "start_time": "2023-10-25T14:10:41.322020",
     "status": "completed"
    },
    "tags": []
   },
   "outputs": [
    {
     "data": {
      "text/plain": [
       "(100, 9)"
      ]
     },
     "execution_count": 38,
     "metadata": {},
     "output_type": "execute_result"
    }
   ],
   "source": [
    "# shape of data\n",
    "df.shape"
   ]
  },
  {
   "cell_type": "code",
   "execution_count": 39,
   "id": "3aa98aa9",
   "metadata": {
    "execution": {
     "iopub.execute_input": "2023-10-25T14:10:41.546113Z",
     "iopub.status.busy": "2023-10-25T14:10:41.545388Z",
     "iopub.status.idle": "2023-10-25T14:10:41.561369Z",
     "shell.execute_reply": "2023-10-25T14:10:41.560176Z"
    },
    "papermill": {
     "duration": 0.090399,
     "end_time": "2023-10-25T14:10:41.563751",
     "exception": false,
     "start_time": "2023-10-25T14:10:41.473352",
     "status": "completed"
    },
    "tags": []
   },
   "outputs": [
    {
     "data": {
      "text/html": [
       "<div>\n",
       "<style scoped>\n",
       "    .dataframe tbody tr th:only-of-type {\n",
       "        vertical-align: middle;\n",
       "    }\n",
       "\n",
       "    .dataframe tbody tr th {\n",
       "        vertical-align: top;\n",
       "    }\n",
       "\n",
       "    .dataframe thead th {\n",
       "        text-align: right;\n",
       "    }\n",
       "</style>\n",
       "<table border=\"1\" class=\"dataframe\">\n",
       "  <thead>\n",
       "    <tr style=\"text-align: right;\">\n",
       "      <th></th>\n",
       "      <th>Customer ID</th>\n",
       "      <th>Name</th>\n",
       "      <th>Surname</th>\n",
       "      <th>Gender</th>\n",
       "      <th>Birthdate</th>\n",
       "      <th>Transaction Amount</th>\n",
       "      <th>Date</th>\n",
       "      <th>Merchant Name</th>\n",
       "      <th>Category</th>\n",
       "    </tr>\n",
       "  </thead>\n",
       "  <tbody>\n",
       "    <tr>\n",
       "      <th>0</th>\n",
       "      <td>752858</td>\n",
       "      <td>Sean</td>\n",
       "      <td>Rodriguez</td>\n",
       "      <td>F</td>\n",
       "      <td>2002-10-20</td>\n",
       "      <td>35.47</td>\n",
       "      <td>2023-04-03</td>\n",
       "      <td>Smith-Russell</td>\n",
       "      <td>Cosmetic</td>\n",
       "    </tr>\n",
       "    <tr>\n",
       "      <th>1</th>\n",
       "      <td>26381</td>\n",
       "      <td>Michelle</td>\n",
       "      <td>Phelps</td>\n",
       "      <td>None</td>\n",
       "      <td>1985-10-24</td>\n",
       "      <td>2552.72</td>\n",
       "      <td>2023-07-17</td>\n",
       "      <td>Peck, Spence and Young</td>\n",
       "      <td>Travel</td>\n",
       "    </tr>\n",
       "    <tr>\n",
       "      <th>2</th>\n",
       "      <td>305449</td>\n",
       "      <td>Jacob</td>\n",
       "      <td>Williams</td>\n",
       "      <td>M</td>\n",
       "      <td>1981-10-25</td>\n",
       "      <td>115.97</td>\n",
       "      <td>2023-09-20</td>\n",
       "      <td>Steele Inc</td>\n",
       "      <td>Clothing</td>\n",
       "    </tr>\n",
       "    <tr>\n",
       "      <th>3</th>\n",
       "      <td>988259</td>\n",
       "      <td>Nathan</td>\n",
       "      <td>Snyder</td>\n",
       "      <td>M</td>\n",
       "      <td>1977-10-26</td>\n",
       "      <td>11.31</td>\n",
       "      <td>2023-01-11</td>\n",
       "      <td>Wilson, Wilson and Russell</td>\n",
       "      <td>Cosmetic</td>\n",
       "    </tr>\n",
       "    <tr>\n",
       "      <th>4</th>\n",
       "      <td>764762</td>\n",
       "      <td>Crystal</td>\n",
       "      <td>Knapp</td>\n",
       "      <td>F</td>\n",
       "      <td>1951-11-02</td>\n",
       "      <td>62.21</td>\n",
       "      <td>2023-06-13</td>\n",
       "      <td>Palmer-Hinton</td>\n",
       "      <td>Electronics</td>\n",
       "    </tr>\n",
       "  </tbody>\n",
       "</table>\n",
       "</div>"
      ],
      "text/plain": [
       "   Customer ID      Name    Surname Gender   Birthdate  Transaction Amount  \\\n",
       "0       752858      Sean  Rodriguez      F  2002-10-20               35.47   \n",
       "1        26381  Michelle     Phelps   None  1985-10-24             2552.72   \n",
       "2       305449     Jacob   Williams      M  1981-10-25              115.97   \n",
       "3       988259    Nathan     Snyder      M  1977-10-26               11.31   \n",
       "4       764762   Crystal      Knapp      F  1951-11-02               62.21   \n",
       "\n",
       "         Date               Merchant Name     Category  \n",
       "0  2023-04-03               Smith-Russell     Cosmetic  \n",
       "1  2023-07-17      Peck, Spence and Young       Travel  \n",
       "2  2023-09-20                  Steele Inc     Clothing  \n",
       "3  2023-01-11  Wilson, Wilson and Russell     Cosmetic  \n",
       "4  2023-06-13               Palmer-Hinton  Electronics  "
      ]
     },
     "execution_count": 39,
     "metadata": {},
     "output_type": "execute_result"
    }
   ],
   "source": [
    "# view the table - first 5 data\n",
    "df.head()"
   ]
  },
  {
   "cell_type": "code",
   "execution_count": 40,
   "id": "945cf29d",
   "metadata": {
    "execution": {
     "iopub.execute_input": "2023-10-25T14:10:41.711236Z",
     "iopub.status.busy": "2023-10-25T14:10:41.710879Z",
     "iopub.status.idle": "2023-10-25T14:10:41.725398Z",
     "shell.execute_reply": "2023-10-25T14:10:41.724349Z"
    },
    "papermill": {
     "duration": 0.09061,
     "end_time": "2023-10-25T14:10:41.727591",
     "exception": false,
     "start_time": "2023-10-25T14:10:41.636981",
     "status": "completed"
    },
    "tags": []
   },
   "outputs": [
    {
     "data": {
      "text/html": [
       "<div>\n",
       "<style scoped>\n",
       "    .dataframe tbody tr th:only-of-type {\n",
       "        vertical-align: middle;\n",
       "    }\n",
       "\n",
       "    .dataframe tbody tr th {\n",
       "        vertical-align: top;\n",
       "    }\n",
       "\n",
       "    .dataframe thead th {\n",
       "        text-align: right;\n",
       "    }\n",
       "</style>\n",
       "<table border=\"1\" class=\"dataframe\">\n",
       "  <thead>\n",
       "    <tr style=\"text-align: right;\">\n",
       "      <th></th>\n",
       "      <th>Customer ID</th>\n",
       "      <th>Name</th>\n",
       "      <th>Surname</th>\n",
       "      <th>Gender</th>\n",
       "      <th>Birthdate</th>\n",
       "      <th>Transaction Amount</th>\n",
       "      <th>Date</th>\n",
       "      <th>Merchant Name</th>\n",
       "      <th>Category</th>\n",
       "    </tr>\n",
       "  </thead>\n",
       "  <tbody>\n",
       "    <tr>\n",
       "      <th>95</th>\n",
       "      <td>838514</td>\n",
       "      <td>Andrew</td>\n",
       "      <td>Armstrong</td>\n",
       "      <td>M</td>\n",
       "      <td>2004-10-19</td>\n",
       "      <td>231.35</td>\n",
       "      <td>2023-03-02</td>\n",
       "      <td>Miller Inc</td>\n",
       "      <td>Clothing</td>\n",
       "    </tr>\n",
       "    <tr>\n",
       "      <th>96</th>\n",
       "      <td>981118</td>\n",
       "      <td>Anthony</td>\n",
       "      <td>Arnold</td>\n",
       "      <td>M</td>\n",
       "      <td>1971-10-28</td>\n",
       "      <td>2362.42</td>\n",
       "      <td>2023-06-28</td>\n",
       "      <td>Thomas, Simpson and Tyler</td>\n",
       "      <td>Travel</td>\n",
       "    </tr>\n",
       "    <tr>\n",
       "      <th>97</th>\n",
       "      <td>658610</td>\n",
       "      <td>Nicole</td>\n",
       "      <td>Peterson</td>\n",
       "      <td>M</td>\n",
       "      <td>1965-10-29</td>\n",
       "      <td>395.33</td>\n",
       "      <td>2023-03-20</td>\n",
       "      <td>Bryant, Mcbride and White</td>\n",
       "      <td>Market</td>\n",
       "    </tr>\n",
       "    <tr>\n",
       "      <th>98</th>\n",
       "      <td>463162</td>\n",
       "      <td>Stephanie</td>\n",
       "      <td>Miller</td>\n",
       "      <td>None</td>\n",
       "      <td>1958-10-31</td>\n",
       "      <td>958.43</td>\n",
       "      <td>2023-04-28</td>\n",
       "      <td>Young and Sons</td>\n",
       "      <td>Electronics</td>\n",
       "    </tr>\n",
       "    <tr>\n",
       "      <th>99</th>\n",
       "      <td>707412</td>\n",
       "      <td>Derek</td>\n",
       "      <td>Thompson</td>\n",
       "      <td>F</td>\n",
       "      <td>1985-10-24</td>\n",
       "      <td>94.93</td>\n",
       "      <td>2023-08-27</td>\n",
       "      <td>Fuller, Bowen and Davis</td>\n",
       "      <td>Restaurant</td>\n",
       "    </tr>\n",
       "  </tbody>\n",
       "</table>\n",
       "</div>"
      ],
      "text/plain": [
       "    Customer ID       Name    Surname Gender   Birthdate  Transaction Amount  \\\n",
       "95       838514     Andrew  Armstrong      M  2004-10-19              231.35   \n",
       "96       981118    Anthony     Arnold      M  1971-10-28             2362.42   \n",
       "97       658610     Nicole   Peterson      M  1965-10-29              395.33   \n",
       "98       463162  Stephanie     Miller   None  1958-10-31              958.43   \n",
       "99       707412      Derek   Thompson      F  1985-10-24               94.93   \n",
       "\n",
       "          Date              Merchant Name     Category  \n",
       "95  2023-03-02                 Miller Inc     Clothing  \n",
       "96  2023-06-28  Thomas, Simpson and Tyler       Travel  \n",
       "97  2023-03-20  Bryant, Mcbride and White       Market  \n",
       "98  2023-04-28             Young and Sons  Electronics  \n",
       "99  2023-08-27    Fuller, Bowen and Davis   Restaurant  "
      ]
     },
     "execution_count": 40,
     "metadata": {},
     "output_type": "execute_result"
    }
   ],
   "source": [
    "# last 5 data\n",
    "df.tail()"
   ]
  },
  {
   "cell_type": "code",
   "execution_count": 41,
   "id": "3bb9a132",
   "metadata": {
    "execution": {
     "iopub.execute_input": "2023-10-25T14:10:41.868112Z",
     "iopub.status.busy": "2023-10-25T14:10:41.867758Z",
     "iopub.status.idle": "2023-10-25T14:10:41.882626Z",
     "shell.execute_reply": "2023-10-25T14:10:41.881361Z"
    },
    "papermill": {
     "duration": 0.087734,
     "end_time": "2023-10-25T14:10:41.884607",
     "exception": false,
     "start_time": "2023-10-25T14:10:41.796873",
     "status": "completed"
    },
    "tags": []
   },
   "outputs": [
    {
     "data": {
      "text/html": [
       "<div>\n",
       "<style scoped>\n",
       "    .dataframe tbody tr th:only-of-type {\n",
       "        vertical-align: middle;\n",
       "    }\n",
       "\n",
       "    .dataframe tbody tr th {\n",
       "        vertical-align: top;\n",
       "    }\n",
       "\n",
       "    .dataframe thead th {\n",
       "        text-align: right;\n",
       "    }\n",
       "</style>\n",
       "<table border=\"1\" class=\"dataframe\">\n",
       "  <thead>\n",
       "    <tr style=\"text-align: right;\">\n",
       "      <th></th>\n",
       "      <th>Customer ID</th>\n",
       "      <th>Name</th>\n",
       "      <th>Surname</th>\n",
       "      <th>Gender</th>\n",
       "      <th>Birthdate</th>\n",
       "      <th>Transaction Amount</th>\n",
       "      <th>Date</th>\n",
       "      <th>Merchant Name</th>\n",
       "      <th>Category</th>\n",
       "    </tr>\n",
       "  </thead>\n",
       "  <tbody>\n",
       "    <tr>\n",
       "      <th>67</th>\n",
       "      <td>34415</td>\n",
       "      <td>Juan</td>\n",
       "      <td>Kelly</td>\n",
       "      <td>F</td>\n",
       "      <td>1995-10-22</td>\n",
       "      <td>2770.66</td>\n",
       "      <td>2023-07-28</td>\n",
       "      <td>Peterson LLC</td>\n",
       "      <td>Travel</td>\n",
       "    </tr>\n",
       "    <tr>\n",
       "      <th>89</th>\n",
       "      <td>361536</td>\n",
       "      <td>Kurt</td>\n",
       "      <td>Dennis</td>\n",
       "      <td>M</td>\n",
       "      <td>1970-10-28</td>\n",
       "      <td>234.16</td>\n",
       "      <td>2023-05-24</td>\n",
       "      <td>Davis, Griffin and Gates</td>\n",
       "      <td>Clothing</td>\n",
       "    </tr>\n",
       "    <tr>\n",
       "      <th>63</th>\n",
       "      <td>955318</td>\n",
       "      <td>Jeffery</td>\n",
       "      <td>Morgan</td>\n",
       "      <td>F</td>\n",
       "      <td>1972-10-27</td>\n",
       "      <td>235.47</td>\n",
       "      <td>2023-06-18</td>\n",
       "      <td>Collins, Hill and Chapman</td>\n",
       "      <td>Clothing</td>\n",
       "    </tr>\n",
       "    <tr>\n",
       "      <th>74</th>\n",
       "      <td>697024</td>\n",
       "      <td>Michael</td>\n",
       "      <td>Hines</td>\n",
       "      <td>None</td>\n",
       "      <td>1961-10-30</td>\n",
       "      <td>76.60</td>\n",
       "      <td>2023-08-04</td>\n",
       "      <td>Oconnor PLC</td>\n",
       "      <td>Cosmetic</td>\n",
       "    </tr>\n",
       "    <tr>\n",
       "      <th>79</th>\n",
       "      <td>403963</td>\n",
       "      <td>Jamie</td>\n",
       "      <td>Collier</td>\n",
       "      <td>None</td>\n",
       "      <td>1970-10-28</td>\n",
       "      <td>311.04</td>\n",
       "      <td>2023-05-30</td>\n",
       "      <td>Matthews PLC</td>\n",
       "      <td>Market</td>\n",
       "    </tr>\n",
       "  </tbody>\n",
       "</table>\n",
       "</div>"
      ],
      "text/plain": [
       "    Customer ID     Name  Surname Gender   Birthdate  Transaction Amount  \\\n",
       "67        34415     Juan    Kelly      F  1995-10-22             2770.66   \n",
       "89       361536     Kurt   Dennis      M  1970-10-28              234.16   \n",
       "63       955318  Jeffery   Morgan      F  1972-10-27              235.47   \n",
       "74       697024  Michael    Hines   None  1961-10-30               76.60   \n",
       "79       403963    Jamie  Collier   None  1970-10-28              311.04   \n",
       "\n",
       "          Date              Merchant Name  Category  \n",
       "67  2023-07-28               Peterson LLC    Travel  \n",
       "89  2023-05-24   Davis, Griffin and Gates  Clothing  \n",
       "63  2023-06-18  Collins, Hill and Chapman  Clothing  \n",
       "74  2023-08-04                Oconnor PLC  Cosmetic  \n",
       "79  2023-05-30               Matthews PLC    Market  "
      ]
     },
     "execution_count": 41,
     "metadata": {},
     "output_type": "execute_result"
    }
   ],
   "source": [
    "# random 5 sample\n",
    "df.sample(5)"
   ]
  },
  {
   "cell_type": "code",
   "execution_count": 42,
   "id": "2756ebbe",
   "metadata": {
    "execution": {
     "iopub.execute_input": "2023-10-25T14:10:42.031147Z",
     "iopub.status.busy": "2023-10-25T14:10:42.030785Z",
     "iopub.status.idle": "2023-10-25T14:10:42.052259Z",
     "shell.execute_reply": "2023-10-25T14:10:42.051029Z"
    },
    "papermill": {
     "duration": 0.09797,
     "end_time": "2023-10-25T14:10:42.054537",
     "exception": false,
     "start_time": "2023-10-25T14:10:41.956567",
     "status": "completed"
    },
    "tags": []
   },
   "outputs": [
    {
     "name": "stdout",
     "output_type": "stream",
     "text": [
      "<class 'pandas.core.frame.DataFrame'>\n",
      "RangeIndex: 100 entries, 0 to 99\n",
      "Data columns (total 9 columns):\n",
      " #   Column              Non-Null Count  Dtype  \n",
      "---  ------              --------------  -----  \n",
      " 0   Customer ID         100 non-null    int64  \n",
      " 1   Name                100 non-null    object \n",
      " 2   Surname             100 non-null    object \n",
      " 3   Gender              84 non-null     object \n",
      " 4   Birthdate           100 non-null    object \n",
      " 5   Transaction Amount  100 non-null    float64\n",
      " 6   Date                100 non-null    object \n",
      " 7   Merchant Name       100 non-null    object \n",
      " 8   Category            100 non-null    object \n",
      "dtypes: float64(1), int64(1), object(7)\n",
      "memory usage: 7.2+ KB\n"
     ]
    }
   ],
   "source": [
    "# viewing data info\n",
    "df.info()"
   ]
  },
  {
   "cell_type": "code",
   "execution_count": 43,
   "id": "f3ad838a",
   "metadata": {
    "execution": {
     "iopub.execute_input": "2023-10-25T14:10:42.203591Z",
     "iopub.status.busy": "2023-10-25T14:10:42.202904Z",
     "iopub.status.idle": "2023-10-25T14:10:42.220942Z",
     "shell.execute_reply": "2023-10-25T14:10:42.219734Z"
    },
    "papermill": {
     "duration": 0.094964,
     "end_time": "2023-10-25T14:10:42.223111",
     "exception": false,
     "start_time": "2023-10-25T14:10:42.128147",
     "status": "completed"
    },
    "tags": []
   },
   "outputs": [
    {
     "data": {
      "text/html": [
       "<div>\n",
       "<style scoped>\n",
       "    .dataframe tbody tr th:only-of-type {\n",
       "        vertical-align: middle;\n",
       "    }\n",
       "\n",
       "    .dataframe tbody tr th {\n",
       "        vertical-align: top;\n",
       "    }\n",
       "\n",
       "    .dataframe thead th {\n",
       "        text-align: right;\n",
       "    }\n",
       "</style>\n",
       "<table border=\"1\" class=\"dataframe\">\n",
       "  <thead>\n",
       "    <tr style=\"text-align: right;\">\n",
       "      <th></th>\n",
       "      <th>Customer ID</th>\n",
       "      <th>Transaction Amount</th>\n",
       "    </tr>\n",
       "  </thead>\n",
       "  <tbody>\n",
       "    <tr>\n",
       "      <th>count</th>\n",
       "      <td>100.000000</td>\n",
       "      <td>100.000000</td>\n",
       "    </tr>\n",
       "    <tr>\n",
       "      <th>mean</th>\n",
       "      <td>509935.080000</td>\n",
       "      <td>452.288200</td>\n",
       "    </tr>\n",
       "    <tr>\n",
       "      <th>std</th>\n",
       "      <td>291970.958279</td>\n",
       "      <td>673.481584</td>\n",
       "    </tr>\n",
       "    <tr>\n",
       "      <th>min</th>\n",
       "      <td>6905.000000</td>\n",
       "      <td>10.510000</td>\n",
       "    </tr>\n",
       "    <tr>\n",
       "      <th>25%</th>\n",
       "      <td>290907.250000</td>\n",
       "      <td>70.147500</td>\n",
       "    </tr>\n",
       "    <tr>\n",
       "      <th>50%</th>\n",
       "      <td>517049.000000</td>\n",
       "      <td>152.730000</td>\n",
       "    </tr>\n",
       "    <tr>\n",
       "      <th>75%</th>\n",
       "      <td>765006.000000</td>\n",
       "      <td>406.792500</td>\n",
       "    </tr>\n",
       "    <tr>\n",
       "      <th>max</th>\n",
       "      <td>988259.000000</td>\n",
       "      <td>2770.660000</td>\n",
       "    </tr>\n",
       "  </tbody>\n",
       "</table>\n",
       "</div>"
      ],
      "text/plain": [
       "         Customer ID  Transaction Amount\n",
       "count     100.000000          100.000000\n",
       "mean   509935.080000          452.288200\n",
       "std    291970.958279          673.481584\n",
       "min      6905.000000           10.510000\n",
       "25%    290907.250000           70.147500\n",
       "50%    517049.000000          152.730000\n",
       "75%    765006.000000          406.792500\n",
       "max    988259.000000         2770.660000"
      ]
     },
     "execution_count": 43,
     "metadata": {},
     "output_type": "execute_result"
    }
   ],
   "source": [
    "# data\n",
    "df.describe()"
   ]
  },
  {
   "cell_type": "code",
   "execution_count": 44,
   "id": "3eadca31",
   "metadata": {
    "execution": {
     "iopub.execute_input": "2023-10-25T14:10:42.369384Z",
     "iopub.status.busy": "2023-10-25T14:10:42.368968Z",
     "iopub.status.idle": "2023-10-25T14:10:42.377045Z",
     "shell.execute_reply": "2023-10-25T14:10:42.375995Z"
    },
    "papermill": {
     "duration": 0.083432,
     "end_time": "2023-10-25T14:10:42.379134",
     "exception": false,
     "start_time": "2023-10-25T14:10:42.295702",
     "status": "completed"
    },
    "tags": []
   },
   "outputs": [
    {
     "data": {
      "text/plain": [
       "Customer ID             int64\n",
       "Name                   object\n",
       "Surname                object\n",
       "Gender                 object\n",
       "Birthdate              object\n",
       "Transaction Amount    float64\n",
       "Date                   object\n",
       "Merchant Name          object\n",
       "Category               object\n",
       "dtype: object"
      ]
     },
     "execution_count": 44,
     "metadata": {},
     "output_type": "execute_result"
    }
   ],
   "source": [
    "df.dtypes"
   ]
  },
  {
   "cell_type": "code",
   "execution_count": 45,
   "id": "0e83ce34",
   "metadata": {
    "execution": {
     "iopub.execute_input": "2023-10-25T14:10:42.525703Z",
     "iopub.status.busy": "2023-10-25T14:10:42.525303Z",
     "iopub.status.idle": "2023-10-25T14:10:42.531695Z",
     "shell.execute_reply": "2023-10-25T14:10:42.530888Z"
    },
    "papermill": {
     "duration": 0.08161,
     "end_time": "2023-10-25T14:10:42.533692",
     "exception": false,
     "start_time": "2023-10-25T14:10:42.452082",
     "status": "completed"
    },
    "tags": []
   },
   "outputs": [
    {
     "data": {
      "text/plain": [
       "Index(['Customer ID', 'Name', 'Surname', 'Gender', 'Birthdate',\n",
       "       'Transaction Amount', 'Date', 'Merchant Name', 'Category'],\n",
       "      dtype='object')"
      ]
     },
     "execution_count": 45,
     "metadata": {},
     "output_type": "execute_result"
    }
   ],
   "source": [
    "df.columns"
   ]
  },
  {
   "cell_type": "code",
   "execution_count": 46,
   "id": "a6bef64f",
   "metadata": {
    "execution": {
     "iopub.execute_input": "2023-10-25T14:10:42.679406Z",
     "iopub.status.busy": "2023-10-25T14:10:42.678628Z",
     "iopub.status.idle": "2023-10-25T14:10:42.685958Z",
     "shell.execute_reply": "2023-10-25T14:10:42.684983Z"
    },
    "papermill": {
     "duration": 0.081865,
     "end_time": "2023-10-25T14:10:42.688194",
     "exception": false,
     "start_time": "2023-10-25T14:10:42.606329",
     "status": "completed"
    },
    "tags": []
   },
   "outputs": [
    {
     "data": {
      "text/plain": [
       "['Customer ID',\n",
       " 'Name',\n",
       " 'Surname',\n",
       " 'Gender',\n",
       " 'Birthdate',\n",
       " 'Transaction Amount',\n",
       " 'Date',\n",
       " 'Merchant Name',\n",
       " 'Category']"
      ]
     },
     "execution_count": 46,
     "metadata": {},
     "output_type": "execute_result"
    }
   ],
   "source": [
    "df.columns.to_list()"
   ]
  },
  {
   "cell_type": "code",
   "execution_count": 47,
   "id": "ec0d0f87",
   "metadata": {
    "execution": {
     "iopub.execute_input": "2023-10-25T14:10:42.832427Z",
     "iopub.status.busy": "2023-10-25T14:10:42.831964Z",
     "iopub.status.idle": "2023-10-25T14:10:42.839387Z",
     "shell.execute_reply": "2023-10-25T14:10:42.838263Z"
    },
    "papermill": {
     "duration": 0.081686,
     "end_time": "2023-10-25T14:10:42.841631",
     "exception": false,
     "start_time": "2023-10-25T14:10:42.759945",
     "status": "completed"
    },
    "tags": []
   },
   "outputs": [
    {
     "data": {
      "text/plain": [
       "array(['F', None, 'M'], dtype=object)"
      ]
     },
     "execution_count": 47,
     "metadata": {},
     "output_type": "execute_result"
    }
   ],
   "source": [
    "df['Gender'].unique()"
   ]
  },
  {
   "cell_type": "code",
   "execution_count": 48,
   "id": "6bff414b",
   "metadata": {
    "execution": {
     "iopub.execute_input": "2023-10-25T14:10:42.991022Z",
     "iopub.status.busy": "2023-10-25T14:10:42.990222Z",
     "iopub.status.idle": "2023-10-25T14:10:42.997524Z",
     "shell.execute_reply": "2023-10-25T14:10:42.996592Z"
    },
    "papermill": {
     "duration": 0.084039,
     "end_time": "2023-10-25T14:10:42.999724",
     "exception": false,
     "start_time": "2023-10-25T14:10:42.915685",
     "status": "completed"
    },
    "tags": []
   },
   "outputs": [
    {
     "data": {
      "text/plain": [
       "array(['Cosmetic', 'Travel', 'Clothing', 'Electronics', 'Restaurant',\n",
       "       'Market'], dtype=object)"
      ]
     },
     "execution_count": 48,
     "metadata": {},
     "output_type": "execute_result"
    }
   ],
   "source": [
    "df['Category'].unique()"
   ]
  },
  {
   "cell_type": "code",
   "execution_count": 49,
   "id": "b8211a10",
   "metadata": {
    "execution": {
     "iopub.execute_input": "2023-10-25T14:10:43.151242Z",
     "iopub.status.busy": "2023-10-25T14:10:43.150480Z",
     "iopub.status.idle": "2023-10-25T14:10:43.158088Z",
     "shell.execute_reply": "2023-10-25T14:10:43.156963Z"
    },
    "papermill": {
     "duration": 0.086352,
     "end_time": "2023-10-25T14:10:43.160765",
     "exception": false,
     "start_time": "2023-10-25T14:10:43.074413",
     "status": "completed"
    },
    "tags": []
   },
   "outputs": [
    {
     "data": {
      "text/plain": [
       "2"
      ]
     },
     "execution_count": 49,
     "metadata": {},
     "output_type": "execute_result"
    }
   ],
   "source": [
    "df['Gender'].nunique()"
   ]
  },
  {
   "cell_type": "code",
   "execution_count": 50,
   "id": "9bdcd343",
   "metadata": {
    "execution": {
     "iopub.execute_input": "2023-10-25T14:10:43.315295Z",
     "iopub.status.busy": "2023-10-25T14:10:43.314862Z",
     "iopub.status.idle": "2023-10-25T14:10:43.321247Z",
     "shell.execute_reply": "2023-10-25T14:10:43.320499Z"
    },
    "papermill": {
     "duration": 0.085757,
     "end_time": "2023-10-25T14:10:43.323231",
     "exception": false,
     "start_time": "2023-10-25T14:10:43.237474",
     "status": "completed"
    },
    "tags": []
   },
   "outputs": [
    {
     "data": {
      "text/plain": [
       "6"
      ]
     },
     "execution_count": 50,
     "metadata": {},
     "output_type": "execute_result"
    }
   ],
   "source": [
    "df['Category'].nunique()"
   ]
  },
  {
   "cell_type": "code",
   "execution_count": 51,
   "id": "0fe43d0d",
   "metadata": {
    "execution": {
     "iopub.execute_input": "2023-10-25T14:10:43.475341Z",
     "iopub.status.busy": "2023-10-25T14:10:43.474320Z",
     "iopub.status.idle": "2023-10-25T14:10:43.482716Z",
     "shell.execute_reply": "2023-10-25T14:10:43.481726Z"
    },
    "papermill": {
     "duration": 0.086922,
     "end_time": "2023-10-25T14:10:43.484798",
     "exception": false,
     "start_time": "2023-10-25T14:10:43.397876",
     "status": "completed"
    },
    "tags": []
   },
   "outputs": [
    {
     "data": {
      "text/plain": [
       "Gender\n",
       "F       47\n",
       "M       37\n",
       "None    16\n",
       "Name: count, dtype: int64"
      ]
     },
     "execution_count": 51,
     "metadata": {},
     "output_type": "execute_result"
    }
   ],
   "source": [
    "df['Gender'].value_counts(dropna=False)"
   ]
  },
  {
   "cell_type": "code",
   "execution_count": 52,
   "id": "a36cf38d",
   "metadata": {
    "execution": {
     "iopub.execute_input": "2023-10-25T14:10:43.642207Z",
     "iopub.status.busy": "2023-10-25T14:10:43.641840Z",
     "iopub.status.idle": "2023-10-25T14:10:43.649068Z",
     "shell.execute_reply": "2023-10-25T14:10:43.648341Z"
    },
    "papermill": {
     "duration": 0.090663,
     "end_time": "2023-10-25T14:10:43.651088",
     "exception": false,
     "start_time": "2023-10-25T14:10:43.560425",
     "status": "completed"
    },
    "tags": []
   },
   "outputs": [
    {
     "data": {
      "text/plain": [
       "Category\n",
       "Cosmetic       24\n",
       "Travel         18\n",
       "Market         18\n",
       "Clothing       16\n",
       "Restaurant     13\n",
       "Electronics    11\n",
       "Name: count, dtype: int64"
      ]
     },
     "execution_count": 52,
     "metadata": {},
     "output_type": "execute_result"
    }
   ],
   "source": [
    "df['Category'].value_counts()"
   ]
  },
  {
   "cell_type": "code",
   "execution_count": 53,
   "id": "7553d984",
   "metadata": {
    "execution": {
     "iopub.execute_input": "2023-10-25T14:10:43.796798Z",
     "iopub.status.busy": "2023-10-25T14:10:43.796055Z",
     "iopub.status.idle": "2023-10-25T14:10:43.803871Z",
     "shell.execute_reply": "2023-10-25T14:10:43.803067Z"
    },
    "papermill": {
     "duration": 0.082496,
     "end_time": "2023-10-25T14:10:43.805995",
     "exception": false,
     "start_time": "2023-10-25T14:10:43.723499",
     "status": "completed"
    },
    "tags": []
   },
   "outputs": [
    {
     "data": {
      "text/plain": [
       "Customer ID            0\n",
       "Name                   0\n",
       "Surname                0\n",
       "Gender                16\n",
       "Birthdate              0\n",
       "Transaction Amount     0\n",
       "Date                   0\n",
       "Merchant Name          0\n",
       "Category               0\n",
       "dtype: int64"
      ]
     },
     "execution_count": 53,
     "metadata": {},
     "output_type": "execute_result"
    }
   ],
   "source": [
    "df.isna().sum()"
   ]
  },
  {
   "cell_type": "code",
   "execution_count": 54,
   "id": "efa6d97c",
   "metadata": {
    "execution": {
     "iopub.execute_input": "2023-10-25T14:10:43.951830Z",
     "iopub.status.busy": "2023-10-25T14:10:43.951113Z",
     "iopub.status.idle": "2023-10-25T14:10:43.958604Z",
     "shell.execute_reply": "2023-10-25T14:10:43.957841Z"
    },
    "papermill": {
     "duration": 0.081699,
     "end_time": "2023-10-25T14:10:43.960570",
     "exception": false,
     "start_time": "2023-10-25T14:10:43.878871",
     "status": "completed"
    },
    "tags": []
   },
   "outputs": [
    {
     "data": {
      "text/plain": [
       "Customer ID            True\n",
       "Name                   True\n",
       "Surname                True\n",
       "Gender                False\n",
       "Birthdate              True\n",
       "Transaction Amount     True\n",
       "Date                   True\n",
       "Merchant Name          True\n",
       "Category               True\n",
       "dtype: bool"
      ]
     },
     "execution_count": 54,
     "metadata": {},
     "output_type": "execute_result"
    }
   ],
   "source": [
    "# df[df.notna().all(axis=1)]\n",
    "df.notna().all()"
   ]
  },
  {
   "cell_type": "code",
   "execution_count": 55,
   "id": "3e80412a",
   "metadata": {
    "execution": {
     "iopub.execute_input": "2023-10-25T14:10:44.106300Z",
     "iopub.status.busy": "2023-10-25T14:10:44.105719Z",
     "iopub.status.idle": "2023-10-25T14:10:44.124694Z",
     "shell.execute_reply": "2023-10-25T14:10:44.123569Z"
    },
    "papermill": {
     "duration": 0.094374,
     "end_time": "2023-10-25T14:10:44.126877",
     "exception": false,
     "start_time": "2023-10-25T14:10:44.032503",
     "status": "completed"
    },
    "tags": []
   },
   "outputs": [
    {
     "data": {
      "text/html": [
       "<div>\n",
       "<style scoped>\n",
       "    .dataframe tbody tr th:only-of-type {\n",
       "        vertical-align: middle;\n",
       "    }\n",
       "\n",
       "    .dataframe tbody tr th {\n",
       "        vertical-align: top;\n",
       "    }\n",
       "\n",
       "    .dataframe thead th {\n",
       "        text-align: right;\n",
       "    }\n",
       "</style>\n",
       "<table border=\"1\" class=\"dataframe\">\n",
       "  <thead>\n",
       "    <tr style=\"text-align: right;\">\n",
       "      <th></th>\n",
       "      <th>Customer ID</th>\n",
       "      <th>Name</th>\n",
       "      <th>Surname</th>\n",
       "      <th>Gender</th>\n",
       "      <th>Birthdate</th>\n",
       "      <th>Transaction Amount</th>\n",
       "      <th>Date</th>\n",
       "      <th>Merchant Name</th>\n",
       "      <th>Category</th>\n",
       "    </tr>\n",
       "  </thead>\n",
       "  <tbody>\n",
       "    <tr>\n",
       "      <th>0</th>\n",
       "      <td>752858</td>\n",
       "      <td>Sean</td>\n",
       "      <td>Rodriguez</td>\n",
       "      <td>F</td>\n",
       "      <td>2002-10-20</td>\n",
       "      <td>35.47</td>\n",
       "      <td>2023-04-03</td>\n",
       "      <td>Smith-Russell</td>\n",
       "      <td>Cosmetic</td>\n",
       "    </tr>\n",
       "    <tr>\n",
       "      <th>2</th>\n",
       "      <td>305449</td>\n",
       "      <td>Jacob</td>\n",
       "      <td>Williams</td>\n",
       "      <td>M</td>\n",
       "      <td>1981-10-25</td>\n",
       "      <td>115.97</td>\n",
       "      <td>2023-09-20</td>\n",
       "      <td>Steele Inc</td>\n",
       "      <td>Clothing</td>\n",
       "    </tr>\n",
       "    <tr>\n",
       "      <th>3</th>\n",
       "      <td>988259</td>\n",
       "      <td>Nathan</td>\n",
       "      <td>Snyder</td>\n",
       "      <td>M</td>\n",
       "      <td>1977-10-26</td>\n",
       "      <td>11.31</td>\n",
       "      <td>2023-01-11</td>\n",
       "      <td>Wilson, Wilson and Russell</td>\n",
       "      <td>Cosmetic</td>\n",
       "    </tr>\n",
       "    <tr>\n",
       "      <th>4</th>\n",
       "      <td>764762</td>\n",
       "      <td>Crystal</td>\n",
       "      <td>Knapp</td>\n",
       "      <td>F</td>\n",
       "      <td>1951-11-02</td>\n",
       "      <td>62.21</td>\n",
       "      <td>2023-06-13</td>\n",
       "      <td>Palmer-Hinton</td>\n",
       "      <td>Electronics</td>\n",
       "    </tr>\n",
       "    <tr>\n",
       "      <th>5</th>\n",
       "      <td>576539</td>\n",
       "      <td>Monica</td>\n",
       "      <td>Bartlett</td>\n",
       "      <td>F</td>\n",
       "      <td>2001-10-20</td>\n",
       "      <td>99.14</td>\n",
       "      <td>2023-08-24</td>\n",
       "      <td>Tran, Torres and Joyce</td>\n",
       "      <td>Cosmetic</td>\n",
       "    </tr>\n",
       "    <tr>\n",
       "      <th>...</th>\n",
       "      <td>...</td>\n",
       "      <td>...</td>\n",
       "      <td>...</td>\n",
       "      <td>...</td>\n",
       "      <td>...</td>\n",
       "      <td>...</td>\n",
       "      <td>...</td>\n",
       "      <td>...</td>\n",
       "      <td>...</td>\n",
       "    </tr>\n",
       "    <tr>\n",
       "      <th>94</th>\n",
       "      <td>155186</td>\n",
       "      <td>Lawrence</td>\n",
       "      <td>Williams</td>\n",
       "      <td>F</td>\n",
       "      <td>2005-10-19</td>\n",
       "      <td>21.79</td>\n",
       "      <td>2023-08-29</td>\n",
       "      <td>Cook-Moore</td>\n",
       "      <td>Restaurant</td>\n",
       "    </tr>\n",
       "    <tr>\n",
       "      <th>95</th>\n",
       "      <td>838514</td>\n",
       "      <td>Andrew</td>\n",
       "      <td>Armstrong</td>\n",
       "      <td>M</td>\n",
       "      <td>2004-10-19</td>\n",
       "      <td>231.35</td>\n",
       "      <td>2023-03-02</td>\n",
       "      <td>Miller Inc</td>\n",
       "      <td>Clothing</td>\n",
       "    </tr>\n",
       "    <tr>\n",
       "      <th>96</th>\n",
       "      <td>981118</td>\n",
       "      <td>Anthony</td>\n",
       "      <td>Arnold</td>\n",
       "      <td>M</td>\n",
       "      <td>1971-10-28</td>\n",
       "      <td>2362.42</td>\n",
       "      <td>2023-06-28</td>\n",
       "      <td>Thomas, Simpson and Tyler</td>\n",
       "      <td>Travel</td>\n",
       "    </tr>\n",
       "    <tr>\n",
       "      <th>97</th>\n",
       "      <td>658610</td>\n",
       "      <td>Nicole</td>\n",
       "      <td>Peterson</td>\n",
       "      <td>M</td>\n",
       "      <td>1965-10-29</td>\n",
       "      <td>395.33</td>\n",
       "      <td>2023-03-20</td>\n",
       "      <td>Bryant, Mcbride and White</td>\n",
       "      <td>Market</td>\n",
       "    </tr>\n",
       "    <tr>\n",
       "      <th>99</th>\n",
       "      <td>707412</td>\n",
       "      <td>Derek</td>\n",
       "      <td>Thompson</td>\n",
       "      <td>F</td>\n",
       "      <td>1985-10-24</td>\n",
       "      <td>94.93</td>\n",
       "      <td>2023-08-27</td>\n",
       "      <td>Fuller, Bowen and Davis</td>\n",
       "      <td>Restaurant</td>\n",
       "    </tr>\n",
       "  </tbody>\n",
       "</table>\n",
       "<p>84 rows × 9 columns</p>\n",
       "</div>"
      ],
      "text/plain": [
       "    Customer ID      Name    Surname Gender   Birthdate  Transaction Amount  \\\n",
       "0        752858      Sean  Rodriguez      F  2002-10-20               35.47   \n",
       "2        305449     Jacob   Williams      M  1981-10-25              115.97   \n",
       "3        988259    Nathan     Snyder      M  1977-10-26               11.31   \n",
       "4        764762   Crystal      Knapp      F  1951-11-02               62.21   \n",
       "5        576539    Monica   Bartlett      F  2001-10-20               99.14   \n",
       "..          ...       ...        ...    ...         ...                 ...   \n",
       "94       155186  Lawrence   Williams      F  2005-10-19               21.79   \n",
       "95       838514    Andrew  Armstrong      M  2004-10-19              231.35   \n",
       "96       981118   Anthony     Arnold      M  1971-10-28             2362.42   \n",
       "97       658610    Nicole   Peterson      M  1965-10-29              395.33   \n",
       "99       707412     Derek   Thompson      F  1985-10-24               94.93   \n",
       "\n",
       "          Date               Merchant Name     Category  \n",
       "0   2023-04-03               Smith-Russell     Cosmetic  \n",
       "2   2023-09-20                  Steele Inc     Clothing  \n",
       "3   2023-01-11  Wilson, Wilson and Russell     Cosmetic  \n",
       "4   2023-06-13               Palmer-Hinton  Electronics  \n",
       "5   2023-08-24      Tran, Torres and Joyce     Cosmetic  \n",
       "..         ...                         ...          ...  \n",
       "94  2023-08-29                  Cook-Moore   Restaurant  \n",
       "95  2023-03-02                  Miller Inc     Clothing  \n",
       "96  2023-06-28   Thomas, Simpson and Tyler       Travel  \n",
       "97  2023-03-20   Bryant, Mcbride and White       Market  \n",
       "99  2023-08-27     Fuller, Bowen and Davis   Restaurant  \n",
       "\n",
       "[84 rows x 9 columns]"
      ]
     },
     "execution_count": 55,
     "metadata": {},
     "output_type": "execute_result"
    }
   ],
   "source": [
    "# discard all none/null rows\n",
    "df[df.notna().all(axis=1)]"
   ]
  },
  {
   "cell_type": "code",
   "execution_count": 56,
   "id": "86586410",
   "metadata": {
    "execution": {
     "iopub.execute_input": "2023-10-25T14:10:44.277003Z",
     "iopub.status.busy": "2023-10-25T14:10:44.276294Z",
     "iopub.status.idle": "2023-10-25T14:10:44.284742Z",
     "shell.execute_reply": "2023-10-25T14:10:44.283766Z"
    },
    "papermill": {
     "duration": 0.086381,
     "end_time": "2023-10-25T14:10:44.286847",
     "exception": false,
     "start_time": "2023-10-25T14:10:44.200466",
     "status": "completed"
    },
    "tags": []
   },
   "outputs": [
    {
     "data": {
      "text/plain": [
       "Data provided by SimFin    100\n",
       "Unnamed: 1                   6\n",
       "Unnamed: 2                  21\n",
       "Unnamed: 3                  21\n",
       "Unnamed: 4                  21\n",
       "Unnamed: 5                  21\n",
       "Unnamed: 6                  21\n",
       "Unnamed: 7                  21\n",
       "Unnamed: 8                  13\n",
       "Unnamed: 9                  11\n",
       "Unnamed: 10                 10\n",
       "Unnamed: 11                 10\n",
       "dtype: int64"
      ]
     },
     "execution_count": 56,
     "metadata": {},
     "output_type": "execute_result"
    }
   ],
   "source": [
    "excel_df.isnull().sum()"
   ]
  },
  {
   "cell_type": "code",
   "execution_count": 57,
   "id": "fa397045",
   "metadata": {
    "execution": {
     "iopub.execute_input": "2023-10-25T14:10:44.434544Z",
     "iopub.status.busy": "2023-10-25T14:10:44.433577Z",
     "iopub.status.idle": "2023-10-25T14:10:44.454382Z",
     "shell.execute_reply": "2023-10-25T14:10:44.453364Z"
    },
    "papermill": {
     "duration": 0.0972,
     "end_time": "2023-10-25T14:10:44.456955",
     "exception": false,
     "start_time": "2023-10-25T14:10:44.359755",
     "status": "completed"
    },
    "tags": []
   },
   "outputs": [
    {
     "data": {
      "text/html": [
       "<div>\n",
       "<style scoped>\n",
       "    .dataframe tbody tr th:only-of-type {\n",
       "        vertical-align: middle;\n",
       "    }\n",
       "\n",
       "    .dataframe tbody tr th {\n",
       "        vertical-align: top;\n",
       "    }\n",
       "\n",
       "    .dataframe thead th {\n",
       "        text-align: right;\n",
       "    }\n",
       "</style>\n",
       "<table border=\"1\" class=\"dataframe\">\n",
       "  <thead>\n",
       "    <tr style=\"text-align: right;\">\n",
       "      <th></th>\n",
       "      <th>Customer ID</th>\n",
       "      <th>Name</th>\n",
       "      <th>Surname</th>\n",
       "      <th>Gender</th>\n",
       "      <th>Birthdate</th>\n",
       "      <th>Transaction Amount</th>\n",
       "      <th>Date</th>\n",
       "      <th>Merchant Name</th>\n",
       "      <th>Category</th>\n",
       "    </tr>\n",
       "  </thead>\n",
       "  <tbody>\n",
       "    <tr>\n",
       "      <th>1</th>\n",
       "      <td>26381</td>\n",
       "      <td>Michelle</td>\n",
       "      <td>Phelps</td>\n",
       "      <td>None</td>\n",
       "      <td>1985-10-24</td>\n",
       "      <td>2552.72</td>\n",
       "      <td>2023-07-17</td>\n",
       "      <td>Peck, Spence and Young</td>\n",
       "      <td>Travel</td>\n",
       "    </tr>\n",
       "    <tr>\n",
       "      <th>6</th>\n",
       "      <td>124681</td>\n",
       "      <td>Thomas</td>\n",
       "      <td>Shaw</td>\n",
       "      <td>None</td>\n",
       "      <td>1976-10-26</td>\n",
       "      <td>145.94</td>\n",
       "      <td>2023-08-30</td>\n",
       "      <td>Evans, Griffin and Torres</td>\n",
       "      <td>Cosmetic</td>\n",
       "    </tr>\n",
       "    <tr>\n",
       "      <th>17</th>\n",
       "      <td>793150</td>\n",
       "      <td>Chad</td>\n",
       "      <td>Reese</td>\n",
       "      <td>None</td>\n",
       "      <td>1962-10-30</td>\n",
       "      <td>475.82</td>\n",
       "      <td>2023-04-22</td>\n",
       "      <td>Hughes Inc</td>\n",
       "      <td>Market</td>\n",
       "    </tr>\n",
       "    <tr>\n",
       "      <th>21</th>\n",
       "      <td>943548</td>\n",
       "      <td>Daniel</td>\n",
       "      <td>Pitts</td>\n",
       "      <td>None</td>\n",
       "      <td>1995-10-22</td>\n",
       "      <td>39.87</td>\n",
       "      <td>2023-06-01</td>\n",
       "      <td>Shaw-Elliott</td>\n",
       "      <td>Clothing</td>\n",
       "    </tr>\n",
       "    <tr>\n",
       "      <th>24</th>\n",
       "      <td>111696</td>\n",
       "      <td>Anthony</td>\n",
       "      <td>Miller</td>\n",
       "      <td>None</td>\n",
       "      <td>1991-10-23</td>\n",
       "      <td>108.30</td>\n",
       "      <td>2023-06-14</td>\n",
       "      <td>Nguyen, Patel and Dudley</td>\n",
       "      <td>Cosmetic</td>\n",
       "    </tr>\n",
       "    <tr>\n",
       "      <th>29</th>\n",
       "      <td>726547</td>\n",
       "      <td>Adam</td>\n",
       "      <td>Hansen</td>\n",
       "      <td>None</td>\n",
       "      <td>1966-10-29</td>\n",
       "      <td>94.69</td>\n",
       "      <td>2023-09-13</td>\n",
       "      <td>Johnson-Campbell</td>\n",
       "      <td>Cosmetic</td>\n",
       "    </tr>\n",
       "    <tr>\n",
       "      <th>42</th>\n",
       "      <td>599093</td>\n",
       "      <td>Thomas</td>\n",
       "      <td>Salas</td>\n",
       "      <td>None</td>\n",
       "      <td>1956-10-31</td>\n",
       "      <td>57.83</td>\n",
       "      <td>2023-08-06</td>\n",
       "      <td>Jimenez Inc</td>\n",
       "      <td>Electronics</td>\n",
       "    </tr>\n",
       "    <tr>\n",
       "      <th>44</th>\n",
       "      <td>261654</td>\n",
       "      <td>Kevin</td>\n",
       "      <td>Harris</td>\n",
       "      <td>None</td>\n",
       "      <td>1977-10-26</td>\n",
       "      <td>147.43</td>\n",
       "      <td>2023-06-11</td>\n",
       "      <td>Thomas LLC</td>\n",
       "      <td>Cosmetic</td>\n",
       "    </tr>\n",
       "    <tr>\n",
       "      <th>50</th>\n",
       "      <td>801291</td>\n",
       "      <td>Sydney</td>\n",
       "      <td>Spencer</td>\n",
       "      <td>None</td>\n",
       "      <td>1980-10-25</td>\n",
       "      <td>1374.86</td>\n",
       "      <td>2023-03-19</td>\n",
       "      <td>Johnson LLC</td>\n",
       "      <td>Travel</td>\n",
       "    </tr>\n",
       "    <tr>\n",
       "      <th>62</th>\n",
       "      <td>982485</td>\n",
       "      <td>Leslie</td>\n",
       "      <td>Campbell</td>\n",
       "      <td>None</td>\n",
       "      <td>1982-10-25</td>\n",
       "      <td>139.20</td>\n",
       "      <td>2023-08-04</td>\n",
       "      <td>White, Hensley and Hayes</td>\n",
       "      <td>Market</td>\n",
       "    </tr>\n",
       "    <tr>\n",
       "      <th>64</th>\n",
       "      <td>738539</td>\n",
       "      <td>Mary</td>\n",
       "      <td>Pittman</td>\n",
       "      <td>None</td>\n",
       "      <td>2005-10-19</td>\n",
       "      <td>52.71</td>\n",
       "      <td>2023-09-26</td>\n",
       "      <td>Butler, Stewart and Peterson</td>\n",
       "      <td>Clothing</td>\n",
       "    </tr>\n",
       "    <tr>\n",
       "      <th>74</th>\n",
       "      <td>697024</td>\n",
       "      <td>Michael</td>\n",
       "      <td>Hines</td>\n",
       "      <td>None</td>\n",
       "      <td>1961-10-30</td>\n",
       "      <td>76.60</td>\n",
       "      <td>2023-08-04</td>\n",
       "      <td>Oconnor PLC</td>\n",
       "      <td>Cosmetic</td>\n",
       "    </tr>\n",
       "    <tr>\n",
       "      <th>79</th>\n",
       "      <td>403963</td>\n",
       "      <td>Jamie</td>\n",
       "      <td>Collier</td>\n",
       "      <td>None</td>\n",
       "      <td>1970-10-28</td>\n",
       "      <td>311.04</td>\n",
       "      <td>2023-05-30</td>\n",
       "      <td>Matthews PLC</td>\n",
       "      <td>Market</td>\n",
       "    </tr>\n",
       "    <tr>\n",
       "      <th>85</th>\n",
       "      <td>800246</td>\n",
       "      <td>Margaret</td>\n",
       "      <td>Carter</td>\n",
       "      <td>None</td>\n",
       "      <td>1996-10-21</td>\n",
       "      <td>96.41</td>\n",
       "      <td>2023-03-21</td>\n",
       "      <td>Miller, Foster and Reed</td>\n",
       "      <td>Cosmetic</td>\n",
       "    </tr>\n",
       "    <tr>\n",
       "      <th>87</th>\n",
       "      <td>420838</td>\n",
       "      <td>Aaron</td>\n",
       "      <td>Mckee</td>\n",
       "      <td>None</td>\n",
       "      <td>1975-10-27</td>\n",
       "      <td>231.65</td>\n",
       "      <td>2023-02-21</td>\n",
       "      <td>Arnold-Blackburn</td>\n",
       "      <td>Market</td>\n",
       "    </tr>\n",
       "    <tr>\n",
       "      <th>98</th>\n",
       "      <td>463162</td>\n",
       "      <td>Stephanie</td>\n",
       "      <td>Miller</td>\n",
       "      <td>None</td>\n",
       "      <td>1958-10-31</td>\n",
       "      <td>958.43</td>\n",
       "      <td>2023-04-28</td>\n",
       "      <td>Young and Sons</td>\n",
       "      <td>Electronics</td>\n",
       "    </tr>\n",
       "  </tbody>\n",
       "</table>\n",
       "</div>"
      ],
      "text/plain": [
       "    Customer ID       Name   Surname Gender   Birthdate  Transaction Amount  \\\n",
       "1         26381   Michelle    Phelps   None  1985-10-24             2552.72   \n",
       "6        124681     Thomas      Shaw   None  1976-10-26              145.94   \n",
       "17       793150       Chad     Reese   None  1962-10-30              475.82   \n",
       "21       943548     Daniel     Pitts   None  1995-10-22               39.87   \n",
       "24       111696    Anthony    Miller   None  1991-10-23              108.30   \n",
       "29       726547       Adam    Hansen   None  1966-10-29               94.69   \n",
       "42       599093     Thomas     Salas   None  1956-10-31               57.83   \n",
       "44       261654      Kevin    Harris   None  1977-10-26              147.43   \n",
       "50       801291     Sydney   Spencer   None  1980-10-25             1374.86   \n",
       "62       982485     Leslie  Campbell   None  1982-10-25              139.20   \n",
       "64       738539       Mary   Pittman   None  2005-10-19               52.71   \n",
       "74       697024    Michael     Hines   None  1961-10-30               76.60   \n",
       "79       403963      Jamie   Collier   None  1970-10-28              311.04   \n",
       "85       800246   Margaret    Carter   None  1996-10-21               96.41   \n",
       "87       420838      Aaron     Mckee   None  1975-10-27              231.65   \n",
       "98       463162  Stephanie    Miller   None  1958-10-31              958.43   \n",
       "\n",
       "          Date                 Merchant Name     Category  \n",
       "1   2023-07-17        Peck, Spence and Young       Travel  \n",
       "6   2023-08-30     Evans, Griffin and Torres     Cosmetic  \n",
       "17  2023-04-22                    Hughes Inc       Market  \n",
       "21  2023-06-01                  Shaw-Elliott     Clothing  \n",
       "24  2023-06-14      Nguyen, Patel and Dudley     Cosmetic  \n",
       "29  2023-09-13              Johnson-Campbell     Cosmetic  \n",
       "42  2023-08-06                   Jimenez Inc  Electronics  \n",
       "44  2023-06-11                    Thomas LLC     Cosmetic  \n",
       "50  2023-03-19                   Johnson LLC       Travel  \n",
       "62  2023-08-04      White, Hensley and Hayes       Market  \n",
       "64  2023-09-26  Butler, Stewart and Peterson     Clothing  \n",
       "74  2023-08-04                   Oconnor PLC     Cosmetic  \n",
       "79  2023-05-30                  Matthews PLC       Market  \n",
       "85  2023-03-21       Miller, Foster and Reed     Cosmetic  \n",
       "87  2023-02-21              Arnold-Blackburn       Market  \n",
       "98  2023-04-28                Young and Sons  Electronics  "
      ]
     },
     "execution_count": 57,
     "metadata": {},
     "output_type": "execute_result"
    }
   ],
   "source": [
    "df[df['Gender'].isna()]"
   ]
  },
  {
   "cell_type": "code",
   "execution_count": 58,
   "id": "48ae8deb",
   "metadata": {
    "execution": {
     "iopub.execute_input": "2023-10-25T14:10:44.605267Z",
     "iopub.status.busy": "2023-10-25T14:10:44.604546Z",
     "iopub.status.idle": "2023-10-25T14:10:44.621418Z",
     "shell.execute_reply": "2023-10-25T14:10:44.620362Z"
    },
    "papermill": {
     "duration": 0.092967,
     "end_time": "2023-10-25T14:10:44.623646",
     "exception": false,
     "start_time": "2023-10-25T14:10:44.530679",
     "status": "completed"
    },
    "tags": []
   },
   "outputs": [
    {
     "data": {
      "text/html": [
       "<div>\n",
       "<style scoped>\n",
       "    .dataframe tbody tr th:only-of-type {\n",
       "        vertical-align: middle;\n",
       "    }\n",
       "\n",
       "    .dataframe tbody tr th {\n",
       "        vertical-align: top;\n",
       "    }\n",
       "\n",
       "    .dataframe thead th {\n",
       "        text-align: right;\n",
       "    }\n",
       "</style>\n",
       "<table border=\"1\" class=\"dataframe\">\n",
       "  <thead>\n",
       "    <tr style=\"text-align: right;\">\n",
       "      <th></th>\n",
       "      <th>Customer ID</th>\n",
       "      <th>Name</th>\n",
       "      <th>Surname</th>\n",
       "      <th>Gender</th>\n",
       "      <th>Birthdate</th>\n",
       "      <th>Transaction Amount</th>\n",
       "      <th>Date</th>\n",
       "      <th>Merchant Name</th>\n",
       "      <th>Category</th>\n",
       "    </tr>\n",
       "  </thead>\n",
       "  <tbody>\n",
       "    <tr>\n",
       "      <th>1</th>\n",
       "      <td>26381</td>\n",
       "      <td>Michelle</td>\n",
       "      <td>Phelps</td>\n",
       "      <td>None</td>\n",
       "      <td>1985-10-24</td>\n",
       "      <td>2552.72</td>\n",
       "      <td>2023-07-17</td>\n",
       "      <td>Peck, Spence and Young</td>\n",
       "      <td>Travel</td>\n",
       "    </tr>\n",
       "    <tr>\n",
       "      <th>6</th>\n",
       "      <td>124681</td>\n",
       "      <td>Thomas</td>\n",
       "      <td>Shaw</td>\n",
       "      <td>None</td>\n",
       "      <td>1976-10-26</td>\n",
       "      <td>145.94</td>\n",
       "      <td>2023-08-30</td>\n",
       "      <td>Evans, Griffin and Torres</td>\n",
       "      <td>Cosmetic</td>\n",
       "    </tr>\n",
       "    <tr>\n",
       "      <th>17</th>\n",
       "      <td>793150</td>\n",
       "      <td>Chad</td>\n",
       "      <td>Reese</td>\n",
       "      <td>None</td>\n",
       "      <td>1962-10-30</td>\n",
       "      <td>475.82</td>\n",
       "      <td>2023-04-22</td>\n",
       "      <td>Hughes Inc</td>\n",
       "      <td>Market</td>\n",
       "    </tr>\n",
       "    <tr>\n",
       "      <th>21</th>\n",
       "      <td>943548</td>\n",
       "      <td>Daniel</td>\n",
       "      <td>Pitts</td>\n",
       "      <td>None</td>\n",
       "      <td>1995-10-22</td>\n",
       "      <td>39.87</td>\n",
       "      <td>2023-06-01</td>\n",
       "      <td>Shaw-Elliott</td>\n",
       "      <td>Clothing</td>\n",
       "    </tr>\n",
       "    <tr>\n",
       "      <th>24</th>\n",
       "      <td>111696</td>\n",
       "      <td>Anthony</td>\n",
       "      <td>Miller</td>\n",
       "      <td>None</td>\n",
       "      <td>1991-10-23</td>\n",
       "      <td>108.30</td>\n",
       "      <td>2023-06-14</td>\n",
       "      <td>Nguyen, Patel and Dudley</td>\n",
       "      <td>Cosmetic</td>\n",
       "    </tr>\n",
       "    <tr>\n",
       "      <th>29</th>\n",
       "      <td>726547</td>\n",
       "      <td>Adam</td>\n",
       "      <td>Hansen</td>\n",
       "      <td>None</td>\n",
       "      <td>1966-10-29</td>\n",
       "      <td>94.69</td>\n",
       "      <td>2023-09-13</td>\n",
       "      <td>Johnson-Campbell</td>\n",
       "      <td>Cosmetic</td>\n",
       "    </tr>\n",
       "    <tr>\n",
       "      <th>42</th>\n",
       "      <td>599093</td>\n",
       "      <td>Thomas</td>\n",
       "      <td>Salas</td>\n",
       "      <td>None</td>\n",
       "      <td>1956-10-31</td>\n",
       "      <td>57.83</td>\n",
       "      <td>2023-08-06</td>\n",
       "      <td>Jimenez Inc</td>\n",
       "      <td>Electronics</td>\n",
       "    </tr>\n",
       "    <tr>\n",
       "      <th>44</th>\n",
       "      <td>261654</td>\n",
       "      <td>Kevin</td>\n",
       "      <td>Harris</td>\n",
       "      <td>None</td>\n",
       "      <td>1977-10-26</td>\n",
       "      <td>147.43</td>\n",
       "      <td>2023-06-11</td>\n",
       "      <td>Thomas LLC</td>\n",
       "      <td>Cosmetic</td>\n",
       "    </tr>\n",
       "    <tr>\n",
       "      <th>50</th>\n",
       "      <td>801291</td>\n",
       "      <td>Sydney</td>\n",
       "      <td>Spencer</td>\n",
       "      <td>None</td>\n",
       "      <td>1980-10-25</td>\n",
       "      <td>1374.86</td>\n",
       "      <td>2023-03-19</td>\n",
       "      <td>Johnson LLC</td>\n",
       "      <td>Travel</td>\n",
       "    </tr>\n",
       "    <tr>\n",
       "      <th>62</th>\n",
       "      <td>982485</td>\n",
       "      <td>Leslie</td>\n",
       "      <td>Campbell</td>\n",
       "      <td>None</td>\n",
       "      <td>1982-10-25</td>\n",
       "      <td>139.20</td>\n",
       "      <td>2023-08-04</td>\n",
       "      <td>White, Hensley and Hayes</td>\n",
       "      <td>Market</td>\n",
       "    </tr>\n",
       "    <tr>\n",
       "      <th>64</th>\n",
       "      <td>738539</td>\n",
       "      <td>Mary</td>\n",
       "      <td>Pittman</td>\n",
       "      <td>None</td>\n",
       "      <td>2005-10-19</td>\n",
       "      <td>52.71</td>\n",
       "      <td>2023-09-26</td>\n",
       "      <td>Butler, Stewart and Peterson</td>\n",
       "      <td>Clothing</td>\n",
       "    </tr>\n",
       "    <tr>\n",
       "      <th>74</th>\n",
       "      <td>697024</td>\n",
       "      <td>Michael</td>\n",
       "      <td>Hines</td>\n",
       "      <td>None</td>\n",
       "      <td>1961-10-30</td>\n",
       "      <td>76.60</td>\n",
       "      <td>2023-08-04</td>\n",
       "      <td>Oconnor PLC</td>\n",
       "      <td>Cosmetic</td>\n",
       "    </tr>\n",
       "    <tr>\n",
       "      <th>79</th>\n",
       "      <td>403963</td>\n",
       "      <td>Jamie</td>\n",
       "      <td>Collier</td>\n",
       "      <td>None</td>\n",
       "      <td>1970-10-28</td>\n",
       "      <td>311.04</td>\n",
       "      <td>2023-05-30</td>\n",
       "      <td>Matthews PLC</td>\n",
       "      <td>Market</td>\n",
       "    </tr>\n",
       "    <tr>\n",
       "      <th>85</th>\n",
       "      <td>800246</td>\n",
       "      <td>Margaret</td>\n",
       "      <td>Carter</td>\n",
       "      <td>None</td>\n",
       "      <td>1996-10-21</td>\n",
       "      <td>96.41</td>\n",
       "      <td>2023-03-21</td>\n",
       "      <td>Miller, Foster and Reed</td>\n",
       "      <td>Cosmetic</td>\n",
       "    </tr>\n",
       "    <tr>\n",
       "      <th>87</th>\n",
       "      <td>420838</td>\n",
       "      <td>Aaron</td>\n",
       "      <td>Mckee</td>\n",
       "      <td>None</td>\n",
       "      <td>1975-10-27</td>\n",
       "      <td>231.65</td>\n",
       "      <td>2023-02-21</td>\n",
       "      <td>Arnold-Blackburn</td>\n",
       "      <td>Market</td>\n",
       "    </tr>\n",
       "    <tr>\n",
       "      <th>98</th>\n",
       "      <td>463162</td>\n",
       "      <td>Stephanie</td>\n",
       "      <td>Miller</td>\n",
       "      <td>None</td>\n",
       "      <td>1958-10-31</td>\n",
       "      <td>958.43</td>\n",
       "      <td>2023-04-28</td>\n",
       "      <td>Young and Sons</td>\n",
       "      <td>Electronics</td>\n",
       "    </tr>\n",
       "  </tbody>\n",
       "</table>\n",
       "</div>"
      ],
      "text/plain": [
       "    Customer ID       Name   Surname Gender   Birthdate  Transaction Amount  \\\n",
       "1         26381   Michelle    Phelps   None  1985-10-24             2552.72   \n",
       "6        124681     Thomas      Shaw   None  1976-10-26              145.94   \n",
       "17       793150       Chad     Reese   None  1962-10-30              475.82   \n",
       "21       943548     Daniel     Pitts   None  1995-10-22               39.87   \n",
       "24       111696    Anthony    Miller   None  1991-10-23              108.30   \n",
       "29       726547       Adam    Hansen   None  1966-10-29               94.69   \n",
       "42       599093     Thomas     Salas   None  1956-10-31               57.83   \n",
       "44       261654      Kevin    Harris   None  1977-10-26              147.43   \n",
       "50       801291     Sydney   Spencer   None  1980-10-25             1374.86   \n",
       "62       982485     Leslie  Campbell   None  1982-10-25              139.20   \n",
       "64       738539       Mary   Pittman   None  2005-10-19               52.71   \n",
       "74       697024    Michael     Hines   None  1961-10-30               76.60   \n",
       "79       403963      Jamie   Collier   None  1970-10-28              311.04   \n",
       "85       800246   Margaret    Carter   None  1996-10-21               96.41   \n",
       "87       420838      Aaron     Mckee   None  1975-10-27              231.65   \n",
       "98       463162  Stephanie    Miller   None  1958-10-31              958.43   \n",
       "\n",
       "          Date                 Merchant Name     Category  \n",
       "1   2023-07-17        Peck, Spence and Young       Travel  \n",
       "6   2023-08-30     Evans, Griffin and Torres     Cosmetic  \n",
       "17  2023-04-22                    Hughes Inc       Market  \n",
       "21  2023-06-01                  Shaw-Elliott     Clothing  \n",
       "24  2023-06-14      Nguyen, Patel and Dudley     Cosmetic  \n",
       "29  2023-09-13              Johnson-Campbell     Cosmetic  \n",
       "42  2023-08-06                   Jimenez Inc  Electronics  \n",
       "44  2023-06-11                    Thomas LLC     Cosmetic  \n",
       "50  2023-03-19                   Johnson LLC       Travel  \n",
       "62  2023-08-04      White, Hensley and Hayes       Market  \n",
       "64  2023-09-26  Butler, Stewart and Peterson     Clothing  \n",
       "74  2023-08-04                   Oconnor PLC     Cosmetic  \n",
       "79  2023-05-30                  Matthews PLC       Market  \n",
       "85  2023-03-21       Miller, Foster and Reed     Cosmetic  \n",
       "87  2023-02-21              Arnold-Blackburn       Market  \n",
       "98  2023-04-28                Young and Sons  Electronics  "
      ]
     },
     "execution_count": 58,
     "metadata": {},
     "output_type": "execute_result"
    }
   ],
   "source": [
    "# extract all records of none value in gender\n",
    "df[df['Gender'].isnull()]"
   ]
  },
  {
   "cell_type": "code",
   "execution_count": 59,
   "id": "f0bc42c9",
   "metadata": {
    "execution": {
     "iopub.execute_input": "2023-10-25T14:10:44.835076Z",
     "iopub.status.busy": "2023-10-25T14:10:44.834723Z",
     "iopub.status.idle": "2023-10-25T14:10:44.853432Z",
     "shell.execute_reply": "2023-10-25T14:10:44.852338Z"
    },
    "papermill": {
     "duration": 0.158227,
     "end_time": "2023-10-25T14:10:44.855577",
     "exception": false,
     "start_time": "2023-10-25T14:10:44.697350",
     "status": "completed"
    },
    "tags": []
   },
   "outputs": [
    {
     "data": {
      "text/html": [
       "<div>\n",
       "<style scoped>\n",
       "    .dataframe tbody tr th:only-of-type {\n",
       "        vertical-align: middle;\n",
       "    }\n",
       "\n",
       "    .dataframe tbody tr th {\n",
       "        vertical-align: top;\n",
       "    }\n",
       "\n",
       "    .dataframe thead th {\n",
       "        text-align: right;\n",
       "    }\n",
       "</style>\n",
       "<table border=\"1\" class=\"dataframe\">\n",
       "  <thead>\n",
       "    <tr style=\"text-align: right;\">\n",
       "      <th></th>\n",
       "      <th>Customer ID</th>\n",
       "      <th>Name</th>\n",
       "      <th>Surname</th>\n",
       "      <th>Gender</th>\n",
       "      <th>Birthdate</th>\n",
       "      <th>Transaction Amount</th>\n",
       "      <th>Date</th>\n",
       "      <th>Merchant Name</th>\n",
       "      <th>Category</th>\n",
       "    </tr>\n",
       "  </thead>\n",
       "  <tbody>\n",
       "    <tr>\n",
       "      <th>0</th>\n",
       "      <td>752858</td>\n",
       "      <td>Sean</td>\n",
       "      <td>Rodriguez</td>\n",
       "      <td>F</td>\n",
       "      <td>2002-10-20</td>\n",
       "      <td>35.47</td>\n",
       "      <td>2023-04-03</td>\n",
       "      <td>Smith-Russell</td>\n",
       "      <td>Cosmetic</td>\n",
       "    </tr>\n",
       "    <tr>\n",
       "      <th>2</th>\n",
       "      <td>305449</td>\n",
       "      <td>Jacob</td>\n",
       "      <td>Williams</td>\n",
       "      <td>M</td>\n",
       "      <td>1981-10-25</td>\n",
       "      <td>115.97</td>\n",
       "      <td>2023-09-20</td>\n",
       "      <td>Steele Inc</td>\n",
       "      <td>Clothing</td>\n",
       "    </tr>\n",
       "    <tr>\n",
       "      <th>3</th>\n",
       "      <td>988259</td>\n",
       "      <td>Nathan</td>\n",
       "      <td>Snyder</td>\n",
       "      <td>M</td>\n",
       "      <td>1977-10-26</td>\n",
       "      <td>11.31</td>\n",
       "      <td>2023-01-11</td>\n",
       "      <td>Wilson, Wilson and Russell</td>\n",
       "      <td>Cosmetic</td>\n",
       "    </tr>\n",
       "    <tr>\n",
       "      <th>4</th>\n",
       "      <td>764762</td>\n",
       "      <td>Crystal</td>\n",
       "      <td>Knapp</td>\n",
       "      <td>F</td>\n",
       "      <td>1951-11-02</td>\n",
       "      <td>62.21</td>\n",
       "      <td>2023-06-13</td>\n",
       "      <td>Palmer-Hinton</td>\n",
       "      <td>Electronics</td>\n",
       "    </tr>\n",
       "    <tr>\n",
       "      <th>5</th>\n",
       "      <td>576539</td>\n",
       "      <td>Monica</td>\n",
       "      <td>Bartlett</td>\n",
       "      <td>F</td>\n",
       "      <td>2001-10-20</td>\n",
       "      <td>99.14</td>\n",
       "      <td>2023-08-24</td>\n",
       "      <td>Tran, Torres and Joyce</td>\n",
       "      <td>Cosmetic</td>\n",
       "    </tr>\n",
       "    <tr>\n",
       "      <th>...</th>\n",
       "      <td>...</td>\n",
       "      <td>...</td>\n",
       "      <td>...</td>\n",
       "      <td>...</td>\n",
       "      <td>...</td>\n",
       "      <td>...</td>\n",
       "      <td>...</td>\n",
       "      <td>...</td>\n",
       "      <td>...</td>\n",
       "    </tr>\n",
       "    <tr>\n",
       "      <th>94</th>\n",
       "      <td>155186</td>\n",
       "      <td>Lawrence</td>\n",
       "      <td>Williams</td>\n",
       "      <td>F</td>\n",
       "      <td>2005-10-19</td>\n",
       "      <td>21.79</td>\n",
       "      <td>2023-08-29</td>\n",
       "      <td>Cook-Moore</td>\n",
       "      <td>Restaurant</td>\n",
       "    </tr>\n",
       "    <tr>\n",
       "      <th>95</th>\n",
       "      <td>838514</td>\n",
       "      <td>Andrew</td>\n",
       "      <td>Armstrong</td>\n",
       "      <td>M</td>\n",
       "      <td>2004-10-19</td>\n",
       "      <td>231.35</td>\n",
       "      <td>2023-03-02</td>\n",
       "      <td>Miller Inc</td>\n",
       "      <td>Clothing</td>\n",
       "    </tr>\n",
       "    <tr>\n",
       "      <th>96</th>\n",
       "      <td>981118</td>\n",
       "      <td>Anthony</td>\n",
       "      <td>Arnold</td>\n",
       "      <td>M</td>\n",
       "      <td>1971-10-28</td>\n",
       "      <td>2362.42</td>\n",
       "      <td>2023-06-28</td>\n",
       "      <td>Thomas, Simpson and Tyler</td>\n",
       "      <td>Travel</td>\n",
       "    </tr>\n",
       "    <tr>\n",
       "      <th>97</th>\n",
       "      <td>658610</td>\n",
       "      <td>Nicole</td>\n",
       "      <td>Peterson</td>\n",
       "      <td>M</td>\n",
       "      <td>1965-10-29</td>\n",
       "      <td>395.33</td>\n",
       "      <td>2023-03-20</td>\n",
       "      <td>Bryant, Mcbride and White</td>\n",
       "      <td>Market</td>\n",
       "    </tr>\n",
       "    <tr>\n",
       "      <th>99</th>\n",
       "      <td>707412</td>\n",
       "      <td>Derek</td>\n",
       "      <td>Thompson</td>\n",
       "      <td>F</td>\n",
       "      <td>1985-10-24</td>\n",
       "      <td>94.93</td>\n",
       "      <td>2023-08-27</td>\n",
       "      <td>Fuller, Bowen and Davis</td>\n",
       "      <td>Restaurant</td>\n",
       "    </tr>\n",
       "  </tbody>\n",
       "</table>\n",
       "<p>84 rows × 9 columns</p>\n",
       "</div>"
      ],
      "text/plain": [
       "    Customer ID      Name    Surname Gender   Birthdate  Transaction Amount  \\\n",
       "0        752858      Sean  Rodriguez      F  2002-10-20               35.47   \n",
       "2        305449     Jacob   Williams      M  1981-10-25              115.97   \n",
       "3        988259    Nathan     Snyder      M  1977-10-26               11.31   \n",
       "4        764762   Crystal      Knapp      F  1951-11-02               62.21   \n",
       "5        576539    Monica   Bartlett      F  2001-10-20               99.14   \n",
       "..          ...       ...        ...    ...         ...                 ...   \n",
       "94       155186  Lawrence   Williams      F  2005-10-19               21.79   \n",
       "95       838514    Andrew  Armstrong      M  2004-10-19              231.35   \n",
       "96       981118   Anthony     Arnold      M  1971-10-28             2362.42   \n",
       "97       658610    Nicole   Peterson      M  1965-10-29              395.33   \n",
       "99       707412     Derek   Thompson      F  1985-10-24               94.93   \n",
       "\n",
       "          Date               Merchant Name     Category  \n",
       "0   2023-04-03               Smith-Russell     Cosmetic  \n",
       "2   2023-09-20                  Steele Inc     Clothing  \n",
       "3   2023-01-11  Wilson, Wilson and Russell     Cosmetic  \n",
       "4   2023-06-13               Palmer-Hinton  Electronics  \n",
       "5   2023-08-24      Tran, Torres and Joyce     Cosmetic  \n",
       "..         ...                         ...          ...  \n",
       "94  2023-08-29                  Cook-Moore   Restaurant  \n",
       "95  2023-03-02                  Miller Inc     Clothing  \n",
       "96  2023-06-28   Thomas, Simpson and Tyler       Travel  \n",
       "97  2023-03-20   Bryant, Mcbride and White       Market  \n",
       "99  2023-08-27     Fuller, Bowen and Davis   Restaurant  \n",
       "\n",
       "[84 rows x 9 columns]"
      ]
     },
     "execution_count": 59,
     "metadata": {},
     "output_type": "execute_result"
    }
   ],
   "source": [
    "# extract df where no null values in gender columns, other columns might have null values\n",
    "df[df['Gender'].notna()]"
   ]
  },
  {
   "cell_type": "code",
   "execution_count": 60,
   "id": "aba767de",
   "metadata": {
    "execution": {
     "iopub.execute_input": "2023-10-25T14:10:45.007754Z",
     "iopub.status.busy": "2023-10-25T14:10:45.006738Z",
     "iopub.status.idle": "2023-10-25T14:10:45.011689Z",
     "shell.execute_reply": "2023-10-25T14:10:45.010814Z"
    },
    "papermill": {
     "duration": 0.083824,
     "end_time": "2023-10-25T14:10:45.013620",
     "exception": false,
     "start_time": "2023-10-25T14:10:44.929796",
     "status": "completed"
    },
    "tags": []
   },
   "outputs": [],
   "source": [
    "df = excel_df"
   ]
  },
  {
   "cell_type": "code",
   "execution_count": 61,
   "id": "529e344d",
   "metadata": {
    "execution": {
     "iopub.execute_input": "2023-10-25T14:10:45.162650Z",
     "iopub.status.busy": "2023-10-25T14:10:45.161538Z",
     "iopub.status.idle": "2023-10-25T14:10:45.177192Z",
     "shell.execute_reply": "2023-10-25T14:10:45.176149Z"
    },
    "papermill": {
     "duration": 0.092616,
     "end_time": "2023-10-25T14:10:45.179484",
     "exception": false,
     "start_time": "2023-10-25T14:10:45.086868",
     "status": "completed"
    },
    "tags": []
   },
   "outputs": [
    {
     "data": {
      "text/html": [
       "<div>\n",
       "<style scoped>\n",
       "    .dataframe tbody tr th:only-of-type {\n",
       "        vertical-align: middle;\n",
       "    }\n",
       "\n",
       "    .dataframe tbody tr th {\n",
       "        vertical-align: top;\n",
       "    }\n",
       "\n",
       "    .dataframe thead th {\n",
       "        text-align: right;\n",
       "    }\n",
       "</style>\n",
       "<table border=\"1\" class=\"dataframe\">\n",
       "  <thead>\n",
       "    <tr style=\"text-align: right;\">\n",
       "      <th></th>\n",
       "      <th>Data provided by SimFin</th>\n",
       "      <th>Unnamed: 1</th>\n",
       "      <th>Unnamed: 2</th>\n",
       "      <th>Unnamed: 3</th>\n",
       "      <th>Unnamed: 4</th>\n",
       "      <th>Unnamed: 5</th>\n",
       "      <th>Unnamed: 6</th>\n",
       "      <th>Unnamed: 7</th>\n",
       "      <th>Unnamed: 8</th>\n",
       "      <th>Unnamed: 9</th>\n",
       "      <th>Unnamed: 10</th>\n",
       "      <th>Unnamed: 11</th>\n",
       "    </tr>\n",
       "  </thead>\n",
       "  <tbody>\n",
       "    <tr>\n",
       "      <th>0</th>\n",
       "      <td>NaN</td>\n",
       "      <td>NaN</td>\n",
       "      <td>NaN</td>\n",
       "      <td>NaN</td>\n",
       "      <td>NaN</td>\n",
       "      <td>NaN</td>\n",
       "      <td>NaN</td>\n",
       "      <td>NaN</td>\n",
       "      <td>NaN</td>\n",
       "      <td>NaN</td>\n",
       "      <td>NaN</td>\n",
       "      <td>NaN</td>\n",
       "    </tr>\n",
       "    <tr>\n",
       "      <th>1</th>\n",
       "      <td>Profit &amp; Loss statement</td>\n",
       "      <td>NaN</td>\n",
       "      <td>NaN</td>\n",
       "      <td>NaN</td>\n",
       "      <td>NaN</td>\n",
       "      <td>NaN</td>\n",
       "      <td>NaN</td>\n",
       "      <td>NaN</td>\n",
       "      <td>NaN</td>\n",
       "      <td>NaN</td>\n",
       "      <td>NaN</td>\n",
       "      <td>NaN</td>\n",
       "    </tr>\n",
       "    <tr>\n",
       "      <th>2</th>\n",
       "      <td>NaN</td>\n",
       "      <td>in million USD</td>\n",
       "      <td>FY '09</td>\n",
       "      <td>FY '10</td>\n",
       "      <td>FY '11</td>\n",
       "      <td>FY '12</td>\n",
       "      <td>FY '13</td>\n",
       "      <td>FY '14</td>\n",
       "      <td>FY '15</td>\n",
       "      <td>FY '16</td>\n",
       "      <td>FY '17</td>\n",
       "      <td>FY '18</td>\n",
       "    </tr>\n",
       "    <tr>\n",
       "      <th>3</th>\n",
       "      <td>NaN</td>\n",
       "      <td>NET OPERATING REVENUES</td>\n",
       "      <td>30990</td>\n",
       "      <td>35119</td>\n",
       "      <td>46542</td>\n",
       "      <td>48017</td>\n",
       "      <td>46854</td>\n",
       "      <td>45998</td>\n",
       "      <td>44294</td>\n",
       "      <td>41863</td>\n",
       "      <td>35410</td>\n",
       "      <td>31856</td>\n",
       "    </tr>\n",
       "    <tr>\n",
       "      <th>4</th>\n",
       "      <td>NaN</td>\n",
       "      <td>Cost of goods sold</td>\n",
       "      <td>11088</td>\n",
       "      <td>12693</td>\n",
       "      <td>18215</td>\n",
       "      <td>19053</td>\n",
       "      <td>18421</td>\n",
       "      <td>17889</td>\n",
       "      <td>17482</td>\n",
       "      <td>16465</td>\n",
       "      <td>13255</td>\n",
       "      <td>11770</td>\n",
       "    </tr>\n",
       "  </tbody>\n",
       "</table>\n",
       "</div>"
      ],
      "text/plain": [
       "   Data provided by SimFin              Unnamed: 1 Unnamed: 2 Unnamed: 3  \\\n",
       "0                      NaN                     NaN        NaN        NaN   \n",
       "1  Profit & Loss statement                     NaN        NaN        NaN   \n",
       "2                      NaN          in million USD     FY '09     FY '10   \n",
       "3                      NaN  NET OPERATING REVENUES      30990      35119   \n",
       "4                      NaN      Cost of goods sold      11088      12693   \n",
       "\n",
       "  Unnamed: 4 Unnamed: 5 Unnamed: 6 Unnamed: 7 Unnamed: 8 Unnamed: 9  \\\n",
       "0        NaN        NaN        NaN        NaN        NaN        NaN   \n",
       "1        NaN        NaN        NaN        NaN        NaN        NaN   \n",
       "2     FY '11     FY '12     FY '13     FY '14     FY '15     FY '16   \n",
       "3      46542      48017      46854      45998      44294      41863   \n",
       "4      18215      19053      18421      17889      17482      16465   \n",
       "\n",
       "  Unnamed: 10 Unnamed: 11  \n",
       "0         NaN         NaN  \n",
       "1         NaN         NaN  \n",
       "2      FY '17      FY '18  \n",
       "3       35410       31856  \n",
       "4       13255       11770  "
      ]
     },
     "execution_count": 61,
     "metadata": {},
     "output_type": "execute_result"
    }
   ],
   "source": [
    "df.head()"
   ]
  },
  {
   "cell_type": "code",
   "execution_count": 62,
   "id": "c6bad965",
   "metadata": {
    "execution": {
     "iopub.execute_input": "2023-10-25T14:10:45.326691Z",
     "iopub.status.busy": "2023-10-25T14:10:45.326307Z",
     "iopub.status.idle": "2023-10-25T14:10:45.330970Z",
     "shell.execute_reply": "2023-10-25T14:10:45.329912Z"
    },
    "papermill": {
     "duration": 0.081485,
     "end_time": "2023-10-25T14:10:45.333215",
     "exception": false,
     "start_time": "2023-10-25T14:10:45.251730",
     "status": "completed"
    },
    "tags": []
   },
   "outputs": [],
   "source": [
    "dic = {}\n",
    "for i in range(12):\n",
    "    dic[f'Unnamed: {i}'] = f'Col{i}'"
   ]
  },
  {
   "cell_type": "code",
   "execution_count": 63,
   "id": "20a154ee",
   "metadata": {
    "execution": {
     "iopub.execute_input": "2023-10-25T14:10:45.481039Z",
     "iopub.status.busy": "2023-10-25T14:10:45.480657Z",
     "iopub.status.idle": "2023-10-25T14:10:45.486617Z",
     "shell.execute_reply": "2023-10-25T14:10:45.485708Z"
    },
    "papermill": {
     "duration": 0.082034,
     "end_time": "2023-10-25T14:10:45.488665",
     "exception": false,
     "start_time": "2023-10-25T14:10:45.406631",
     "status": "completed"
    },
    "tags": []
   },
   "outputs": [
    {
     "data": {
      "text/plain": [
       "{'Unnamed: 0': 'Col0',\n",
       " 'Unnamed: 1': 'Col1',\n",
       " 'Unnamed: 2': 'Col2',\n",
       " 'Unnamed: 3': 'Col3',\n",
       " 'Unnamed: 4': 'Col4',\n",
       " 'Unnamed: 5': 'Col5',\n",
       " 'Unnamed: 6': 'Col6',\n",
       " 'Unnamed: 7': 'Col7',\n",
       " 'Unnamed: 8': 'Col8',\n",
       " 'Unnamed: 9': 'Col9',\n",
       " 'Unnamed: 10': 'Col10',\n",
       " 'Unnamed: 11': 'Col11'}"
      ]
     },
     "execution_count": 63,
     "metadata": {},
     "output_type": "execute_result"
    }
   ],
   "source": [
    "dic"
   ]
  },
  {
   "cell_type": "code",
   "execution_count": 64,
   "id": "e5486b6c",
   "metadata": {
    "execution": {
     "iopub.execute_input": "2023-10-25T14:10:45.650548Z",
     "iopub.status.busy": "2023-10-25T14:10:45.649777Z",
     "iopub.status.idle": "2023-10-25T14:10:45.655055Z",
     "shell.execute_reply": "2023-10-25T14:10:45.654269Z"
    },
    "papermill": {
     "duration": 0.09543,
     "end_time": "2023-10-25T14:10:45.657623",
     "exception": false,
     "start_time": "2023-10-25T14:10:45.562193",
     "status": "completed"
    },
    "tags": []
   },
   "outputs": [],
   "source": [
    "columns = {'Data provided by SimFin':'Data',\n",
    " 'Unnamed: 0': 'Col0',\n",
    " 'Unnamed: 1': 'Col1',\n",
    " 'Unnamed: 2': 'Col2',\n",
    " 'Unnamed: 3': 'Col3',\n",
    " 'Unnamed: 4': 'Col4',\n",
    " 'Unnamed: 5': 'Col5',\n",
    " 'Unnamed: 6': 'Col6',\n",
    " 'Unnamed: 7': 'Col7',\n",
    " 'Unnamed: 8': 'Col8',\n",
    " 'Unnamed: 9': 'Col9',\n",
    " 'Unnamed: 10': 'Col10',\n",
    " 'Unnamed: 11': 'Col11'}"
   ]
  },
  {
   "cell_type": "code",
   "execution_count": 65,
   "id": "8596829f",
   "metadata": {
    "execution": {
     "iopub.execute_input": "2023-10-25T14:10:45.809133Z",
     "iopub.status.busy": "2023-10-25T14:10:45.808444Z",
     "iopub.status.idle": "2023-10-25T14:10:45.813665Z",
     "shell.execute_reply": "2023-10-25T14:10:45.812690Z"
    },
    "papermill": {
     "duration": 0.081146,
     "end_time": "2023-10-25T14:10:45.815719",
     "exception": false,
     "start_time": "2023-10-25T14:10:45.734573",
     "status": "completed"
    },
    "tags": []
   },
   "outputs": [],
   "source": [
    "df.rename(columns=columns, inplace=True)"
   ]
  },
  {
   "cell_type": "code",
   "execution_count": 66,
   "id": "bcd733dd",
   "metadata": {
    "execution": {
     "iopub.execute_input": "2023-10-25T14:10:45.965566Z",
     "iopub.status.busy": "2023-10-25T14:10:45.964528Z",
     "iopub.status.idle": "2023-10-25T14:10:45.970808Z",
     "shell.execute_reply": "2023-10-25T14:10:45.969988Z"
    },
    "papermill": {
     "duration": 0.084087,
     "end_time": "2023-10-25T14:10:45.972799",
     "exception": false,
     "start_time": "2023-10-25T14:10:45.888712",
     "status": "completed"
    },
    "tags": []
   },
   "outputs": [
    {
     "data": {
      "text/plain": [
       "Index(['Data', 'Col1', 'Col2', 'Col3', 'Col4', 'Col5', 'Col6', 'Col7', 'Col8',\n",
       "       'Col9', 'Col10', 'Col11'],\n",
       "      dtype='object')"
      ]
     },
     "execution_count": 66,
     "metadata": {},
     "output_type": "execute_result"
    }
   ],
   "source": [
    "df.columns"
   ]
  },
  {
   "cell_type": "code",
   "execution_count": 67,
   "id": "2a3cbfc5",
   "metadata": {
    "execution": {
     "iopub.execute_input": "2023-10-25T14:10:46.122906Z",
     "iopub.status.busy": "2023-10-25T14:10:46.122189Z",
     "iopub.status.idle": "2023-10-25T14:10:46.132538Z",
     "shell.execute_reply": "2023-10-25T14:10:46.131512Z"
    },
    "papermill": {
     "duration": 0.08801,
     "end_time": "2023-10-25T14:10:46.134798",
     "exception": false,
     "start_time": "2023-10-25T14:10:46.046788",
     "status": "completed"
    },
    "tags": []
   },
   "outputs": [
    {
     "name": "stdout",
     "output_type": "stream",
     "text": [
      "<class 'pandas.core.frame.DataFrame'>\n",
      "RangeIndex: 103 entries, 0 to 102\n",
      "Data columns (total 12 columns):\n",
      " #   Column  Non-Null Count  Dtype \n",
      "---  ------  --------------  ----- \n",
      " 0   Data    3 non-null      object\n",
      " 1   Col1    97 non-null     object\n",
      " 2   Col2    82 non-null     object\n",
      " 3   Col3    82 non-null     object\n",
      " 4   Col4    82 non-null     object\n",
      " 5   Col5    82 non-null     object\n",
      " 6   Col6    82 non-null     object\n",
      " 7   Col7    82 non-null     object\n",
      " 8   Col8    90 non-null     object\n",
      " 9   Col9    92 non-null     object\n",
      " 10  Col10   93 non-null     object\n",
      " 11  Col11   93 non-null     object\n",
      "dtypes: object(12)\n",
      "memory usage: 9.8+ KB\n"
     ]
    }
   ],
   "source": [
    "df.info()"
   ]
  },
  {
   "cell_type": "code",
   "execution_count": 68,
   "id": "8216a136",
   "metadata": {
    "execution": {
     "iopub.execute_input": "2023-10-25T14:10:46.283142Z",
     "iopub.status.busy": "2023-10-25T14:10:46.282566Z",
     "iopub.status.idle": "2023-10-25T14:10:46.290482Z",
     "shell.execute_reply": "2023-10-25T14:10:46.289547Z"
    },
    "papermill": {
     "duration": 0.084591,
     "end_time": "2023-10-25T14:10:46.292384",
     "exception": false,
     "start_time": "2023-10-25T14:10:46.207793",
     "status": "completed"
    },
    "tags": []
   },
   "outputs": [
    {
     "data": {
      "text/plain": [
       "Data     True\n",
       "Col1     True\n",
       "Col2     True\n",
       "Col3     True\n",
       "Col4     True\n",
       "Col5     True\n",
       "Col6     True\n",
       "Col7     True\n",
       "Col8     True\n",
       "Col9     True\n",
       "Col10    True\n",
       "Col11    True\n",
       "dtype: bool"
      ]
     },
     "execution_count": 68,
     "metadata": {},
     "output_type": "execute_result"
    }
   ],
   "source": [
    "df.isna().any()"
   ]
  },
  {
   "cell_type": "code",
   "execution_count": 69,
   "id": "3a64b84c",
   "metadata": {
    "execution": {
     "iopub.execute_input": "2023-10-25T14:10:46.444889Z",
     "iopub.status.busy": "2023-10-25T14:10:46.444297Z",
     "iopub.status.idle": "2023-10-25T14:10:46.451623Z",
     "shell.execute_reply": "2023-10-25T14:10:46.450838Z"
    },
    "papermill": {
     "duration": 0.085525,
     "end_time": "2023-10-25T14:10:46.453637",
     "exception": false,
     "start_time": "2023-10-25T14:10:46.368112",
     "status": "completed"
    },
    "tags": []
   },
   "outputs": [
    {
     "data": {
      "text/plain": [
       "Data     False\n",
       "Col1     False\n",
       "Col2     False\n",
       "Col3     False\n",
       "Col4     False\n",
       "Col5     False\n",
       "Col6     False\n",
       "Col7     False\n",
       "Col8     False\n",
       "Col9     False\n",
       "Col10    False\n",
       "Col11    False\n",
       "dtype: bool"
      ]
     },
     "execution_count": 69,
     "metadata": {},
     "output_type": "execute_result"
    }
   ],
   "source": [
    "df.notna().all()"
   ]
  },
  {
   "cell_type": "code",
   "execution_count": 70,
   "id": "8670de00",
   "metadata": {
    "execution": {
     "iopub.execute_input": "2023-10-25T14:10:46.603950Z",
     "iopub.status.busy": "2023-10-25T14:10:46.603585Z",
     "iopub.status.idle": "2023-10-25T14:10:46.611655Z",
     "shell.execute_reply": "2023-10-25T14:10:46.610531Z"
    },
    "papermill": {
     "duration": 0.0863,
     "end_time": "2023-10-25T14:10:46.613751",
     "exception": false,
     "start_time": "2023-10-25T14:10:46.527451",
     "status": "completed"
    },
    "tags": []
   },
   "outputs": [
    {
     "data": {
      "text/plain": [
       "Data     100\n",
       "Col1       6\n",
       "Col2      21\n",
       "Col3      21\n",
       "Col4      21\n",
       "Col5      21\n",
       "Col6      21\n",
       "Col7      21\n",
       "Col8      13\n",
       "Col9      11\n",
       "Col10     10\n",
       "Col11     10\n",
       "dtype: int64"
      ]
     },
     "execution_count": 70,
     "metadata": {},
     "output_type": "execute_result"
    }
   ],
   "source": [
    "df.isna().sum()"
   ]
  },
  {
   "cell_type": "code",
   "execution_count": 71,
   "id": "716d6d3e",
   "metadata": {
    "execution": {
     "iopub.execute_input": "2023-10-25T14:10:46.763667Z",
     "iopub.status.busy": "2023-10-25T14:10:46.762953Z",
     "iopub.status.idle": "2023-10-25T14:10:46.770425Z",
     "shell.execute_reply": "2023-10-25T14:10:46.769588Z"
    },
    "papermill": {
     "duration": 0.084481,
     "end_time": "2023-10-25T14:10:46.772518",
     "exception": false,
     "start_time": "2023-10-25T14:10:46.688037",
     "status": "completed"
    },
    "tags": []
   },
   "outputs": [
    {
     "data": {
      "text/plain": [
       "276"
      ]
     },
     "execution_count": 71,
     "metadata": {},
     "output_type": "execute_result"
    }
   ],
   "source": [
    "df.isna().sum().sum()"
   ]
  },
  {
   "cell_type": "code",
   "execution_count": 72,
   "id": "7af447c5",
   "metadata": {
    "execution": {
     "iopub.execute_input": "2023-10-25T14:10:46.924269Z",
     "iopub.status.busy": "2023-10-25T14:10:46.923669Z",
     "iopub.status.idle": "2023-10-25T14:10:46.931850Z",
     "shell.execute_reply": "2023-10-25T14:10:46.930961Z"
    },
    "papermill": {
     "duration": 0.085695,
     "end_time": "2023-10-25T14:10:46.933813",
     "exception": false,
     "start_time": "2023-10-25T14:10:46.848118",
     "status": "completed"
    },
    "tags": []
   },
   "outputs": [
    {
     "data": {
      "text/plain": [
       "Data     0.970874\n",
       "Col1     0.058252\n",
       "Col2     0.203883\n",
       "Col3     0.203883\n",
       "Col4     0.203883\n",
       "Col5     0.203883\n",
       "Col6     0.203883\n",
       "Col7     0.203883\n",
       "Col8     0.126214\n",
       "Col9     0.106796\n",
       "Col10    0.097087\n",
       "Col11    0.097087\n",
       "dtype: float64"
      ]
     },
     "execution_count": 72,
     "metadata": {},
     "output_type": "execute_result"
    }
   ],
   "source": [
    "df.isna().mean()"
   ]
  },
  {
   "cell_type": "code",
   "execution_count": 73,
   "id": "21edafbb",
   "metadata": {
    "execution": {
     "iopub.execute_input": "2023-10-25T14:10:47.084249Z",
     "iopub.status.busy": "2023-10-25T14:10:47.083873Z",
     "iopub.status.idle": "2023-10-25T14:10:47.111512Z",
     "shell.execute_reply": "2023-10-25T14:10:47.110619Z"
    },
    "papermill": {
     "duration": 0.105321,
     "end_time": "2023-10-25T14:10:47.113959",
     "exception": false,
     "start_time": "2023-10-25T14:10:47.008638",
     "status": "completed"
    },
    "tags": []
   },
   "outputs": [],
   "source": [
    "csv_df.dropna(inplace=True)"
   ]
  },
  {
   "cell_type": "markdown",
   "id": "08687134",
   "metadata": {
    "papermill": {
     "duration": 0.072643,
     "end_time": "2023-10-25T14:10:47.261241",
     "exception": false,
     "start_time": "2023-10-25T14:10:47.188598",
     "status": "completed"
    },
    "tags": []
   },
   "source": [
    "# Indexing, Slicing and Selection\n",
    "\n",
    "Indexing, slicing, and selection in Pandas are essential techniques for extracting and manipulating data from DataFrames and Series. They allow you to access specific rows and columns or subsets of your data. Here's a detailed explanation of how these operations work in Pandas:\n",
    "\n",
    "1. **Indexing DataFrames**:\n",
    "\n",
    "   - **By Column Name**:\n",
    "     - To access a specific column, use `df['column_name']`. This returns a Series.\n",
    "     - Example: `df['Age']`.\n",
    "\n",
    "   - **By Attribute**:\n",
    "     - If column names are valid Python variable names, you can access columns using attributes, like `df.column_name`.\n",
    "     - Example: `df.Age`.\n",
    "\n",
    "   - **By Column Index**:\n",
    "     - You can access a column by its position (index) using `df.iloc[:, col_index]`.\n",
    "     - Example: `df.iloc[:, 1]` to access the second column.\n",
    "\n",
    "2. **Slicing DataFrames**:\n",
    "\n",
    "   - **Slicing Rows**:\n",
    "     - To select a range of rows, use `df[start_row:end_row]`. The end row is exclusive.\n",
    "     - Example: `df[1:4]` returns rows 2 to 4.\n",
    "\n",
    "   - **Slicing Columns**:\n",
    "     - To select a subset of columns, use `df[['col1', 'col2']]` to select specific columns.\n",
    "     - Example: `df[['Name', 'Age']]`.\n",
    "\n",
    "3. **Selection by Label**:\n",
    "\n",
    "   - **`.loc[]`**:\n",
    "     - Use `.loc[]` to select data by label. You can specify rows and columns by their labels.\n",
    "     - Example: `df.loc[1:4, 'Name':'Age']` selects rows 2 to 4 and columns 'Name' to 'Age'.\n",
    "\n",
    "4. **Selection by Position**:\n",
    "\n",
    "   - **`.iloc[]`**:\n",
    "     - Use `.iloc[]` to select data by integer position. You can specify rows and columns by their position.\n",
    "     - Example: `df.iloc[1:4, 0:2]` selects rows 2 to 4 and the first two columns.\n",
    "\n",
    "5. **Boolean Indexing**:\n",
    "\n",
    "   - You can create Boolean masks to filter rows based on a condition. For example, `df[df['Age'] > 30]` selects rows where 'Age' is greater than 30.\n",
    "\n",
    "6. **Combining Selections**:\n",
    "\n",
    "   - You can combine selections for complex data extraction.\n",
    "   - Example: `df.loc[df['Age'] > 30, ['Name', 'Age']]` selects the 'Name' and 'Age' columns for rows where 'Age' is greater than 30.\n",
    "\n",
    "7. **`.at[]` and `.iat[]`**:\n",
    "\n",
    "   - These methods provide faster access to single elements by label or position, respectively.\n",
    "   - Example: `df.at[2, 'Age']` returns the value at row 3 and the 'Age' column.\n",
    "\n",
    "8. **Chained Indexing**:\n",
    "\n",
    "   - Avoid using chained indexing, like `df[1:3]['Name']`. Use `.loc[]` or `.iloc[]` for better performance and to avoid setting with copy errors.\n",
    "\n",
    "Pandas provides a wide range of indexing and selection methods to make it convenient to access and manipulate data. Understanding these techniques is crucial for effective data analysis and manipulation."
   ]
  },
  {
   "cell_type": "code",
   "execution_count": 74,
   "id": "bf2c6843",
   "metadata": {
    "execution": {
     "iopub.execute_input": "2023-10-25T14:10:47.412260Z",
     "iopub.status.busy": "2023-10-25T14:10:47.411602Z",
     "iopub.status.idle": "2023-10-25T14:10:47.557416Z",
     "shell.execute_reply": "2023-10-25T14:10:47.556313Z"
    },
    "papermill": {
     "duration": 0.224228,
     "end_time": "2023-10-25T14:10:47.559858",
     "exception": false,
     "start_time": "2023-10-25T14:10:47.335630",
     "status": "completed"
    },
    "tags": []
   },
   "outputs": [],
   "source": [
    "df = pd.read_csv(\"/kaggle/input/sales-and-customer-data/customer_data.csv\")"
   ]
  },
  {
   "cell_type": "code",
   "execution_count": 75,
   "id": "58cb22c0",
   "metadata": {
    "execution": {
     "iopub.execute_input": "2023-10-25T14:10:47.709588Z",
     "iopub.status.busy": "2023-10-25T14:10:47.709177Z",
     "iopub.status.idle": "2023-10-25T14:10:47.717517Z",
     "shell.execute_reply": "2023-10-25T14:10:47.716340Z"
    },
    "papermill": {
     "duration": 0.085696,
     "end_time": "2023-10-25T14:10:47.719439",
     "exception": false,
     "start_time": "2023-10-25T14:10:47.633743",
     "status": "completed"
    },
    "tags": []
   },
   "outputs": [
    {
     "data": {
      "text/plain": [
       "0        C241288\n",
       "1        C111565\n",
       "2        C266599\n",
       "3        C988172\n",
       "4        C189076\n",
       "          ...   \n",
       "99452    C441542\n",
       "99453    C569580\n",
       "99454    C103292\n",
       "99455    C800631\n",
       "99456    C273973\n",
       "Name: customer_id, Length: 99457, dtype: object"
      ]
     },
     "execution_count": 75,
     "metadata": {},
     "output_type": "execute_result"
    }
   ],
   "source": [
    "df['customer_id']"
   ]
  },
  {
   "cell_type": "code",
   "execution_count": 76,
   "id": "1c2e7734",
   "metadata": {
    "execution": {
     "iopub.execute_input": "2023-10-25T14:10:47.867963Z",
     "iopub.status.busy": "2023-10-25T14:10:47.867207Z",
     "iopub.status.idle": "2023-10-25T14:10:47.875130Z",
     "shell.execute_reply": "2023-10-25T14:10:47.874337Z"
    },
    "papermill": {
     "duration": 0.085071,
     "end_time": "2023-10-25T14:10:47.877450",
     "exception": false,
     "start_time": "2023-10-25T14:10:47.792379",
     "status": "completed"
    },
    "tags": []
   },
   "outputs": [
    {
     "data": {
      "text/plain": [
       "0        C241288\n",
       "1        C111565\n",
       "2        C266599\n",
       "3        C988172\n",
       "4        C189076\n",
       "          ...   \n",
       "99452    C441542\n",
       "99453    C569580\n",
       "99454    C103292\n",
       "99455    C800631\n",
       "99456    C273973\n",
       "Name: customer_id, Length: 99457, dtype: object"
      ]
     },
     "execution_count": 76,
     "metadata": {},
     "output_type": "execute_result"
    }
   ],
   "source": [
    "df.customer_id"
   ]
  },
  {
   "cell_type": "code",
   "execution_count": 77,
   "id": "df2a3172",
   "metadata": {
    "execution": {
     "iopub.execute_input": "2023-10-25T14:10:48.029830Z",
     "iopub.status.busy": "2023-10-25T14:10:48.029051Z",
     "iopub.status.idle": "2023-10-25T14:10:48.036855Z",
     "shell.execute_reply": "2023-10-25T14:10:48.036010Z"
    },
    "papermill": {
     "duration": 0.086055,
     "end_time": "2023-10-25T14:10:48.038923",
     "exception": false,
     "start_time": "2023-10-25T14:10:47.952868",
     "status": "completed"
    },
    "tags": []
   },
   "outputs": [
    {
     "data": {
      "text/plain": [
       "0        Female\n",
       "1          Male\n",
       "2          Male\n",
       "3        Female\n",
       "4        Female\n",
       "          ...  \n",
       "99452    Female\n",
       "99453      Male\n",
       "99454      Male\n",
       "99455      Male\n",
       "99456    Female\n",
       "Name: gender, Length: 99457, dtype: object"
      ]
     },
     "execution_count": 77,
     "metadata": {},
     "output_type": "execute_result"
    }
   ],
   "source": [
    "df.iloc[:,1]"
   ]
  },
  {
   "cell_type": "code",
   "execution_count": 78,
   "id": "5d6b7003",
   "metadata": {
    "execution": {
     "iopub.execute_input": "2023-10-25T14:10:48.190053Z",
     "iopub.status.busy": "2023-10-25T14:10:48.189037Z",
     "iopub.status.idle": "2023-10-25T14:10:48.203856Z",
     "shell.execute_reply": "2023-10-25T14:10:48.202853Z"
    },
    "papermill": {
     "duration": 0.091977,
     "end_time": "2023-10-25T14:10:48.206008",
     "exception": false,
     "start_time": "2023-10-25T14:10:48.114031",
     "status": "completed"
    },
    "tags": []
   },
   "outputs": [
    {
     "data": {
      "text/html": [
       "<div>\n",
       "<style scoped>\n",
       "    .dataframe tbody tr th:only-of-type {\n",
       "        vertical-align: middle;\n",
       "    }\n",
       "\n",
       "    .dataframe tbody tr th {\n",
       "        vertical-align: top;\n",
       "    }\n",
       "\n",
       "    .dataframe thead th {\n",
       "        text-align: right;\n",
       "    }\n",
       "</style>\n",
       "<table border=\"1\" class=\"dataframe\">\n",
       "  <thead>\n",
       "    <tr style=\"text-align: right;\">\n",
       "      <th></th>\n",
       "      <th>gender</th>\n",
       "      <th>payment_method</th>\n",
       "    </tr>\n",
       "  </thead>\n",
       "  <tbody>\n",
       "    <tr>\n",
       "      <th>0</th>\n",
       "      <td>Female</td>\n",
       "      <td>Credit Card</td>\n",
       "    </tr>\n",
       "    <tr>\n",
       "      <th>1</th>\n",
       "      <td>Male</td>\n",
       "      <td>Debit Card</td>\n",
       "    </tr>\n",
       "    <tr>\n",
       "      <th>2</th>\n",
       "      <td>Male</td>\n",
       "      <td>Cash</td>\n",
       "    </tr>\n",
       "    <tr>\n",
       "      <th>3</th>\n",
       "      <td>Female</td>\n",
       "      <td>Credit Card</td>\n",
       "    </tr>\n",
       "    <tr>\n",
       "      <th>4</th>\n",
       "      <td>Female</td>\n",
       "      <td>Cash</td>\n",
       "    </tr>\n",
       "    <tr>\n",
       "      <th>...</th>\n",
       "      <td>...</td>\n",
       "      <td>...</td>\n",
       "    </tr>\n",
       "    <tr>\n",
       "      <th>99452</th>\n",
       "      <td>Female</td>\n",
       "      <td>Credit Card</td>\n",
       "    </tr>\n",
       "    <tr>\n",
       "      <th>99453</th>\n",
       "      <td>Male</td>\n",
       "      <td>Cash</td>\n",
       "    </tr>\n",
       "    <tr>\n",
       "      <th>99454</th>\n",
       "      <td>Male</td>\n",
       "      <td>Debit Card</td>\n",
       "    </tr>\n",
       "    <tr>\n",
       "      <th>99455</th>\n",
       "      <td>Male</td>\n",
       "      <td>Cash</td>\n",
       "    </tr>\n",
       "    <tr>\n",
       "      <th>99456</th>\n",
       "      <td>Female</td>\n",
       "      <td>Credit Card</td>\n",
       "    </tr>\n",
       "  </tbody>\n",
       "</table>\n",
       "<p>99457 rows × 2 columns</p>\n",
       "</div>"
      ],
      "text/plain": [
       "       gender payment_method\n",
       "0      Female    Credit Card\n",
       "1        Male     Debit Card\n",
       "2        Male           Cash\n",
       "3      Female    Credit Card\n",
       "4      Female           Cash\n",
       "...       ...            ...\n",
       "99452  Female    Credit Card\n",
       "99453    Male           Cash\n",
       "99454    Male     Debit Card\n",
       "99455    Male           Cash\n",
       "99456  Female    Credit Card\n",
       "\n",
       "[99457 rows x 2 columns]"
      ]
     },
     "execution_count": 78,
     "metadata": {},
     "output_type": "execute_result"
    }
   ],
   "source": [
    "df.iloc[:,[1,3]]"
   ]
  },
  {
   "cell_type": "code",
   "execution_count": 79,
   "id": "92f30393",
   "metadata": {
    "execution": {
     "iopub.execute_input": "2023-10-25T14:10:48.357690Z",
     "iopub.status.busy": "2023-10-25T14:10:48.356942Z",
     "iopub.status.idle": "2023-10-25T14:10:48.370296Z",
     "shell.execute_reply": "2023-10-25T14:10:48.369499Z"
    },
    "papermill": {
     "duration": 0.091716,
     "end_time": "2023-10-25T14:10:48.372335",
     "exception": false,
     "start_time": "2023-10-25T14:10:48.280619",
     "status": "completed"
    },
    "tags": []
   },
   "outputs": [
    {
     "data": {
      "text/html": [
       "<div>\n",
       "<style scoped>\n",
       "    .dataframe tbody tr th:only-of-type {\n",
       "        vertical-align: middle;\n",
       "    }\n",
       "\n",
       "    .dataframe tbody tr th {\n",
       "        vertical-align: top;\n",
       "    }\n",
       "\n",
       "    .dataframe thead th {\n",
       "        text-align: right;\n",
       "    }\n",
       "</style>\n",
       "<table border=\"1\" class=\"dataframe\">\n",
       "  <thead>\n",
       "    <tr style=\"text-align: right;\">\n",
       "      <th></th>\n",
       "      <th>customer_id</th>\n",
       "      <th>gender</th>\n",
       "    </tr>\n",
       "  </thead>\n",
       "  <tbody>\n",
       "    <tr>\n",
       "      <th>0</th>\n",
       "      <td>C241288</td>\n",
       "      <td>Female</td>\n",
       "    </tr>\n",
       "    <tr>\n",
       "      <th>1</th>\n",
       "      <td>C111565</td>\n",
       "      <td>Male</td>\n",
       "    </tr>\n",
       "    <tr>\n",
       "      <th>2</th>\n",
       "      <td>C266599</td>\n",
       "      <td>Male</td>\n",
       "    </tr>\n",
       "    <tr>\n",
       "      <th>3</th>\n",
       "      <td>C988172</td>\n",
       "      <td>Female</td>\n",
       "    </tr>\n",
       "    <tr>\n",
       "      <th>4</th>\n",
       "      <td>C189076</td>\n",
       "      <td>Female</td>\n",
       "    </tr>\n",
       "    <tr>\n",
       "      <th>...</th>\n",
       "      <td>...</td>\n",
       "      <td>...</td>\n",
       "    </tr>\n",
       "    <tr>\n",
       "      <th>99452</th>\n",
       "      <td>C441542</td>\n",
       "      <td>Female</td>\n",
       "    </tr>\n",
       "    <tr>\n",
       "      <th>99453</th>\n",
       "      <td>C569580</td>\n",
       "      <td>Male</td>\n",
       "    </tr>\n",
       "    <tr>\n",
       "      <th>99454</th>\n",
       "      <td>C103292</td>\n",
       "      <td>Male</td>\n",
       "    </tr>\n",
       "    <tr>\n",
       "      <th>99455</th>\n",
       "      <td>C800631</td>\n",
       "      <td>Male</td>\n",
       "    </tr>\n",
       "    <tr>\n",
       "      <th>99456</th>\n",
       "      <td>C273973</td>\n",
       "      <td>Female</td>\n",
       "    </tr>\n",
       "  </tbody>\n",
       "</table>\n",
       "<p>99457 rows × 2 columns</p>\n",
       "</div>"
      ],
      "text/plain": [
       "      customer_id  gender\n",
       "0         C241288  Female\n",
       "1         C111565    Male\n",
       "2         C266599    Male\n",
       "3         C988172  Female\n",
       "4         C189076  Female\n",
       "...           ...     ...\n",
       "99452     C441542  Female\n",
       "99453     C569580    Male\n",
       "99454     C103292    Male\n",
       "99455     C800631    Male\n",
       "99456     C273973  Female\n",
       "\n",
       "[99457 rows x 2 columns]"
      ]
     },
     "execution_count": 79,
     "metadata": {},
     "output_type": "execute_result"
    }
   ],
   "source": [
    "df.iloc[:,:2]"
   ]
  },
  {
   "cell_type": "code",
   "execution_count": 80,
   "id": "bcac4e95",
   "metadata": {
    "execution": {
     "iopub.execute_input": "2023-10-25T14:10:48.524680Z",
     "iopub.status.busy": "2023-10-25T14:10:48.523991Z",
     "iopub.status.idle": "2023-10-25T14:10:48.542053Z",
     "shell.execute_reply": "2023-10-25T14:10:48.541067Z"
    },
    "papermill": {
     "duration": 0.095684,
     "end_time": "2023-10-25T14:10:48.544205",
     "exception": false,
     "start_time": "2023-10-25T14:10:48.448521",
     "status": "completed"
    },
    "tags": []
   },
   "outputs": [
    {
     "data": {
      "text/html": [
       "<div>\n",
       "<style scoped>\n",
       "    .dataframe tbody tr th:only-of-type {\n",
       "        vertical-align: middle;\n",
       "    }\n",
       "\n",
       "    .dataframe tbody tr th {\n",
       "        vertical-align: top;\n",
       "    }\n",
       "\n",
       "    .dataframe thead th {\n",
       "        text-align: right;\n",
       "    }\n",
       "</style>\n",
       "<table border=\"1\" class=\"dataframe\">\n",
       "  <thead>\n",
       "    <tr style=\"text-align: right;\">\n",
       "      <th></th>\n",
       "      <th>payment_method</th>\n",
       "      <th>age</th>\n",
       "      <th>gender</th>\n",
       "      <th>customer_id</th>\n",
       "    </tr>\n",
       "  </thead>\n",
       "  <tbody>\n",
       "    <tr>\n",
       "      <th>0</th>\n",
       "      <td>Credit Card</td>\n",
       "      <td>28.0</td>\n",
       "      <td>Female</td>\n",
       "      <td>C241288</td>\n",
       "    </tr>\n",
       "    <tr>\n",
       "      <th>1</th>\n",
       "      <td>Debit Card</td>\n",
       "      <td>21.0</td>\n",
       "      <td>Male</td>\n",
       "      <td>C111565</td>\n",
       "    </tr>\n",
       "    <tr>\n",
       "      <th>2</th>\n",
       "      <td>Cash</td>\n",
       "      <td>20.0</td>\n",
       "      <td>Male</td>\n",
       "      <td>C266599</td>\n",
       "    </tr>\n",
       "    <tr>\n",
       "      <th>3</th>\n",
       "      <td>Credit Card</td>\n",
       "      <td>66.0</td>\n",
       "      <td>Female</td>\n",
       "      <td>C988172</td>\n",
       "    </tr>\n",
       "    <tr>\n",
       "      <th>4</th>\n",
       "      <td>Cash</td>\n",
       "      <td>53.0</td>\n",
       "      <td>Female</td>\n",
       "      <td>C189076</td>\n",
       "    </tr>\n",
       "    <tr>\n",
       "      <th>...</th>\n",
       "      <td>...</td>\n",
       "      <td>...</td>\n",
       "      <td>...</td>\n",
       "      <td>...</td>\n",
       "    </tr>\n",
       "    <tr>\n",
       "      <th>99452</th>\n",
       "      <td>Credit Card</td>\n",
       "      <td>45.0</td>\n",
       "      <td>Female</td>\n",
       "      <td>C441542</td>\n",
       "    </tr>\n",
       "    <tr>\n",
       "      <th>99453</th>\n",
       "      <td>Cash</td>\n",
       "      <td>27.0</td>\n",
       "      <td>Male</td>\n",
       "      <td>C569580</td>\n",
       "    </tr>\n",
       "    <tr>\n",
       "      <th>99454</th>\n",
       "      <td>Debit Card</td>\n",
       "      <td>63.0</td>\n",
       "      <td>Male</td>\n",
       "      <td>C103292</td>\n",
       "    </tr>\n",
       "    <tr>\n",
       "      <th>99455</th>\n",
       "      <td>Cash</td>\n",
       "      <td>56.0</td>\n",
       "      <td>Male</td>\n",
       "      <td>C800631</td>\n",
       "    </tr>\n",
       "    <tr>\n",
       "      <th>99456</th>\n",
       "      <td>Credit Card</td>\n",
       "      <td>36.0</td>\n",
       "      <td>Female</td>\n",
       "      <td>C273973</td>\n",
       "    </tr>\n",
       "  </tbody>\n",
       "</table>\n",
       "<p>99457 rows × 4 columns</p>\n",
       "</div>"
      ],
      "text/plain": [
       "      payment_method   age  gender customer_id\n",
       "0        Credit Card  28.0  Female     C241288\n",
       "1         Debit Card  21.0    Male     C111565\n",
       "2               Cash  20.0    Male     C266599\n",
       "3        Credit Card  66.0  Female     C988172\n",
       "4               Cash  53.0  Female     C189076\n",
       "...              ...   ...     ...         ...\n",
       "99452    Credit Card  45.0  Female     C441542\n",
       "99453           Cash  27.0    Male     C569580\n",
       "99454     Debit Card  63.0    Male     C103292\n",
       "99455           Cash  56.0    Male     C800631\n",
       "99456    Credit Card  36.0  Female     C273973\n",
       "\n",
       "[99457 rows x 4 columns]"
      ]
     },
     "execution_count": 80,
     "metadata": {},
     "output_type": "execute_result"
    }
   ],
   "source": [
    "df.iloc[:,::-1]"
   ]
  },
  {
   "cell_type": "code",
   "execution_count": 81,
   "id": "fe62b1e1",
   "metadata": {
    "execution": {
     "iopub.execute_input": "2023-10-25T14:10:48.696811Z",
     "iopub.status.busy": "2023-10-25T14:10:48.696430Z",
     "iopub.status.idle": "2023-10-25T14:10:48.711445Z",
     "shell.execute_reply": "2023-10-25T14:10:48.710327Z"
    },
    "papermill": {
     "duration": 0.093307,
     "end_time": "2023-10-25T14:10:48.713675",
     "exception": false,
     "start_time": "2023-10-25T14:10:48.620368",
     "status": "completed"
    },
    "tags": []
   },
   "outputs": [
    {
     "data": {
      "text/html": [
       "<div>\n",
       "<style scoped>\n",
       "    .dataframe tbody tr th:only-of-type {\n",
       "        vertical-align: middle;\n",
       "    }\n",
       "\n",
       "    .dataframe tbody tr th {\n",
       "        vertical-align: top;\n",
       "    }\n",
       "\n",
       "    .dataframe thead th {\n",
       "        text-align: right;\n",
       "    }\n",
       "</style>\n",
       "<table border=\"1\" class=\"dataframe\">\n",
       "  <thead>\n",
       "    <tr style=\"text-align: right;\">\n",
       "      <th></th>\n",
       "      <th>customer_id</th>\n",
       "      <th>gender</th>\n",
       "      <th>age</th>\n",
       "      <th>payment_method</th>\n",
       "    </tr>\n",
       "  </thead>\n",
       "  <tbody>\n",
       "    <tr>\n",
       "      <th>0</th>\n",
       "      <td>C241288</td>\n",
       "      <td>Female</td>\n",
       "      <td>28.0</td>\n",
       "      <td>Credit Card</td>\n",
       "    </tr>\n",
       "    <tr>\n",
       "      <th>1</th>\n",
       "      <td>C111565</td>\n",
       "      <td>Male</td>\n",
       "      <td>21.0</td>\n",
       "      <td>Debit Card</td>\n",
       "    </tr>\n",
       "    <tr>\n",
       "      <th>2</th>\n",
       "      <td>C266599</td>\n",
       "      <td>Male</td>\n",
       "      <td>20.0</td>\n",
       "      <td>Cash</td>\n",
       "    </tr>\n",
       "    <tr>\n",
       "      <th>3</th>\n",
       "      <td>C988172</td>\n",
       "      <td>Female</td>\n",
       "      <td>66.0</td>\n",
       "      <td>Credit Card</td>\n",
       "    </tr>\n",
       "    <tr>\n",
       "      <th>4</th>\n",
       "      <td>C189076</td>\n",
       "      <td>Female</td>\n",
       "      <td>53.0</td>\n",
       "      <td>Cash</td>\n",
       "    </tr>\n",
       "    <tr>\n",
       "      <th>...</th>\n",
       "      <td>...</td>\n",
       "      <td>...</td>\n",
       "      <td>...</td>\n",
       "      <td>...</td>\n",
       "    </tr>\n",
       "    <tr>\n",
       "      <th>99452</th>\n",
       "      <td>C441542</td>\n",
       "      <td>Female</td>\n",
       "      <td>45.0</td>\n",
       "      <td>Credit Card</td>\n",
       "    </tr>\n",
       "    <tr>\n",
       "      <th>99453</th>\n",
       "      <td>C569580</td>\n",
       "      <td>Male</td>\n",
       "      <td>27.0</td>\n",
       "      <td>Cash</td>\n",
       "    </tr>\n",
       "    <tr>\n",
       "      <th>99454</th>\n",
       "      <td>C103292</td>\n",
       "      <td>Male</td>\n",
       "      <td>63.0</td>\n",
       "      <td>Debit Card</td>\n",
       "    </tr>\n",
       "    <tr>\n",
       "      <th>99455</th>\n",
       "      <td>C800631</td>\n",
       "      <td>Male</td>\n",
       "      <td>56.0</td>\n",
       "      <td>Cash</td>\n",
       "    </tr>\n",
       "    <tr>\n",
       "      <th>99456</th>\n",
       "      <td>C273973</td>\n",
       "      <td>Female</td>\n",
       "      <td>36.0</td>\n",
       "      <td>Credit Card</td>\n",
       "    </tr>\n",
       "  </tbody>\n",
       "</table>\n",
       "<p>99457 rows × 4 columns</p>\n",
       "</div>"
      ],
      "text/plain": [
       "      customer_id  gender   age payment_method\n",
       "0         C241288  Female  28.0    Credit Card\n",
       "1         C111565    Male  21.0     Debit Card\n",
       "2         C266599    Male  20.0           Cash\n",
       "3         C988172  Female  66.0    Credit Card\n",
       "4         C189076  Female  53.0           Cash\n",
       "...           ...     ...   ...            ...\n",
       "99452     C441542  Female  45.0    Credit Card\n",
       "99453     C569580    Male  27.0           Cash\n",
       "99454     C103292    Male  63.0     Debit Card\n",
       "99455     C800631    Male  56.0           Cash\n",
       "99456     C273973  Female  36.0    Credit Card\n",
       "\n",
       "[99457 rows x 4 columns]"
      ]
     },
     "execution_count": 81,
     "metadata": {},
     "output_type": "execute_result"
    }
   ],
   "source": [
    "df[:]"
   ]
  },
  {
   "cell_type": "code",
   "execution_count": 82,
   "id": "a02a5ceb",
   "metadata": {
    "execution": {
     "iopub.execute_input": "2023-10-25T14:10:48.868291Z",
     "iopub.status.busy": "2023-10-25T14:10:48.867506Z",
     "iopub.status.idle": "2023-10-25T14:10:48.879734Z",
     "shell.execute_reply": "2023-10-25T14:10:48.878581Z"
    },
    "papermill": {
     "duration": 0.091711,
     "end_time": "2023-10-25T14:10:48.882056",
     "exception": false,
     "start_time": "2023-10-25T14:10:48.790345",
     "status": "completed"
    },
    "tags": []
   },
   "outputs": [
    {
     "data": {
      "text/html": [
       "<div>\n",
       "<style scoped>\n",
       "    .dataframe tbody tr th:only-of-type {\n",
       "        vertical-align: middle;\n",
       "    }\n",
       "\n",
       "    .dataframe tbody tr th {\n",
       "        vertical-align: top;\n",
       "    }\n",
       "\n",
       "    .dataframe thead th {\n",
       "        text-align: right;\n",
       "    }\n",
       "</style>\n",
       "<table border=\"1\" class=\"dataframe\">\n",
       "  <thead>\n",
       "    <tr style=\"text-align: right;\">\n",
       "      <th></th>\n",
       "      <th>customer_id</th>\n",
       "      <th>gender</th>\n",
       "      <th>age</th>\n",
       "      <th>payment_method</th>\n",
       "    </tr>\n",
       "  </thead>\n",
       "  <tbody>\n",
       "    <tr>\n",
       "      <th>0</th>\n",
       "      <td>C241288</td>\n",
       "      <td>Female</td>\n",
       "      <td>28.0</td>\n",
       "      <td>Credit Card</td>\n",
       "    </tr>\n",
       "    <tr>\n",
       "      <th>1</th>\n",
       "      <td>C111565</td>\n",
       "      <td>Male</td>\n",
       "      <td>21.0</td>\n",
       "      <td>Debit Card</td>\n",
       "    </tr>\n",
       "    <tr>\n",
       "      <th>2</th>\n",
       "      <td>C266599</td>\n",
       "      <td>Male</td>\n",
       "      <td>20.0</td>\n",
       "      <td>Cash</td>\n",
       "    </tr>\n",
       "    <tr>\n",
       "      <th>3</th>\n",
       "      <td>C988172</td>\n",
       "      <td>Female</td>\n",
       "      <td>66.0</td>\n",
       "      <td>Credit Card</td>\n",
       "    </tr>\n",
       "    <tr>\n",
       "      <th>4</th>\n",
       "      <td>C189076</td>\n",
       "      <td>Female</td>\n",
       "      <td>53.0</td>\n",
       "      <td>Cash</td>\n",
       "    </tr>\n",
       "    <tr>\n",
       "      <th>5</th>\n",
       "      <td>C657758</td>\n",
       "      <td>Female</td>\n",
       "      <td>28.0</td>\n",
       "      <td>Credit Card</td>\n",
       "    </tr>\n",
       "    <tr>\n",
       "      <th>6</th>\n",
       "      <td>C151197</td>\n",
       "      <td>Female</td>\n",
       "      <td>49.0</td>\n",
       "      <td>Cash</td>\n",
       "    </tr>\n",
       "    <tr>\n",
       "      <th>7</th>\n",
       "      <td>C176086</td>\n",
       "      <td>Female</td>\n",
       "      <td>32.0</td>\n",
       "      <td>Credit Card</td>\n",
       "    </tr>\n",
       "    <tr>\n",
       "      <th>8</th>\n",
       "      <td>C159642</td>\n",
       "      <td>Male</td>\n",
       "      <td>69.0</td>\n",
       "      <td>Credit Card</td>\n",
       "    </tr>\n",
       "    <tr>\n",
       "      <th>9</th>\n",
       "      <td>C283361</td>\n",
       "      <td>Female</td>\n",
       "      <td>60.0</td>\n",
       "      <td>Credit Card</td>\n",
       "    </tr>\n",
       "  </tbody>\n",
       "</table>\n",
       "</div>"
      ],
      "text/plain": [
       "  customer_id  gender   age payment_method\n",
       "0     C241288  Female  28.0    Credit Card\n",
       "1     C111565    Male  21.0     Debit Card\n",
       "2     C266599    Male  20.0           Cash\n",
       "3     C988172  Female  66.0    Credit Card\n",
       "4     C189076  Female  53.0           Cash\n",
       "5     C657758  Female  28.0    Credit Card\n",
       "6     C151197  Female  49.0           Cash\n",
       "7     C176086  Female  32.0    Credit Card\n",
       "8     C159642    Male  69.0    Credit Card\n",
       "9     C283361  Female  60.0    Credit Card"
      ]
     },
     "execution_count": 82,
     "metadata": {},
     "output_type": "execute_result"
    }
   ],
   "source": [
    "df[:10]"
   ]
  },
  {
   "cell_type": "code",
   "execution_count": 83,
   "id": "d19499bf",
   "metadata": {
    "execution": {
     "iopub.execute_input": "2023-10-25T14:10:49.037605Z",
     "iopub.status.busy": "2023-10-25T14:10:49.037188Z",
     "iopub.status.idle": "2023-10-25T14:10:49.048710Z",
     "shell.execute_reply": "2023-10-25T14:10:49.047539Z"
    },
    "papermill": {
     "duration": 0.091216,
     "end_time": "2023-10-25T14:10:49.050738",
     "exception": false,
     "start_time": "2023-10-25T14:10:48.959522",
     "status": "completed"
    },
    "tags": []
   },
   "outputs": [
    {
     "data": {
      "text/html": [
       "<div>\n",
       "<style scoped>\n",
       "    .dataframe tbody tr th:only-of-type {\n",
       "        vertical-align: middle;\n",
       "    }\n",
       "\n",
       "    .dataframe tbody tr th {\n",
       "        vertical-align: top;\n",
       "    }\n",
       "\n",
       "    .dataframe thead th {\n",
       "        text-align: right;\n",
       "    }\n",
       "</style>\n",
       "<table border=\"1\" class=\"dataframe\">\n",
       "  <thead>\n",
       "    <tr style=\"text-align: right;\">\n",
       "      <th></th>\n",
       "      <th>customer_id</th>\n",
       "      <th>gender</th>\n",
       "      <th>age</th>\n",
       "      <th>payment_method</th>\n",
       "    </tr>\n",
       "  </thead>\n",
       "  <tbody>\n",
       "    <tr>\n",
       "      <th>5</th>\n",
       "      <td>C657758</td>\n",
       "      <td>Female</td>\n",
       "      <td>28.0</td>\n",
       "      <td>Credit Card</td>\n",
       "    </tr>\n",
       "    <tr>\n",
       "      <th>6</th>\n",
       "      <td>C151197</td>\n",
       "      <td>Female</td>\n",
       "      <td>49.0</td>\n",
       "      <td>Cash</td>\n",
       "    </tr>\n",
       "    <tr>\n",
       "      <th>7</th>\n",
       "      <td>C176086</td>\n",
       "      <td>Female</td>\n",
       "      <td>32.0</td>\n",
       "      <td>Credit Card</td>\n",
       "    </tr>\n",
       "    <tr>\n",
       "      <th>8</th>\n",
       "      <td>C159642</td>\n",
       "      <td>Male</td>\n",
       "      <td>69.0</td>\n",
       "      <td>Credit Card</td>\n",
       "    </tr>\n",
       "    <tr>\n",
       "      <th>9</th>\n",
       "      <td>C283361</td>\n",
       "      <td>Female</td>\n",
       "      <td>60.0</td>\n",
       "      <td>Credit Card</td>\n",
       "    </tr>\n",
       "  </tbody>\n",
       "</table>\n",
       "</div>"
      ],
      "text/plain": [
       "  customer_id  gender   age payment_method\n",
       "5     C657758  Female  28.0    Credit Card\n",
       "6     C151197  Female  49.0           Cash\n",
       "7     C176086  Female  32.0    Credit Card\n",
       "8     C159642    Male  69.0    Credit Card\n",
       "9     C283361  Female  60.0    Credit Card"
      ]
     },
     "execution_count": 83,
     "metadata": {},
     "output_type": "execute_result"
    }
   ],
   "source": [
    "df[5:10]"
   ]
  },
  {
   "cell_type": "code",
   "execution_count": 84,
   "id": "c81b6936",
   "metadata": {
    "execution": {
     "iopub.execute_input": "2023-10-25T14:10:49.205595Z",
     "iopub.status.busy": "2023-10-25T14:10:49.204866Z",
     "iopub.status.idle": "2023-10-25T14:10:49.213294Z",
     "shell.execute_reply": "2023-10-25T14:10:49.212251Z"
    },
    "papermill": {
     "duration": 0.088995,
     "end_time": "2023-10-25T14:10:49.215743",
     "exception": false,
     "start_time": "2023-10-25T14:10:49.126748",
     "status": "completed"
    },
    "tags": []
   },
   "outputs": [
    {
     "data": {
      "text/plain": [
       "0        28.0\n",
       "1        21.0\n",
       "2        20.0\n",
       "3        66.0\n",
       "4        53.0\n",
       "         ... \n",
       "99452    45.0\n",
       "99453    27.0\n",
       "99454    63.0\n",
       "99455    56.0\n",
       "99456    36.0\n",
       "Name: age, Length: 99457, dtype: float64"
      ]
     },
     "execution_count": 84,
     "metadata": {},
     "output_type": "execute_result"
    }
   ],
   "source": [
    "df['age']"
   ]
  },
  {
   "cell_type": "code",
   "execution_count": 85,
   "id": "fffe6007",
   "metadata": {
    "execution": {
     "iopub.execute_input": "2023-10-25T14:10:49.370434Z",
     "iopub.status.busy": "2023-10-25T14:10:49.370064Z",
     "iopub.status.idle": "2023-10-25T14:10:49.384301Z",
     "shell.execute_reply": "2023-10-25T14:10:49.383335Z"
    },
    "papermill": {
     "duration": 0.094694,
     "end_time": "2023-10-25T14:10:49.386318",
     "exception": false,
     "start_time": "2023-10-25T14:10:49.291624",
     "status": "completed"
    },
    "tags": []
   },
   "outputs": [
    {
     "data": {
      "text/html": [
       "<div>\n",
       "<style scoped>\n",
       "    .dataframe tbody tr th:only-of-type {\n",
       "        vertical-align: middle;\n",
       "    }\n",
       "\n",
       "    .dataframe tbody tr th {\n",
       "        vertical-align: top;\n",
       "    }\n",
       "\n",
       "    .dataframe thead th {\n",
       "        text-align: right;\n",
       "    }\n",
       "</style>\n",
       "<table border=\"1\" class=\"dataframe\">\n",
       "  <thead>\n",
       "    <tr style=\"text-align: right;\">\n",
       "      <th></th>\n",
       "      <th>gender</th>\n",
       "      <th>age</th>\n",
       "    </tr>\n",
       "  </thead>\n",
       "  <tbody>\n",
       "    <tr>\n",
       "      <th>0</th>\n",
       "      <td>Female</td>\n",
       "      <td>28.0</td>\n",
       "    </tr>\n",
       "    <tr>\n",
       "      <th>1</th>\n",
       "      <td>Male</td>\n",
       "      <td>21.0</td>\n",
       "    </tr>\n",
       "    <tr>\n",
       "      <th>2</th>\n",
       "      <td>Male</td>\n",
       "      <td>20.0</td>\n",
       "    </tr>\n",
       "    <tr>\n",
       "      <th>3</th>\n",
       "      <td>Female</td>\n",
       "      <td>66.0</td>\n",
       "    </tr>\n",
       "    <tr>\n",
       "      <th>4</th>\n",
       "      <td>Female</td>\n",
       "      <td>53.0</td>\n",
       "    </tr>\n",
       "    <tr>\n",
       "      <th>...</th>\n",
       "      <td>...</td>\n",
       "      <td>...</td>\n",
       "    </tr>\n",
       "    <tr>\n",
       "      <th>99452</th>\n",
       "      <td>Female</td>\n",
       "      <td>45.0</td>\n",
       "    </tr>\n",
       "    <tr>\n",
       "      <th>99453</th>\n",
       "      <td>Male</td>\n",
       "      <td>27.0</td>\n",
       "    </tr>\n",
       "    <tr>\n",
       "      <th>99454</th>\n",
       "      <td>Male</td>\n",
       "      <td>63.0</td>\n",
       "    </tr>\n",
       "    <tr>\n",
       "      <th>99455</th>\n",
       "      <td>Male</td>\n",
       "      <td>56.0</td>\n",
       "    </tr>\n",
       "    <tr>\n",
       "      <th>99456</th>\n",
       "      <td>Female</td>\n",
       "      <td>36.0</td>\n",
       "    </tr>\n",
       "  </tbody>\n",
       "</table>\n",
       "<p>99457 rows × 2 columns</p>\n",
       "</div>"
      ],
      "text/plain": [
       "       gender   age\n",
       "0      Female  28.0\n",
       "1        Male  21.0\n",
       "2        Male  20.0\n",
       "3      Female  66.0\n",
       "4      Female  53.0\n",
       "...       ...   ...\n",
       "99452  Female  45.0\n",
       "99453    Male  27.0\n",
       "99454    Male  63.0\n",
       "99455    Male  56.0\n",
       "99456  Female  36.0\n",
       "\n",
       "[99457 rows x 2 columns]"
      ]
     },
     "execution_count": 85,
     "metadata": {},
     "output_type": "execute_result"
    }
   ],
   "source": [
    "df[['gender','age']]"
   ]
  },
  {
   "cell_type": "code",
   "execution_count": 86,
   "id": "498c0d5b",
   "metadata": {
    "execution": {
     "iopub.execute_input": "2023-10-25T14:10:49.542240Z",
     "iopub.status.busy": "2023-10-25T14:10:49.541542Z",
     "iopub.status.idle": "2023-10-25T14:10:49.558307Z",
     "shell.execute_reply": "2023-10-25T14:10:49.557484Z"
    },
    "papermill": {
     "duration": 0.096754,
     "end_time": "2023-10-25T14:10:49.560388",
     "exception": false,
     "start_time": "2023-10-25T14:10:49.463634",
     "status": "completed"
    },
    "tags": []
   },
   "outputs": [
    {
     "data": {
      "text/html": [
       "<div>\n",
       "<style scoped>\n",
       "    .dataframe tbody tr th:only-of-type {\n",
       "        vertical-align: middle;\n",
       "    }\n",
       "\n",
       "    .dataframe tbody tr th {\n",
       "        vertical-align: top;\n",
       "    }\n",
       "\n",
       "    .dataframe thead th {\n",
       "        text-align: right;\n",
       "    }\n",
       "</style>\n",
       "<table border=\"1\" class=\"dataframe\">\n",
       "  <thead>\n",
       "    <tr style=\"text-align: right;\">\n",
       "      <th></th>\n",
       "      <th>gender</th>\n",
       "      <th>age</th>\n",
       "      <th>payment_method</th>\n",
       "    </tr>\n",
       "  </thead>\n",
       "  <tbody>\n",
       "    <tr>\n",
       "      <th>0</th>\n",
       "      <td>Female</td>\n",
       "      <td>28.0</td>\n",
       "      <td>Credit Card</td>\n",
       "    </tr>\n",
       "    <tr>\n",
       "      <th>1</th>\n",
       "      <td>Male</td>\n",
       "      <td>21.0</td>\n",
       "      <td>Debit Card</td>\n",
       "    </tr>\n",
       "    <tr>\n",
       "      <th>2</th>\n",
       "      <td>Male</td>\n",
       "      <td>20.0</td>\n",
       "      <td>Cash</td>\n",
       "    </tr>\n",
       "    <tr>\n",
       "      <th>3</th>\n",
       "      <td>Female</td>\n",
       "      <td>66.0</td>\n",
       "      <td>Credit Card</td>\n",
       "    </tr>\n",
       "    <tr>\n",
       "      <th>4</th>\n",
       "      <td>Female</td>\n",
       "      <td>53.0</td>\n",
       "      <td>Cash</td>\n",
       "    </tr>\n",
       "    <tr>\n",
       "      <th>...</th>\n",
       "      <td>...</td>\n",
       "      <td>...</td>\n",
       "      <td>...</td>\n",
       "    </tr>\n",
       "    <tr>\n",
       "      <th>99452</th>\n",
       "      <td>Female</td>\n",
       "      <td>45.0</td>\n",
       "      <td>Credit Card</td>\n",
       "    </tr>\n",
       "    <tr>\n",
       "      <th>99453</th>\n",
       "      <td>Male</td>\n",
       "      <td>27.0</td>\n",
       "      <td>Cash</td>\n",
       "    </tr>\n",
       "    <tr>\n",
       "      <th>99454</th>\n",
       "      <td>Male</td>\n",
       "      <td>63.0</td>\n",
       "      <td>Debit Card</td>\n",
       "    </tr>\n",
       "    <tr>\n",
       "      <th>99455</th>\n",
       "      <td>Male</td>\n",
       "      <td>56.0</td>\n",
       "      <td>Cash</td>\n",
       "    </tr>\n",
       "    <tr>\n",
       "      <th>99456</th>\n",
       "      <td>Female</td>\n",
       "      <td>36.0</td>\n",
       "      <td>Credit Card</td>\n",
       "    </tr>\n",
       "  </tbody>\n",
       "</table>\n",
       "<p>99457 rows × 3 columns</p>\n",
       "</div>"
      ],
      "text/plain": [
       "       gender   age payment_method\n",
       "0      Female  28.0    Credit Card\n",
       "1        Male  21.0     Debit Card\n",
       "2        Male  20.0           Cash\n",
       "3      Female  66.0    Credit Card\n",
       "4      Female  53.0           Cash\n",
       "...       ...   ...            ...\n",
       "99452  Female  45.0    Credit Card\n",
       "99453    Male  27.0           Cash\n",
       "99454    Male  63.0     Debit Card\n",
       "99455    Male  56.0           Cash\n",
       "99456  Female  36.0    Credit Card\n",
       "\n",
       "[99457 rows x 3 columns]"
      ]
     },
     "execution_count": 86,
     "metadata": {},
     "output_type": "execute_result"
    }
   ],
   "source": [
    "df[['gender','age','payment_method']]"
   ]
  },
  {
   "cell_type": "code",
   "execution_count": 87,
   "id": "52408857",
   "metadata": {
    "execution": {
     "iopub.execute_input": "2023-10-25T14:10:49.718729Z",
     "iopub.status.busy": "2023-10-25T14:10:49.717832Z",
     "iopub.status.idle": "2023-10-25T14:10:49.724704Z",
     "shell.execute_reply": "2023-10-25T14:10:49.723519Z"
    },
    "papermill": {
     "duration": 0.088366,
     "end_time": "2023-10-25T14:10:49.726837",
     "exception": false,
     "start_time": "2023-10-25T14:10:49.638471",
     "status": "completed"
    },
    "tags": []
   },
   "outputs": [],
   "source": [
    "# create a label index dataframe\n",
    "import pandas as pd\n",
    "import random\n",
    "import string\n",
    "\n",
    "students = student_names = [\"Alice\", \"Bob\", \"Charlie\", \"David\", \"Eva\", \"Frank\", \"Grace\", \"Henry\", \"Ivy\", \"Jack\"]\n",
    "\n",
    "# Create a random marks DataFrame\n",
    "subjects = ['Math', 'Science', 'History', 'English', 'Art']\n",
    "data = {subject: [random.randint(50, 100) for _ in range(10)] for subject in subjects}\n",
    "dummy = pd.DataFrame(data, index=students)"
   ]
  },
  {
   "cell_type": "code",
   "execution_count": 88,
   "id": "c9853dfe",
   "metadata": {
    "execution": {
     "iopub.execute_input": "2023-10-25T14:10:49.882097Z",
     "iopub.status.busy": "2023-10-25T14:10:49.881498Z",
     "iopub.status.idle": "2023-10-25T14:10:49.892452Z",
     "shell.execute_reply": "2023-10-25T14:10:49.891419Z"
    },
    "papermill": {
     "duration": 0.090105,
     "end_time": "2023-10-25T14:10:49.894437",
     "exception": false,
     "start_time": "2023-10-25T14:10:49.804332",
     "status": "completed"
    },
    "tags": []
   },
   "outputs": [
    {
     "data": {
      "text/html": [
       "<div>\n",
       "<style scoped>\n",
       "    .dataframe tbody tr th:only-of-type {\n",
       "        vertical-align: middle;\n",
       "    }\n",
       "\n",
       "    .dataframe tbody tr th {\n",
       "        vertical-align: top;\n",
       "    }\n",
       "\n",
       "    .dataframe thead th {\n",
       "        text-align: right;\n",
       "    }\n",
       "</style>\n",
       "<table border=\"1\" class=\"dataframe\">\n",
       "  <thead>\n",
       "    <tr style=\"text-align: right;\">\n",
       "      <th></th>\n",
       "      <th>Math</th>\n",
       "      <th>Science</th>\n",
       "      <th>History</th>\n",
       "      <th>English</th>\n",
       "      <th>Art</th>\n",
       "    </tr>\n",
       "  </thead>\n",
       "  <tbody>\n",
       "    <tr>\n",
       "      <th>Alice</th>\n",
       "      <td>95</td>\n",
       "      <td>86</td>\n",
       "      <td>95</td>\n",
       "      <td>95</td>\n",
       "      <td>74</td>\n",
       "    </tr>\n",
       "    <tr>\n",
       "      <th>Bob</th>\n",
       "      <td>80</td>\n",
       "      <td>93</td>\n",
       "      <td>82</td>\n",
       "      <td>77</td>\n",
       "      <td>95</td>\n",
       "    </tr>\n",
       "    <tr>\n",
       "      <th>Charlie</th>\n",
       "      <td>97</td>\n",
       "      <td>72</td>\n",
       "      <td>95</td>\n",
       "      <td>75</td>\n",
       "      <td>59</td>\n",
       "    </tr>\n",
       "    <tr>\n",
       "      <th>David</th>\n",
       "      <td>86</td>\n",
       "      <td>88</td>\n",
       "      <td>91</td>\n",
       "      <td>78</td>\n",
       "      <td>77</td>\n",
       "    </tr>\n",
       "    <tr>\n",
       "      <th>Eva</th>\n",
       "      <td>75</td>\n",
       "      <td>54</td>\n",
       "      <td>63</td>\n",
       "      <td>67</td>\n",
       "      <td>85</td>\n",
       "    </tr>\n",
       "    <tr>\n",
       "      <th>Frank</th>\n",
       "      <td>53</td>\n",
       "      <td>50</td>\n",
       "      <td>96</td>\n",
       "      <td>51</td>\n",
       "      <td>51</td>\n",
       "    </tr>\n",
       "    <tr>\n",
       "      <th>Grace</th>\n",
       "      <td>94</td>\n",
       "      <td>70</td>\n",
       "      <td>89</td>\n",
       "      <td>94</td>\n",
       "      <td>59</td>\n",
       "    </tr>\n",
       "    <tr>\n",
       "      <th>Henry</th>\n",
       "      <td>100</td>\n",
       "      <td>53</td>\n",
       "      <td>70</td>\n",
       "      <td>79</td>\n",
       "      <td>72</td>\n",
       "    </tr>\n",
       "    <tr>\n",
       "      <th>Ivy</th>\n",
       "      <td>82</td>\n",
       "      <td>65</td>\n",
       "      <td>95</td>\n",
       "      <td>61</td>\n",
       "      <td>75</td>\n",
       "    </tr>\n",
       "    <tr>\n",
       "      <th>Jack</th>\n",
       "      <td>57</td>\n",
       "      <td>74</td>\n",
       "      <td>93</td>\n",
       "      <td>50</td>\n",
       "      <td>87</td>\n",
       "    </tr>\n",
       "  </tbody>\n",
       "</table>\n",
       "</div>"
      ],
      "text/plain": [
       "         Math  Science  History  English  Art\n",
       "Alice      95       86       95       95   74\n",
       "Bob        80       93       82       77   95\n",
       "Charlie    97       72       95       75   59\n",
       "David      86       88       91       78   77\n",
       "Eva        75       54       63       67   85\n",
       "Frank      53       50       96       51   51\n",
       "Grace      94       70       89       94   59\n",
       "Henry     100       53       70       79   72\n",
       "Ivy        82       65       95       61   75\n",
       "Jack       57       74       93       50   87"
      ]
     },
     "execution_count": 88,
     "metadata": {},
     "output_type": "execute_result"
    }
   ],
   "source": [
    "# Display the DataFrame\n",
    "dummy"
   ]
  },
  {
   "cell_type": "code",
   "execution_count": 89,
   "id": "5e429bfc",
   "metadata": {
    "execution": {
     "iopub.execute_input": "2023-10-25T14:10:50.050574Z",
     "iopub.status.busy": "2023-10-25T14:10:50.050211Z",
     "iopub.status.idle": "2023-10-25T14:10:50.057666Z",
     "shell.execute_reply": "2023-10-25T14:10:50.056658Z"
    },
    "papermill": {
     "duration": 0.087206,
     "end_time": "2023-10-25T14:10:50.059768",
     "exception": false,
     "start_time": "2023-10-25T14:10:49.972562",
     "status": "completed"
    },
    "tags": []
   },
   "outputs": [
    {
     "data": {
      "text/plain": [
       "Math       95\n",
       "Science    86\n",
       "History    95\n",
       "English    95\n",
       "Art        74\n",
       "Name: Alice, dtype: int64"
      ]
     },
     "execution_count": 89,
     "metadata": {},
     "output_type": "execute_result"
    }
   ],
   "source": [
    "dummy.loc['Alice']"
   ]
  },
  {
   "cell_type": "code",
   "execution_count": 90,
   "id": "64d8283a",
   "metadata": {
    "execution": {
     "iopub.execute_input": "2023-10-25T14:10:50.215101Z",
     "iopub.status.busy": "2023-10-25T14:10:50.214735Z",
     "iopub.status.idle": "2023-10-25T14:10:50.225442Z",
     "shell.execute_reply": "2023-10-25T14:10:50.224350Z"
    },
    "papermill": {
     "duration": 0.091072,
     "end_time": "2023-10-25T14:10:50.227763",
     "exception": false,
     "start_time": "2023-10-25T14:10:50.136691",
     "status": "completed"
    },
    "tags": []
   },
   "outputs": [
    {
     "data": {
      "text/html": [
       "<div>\n",
       "<style scoped>\n",
       "    .dataframe tbody tr th:only-of-type {\n",
       "        vertical-align: middle;\n",
       "    }\n",
       "\n",
       "    .dataframe tbody tr th {\n",
       "        vertical-align: top;\n",
       "    }\n",
       "\n",
       "    .dataframe thead th {\n",
       "        text-align: right;\n",
       "    }\n",
       "</style>\n",
       "<table border=\"1\" class=\"dataframe\">\n",
       "  <thead>\n",
       "    <tr style=\"text-align: right;\">\n",
       "      <th></th>\n",
       "      <th>Math</th>\n",
       "      <th>Science</th>\n",
       "      <th>History</th>\n",
       "      <th>English</th>\n",
       "      <th>Art</th>\n",
       "    </tr>\n",
       "  </thead>\n",
       "  <tbody>\n",
       "    <tr>\n",
       "      <th>Alice</th>\n",
       "      <td>95</td>\n",
       "      <td>86</td>\n",
       "      <td>95</td>\n",
       "      <td>95</td>\n",
       "      <td>74</td>\n",
       "    </tr>\n",
       "    <tr>\n",
       "      <th>Ivy</th>\n",
       "      <td>82</td>\n",
       "      <td>65</td>\n",
       "      <td>95</td>\n",
       "      <td>61</td>\n",
       "      <td>75</td>\n",
       "    </tr>\n",
       "  </tbody>\n",
       "</table>\n",
       "</div>"
      ],
      "text/plain": [
       "       Math  Science  History  English  Art\n",
       "Alice    95       86       95       95   74\n",
       "Ivy      82       65       95       61   75"
      ]
     },
     "execution_count": 90,
     "metadata": {},
     "output_type": "execute_result"
    }
   ],
   "source": [
    "dummy.loc[[\"Alice\",\"Ivy\"]] # two rows by their index name"
   ]
  },
  {
   "cell_type": "code",
   "execution_count": 91,
   "id": "86ff3334",
   "metadata": {
    "execution": {
     "iopub.execute_input": "2023-10-25T14:10:50.385038Z",
     "iopub.status.busy": "2023-10-25T14:10:50.384329Z",
     "iopub.status.idle": "2023-10-25T14:10:50.395761Z",
     "shell.execute_reply": "2023-10-25T14:10:50.394619Z"
    },
    "papermill": {
     "duration": 0.092962,
     "end_time": "2023-10-25T14:10:50.398116",
     "exception": false,
     "start_time": "2023-10-25T14:10:50.305154",
     "status": "completed"
    },
    "tags": []
   },
   "outputs": [
    {
     "data": {
      "text/html": [
       "<div>\n",
       "<style scoped>\n",
       "    .dataframe tbody tr th:only-of-type {\n",
       "        vertical-align: middle;\n",
       "    }\n",
       "\n",
       "    .dataframe tbody tr th {\n",
       "        vertical-align: top;\n",
       "    }\n",
       "\n",
       "    .dataframe thead th {\n",
       "        text-align: right;\n",
       "    }\n",
       "</style>\n",
       "<table border=\"1\" class=\"dataframe\">\n",
       "  <thead>\n",
       "    <tr style=\"text-align: right;\">\n",
       "      <th></th>\n",
       "      <th>Math</th>\n",
       "      <th>Science</th>\n",
       "      <th>English</th>\n",
       "    </tr>\n",
       "  </thead>\n",
       "  <tbody>\n",
       "    <tr>\n",
       "      <th>Eva</th>\n",
       "      <td>75</td>\n",
       "      <td>54</td>\n",
       "      <td>67</td>\n",
       "    </tr>\n",
       "    <tr>\n",
       "      <th>Frank</th>\n",
       "      <td>53</td>\n",
       "      <td>50</td>\n",
       "      <td>51</td>\n",
       "    </tr>\n",
       "  </tbody>\n",
       "</table>\n",
       "</div>"
      ],
      "text/plain": [
       "       Math  Science  English\n",
       "Eva      75       54       67\n",
       "Frank    53       50       51"
      ]
     },
     "execution_count": 91,
     "metadata": {},
     "output_type": "execute_result"
    }
   ],
   "source": [
    "dummy.loc[['Eva','Frank'],['Math',\"Science\",'English']]"
   ]
  },
  {
   "cell_type": "code",
   "execution_count": 92,
   "id": "c2190c17",
   "metadata": {
    "execution": {
     "iopub.execute_input": "2023-10-25T14:10:50.551654Z",
     "iopub.status.busy": "2023-10-25T14:10:50.551253Z",
     "iopub.status.idle": "2023-10-25T14:10:50.561816Z",
     "shell.execute_reply": "2023-10-25T14:10:50.560656Z"
    },
    "papermill": {
     "duration": 0.089779,
     "end_time": "2023-10-25T14:10:50.564183",
     "exception": false,
     "start_time": "2023-10-25T14:10:50.474404",
     "status": "completed"
    },
    "tags": []
   },
   "outputs": [
    {
     "data": {
      "text/html": [
       "<div>\n",
       "<style scoped>\n",
       "    .dataframe tbody tr th:only-of-type {\n",
       "        vertical-align: middle;\n",
       "    }\n",
       "\n",
       "    .dataframe tbody tr th {\n",
       "        vertical-align: top;\n",
       "    }\n",
       "\n",
       "    .dataframe thead th {\n",
       "        text-align: right;\n",
       "    }\n",
       "</style>\n",
       "<table border=\"1\" class=\"dataframe\">\n",
       "  <thead>\n",
       "    <tr style=\"text-align: right;\">\n",
       "      <th></th>\n",
       "      <th>Math</th>\n",
       "      <th>Science</th>\n",
       "      <th>History</th>\n",
       "      <th>English</th>\n",
       "      <th>Art</th>\n",
       "    </tr>\n",
       "  </thead>\n",
       "  <tbody>\n",
       "    <tr>\n",
       "      <th>Alice</th>\n",
       "      <td>95</td>\n",
       "      <td>86</td>\n",
       "      <td>95</td>\n",
       "      <td>95</td>\n",
       "      <td>74</td>\n",
       "    </tr>\n",
       "    <tr>\n",
       "      <th>Bob</th>\n",
       "      <td>80</td>\n",
       "      <td>93</td>\n",
       "      <td>82</td>\n",
       "      <td>77</td>\n",
       "      <td>95</td>\n",
       "    </tr>\n",
       "    <tr>\n",
       "      <th>Charlie</th>\n",
       "      <td>97</td>\n",
       "      <td>72</td>\n",
       "      <td>95</td>\n",
       "      <td>75</td>\n",
       "      <td>59</td>\n",
       "    </tr>\n",
       "    <tr>\n",
       "      <th>David</th>\n",
       "      <td>86</td>\n",
       "      <td>88</td>\n",
       "      <td>91</td>\n",
       "      <td>78</td>\n",
       "      <td>77</td>\n",
       "    </tr>\n",
       "    <tr>\n",
       "      <th>Eva</th>\n",
       "      <td>75</td>\n",
       "      <td>54</td>\n",
       "      <td>63</td>\n",
       "      <td>67</td>\n",
       "      <td>85</td>\n",
       "    </tr>\n",
       "    <tr>\n",
       "      <th>Frank</th>\n",
       "      <td>53</td>\n",
       "      <td>50</td>\n",
       "      <td>96</td>\n",
       "      <td>51</td>\n",
       "      <td>51</td>\n",
       "    </tr>\n",
       "    <tr>\n",
       "      <th>Grace</th>\n",
       "      <td>94</td>\n",
       "      <td>70</td>\n",
       "      <td>89</td>\n",
       "      <td>94</td>\n",
       "      <td>59</td>\n",
       "    </tr>\n",
       "    <tr>\n",
       "      <th>Henry</th>\n",
       "      <td>100</td>\n",
       "      <td>53</td>\n",
       "      <td>70</td>\n",
       "      <td>79</td>\n",
       "      <td>72</td>\n",
       "    </tr>\n",
       "    <tr>\n",
       "      <th>Ivy</th>\n",
       "      <td>82</td>\n",
       "      <td>65</td>\n",
       "      <td>95</td>\n",
       "      <td>61</td>\n",
       "      <td>75</td>\n",
       "    </tr>\n",
       "    <tr>\n",
       "      <th>Jack</th>\n",
       "      <td>57</td>\n",
       "      <td>74</td>\n",
       "      <td>93</td>\n",
       "      <td>50</td>\n",
       "      <td>87</td>\n",
       "    </tr>\n",
       "  </tbody>\n",
       "</table>\n",
       "</div>"
      ],
      "text/plain": [
       "         Math  Science  History  English  Art\n",
       "Alice      95       86       95       95   74\n",
       "Bob        80       93       82       77   95\n",
       "Charlie    97       72       95       75   59\n",
       "David      86       88       91       78   77\n",
       "Eva        75       54       63       67   85\n",
       "Frank      53       50       96       51   51\n",
       "Grace      94       70       89       94   59\n",
       "Henry     100       53       70       79   72\n",
       "Ivy        82       65       95       61   75\n",
       "Jack       57       74       93       50   87"
      ]
     },
     "execution_count": 92,
     "metadata": {},
     "output_type": "execute_result"
    }
   ],
   "source": [
    "dummy.loc[:,:]"
   ]
  },
  {
   "cell_type": "code",
   "execution_count": 93,
   "id": "ea7d4e49",
   "metadata": {
    "execution": {
     "iopub.execute_input": "2023-10-25T14:10:50.723686Z",
     "iopub.status.busy": "2023-10-25T14:10:50.723313Z",
     "iopub.status.idle": "2023-10-25T14:10:50.733675Z",
     "shell.execute_reply": "2023-10-25T14:10:50.732836Z"
    },
    "papermill": {
     "duration": 0.092918,
     "end_time": "2023-10-25T14:10:50.735807",
     "exception": false,
     "start_time": "2023-10-25T14:10:50.642889",
     "status": "completed"
    },
    "tags": []
   },
   "outputs": [
    {
     "data": {
      "text/html": [
       "<div>\n",
       "<style scoped>\n",
       "    .dataframe tbody tr th:only-of-type {\n",
       "        vertical-align: middle;\n",
       "    }\n",
       "\n",
       "    .dataframe tbody tr th {\n",
       "        vertical-align: top;\n",
       "    }\n",
       "\n",
       "    .dataframe thead th {\n",
       "        text-align: right;\n",
       "    }\n",
       "</style>\n",
       "<table border=\"1\" class=\"dataframe\">\n",
       "  <thead>\n",
       "    <tr style=\"text-align: right;\">\n",
       "      <th></th>\n",
       "      <th>English</th>\n",
       "      <th>Math</th>\n",
       "      <th>Science</th>\n",
       "    </tr>\n",
       "  </thead>\n",
       "  <tbody>\n",
       "    <tr>\n",
       "      <th>Alice</th>\n",
       "      <td>95</td>\n",
       "      <td>95</td>\n",
       "      <td>86</td>\n",
       "    </tr>\n",
       "    <tr>\n",
       "      <th>Bob</th>\n",
       "      <td>77</td>\n",
       "      <td>80</td>\n",
       "      <td>93</td>\n",
       "    </tr>\n",
       "    <tr>\n",
       "      <th>Charlie</th>\n",
       "      <td>75</td>\n",
       "      <td>97</td>\n",
       "      <td>72</td>\n",
       "    </tr>\n",
       "    <tr>\n",
       "      <th>David</th>\n",
       "      <td>78</td>\n",
       "      <td>86</td>\n",
       "      <td>88</td>\n",
       "    </tr>\n",
       "    <tr>\n",
       "      <th>Eva</th>\n",
       "      <td>67</td>\n",
       "      <td>75</td>\n",
       "      <td>54</td>\n",
       "    </tr>\n",
       "    <tr>\n",
       "      <th>Frank</th>\n",
       "      <td>51</td>\n",
       "      <td>53</td>\n",
       "      <td>50</td>\n",
       "    </tr>\n",
       "    <tr>\n",
       "      <th>Grace</th>\n",
       "      <td>94</td>\n",
       "      <td>94</td>\n",
       "      <td>70</td>\n",
       "    </tr>\n",
       "    <tr>\n",
       "      <th>Henry</th>\n",
       "      <td>79</td>\n",
       "      <td>100</td>\n",
       "      <td>53</td>\n",
       "    </tr>\n",
       "    <tr>\n",
       "      <th>Ivy</th>\n",
       "      <td>61</td>\n",
       "      <td>82</td>\n",
       "      <td>65</td>\n",
       "    </tr>\n",
       "    <tr>\n",
       "      <th>Jack</th>\n",
       "      <td>50</td>\n",
       "      <td>57</td>\n",
       "      <td>74</td>\n",
       "    </tr>\n",
       "  </tbody>\n",
       "</table>\n",
       "</div>"
      ],
      "text/plain": [
       "         English  Math  Science\n",
       "Alice         95    95       86\n",
       "Bob           77    80       93\n",
       "Charlie       75    97       72\n",
       "David         78    86       88\n",
       "Eva           67    75       54\n",
       "Frank         51    53       50\n",
       "Grace         94    94       70\n",
       "Henry         79   100       53\n",
       "Ivy           61    82       65\n",
       "Jack          50    57       74"
      ]
     },
     "execution_count": 93,
     "metadata": {},
     "output_type": "execute_result"
    }
   ],
   "source": [
    "dummy.loc[:,[\"English\",\"Math\",'Science']]"
   ]
  },
  {
   "cell_type": "code",
   "execution_count": 94,
   "id": "35139396",
   "metadata": {
    "execution": {
     "iopub.execute_input": "2023-10-25T14:10:50.896467Z",
     "iopub.status.busy": "2023-10-25T14:10:50.896083Z",
     "iopub.status.idle": "2023-10-25T14:10:50.908779Z",
     "shell.execute_reply": "2023-10-25T14:10:50.907833Z"
    },
    "papermill": {
     "duration": 0.097706,
     "end_time": "2023-10-25T14:10:50.910817",
     "exception": false,
     "start_time": "2023-10-25T14:10:50.813111",
     "status": "completed"
    },
    "tags": []
   },
   "outputs": [
    {
     "data": {
      "text/html": [
       "<div>\n",
       "<style scoped>\n",
       "    .dataframe tbody tr th:only-of-type {\n",
       "        vertical-align: middle;\n",
       "    }\n",
       "\n",
       "    .dataframe tbody tr th {\n",
       "        vertical-align: top;\n",
       "    }\n",
       "\n",
       "    .dataframe thead th {\n",
       "        text-align: right;\n",
       "    }\n",
       "</style>\n",
       "<table border=\"1\" class=\"dataframe\">\n",
       "  <thead>\n",
       "    <tr style=\"text-align: right;\">\n",
       "      <th></th>\n",
       "      <th>Math</th>\n",
       "      <th>Science</th>\n",
       "      <th>History</th>\n",
       "      <th>English</th>\n",
       "      <th>Art</th>\n",
       "    </tr>\n",
       "  </thead>\n",
       "  <tbody>\n",
       "    <tr>\n",
       "      <th>Eva</th>\n",
       "      <td>75</td>\n",
       "      <td>54</td>\n",
       "      <td>63</td>\n",
       "      <td>67</td>\n",
       "      <td>85</td>\n",
       "    </tr>\n",
       "    <tr>\n",
       "      <th>Bob</th>\n",
       "      <td>80</td>\n",
       "      <td>93</td>\n",
       "      <td>82</td>\n",
       "      <td>77</td>\n",
       "      <td>95</td>\n",
       "    </tr>\n",
       "    <tr>\n",
       "      <th>Ivy</th>\n",
       "      <td>82</td>\n",
       "      <td>65</td>\n",
       "      <td>95</td>\n",
       "      <td>61</td>\n",
       "      <td>75</td>\n",
       "    </tr>\n",
       "    <tr>\n",
       "      <th>David</th>\n",
       "      <td>86</td>\n",
       "      <td>88</td>\n",
       "      <td>91</td>\n",
       "      <td>78</td>\n",
       "      <td>77</td>\n",
       "    </tr>\n",
       "    <tr>\n",
       "      <th>Grace</th>\n",
       "      <td>94</td>\n",
       "      <td>70</td>\n",
       "      <td>89</td>\n",
       "      <td>94</td>\n",
       "      <td>59</td>\n",
       "    </tr>\n",
       "    <tr>\n",
       "      <th>Alice</th>\n",
       "      <td>95</td>\n",
       "      <td>86</td>\n",
       "      <td>95</td>\n",
       "      <td>95</td>\n",
       "      <td>74</td>\n",
       "    </tr>\n",
       "    <tr>\n",
       "      <th>Charlie</th>\n",
       "      <td>97</td>\n",
       "      <td>72</td>\n",
       "      <td>95</td>\n",
       "      <td>75</td>\n",
       "      <td>59</td>\n",
       "    </tr>\n",
       "    <tr>\n",
       "      <th>Henry</th>\n",
       "      <td>100</td>\n",
       "      <td>53</td>\n",
       "      <td>70</td>\n",
       "      <td>79</td>\n",
       "      <td>72</td>\n",
       "    </tr>\n",
       "  </tbody>\n",
       "</table>\n",
       "</div>"
      ],
      "text/plain": [
       "         Math  Science  History  English  Art\n",
       "Eva        75       54       63       67   85\n",
       "Bob        80       93       82       77   95\n",
       "Ivy        82       65       95       61   75\n",
       "David      86       88       91       78   77\n",
       "Grace      94       70       89       94   59\n",
       "Alice      95       86       95       95   74\n",
       "Charlie    97       72       95       75   59\n",
       "Henry     100       53       70       79   72"
      ]
     },
     "execution_count": 94,
     "metadata": {},
     "output_type": "execute_result"
    }
   ],
   "source": [
    "dummy[dummy['Math']>60].sort_values(\"Math\")"
   ]
  },
  {
   "cell_type": "code",
   "execution_count": 95,
   "id": "40504fb0",
   "metadata": {
    "execution": {
     "iopub.execute_input": "2023-10-25T14:10:51.073152Z",
     "iopub.status.busy": "2023-10-25T14:10:51.072782Z",
     "iopub.status.idle": "2023-10-25T14:10:51.086215Z",
     "shell.execute_reply": "2023-10-25T14:10:51.085069Z"
    },
    "papermill": {
     "duration": 0.09644,
     "end_time": "2023-10-25T14:10:51.088661",
     "exception": false,
     "start_time": "2023-10-25T14:10:50.992221",
     "status": "completed"
    },
    "tags": []
   },
   "outputs": [
    {
     "data": {
      "text/html": [
       "<div>\n",
       "<style scoped>\n",
       "    .dataframe tbody tr th:only-of-type {\n",
       "        vertical-align: middle;\n",
       "    }\n",
       "\n",
       "    .dataframe tbody tr th {\n",
       "        vertical-align: top;\n",
       "    }\n",
       "\n",
       "    .dataframe thead th {\n",
       "        text-align: right;\n",
       "    }\n",
       "</style>\n",
       "<table border=\"1\" class=\"dataframe\">\n",
       "  <thead>\n",
       "    <tr style=\"text-align: right;\">\n",
       "      <th></th>\n",
       "      <th>Math</th>\n",
       "      <th>Science</th>\n",
       "      <th>Art</th>\n",
       "    </tr>\n",
       "  </thead>\n",
       "  <tbody>\n",
       "    <tr>\n",
       "      <th>Eva</th>\n",
       "      <td>75</td>\n",
       "      <td>54</td>\n",
       "      <td>85</td>\n",
       "    </tr>\n",
       "    <tr>\n",
       "      <th>Bob</th>\n",
       "      <td>80</td>\n",
       "      <td>93</td>\n",
       "      <td>95</td>\n",
       "    </tr>\n",
       "    <tr>\n",
       "      <th>Ivy</th>\n",
       "      <td>82</td>\n",
       "      <td>65</td>\n",
       "      <td>75</td>\n",
       "    </tr>\n",
       "    <tr>\n",
       "      <th>David</th>\n",
       "      <td>86</td>\n",
       "      <td>88</td>\n",
       "      <td>77</td>\n",
       "    </tr>\n",
       "    <tr>\n",
       "      <th>Grace</th>\n",
       "      <td>94</td>\n",
       "      <td>70</td>\n",
       "      <td>59</td>\n",
       "    </tr>\n",
       "    <tr>\n",
       "      <th>Alice</th>\n",
       "      <td>95</td>\n",
       "      <td>86</td>\n",
       "      <td>74</td>\n",
       "    </tr>\n",
       "    <tr>\n",
       "      <th>Charlie</th>\n",
       "      <td>97</td>\n",
       "      <td>72</td>\n",
       "      <td>59</td>\n",
       "    </tr>\n",
       "    <tr>\n",
       "      <th>Henry</th>\n",
       "      <td>100</td>\n",
       "      <td>53</td>\n",
       "      <td>72</td>\n",
       "    </tr>\n",
       "  </tbody>\n",
       "</table>\n",
       "</div>"
      ],
      "text/plain": [
       "         Math  Science  Art\n",
       "Eva        75       54   85\n",
       "Bob        80       93   95\n",
       "Ivy        82       65   75\n",
       "David      86       88   77\n",
       "Grace      94       70   59\n",
       "Alice      95       86   74\n",
       "Charlie    97       72   59\n",
       "Henry     100       53   72"
      ]
     },
     "execution_count": 95,
     "metadata": {},
     "output_type": "execute_result"
    }
   ],
   "source": [
    "dummy[dummy['Math']>60].sort_values(\"Math\")[['Math','Science','Art']]"
   ]
  },
  {
   "cell_type": "code",
   "execution_count": 96,
   "id": "93e0e99c",
   "metadata": {
    "execution": {
     "iopub.execute_input": "2023-10-25T14:10:51.247540Z",
     "iopub.status.busy": "2023-10-25T14:10:51.246959Z",
     "iopub.status.idle": "2023-10-25T14:10:51.255153Z",
     "shell.execute_reply": "2023-10-25T14:10:51.254069Z"
    },
    "papermill": {
     "duration": 0.089233,
     "end_time": "2023-10-25T14:10:51.257347",
     "exception": false,
     "start_time": "2023-10-25T14:10:51.168114",
     "status": "completed"
    },
    "tags": []
   },
   "outputs": [
    {
     "data": {
      "text/plain": [
       "0    28.0\n",
       "1    21.0\n",
       "2    20.0\n",
       "3    66.0\n",
       "4    53.0\n",
       "5    28.0\n",
       "Name: age, dtype: float64"
      ]
     },
     "execution_count": 96,
     "metadata": {},
     "output_type": "execute_result"
    }
   ],
   "source": [
    "df.loc[:5,\"age\"]"
   ]
  },
  {
   "cell_type": "code",
   "execution_count": 97,
   "id": "9f21157e",
   "metadata": {
    "execution": {
     "iopub.execute_input": "2023-10-25T14:10:51.416882Z",
     "iopub.status.busy": "2023-10-25T14:10:51.416526Z",
     "iopub.status.idle": "2023-10-25T14:10:51.440739Z",
     "shell.execute_reply": "2023-10-25T14:10:51.439571Z"
    },
    "papermill": {
     "duration": 0.106847,
     "end_time": "2023-10-25T14:10:51.442778",
     "exception": false,
     "start_time": "2023-10-25T14:10:51.335931",
     "status": "completed"
    },
    "tags": []
   },
   "outputs": [
    {
     "data": {
      "text/html": [
       "<div>\n",
       "<style scoped>\n",
       "    .dataframe tbody tr th:only-of-type {\n",
       "        vertical-align: middle;\n",
       "    }\n",
       "\n",
       "    .dataframe tbody tr th {\n",
       "        vertical-align: top;\n",
       "    }\n",
       "\n",
       "    .dataframe thead th {\n",
       "        text-align: right;\n",
       "    }\n",
       "</style>\n",
       "<table border=\"1\" class=\"dataframe\">\n",
       "  <thead>\n",
       "    <tr style=\"text-align: right;\">\n",
       "      <th></th>\n",
       "      <th>gender</th>\n",
       "      <th>age</th>\n",
       "    </tr>\n",
       "  </thead>\n",
       "  <tbody>\n",
       "    <tr>\n",
       "      <th>3</th>\n",
       "      <td>Female</td>\n",
       "      <td>66.0</td>\n",
       "    </tr>\n",
       "    <tr>\n",
       "      <th>4</th>\n",
       "      <td>Female</td>\n",
       "      <td>53.0</td>\n",
       "    </tr>\n",
       "    <tr>\n",
       "      <th>6</th>\n",
       "      <td>Female</td>\n",
       "      <td>49.0</td>\n",
       "    </tr>\n",
       "    <tr>\n",
       "      <th>7</th>\n",
       "      <td>Female</td>\n",
       "      <td>32.0</td>\n",
       "    </tr>\n",
       "    <tr>\n",
       "      <th>8</th>\n",
       "      <td>Male</td>\n",
       "      <td>69.0</td>\n",
       "    </tr>\n",
       "    <tr>\n",
       "      <th>...</th>\n",
       "      <td>...</td>\n",
       "      <td>...</td>\n",
       "    </tr>\n",
       "    <tr>\n",
       "      <th>99451</th>\n",
       "      <td>Male</td>\n",
       "      <td>50.0</td>\n",
       "    </tr>\n",
       "    <tr>\n",
       "      <th>99452</th>\n",
       "      <td>Female</td>\n",
       "      <td>45.0</td>\n",
       "    </tr>\n",
       "    <tr>\n",
       "      <th>99454</th>\n",
       "      <td>Male</td>\n",
       "      <td>63.0</td>\n",
       "    </tr>\n",
       "    <tr>\n",
       "      <th>99455</th>\n",
       "      <td>Male</td>\n",
       "      <td>56.0</td>\n",
       "    </tr>\n",
       "    <tr>\n",
       "      <th>99456</th>\n",
       "      <td>Female</td>\n",
       "      <td>36.0</td>\n",
       "    </tr>\n",
       "  </tbody>\n",
       "</table>\n",
       "<p>74343 rows × 2 columns</p>\n",
       "</div>"
      ],
      "text/plain": [
       "       gender   age\n",
       "3      Female  66.0\n",
       "4      Female  53.0\n",
       "6      Female  49.0\n",
       "7      Female  32.0\n",
       "8        Male  69.0\n",
       "...       ...   ...\n",
       "99451    Male  50.0\n",
       "99452  Female  45.0\n",
       "99454    Male  63.0\n",
       "99455    Male  56.0\n",
       "99456  Female  36.0\n",
       "\n",
       "[74343 rows x 2 columns]"
      ]
     },
     "execution_count": 97,
     "metadata": {},
     "output_type": "execute_result"
    }
   ],
   "source": [
    "df[df.age>30][['gender','age']]"
   ]
  },
  {
   "cell_type": "code",
   "execution_count": 98,
   "id": "d44dee69",
   "metadata": {
    "execution": {
     "iopub.execute_input": "2023-10-25T14:10:51.665791Z",
     "iopub.status.busy": "2023-10-25T14:10:51.665398Z",
     "iopub.status.idle": "2023-10-25T14:10:51.685438Z",
     "shell.execute_reply": "2023-10-25T14:10:51.684286Z"
    },
    "papermill": {
     "duration": 0.104911,
     "end_time": "2023-10-25T14:10:51.687843",
     "exception": false,
     "start_time": "2023-10-25T14:10:51.582932",
     "status": "completed"
    },
    "tags": []
   },
   "outputs": [
    {
     "data": {
      "text/html": [
       "<div>\n",
       "<style scoped>\n",
       "    .dataframe tbody tr th:only-of-type {\n",
       "        vertical-align: middle;\n",
       "    }\n",
       "\n",
       "    .dataframe tbody tr th {\n",
       "        vertical-align: top;\n",
       "    }\n",
       "\n",
       "    .dataframe thead th {\n",
       "        text-align: right;\n",
       "    }\n",
       "</style>\n",
       "<table border=\"1\" class=\"dataframe\">\n",
       "  <thead>\n",
       "    <tr style=\"text-align: right;\">\n",
       "      <th></th>\n",
       "      <th>gender</th>\n",
       "      <th>age</th>\n",
       "    </tr>\n",
       "  </thead>\n",
       "  <tbody>\n",
       "    <tr>\n",
       "      <th>3</th>\n",
       "      <td>Female</td>\n",
       "      <td>66.0</td>\n",
       "    </tr>\n",
       "    <tr>\n",
       "      <th>4</th>\n",
       "      <td>Female</td>\n",
       "      <td>53.0</td>\n",
       "    </tr>\n",
       "  </tbody>\n",
       "</table>\n",
       "</div>"
      ],
      "text/plain": [
       "   gender   age\n",
       "3  Female  66.0\n",
       "4  Female  53.0"
      ]
     },
     "execution_count": 98,
     "metadata": {},
     "output_type": "execute_result"
    }
   ],
   "source": [
    "df.loc[df['age'] > 30, ['gender', 'age']][:2]"
   ]
  },
  {
   "cell_type": "code",
   "execution_count": 99,
   "id": "4495424b",
   "metadata": {
    "execution": {
     "iopub.execute_input": "2023-10-25T14:10:51.849908Z",
     "iopub.status.busy": "2023-10-25T14:10:51.849519Z",
     "iopub.status.idle": "2023-10-25T14:10:51.866057Z",
     "shell.execute_reply": "2023-10-25T14:10:51.864943Z"
    },
    "papermill": {
     "duration": 0.100692,
     "end_time": "2023-10-25T14:10:51.868551",
     "exception": false,
     "start_time": "2023-10-25T14:10:51.767859",
     "status": "completed"
    },
    "tags": []
   },
   "outputs": [
    {
     "data": {
      "text/html": [
       "<div>\n",
       "<style scoped>\n",
       "    .dataframe tbody tr th:only-of-type {\n",
       "        vertical-align: middle;\n",
       "    }\n",
       "\n",
       "    .dataframe tbody tr th {\n",
       "        vertical-align: top;\n",
       "    }\n",
       "\n",
       "    .dataframe thead th {\n",
       "        text-align: right;\n",
       "    }\n",
       "</style>\n",
       "<table border=\"1\" class=\"dataframe\">\n",
       "  <thead>\n",
       "    <tr style=\"text-align: right;\">\n",
       "      <th></th>\n",
       "      <th>age</th>\n",
       "      <th>gender</th>\n",
       "    </tr>\n",
       "  </thead>\n",
       "  <tbody>\n",
       "    <tr>\n",
       "      <th>46</th>\n",
       "      <td>19.0</td>\n",
       "      <td>Female</td>\n",
       "    </tr>\n",
       "    <tr>\n",
       "      <th>48</th>\n",
       "      <td>18.0</td>\n",
       "      <td>Male</td>\n",
       "    </tr>\n",
       "    <tr>\n",
       "      <th>57</th>\n",
       "      <td>19.0</td>\n",
       "      <td>Female</td>\n",
       "    </tr>\n",
       "    <tr>\n",
       "      <th>109</th>\n",
       "      <td>18.0</td>\n",
       "      <td>Male</td>\n",
       "    </tr>\n",
       "    <tr>\n",
       "      <th>111</th>\n",
       "      <td>19.0</td>\n",
       "      <td>Female</td>\n",
       "    </tr>\n",
       "    <tr>\n",
       "      <th>...</th>\n",
       "      <td>...</td>\n",
       "      <td>...</td>\n",
       "    </tr>\n",
       "    <tr>\n",
       "      <th>99344</th>\n",
       "      <td>19.0</td>\n",
       "      <td>Male</td>\n",
       "    </tr>\n",
       "    <tr>\n",
       "      <th>99360</th>\n",
       "      <td>19.0</td>\n",
       "      <td>Male</td>\n",
       "    </tr>\n",
       "    <tr>\n",
       "      <th>99364</th>\n",
       "      <td>18.0</td>\n",
       "      <td>Female</td>\n",
       "    </tr>\n",
       "    <tr>\n",
       "      <th>99404</th>\n",
       "      <td>18.0</td>\n",
       "      <td>Male</td>\n",
       "    </tr>\n",
       "    <tr>\n",
       "      <th>99426</th>\n",
       "      <td>19.0</td>\n",
       "      <td>Female</td>\n",
       "    </tr>\n",
       "  </tbody>\n",
       "</table>\n",
       "<p>3773 rows × 2 columns</p>\n",
       "</div>"
      ],
      "text/plain": [
       "        age  gender\n",
       "46     19.0  Female\n",
       "48     18.0    Male\n",
       "57     19.0  Female\n",
       "109    18.0    Male\n",
       "111    19.0  Female\n",
       "...     ...     ...\n",
       "99344  19.0    Male\n",
       "99360  19.0    Male\n",
       "99364  18.0  Female\n",
       "99404  18.0    Male\n",
       "99426  19.0  Female\n",
       "\n",
       "[3773 rows x 2 columns]"
      ]
     },
     "execution_count": 99,
     "metadata": {},
     "output_type": "execute_result"
    }
   ],
   "source": [
    "df.loc[df['age']<20,['age','gender']]"
   ]
  },
  {
   "cell_type": "code",
   "execution_count": 100,
   "id": "a208c852",
   "metadata": {
    "execution": {
     "iopub.execute_input": "2023-10-25T14:10:52.033727Z",
     "iopub.status.busy": "2023-10-25T14:10:52.033349Z",
     "iopub.status.idle": "2023-10-25T14:10:52.048084Z",
     "shell.execute_reply": "2023-10-25T14:10:52.047334Z"
    },
    "papermill": {
     "duration": 0.09899,
     "end_time": "2023-10-25T14:10:52.050118",
     "exception": false,
     "start_time": "2023-10-25T14:10:51.951128",
     "status": "completed"
    },
    "tags": []
   },
   "outputs": [
    {
     "data": {
      "text/html": [
       "<div>\n",
       "<style scoped>\n",
       "    .dataframe tbody tr th:only-of-type {\n",
       "        vertical-align: middle;\n",
       "    }\n",
       "\n",
       "    .dataframe tbody tr th {\n",
       "        vertical-align: top;\n",
       "    }\n",
       "\n",
       "    .dataframe thead th {\n",
       "        text-align: right;\n",
       "    }\n",
       "</style>\n",
       "<table border=\"1\" class=\"dataframe\">\n",
       "  <thead>\n",
       "    <tr style=\"text-align: right;\">\n",
       "      <th></th>\n",
       "      <th>customer_id</th>\n",
       "      <th>gender</th>\n",
       "      <th>age</th>\n",
       "      <th>payment_method</th>\n",
       "    </tr>\n",
       "  </thead>\n",
       "  <tbody>\n",
       "    <tr>\n",
       "      <th>2</th>\n",
       "      <td>C266599</td>\n",
       "      <td>Male</td>\n",
       "      <td>20.0</td>\n",
       "      <td>Cash</td>\n",
       "    </tr>\n",
       "    <tr>\n",
       "      <th>191</th>\n",
       "      <td>C161285</td>\n",
       "      <td>Female</td>\n",
       "      <td>20.0</td>\n",
       "      <td>Credit Card</td>\n",
       "    </tr>\n",
       "    <tr>\n",
       "      <th>220</th>\n",
       "      <td>C662958</td>\n",
       "      <td>Female</td>\n",
       "      <td>20.0</td>\n",
       "      <td>Cash</td>\n",
       "    </tr>\n",
       "    <tr>\n",
       "      <th>239</th>\n",
       "      <td>C252021</td>\n",
       "      <td>Female</td>\n",
       "      <td>20.0</td>\n",
       "      <td>Credit Card</td>\n",
       "    </tr>\n",
       "    <tr>\n",
       "      <th>290</th>\n",
       "      <td>C130479</td>\n",
       "      <td>Male</td>\n",
       "      <td>20.0</td>\n",
       "      <td>Cash</td>\n",
       "    </tr>\n",
       "    <tr>\n",
       "      <th>...</th>\n",
       "      <td>...</td>\n",
       "      <td>...</td>\n",
       "      <td>...</td>\n",
       "      <td>...</td>\n",
       "    </tr>\n",
       "    <tr>\n",
       "      <th>99036</th>\n",
       "      <td>C107419</td>\n",
       "      <td>Male</td>\n",
       "      <td>20.0</td>\n",
       "      <td>Debit Card</td>\n",
       "    </tr>\n",
       "    <tr>\n",
       "      <th>99045</th>\n",
       "      <td>C307974</td>\n",
       "      <td>Male</td>\n",
       "      <td>20.0</td>\n",
       "      <td>Cash</td>\n",
       "    </tr>\n",
       "    <tr>\n",
       "      <th>99193</th>\n",
       "      <td>C293279</td>\n",
       "      <td>Female</td>\n",
       "      <td>20.0</td>\n",
       "      <td>Credit Card</td>\n",
       "    </tr>\n",
       "    <tr>\n",
       "      <th>99299</th>\n",
       "      <td>C212383</td>\n",
       "      <td>Female</td>\n",
       "      <td>20.0</td>\n",
       "      <td>Debit Card</td>\n",
       "    </tr>\n",
       "    <tr>\n",
       "      <th>99309</th>\n",
       "      <td>C253676</td>\n",
       "      <td>Female</td>\n",
       "      <td>20.0</td>\n",
       "      <td>Cash</td>\n",
       "    </tr>\n",
       "  </tbody>\n",
       "</table>\n",
       "<p>1844 rows × 4 columns</p>\n",
       "</div>"
      ],
      "text/plain": [
       "      customer_id  gender   age payment_method\n",
       "2         C266599    Male  20.0           Cash\n",
       "191       C161285  Female  20.0    Credit Card\n",
       "220       C662958  Female  20.0           Cash\n",
       "239       C252021  Female  20.0    Credit Card\n",
       "290       C130479    Male  20.0           Cash\n",
       "...           ...     ...   ...            ...\n",
       "99036     C107419    Male  20.0     Debit Card\n",
       "99045     C307974    Male  20.0           Cash\n",
       "99193     C293279  Female  20.0    Credit Card\n",
       "99299     C212383  Female  20.0     Debit Card\n",
       "99309     C253676  Female  20.0           Cash\n",
       "\n",
       "[1844 rows x 4 columns]"
      ]
     },
     "execution_count": 100,
     "metadata": {},
     "output_type": "execute_result"
    }
   ],
   "source": [
    "df[df['age']==20]"
   ]
  },
  {
   "cell_type": "code",
   "execution_count": 101,
   "id": "2d4cc53e",
   "metadata": {
    "execution": {
     "iopub.execute_input": "2023-10-25T14:10:52.212542Z",
     "iopub.status.busy": "2023-10-25T14:10:52.212163Z",
     "iopub.status.idle": "2023-10-25T14:10:52.223318Z",
     "shell.execute_reply": "2023-10-25T14:10:52.222214Z"
    },
    "papermill": {
     "duration": 0.096037,
     "end_time": "2023-10-25T14:10:52.225468",
     "exception": false,
     "start_time": "2023-10-25T14:10:52.129431",
     "status": "completed"
    },
    "tags": []
   },
   "outputs": [
    {
     "data": {
      "text/html": [
       "<div>\n",
       "<style scoped>\n",
       "    .dataframe tbody tr th:only-of-type {\n",
       "        vertical-align: middle;\n",
       "    }\n",
       "\n",
       "    .dataframe tbody tr th {\n",
       "        vertical-align: top;\n",
       "    }\n",
       "\n",
       "    .dataframe thead th {\n",
       "        text-align: right;\n",
       "    }\n",
       "</style>\n",
       "<table border=\"1\" class=\"dataframe\">\n",
       "  <thead>\n",
       "    <tr style=\"text-align: right;\">\n",
       "      <th></th>\n",
       "      <th>customer_id</th>\n",
       "      <th>gender</th>\n",
       "      <th>age</th>\n",
       "      <th>payment_method</th>\n",
       "    </tr>\n",
       "  </thead>\n",
       "  <tbody>\n",
       "    <tr>\n",
       "      <th>0</th>\n",
       "      <td>C241288</td>\n",
       "      <td>Female</td>\n",
       "      <td>28.0</td>\n",
       "      <td>Credit Card</td>\n",
       "    </tr>\n",
       "    <tr>\n",
       "      <th>1</th>\n",
       "      <td>C111565</td>\n",
       "      <td>Male</td>\n",
       "      <td>21.0</td>\n",
       "      <td>Debit Card</td>\n",
       "    </tr>\n",
       "    <tr>\n",
       "      <th>2</th>\n",
       "      <td>C266599</td>\n",
       "      <td>Male</td>\n",
       "      <td>20.0</td>\n",
       "      <td>Cash</td>\n",
       "    </tr>\n",
       "    <tr>\n",
       "      <th>3</th>\n",
       "      <td>C988172</td>\n",
       "      <td>Female</td>\n",
       "      <td>66.0</td>\n",
       "      <td>Credit Card</td>\n",
       "    </tr>\n",
       "    <tr>\n",
       "      <th>4</th>\n",
       "      <td>C189076</td>\n",
       "      <td>Female</td>\n",
       "      <td>53.0</td>\n",
       "      <td>Cash</td>\n",
       "    </tr>\n",
       "  </tbody>\n",
       "</table>\n",
       "</div>"
      ],
      "text/plain": [
       "  customer_id  gender   age payment_method\n",
       "0     C241288  Female  28.0    Credit Card\n",
       "1     C111565    Male  21.0     Debit Card\n",
       "2     C266599    Male  20.0           Cash\n",
       "3     C988172  Female  66.0    Credit Card\n",
       "4     C189076  Female  53.0           Cash"
      ]
     },
     "execution_count": 101,
     "metadata": {},
     "output_type": "execute_result"
    }
   ],
   "source": [
    "df[:5]"
   ]
  },
  {
   "cell_type": "code",
   "execution_count": 102,
   "id": "7da6a6d9",
   "metadata": {
    "execution": {
     "iopub.execute_input": "2023-10-25T14:10:52.387456Z",
     "iopub.status.busy": "2023-10-25T14:10:52.387078Z",
     "iopub.status.idle": "2023-10-25T14:10:52.393587Z",
     "shell.execute_reply": "2023-10-25T14:10:52.392549Z"
    },
    "papermill": {
     "duration": 0.091136,
     "end_time": "2023-10-25T14:10:52.395755",
     "exception": false,
     "start_time": "2023-10-25T14:10:52.304619",
     "status": "completed"
    },
    "tags": []
   },
   "outputs": [
    {
     "data": {
      "text/plain": [
       "28.0"
      ]
     },
     "execution_count": 102,
     "metadata": {},
     "output_type": "execute_result"
    }
   ],
   "source": [
    "df.at[0,'age'] # age value at index row 0"
   ]
  },
  {
   "cell_type": "code",
   "execution_count": 103,
   "id": "91b1aed8",
   "metadata": {
    "execution": {
     "iopub.execute_input": "2023-10-25T14:10:52.559153Z",
     "iopub.status.busy": "2023-10-25T14:10:52.558775Z",
     "iopub.status.idle": "2023-10-25T14:10:52.565179Z",
     "shell.execute_reply": "2023-10-25T14:10:52.564132Z"
    },
    "papermill": {
     "duration": 0.08992,
     "end_time": "2023-10-25T14:10:52.567230",
     "exception": false,
     "start_time": "2023-10-25T14:10:52.477310",
     "status": "completed"
    },
    "tags": []
   },
   "outputs": [
    {
     "data": {
      "text/plain": [
       "'Male'"
      ]
     },
     "execution_count": 103,
     "metadata": {},
     "output_type": "execute_result"
    }
   ],
   "source": [
    "df.at[2,'gender'] "
   ]
  },
  {
   "cell_type": "code",
   "execution_count": 104,
   "id": "d02b5bad",
   "metadata": {
    "execution": {
     "iopub.execute_input": "2023-10-25T14:10:52.727783Z",
     "iopub.status.busy": "2023-10-25T14:10:52.727387Z",
     "iopub.status.idle": "2023-10-25T14:10:52.734248Z",
     "shell.execute_reply": "2023-10-25T14:10:52.732800Z"
    },
    "papermill": {
     "duration": 0.089843,
     "end_time": "2023-10-25T14:10:52.736505",
     "exception": false,
     "start_time": "2023-10-25T14:10:52.646662",
     "status": "completed"
    },
    "tags": []
   },
   "outputs": [
    {
     "data": {
      "text/plain": [
       "28.0"
      ]
     },
     "execution_count": 104,
     "metadata": {},
     "output_type": "execute_result"
    }
   ],
   "source": [
    "df.iat[0,2]"
   ]
  },
  {
   "cell_type": "code",
   "execution_count": 105,
   "id": "718fe810",
   "metadata": {
    "execution": {
     "iopub.execute_input": "2023-10-25T14:10:52.899488Z",
     "iopub.status.busy": "2023-10-25T14:10:52.899083Z",
     "iopub.status.idle": "2023-10-25T14:10:52.905554Z",
     "shell.execute_reply": "2023-10-25T14:10:52.904770Z"
    },
    "papermill": {
     "duration": 0.091371,
     "end_time": "2023-10-25T14:10:52.907530",
     "exception": false,
     "start_time": "2023-10-25T14:10:52.816159",
     "status": "completed"
    },
    "tags": []
   },
   "outputs": [
    {
     "data": {
      "text/plain": [
       "'Male'"
      ]
     },
     "execution_count": 105,
     "metadata": {},
     "output_type": "execute_result"
    }
   ],
   "source": [
    "df.iat[2,1]"
   ]
  },
  {
   "cell_type": "code",
   "execution_count": 106,
   "id": "42982276",
   "metadata": {
    "execution": {
     "iopub.execute_input": "2023-10-25T14:10:53.073142Z",
     "iopub.status.busy": "2023-10-25T14:10:53.072738Z",
     "iopub.status.idle": "2023-10-25T14:10:53.083317Z",
     "shell.execute_reply": "2023-10-25T14:10:53.082173Z"
    },
    "papermill": {
     "duration": 0.094577,
     "end_time": "2023-10-25T14:10:53.085303",
     "exception": false,
     "start_time": "2023-10-25T14:10:52.990726",
     "status": "completed"
    },
    "tags": []
   },
   "outputs": [
    {
     "data": {
      "text/html": [
       "<div>\n",
       "<style scoped>\n",
       "    .dataframe tbody tr th:only-of-type {\n",
       "        vertical-align: middle;\n",
       "    }\n",
       "\n",
       "    .dataframe tbody tr th {\n",
       "        vertical-align: top;\n",
       "    }\n",
       "\n",
       "    .dataframe thead th {\n",
       "        text-align: right;\n",
       "    }\n",
       "</style>\n",
       "<table border=\"1\" class=\"dataframe\">\n",
       "  <thead>\n",
       "    <tr style=\"text-align: right;\">\n",
       "      <th></th>\n",
       "      <th>gender</th>\n",
       "      <th>age</th>\n",
       "    </tr>\n",
       "  </thead>\n",
       "  <tbody>\n",
       "    <tr>\n",
       "      <th>1</th>\n",
       "      <td>Male</td>\n",
       "      <td>21.0</td>\n",
       "    </tr>\n",
       "    <tr>\n",
       "      <th>2</th>\n",
       "      <td>Male</td>\n",
       "      <td>20.0</td>\n",
       "    </tr>\n",
       "    <tr>\n",
       "      <th>3</th>\n",
       "      <td>Female</td>\n",
       "      <td>66.0</td>\n",
       "    </tr>\n",
       "    <tr>\n",
       "      <th>4</th>\n",
       "      <td>Female</td>\n",
       "      <td>53.0</td>\n",
       "    </tr>\n",
       "  </tbody>\n",
       "</table>\n",
       "</div>"
      ],
      "text/plain": [
       "   gender   age\n",
       "1    Male  21.0\n",
       "2    Male  20.0\n",
       "3  Female  66.0\n",
       "4  Female  53.0"
      ]
     },
     "execution_count": 106,
     "metadata": {},
     "output_type": "execute_result"
    }
   ],
   "source": [
    "df.iloc[1:5,1:3]"
   ]
  },
  {
   "cell_type": "code",
   "execution_count": 107,
   "id": "d31c99f0",
   "metadata": {
    "execution": {
     "iopub.execute_input": "2023-10-25T14:10:53.249825Z",
     "iopub.status.busy": "2023-10-25T14:10:53.249446Z",
     "iopub.status.idle": "2023-10-25T14:10:53.260749Z",
     "shell.execute_reply": "2023-10-25T14:10:53.259644Z"
    },
    "papermill": {
     "duration": 0.096195,
     "end_time": "2023-10-25T14:10:53.262741",
     "exception": false,
     "start_time": "2023-10-25T14:10:53.166546",
     "status": "completed"
    },
    "tags": []
   },
   "outputs": [
    {
     "data": {
      "text/html": [
       "<div>\n",
       "<style scoped>\n",
       "    .dataframe tbody tr th:only-of-type {\n",
       "        vertical-align: middle;\n",
       "    }\n",
       "\n",
       "    .dataframe tbody tr th {\n",
       "        vertical-align: top;\n",
       "    }\n",
       "\n",
       "    .dataframe thead th {\n",
       "        text-align: right;\n",
       "    }\n",
       "</style>\n",
       "<table border=\"1\" class=\"dataframe\">\n",
       "  <thead>\n",
       "    <tr style=\"text-align: right;\">\n",
       "      <th></th>\n",
       "      <th>gender</th>\n",
       "      <th>age</th>\n",
       "    </tr>\n",
       "  </thead>\n",
       "  <tbody>\n",
       "    <tr>\n",
       "      <th>1</th>\n",
       "      <td>Male</td>\n",
       "      <td>21.0</td>\n",
       "    </tr>\n",
       "    <tr>\n",
       "      <th>2</th>\n",
       "      <td>Male</td>\n",
       "      <td>20.0</td>\n",
       "    </tr>\n",
       "    <tr>\n",
       "      <th>3</th>\n",
       "      <td>Female</td>\n",
       "      <td>66.0</td>\n",
       "    </tr>\n",
       "    <tr>\n",
       "      <th>4</th>\n",
       "      <td>Female</td>\n",
       "      <td>53.0</td>\n",
       "    </tr>\n",
       "    <tr>\n",
       "      <th>5</th>\n",
       "      <td>Female</td>\n",
       "      <td>28.0</td>\n",
       "    </tr>\n",
       "  </tbody>\n",
       "</table>\n",
       "</div>"
      ],
      "text/plain": [
       "   gender   age\n",
       "1    Male  21.0\n",
       "2    Male  20.0\n",
       "3  Female  66.0\n",
       "4  Female  53.0\n",
       "5  Female  28.0"
      ]
     },
     "execution_count": 107,
     "metadata": {},
     "output_type": "execute_result"
    }
   ],
   "source": [
    "df.loc[1:5,['gender','age']]"
   ]
  },
  {
   "cell_type": "markdown",
   "id": "0aa32291",
   "metadata": {
    "papermill": {
     "duration": 0.080138,
     "end_time": "2023-10-25T14:10:53.423730",
     "exception": false,
     "start_time": "2023-10-25T14:10:53.343592",
     "status": "completed"
    },
    "tags": []
   },
   "source": [
    "# Data Cleaning and Transforming\n",
    "\n",
    "Data cleaning and transformation are crucial steps in the data preprocessing and analysis pipeline. Pandas provides numerous functions for cleaning and transforming data in DataFrames. Here are some common functions and techniques for data cleaning and transformation in Pandas:\n",
    "\n",
    "1. **Handling Missing Values**:\n",
    "\n",
    "   - `df.dropna()`: Removes rows or columns with missing values.\n",
    "   - `df.fillna(value)`: Fills missing values with a specified value.\n",
    "   - `df.interpolate()`: Interpolates missing values based on various methods (e.g., linear or polynomial).\n",
    "\n",
    "2. **Changing Data Types**:\n",
    "\n",
    "   - `df.astype(dtype)`: Converts the data type of one or more columns.\n",
    "   - `pd.to_numeric()`, `pd.to_datetime()`, `pd.to_timedelta()`: Converts data to specific data types.\n",
    "\n",
    "3. **Data Aggregation and Grouping**:\n",
    "\n",
    "   - `df.groupby()`: Groups data based on one or more columns for aggregation.\n",
    "   - `agg()`: Performs aggregation operations (e.g., sum, mean, count) on grouped data.\n",
    "   - `pivot_table()`: Creates pivot tables for summarizing data.\n",
    "\n",
    "4. **Renaming and Reindexing**:\n",
    "\n",
    "   - `df.rename()`: Renames columns or indexes.\n",
    "   - `df.set_index()`: Sets a specific column as the DataFrame's index.\n",
    "   - `df.reset_index()`: Resets the index.\n",
    "\n",
    "5. **Dropping Columns**:\n",
    "\n",
    "   - `df.drop(columns)`: Drops specified columns.\n",
    "   - `df.pop(column)`: Removes and returns a specific column.\n",
    "\n",
    "6. **String Manipulation**:\n",
    "\n",
    "   - `str.lower()`, `str.upper()`, `str.strip()`: Performs string operations on text columns.\n",
    "   - `str.contains()`, `str.replace()`: Searches for and replaces text in columns.\n",
    "\n",
    "7. **Duplicated Data**:\n",
    "\n",
    "   - `df.duplicated()`: Identifies duplicate rows.\n",
    "   - `df.drop_duplicates()`: Removes duplicate rows.\n",
    "\n",
    "8. **Applying Custom Functions**:\n",
    "\n",
    "   - `apply(func)`, `applymap(func)`: Applies a custom function element-wise or row-wise.\n",
    "   - `transform(func)`: Applies a custom function element-wise and retains the DataFrame shape.\n",
    "\n",
    "9. **Handling Outliers**:\n",
    "\n",
    "   - Filtering rows or replacing outlier values based on criteria.\n",
    "\n",
    "10. **Binning and Categorization**:\n",
    "\n",
    "    - `cut()`: Divides a continuous variable into categorical bins.\n",
    "    - `qcut()`: Divides a continuous variable into quantile-based bins.\n",
    "\n",
    "11. **Merging and Joining Data**:\n",
    "\n",
    "    - `concat()`, `merge()`: Combines multiple DataFrames.\n",
    "    - `join()`: Joins DataFrames on a common column.\n",
    "\n",
    "12. **Reshaping Data**:\n",
    "\n",
    "    - `melt()`: Unpivots data from wide to long format.\n",
    "    - `pivot()`: Pivots data from long to wide format.\n",
    "\n",
    "13. **Handling Datetime Data**:\n",
    "\n",
    "    - Extracting date, time, and other components from datetime columns.\n",
    "\n",
    "14. **Handling Categorical Data**:\n",
    "\n",
    "    - Encoding categorical variables into numerical format.\n",
    "\n",
    "15. **Mathematical and Statistical Transformations**:\n",
    "\n",
    "    - `df.apply()`: Apply mathematical or statistical functions row-wise or column-wise.\n",
    "\n",
    "16. **Custom Data Cleaning and Transformation**:\n",
    "\n",
    "    - Writing custom functions and transformations to address domain-specific needs.\n",
    "\n",
    "Data cleaning and transformation are highly dependent on the specific dataset and analysis goals. Pandas offers a wide range of functions to support these operations, allowing you to preprocess and manipulate data effectively before analysis."
   ]
  },
  {
   "cell_type": "markdown",
   "id": "c2dde83d",
   "metadata": {
    "papermill": {
     "duration": 0.079191,
     "end_time": "2023-10-25T14:10:53.582535",
     "exception": false,
     "start_time": "2023-10-25T14:10:53.503344",
     "status": "completed"
    },
    "tags": []
   },
   "source": [
    "#### 1. **Handling Missing Values**:\n",
    "\n",
    "   - `df.dropna()`: Removes rows or columns with missing values.\n",
    "   - `df.fillna(value)`: Fills missing values with a specified value.\n",
    "   - `df.interpolate()`: Interpolates missing values based on various methods (e.g., linear or polynomial)."
   ]
  },
  {
   "cell_type": "code",
   "execution_count": 108,
   "id": "7c081b4c",
   "metadata": {
    "execution": {
     "iopub.execute_input": "2023-10-25T14:10:53.747658Z",
     "iopub.status.busy": "2023-10-25T14:10:53.747289Z",
     "iopub.status.idle": "2023-10-25T14:10:53.754026Z",
     "shell.execute_reply": "2023-10-25T14:10:53.752900Z"
    },
    "papermill": {
     "duration": 0.091284,
     "end_time": "2023-10-25T14:10:53.756175",
     "exception": false,
     "start_time": "2023-10-25T14:10:53.664891",
     "status": "completed"
    },
    "tags": []
   },
   "outputs": [],
   "source": [
    "# dummy data\n",
    "import pandas as pd\n",
    "import numpy as np\n",
    "\n",
    "# Create a sample DataFrame with 20 rows\n",
    "data = {\n",
    "    'A': np.random.randint(1, 10, 20),   # Random integers\n",
    "    'B': np.random.rand(20),             # Random float values\n",
    "    'C': np.random.choice(['X', 'Y', np.nan], 20),  # Random choice with some NaN\n",
    "    'D': [np.nan] * 10 + list(range(10))  # First 10 values are NaN\n",
    "}\n",
    "\n",
    "df2 = pd.DataFrame(data)"
   ]
  },
  {
   "cell_type": "code",
   "execution_count": 109,
   "id": "45862c31",
   "metadata": {
    "execution": {
     "iopub.execute_input": "2023-10-25T14:10:53.920119Z",
     "iopub.status.busy": "2023-10-25T14:10:53.919600Z",
     "iopub.status.idle": "2023-10-25T14:10:53.934377Z",
     "shell.execute_reply": "2023-10-25T14:10:53.933354Z"
    },
    "papermill": {
     "duration": 0.101606,
     "end_time": "2023-10-25T14:10:53.937297",
     "exception": false,
     "start_time": "2023-10-25T14:10:53.835691",
     "status": "completed"
    },
    "tags": []
   },
   "outputs": [
    {
     "data": {
      "text/html": [
       "<div>\n",
       "<style scoped>\n",
       "    .dataframe tbody tr th:only-of-type {\n",
       "        vertical-align: middle;\n",
       "    }\n",
       "\n",
       "    .dataframe tbody tr th {\n",
       "        vertical-align: top;\n",
       "    }\n",
       "\n",
       "    .dataframe thead th {\n",
       "        text-align: right;\n",
       "    }\n",
       "</style>\n",
       "<table border=\"1\" class=\"dataframe\">\n",
       "  <thead>\n",
       "    <tr style=\"text-align: right;\">\n",
       "      <th></th>\n",
       "      <th>A</th>\n",
       "      <th>B</th>\n",
       "      <th>C</th>\n",
       "      <th>D</th>\n",
       "    </tr>\n",
       "  </thead>\n",
       "  <tbody>\n",
       "    <tr>\n",
       "      <th>0</th>\n",
       "      <td>3</td>\n",
       "      <td>0.534155</td>\n",
       "      <td>Y</td>\n",
       "      <td>NaN</td>\n",
       "    </tr>\n",
       "    <tr>\n",
       "      <th>1</th>\n",
       "      <td>6</td>\n",
       "      <td>0.634350</td>\n",
       "      <td>nan</td>\n",
       "      <td>NaN</td>\n",
       "    </tr>\n",
       "    <tr>\n",
       "      <th>2</th>\n",
       "      <td>3</td>\n",
       "      <td>0.674282</td>\n",
       "      <td>Y</td>\n",
       "      <td>NaN</td>\n",
       "    </tr>\n",
       "    <tr>\n",
       "      <th>3</th>\n",
       "      <td>8</td>\n",
       "      <td>0.678004</td>\n",
       "      <td>Y</td>\n",
       "      <td>NaN</td>\n",
       "    </tr>\n",
       "    <tr>\n",
       "      <th>4</th>\n",
       "      <td>9</td>\n",
       "      <td>0.064703</td>\n",
       "      <td>nan</td>\n",
       "      <td>NaN</td>\n",
       "    </tr>\n",
       "    <tr>\n",
       "      <th>5</th>\n",
       "      <td>6</td>\n",
       "      <td>0.098042</td>\n",
       "      <td>X</td>\n",
       "      <td>NaN</td>\n",
       "    </tr>\n",
       "    <tr>\n",
       "      <th>6</th>\n",
       "      <td>1</td>\n",
       "      <td>0.624307</td>\n",
       "      <td>nan</td>\n",
       "      <td>NaN</td>\n",
       "    </tr>\n",
       "    <tr>\n",
       "      <th>7</th>\n",
       "      <td>2</td>\n",
       "      <td>0.081202</td>\n",
       "      <td>Y</td>\n",
       "      <td>NaN</td>\n",
       "    </tr>\n",
       "    <tr>\n",
       "      <th>8</th>\n",
       "      <td>3</td>\n",
       "      <td>0.243027</td>\n",
       "      <td>X</td>\n",
       "      <td>NaN</td>\n",
       "    </tr>\n",
       "    <tr>\n",
       "      <th>9</th>\n",
       "      <td>7</td>\n",
       "      <td>0.015304</td>\n",
       "      <td>Y</td>\n",
       "      <td>NaN</td>\n",
       "    </tr>\n",
       "    <tr>\n",
       "      <th>10</th>\n",
       "      <td>9</td>\n",
       "      <td>0.544415</td>\n",
       "      <td>nan</td>\n",
       "      <td>0.0</td>\n",
       "    </tr>\n",
       "    <tr>\n",
       "      <th>11</th>\n",
       "      <td>2</td>\n",
       "      <td>0.758871</td>\n",
       "      <td>nan</td>\n",
       "      <td>1.0</td>\n",
       "    </tr>\n",
       "    <tr>\n",
       "      <th>12</th>\n",
       "      <td>2</td>\n",
       "      <td>0.342796</td>\n",
       "      <td>X</td>\n",
       "      <td>2.0</td>\n",
       "    </tr>\n",
       "    <tr>\n",
       "      <th>13</th>\n",
       "      <td>3</td>\n",
       "      <td>0.827801</td>\n",
       "      <td>nan</td>\n",
       "      <td>3.0</td>\n",
       "    </tr>\n",
       "    <tr>\n",
       "      <th>14</th>\n",
       "      <td>7</td>\n",
       "      <td>0.345358</td>\n",
       "      <td>nan</td>\n",
       "      <td>4.0</td>\n",
       "    </tr>\n",
       "    <tr>\n",
       "      <th>15</th>\n",
       "      <td>3</td>\n",
       "      <td>0.537172</td>\n",
       "      <td>X</td>\n",
       "      <td>5.0</td>\n",
       "    </tr>\n",
       "    <tr>\n",
       "      <th>16</th>\n",
       "      <td>3</td>\n",
       "      <td>0.260792</td>\n",
       "      <td>X</td>\n",
       "      <td>6.0</td>\n",
       "    </tr>\n",
       "    <tr>\n",
       "      <th>17</th>\n",
       "      <td>9</td>\n",
       "      <td>0.125686</td>\n",
       "      <td>Y</td>\n",
       "      <td>7.0</td>\n",
       "    </tr>\n",
       "    <tr>\n",
       "      <th>18</th>\n",
       "      <td>7</td>\n",
       "      <td>0.303246</td>\n",
       "      <td>nan</td>\n",
       "      <td>8.0</td>\n",
       "    </tr>\n",
       "    <tr>\n",
       "      <th>19</th>\n",
       "      <td>3</td>\n",
       "      <td>0.527692</td>\n",
       "      <td>X</td>\n",
       "      <td>9.0</td>\n",
       "    </tr>\n",
       "  </tbody>\n",
       "</table>\n",
       "</div>"
      ],
      "text/plain": [
       "    A         B    C    D\n",
       "0   3  0.534155    Y  NaN\n",
       "1   6  0.634350  nan  NaN\n",
       "2   3  0.674282    Y  NaN\n",
       "3   8  0.678004    Y  NaN\n",
       "4   9  0.064703  nan  NaN\n",
       "5   6  0.098042    X  NaN\n",
       "6   1  0.624307  nan  NaN\n",
       "7   2  0.081202    Y  NaN\n",
       "8   3  0.243027    X  NaN\n",
       "9   7  0.015304    Y  NaN\n",
       "10  9  0.544415  nan  0.0\n",
       "11  2  0.758871  nan  1.0\n",
       "12  2  0.342796    X  2.0\n",
       "13  3  0.827801  nan  3.0\n",
       "14  7  0.345358  nan  4.0\n",
       "15  3  0.537172    X  5.0\n",
       "16  3  0.260792    X  6.0\n",
       "17  9  0.125686    Y  7.0\n",
       "18  7  0.303246  nan  8.0\n",
       "19  3  0.527692    X  9.0"
      ]
     },
     "execution_count": 109,
     "metadata": {},
     "output_type": "execute_result"
    }
   ],
   "source": [
    "# Display the DataFrame\n",
    "df2"
   ]
  },
  {
   "cell_type": "code",
   "execution_count": 110,
   "id": "165f5ca9",
   "metadata": {
    "execution": {
     "iopub.execute_input": "2023-10-25T14:10:54.104234Z",
     "iopub.status.busy": "2023-10-25T14:10:54.103855Z",
     "iopub.status.idle": "2023-10-25T14:10:54.109962Z",
     "shell.execute_reply": "2023-10-25T14:10:54.108798Z"
    },
    "papermill": {
     "duration": 0.091881,
     "end_time": "2023-10-25T14:10:54.112256",
     "exception": false,
     "start_time": "2023-10-25T14:10:54.020375",
     "status": "completed"
    },
    "tags": []
   },
   "outputs": [
    {
     "data": {
      "text/plain": [
       "numpy.float64"
      ]
     },
     "execution_count": 110,
     "metadata": {},
     "output_type": "execute_result"
    }
   ],
   "source": [
    "#checking nan type\n",
    "type(df2['D'][0])"
   ]
  },
  {
   "cell_type": "code",
   "execution_count": 111,
   "id": "e2f17e1e",
   "metadata": {
    "execution": {
     "iopub.execute_input": "2023-10-25T14:10:54.276395Z",
     "iopub.status.busy": "2023-10-25T14:10:54.275997Z",
     "iopub.status.idle": "2023-10-25T14:10:54.283039Z",
     "shell.execute_reply": "2023-10-25T14:10:54.281863Z"
    },
    "papermill": {
     "duration": 0.091711,
     "end_time": "2023-10-25T14:10:54.285179",
     "exception": false,
     "start_time": "2023-10-25T14:10:54.193468",
     "status": "completed"
    },
    "tags": []
   },
   "outputs": [
    {
     "data": {
      "text/plain": [
       "str"
      ]
     },
     "execution_count": 111,
     "metadata": {},
     "output_type": "execute_result"
    }
   ],
   "source": [
    "type(df2['C'][0]) \n",
    "# str nan type cannot be drop or filled by df.dropna or df.fillna, it only can be replace by another"
   ]
  },
  {
   "cell_type": "code",
   "execution_count": 112,
   "id": "dcbbbf34",
   "metadata": {
    "execution": {
     "iopub.execute_input": "2023-10-25T14:10:54.449646Z",
     "iopub.status.busy": "2023-10-25T14:10:54.448907Z",
     "iopub.status.idle": "2023-10-25T14:10:54.461902Z",
     "shell.execute_reply": "2023-10-25T14:10:54.460846Z"
    },
    "papermill": {
     "duration": 0.098135,
     "end_time": "2023-10-25T14:10:54.464072",
     "exception": false,
     "start_time": "2023-10-25T14:10:54.365937",
     "status": "completed"
    },
    "tags": []
   },
   "outputs": [
    {
     "data": {
      "text/html": [
       "<div>\n",
       "<style scoped>\n",
       "    .dataframe tbody tr th:only-of-type {\n",
       "        vertical-align: middle;\n",
       "    }\n",
       "\n",
       "    .dataframe tbody tr th {\n",
       "        vertical-align: top;\n",
       "    }\n",
       "\n",
       "    .dataframe thead th {\n",
       "        text-align: right;\n",
       "    }\n",
       "</style>\n",
       "<table border=\"1\" class=\"dataframe\">\n",
       "  <thead>\n",
       "    <tr style=\"text-align: right;\">\n",
       "      <th></th>\n",
       "      <th>A</th>\n",
       "      <th>B</th>\n",
       "      <th>C</th>\n",
       "      <th>D</th>\n",
       "    </tr>\n",
       "  </thead>\n",
       "  <tbody>\n",
       "    <tr>\n",
       "      <th>10</th>\n",
       "      <td>9</td>\n",
       "      <td>0.544415</td>\n",
       "      <td>nan</td>\n",
       "      <td>0.0</td>\n",
       "    </tr>\n",
       "    <tr>\n",
       "      <th>11</th>\n",
       "      <td>2</td>\n",
       "      <td>0.758871</td>\n",
       "      <td>nan</td>\n",
       "      <td>1.0</td>\n",
       "    </tr>\n",
       "    <tr>\n",
       "      <th>12</th>\n",
       "      <td>2</td>\n",
       "      <td>0.342796</td>\n",
       "      <td>X</td>\n",
       "      <td>2.0</td>\n",
       "    </tr>\n",
       "    <tr>\n",
       "      <th>13</th>\n",
       "      <td>3</td>\n",
       "      <td>0.827801</td>\n",
       "      <td>nan</td>\n",
       "      <td>3.0</td>\n",
       "    </tr>\n",
       "    <tr>\n",
       "      <th>14</th>\n",
       "      <td>7</td>\n",
       "      <td>0.345358</td>\n",
       "      <td>nan</td>\n",
       "      <td>4.0</td>\n",
       "    </tr>\n",
       "    <tr>\n",
       "      <th>15</th>\n",
       "      <td>3</td>\n",
       "      <td>0.537172</td>\n",
       "      <td>X</td>\n",
       "      <td>5.0</td>\n",
       "    </tr>\n",
       "    <tr>\n",
       "      <th>16</th>\n",
       "      <td>3</td>\n",
       "      <td>0.260792</td>\n",
       "      <td>X</td>\n",
       "      <td>6.0</td>\n",
       "    </tr>\n",
       "    <tr>\n",
       "      <th>17</th>\n",
       "      <td>9</td>\n",
       "      <td>0.125686</td>\n",
       "      <td>Y</td>\n",
       "      <td>7.0</td>\n",
       "    </tr>\n",
       "    <tr>\n",
       "      <th>18</th>\n",
       "      <td>7</td>\n",
       "      <td>0.303246</td>\n",
       "      <td>nan</td>\n",
       "      <td>8.0</td>\n",
       "    </tr>\n",
       "    <tr>\n",
       "      <th>19</th>\n",
       "      <td>3</td>\n",
       "      <td>0.527692</td>\n",
       "      <td>X</td>\n",
       "      <td>9.0</td>\n",
       "    </tr>\n",
       "  </tbody>\n",
       "</table>\n",
       "</div>"
      ],
      "text/plain": [
       "    A         B    C    D\n",
       "10  9  0.544415  nan  0.0\n",
       "11  2  0.758871  nan  1.0\n",
       "12  2  0.342796    X  2.0\n",
       "13  3  0.827801  nan  3.0\n",
       "14  7  0.345358  nan  4.0\n",
       "15  3  0.537172    X  5.0\n",
       "16  3  0.260792    X  6.0\n",
       "17  9  0.125686    Y  7.0\n",
       "18  7  0.303246  nan  8.0\n",
       "19  3  0.527692    X  9.0"
      ]
     },
     "execution_count": 112,
     "metadata": {},
     "output_type": "execute_result"
    }
   ],
   "source": [
    "df2.dropna()"
   ]
  },
  {
   "cell_type": "code",
   "execution_count": 113,
   "id": "5937df22",
   "metadata": {
    "execution": {
     "iopub.execute_input": "2023-10-25T14:10:54.631676Z",
     "iopub.status.busy": "2023-10-25T14:10:54.629421Z",
     "iopub.status.idle": "2023-10-25T14:10:54.643923Z",
     "shell.execute_reply": "2023-10-25T14:10:54.642840Z"
    },
    "papermill": {
     "duration": 0.099615,
     "end_time": "2023-10-25T14:10:54.645948",
     "exception": false,
     "start_time": "2023-10-25T14:10:54.546333",
     "status": "completed"
    },
    "tags": []
   },
   "outputs": [
    {
     "data": {
      "text/html": [
       "<div>\n",
       "<style scoped>\n",
       "    .dataframe tbody tr th:only-of-type {\n",
       "        vertical-align: middle;\n",
       "    }\n",
       "\n",
       "    .dataframe tbody tr th {\n",
       "        vertical-align: top;\n",
       "    }\n",
       "\n",
       "    .dataframe thead th {\n",
       "        text-align: right;\n",
       "    }\n",
       "</style>\n",
       "<table border=\"1\" class=\"dataframe\">\n",
       "  <thead>\n",
       "    <tr style=\"text-align: right;\">\n",
       "      <th></th>\n",
       "      <th>A</th>\n",
       "      <th>B</th>\n",
       "      <th>C</th>\n",
       "      <th>D</th>\n",
       "    </tr>\n",
       "  </thead>\n",
       "  <tbody>\n",
       "    <tr>\n",
       "      <th>0</th>\n",
       "      <td>3</td>\n",
       "      <td>0.534155</td>\n",
       "      <td>Y</td>\n",
       "      <td>Missing</td>\n",
       "    </tr>\n",
       "    <tr>\n",
       "      <th>1</th>\n",
       "      <td>6</td>\n",
       "      <td>0.634350</td>\n",
       "      <td>nan</td>\n",
       "      <td>Missing</td>\n",
       "    </tr>\n",
       "    <tr>\n",
       "      <th>2</th>\n",
       "      <td>3</td>\n",
       "      <td>0.674282</td>\n",
       "      <td>Y</td>\n",
       "      <td>Missing</td>\n",
       "    </tr>\n",
       "    <tr>\n",
       "      <th>3</th>\n",
       "      <td>8</td>\n",
       "      <td>0.678004</td>\n",
       "      <td>Y</td>\n",
       "      <td>Missing</td>\n",
       "    </tr>\n",
       "    <tr>\n",
       "      <th>4</th>\n",
       "      <td>9</td>\n",
       "      <td>0.064703</td>\n",
       "      <td>nan</td>\n",
       "      <td>Missing</td>\n",
       "    </tr>\n",
       "    <tr>\n",
       "      <th>5</th>\n",
       "      <td>6</td>\n",
       "      <td>0.098042</td>\n",
       "      <td>X</td>\n",
       "      <td>Missing</td>\n",
       "    </tr>\n",
       "    <tr>\n",
       "      <th>6</th>\n",
       "      <td>1</td>\n",
       "      <td>0.624307</td>\n",
       "      <td>nan</td>\n",
       "      <td>Missing</td>\n",
       "    </tr>\n",
       "    <tr>\n",
       "      <th>7</th>\n",
       "      <td>2</td>\n",
       "      <td>0.081202</td>\n",
       "      <td>Y</td>\n",
       "      <td>Missing</td>\n",
       "    </tr>\n",
       "    <tr>\n",
       "      <th>8</th>\n",
       "      <td>3</td>\n",
       "      <td>0.243027</td>\n",
       "      <td>X</td>\n",
       "      <td>Missing</td>\n",
       "    </tr>\n",
       "    <tr>\n",
       "      <th>9</th>\n",
       "      <td>7</td>\n",
       "      <td>0.015304</td>\n",
       "      <td>Y</td>\n",
       "      <td>Missing</td>\n",
       "    </tr>\n",
       "    <tr>\n",
       "      <th>10</th>\n",
       "      <td>9</td>\n",
       "      <td>0.544415</td>\n",
       "      <td>nan</td>\n",
       "      <td>0.0</td>\n",
       "    </tr>\n",
       "    <tr>\n",
       "      <th>11</th>\n",
       "      <td>2</td>\n",
       "      <td>0.758871</td>\n",
       "      <td>nan</td>\n",
       "      <td>1.0</td>\n",
       "    </tr>\n",
       "    <tr>\n",
       "      <th>12</th>\n",
       "      <td>2</td>\n",
       "      <td>0.342796</td>\n",
       "      <td>X</td>\n",
       "      <td>2.0</td>\n",
       "    </tr>\n",
       "    <tr>\n",
       "      <th>13</th>\n",
       "      <td>3</td>\n",
       "      <td>0.827801</td>\n",
       "      <td>nan</td>\n",
       "      <td>3.0</td>\n",
       "    </tr>\n",
       "    <tr>\n",
       "      <th>14</th>\n",
       "      <td>7</td>\n",
       "      <td>0.345358</td>\n",
       "      <td>nan</td>\n",
       "      <td>4.0</td>\n",
       "    </tr>\n",
       "    <tr>\n",
       "      <th>15</th>\n",
       "      <td>3</td>\n",
       "      <td>0.537172</td>\n",
       "      <td>X</td>\n",
       "      <td>5.0</td>\n",
       "    </tr>\n",
       "    <tr>\n",
       "      <th>16</th>\n",
       "      <td>3</td>\n",
       "      <td>0.260792</td>\n",
       "      <td>X</td>\n",
       "      <td>6.0</td>\n",
       "    </tr>\n",
       "    <tr>\n",
       "      <th>17</th>\n",
       "      <td>9</td>\n",
       "      <td>0.125686</td>\n",
       "      <td>Y</td>\n",
       "      <td>7.0</td>\n",
       "    </tr>\n",
       "    <tr>\n",
       "      <th>18</th>\n",
       "      <td>7</td>\n",
       "      <td>0.303246</td>\n",
       "      <td>nan</td>\n",
       "      <td>8.0</td>\n",
       "    </tr>\n",
       "    <tr>\n",
       "      <th>19</th>\n",
       "      <td>3</td>\n",
       "      <td>0.527692</td>\n",
       "      <td>X</td>\n",
       "      <td>9.0</td>\n",
       "    </tr>\n",
       "  </tbody>\n",
       "</table>\n",
       "</div>"
      ],
      "text/plain": [
       "    A         B    C        D\n",
       "0   3  0.534155    Y  Missing\n",
       "1   6  0.634350  nan  Missing\n",
       "2   3  0.674282    Y  Missing\n",
       "3   8  0.678004    Y  Missing\n",
       "4   9  0.064703  nan  Missing\n",
       "5   6  0.098042    X  Missing\n",
       "6   1  0.624307  nan  Missing\n",
       "7   2  0.081202    Y  Missing\n",
       "8   3  0.243027    X  Missing\n",
       "9   7  0.015304    Y  Missing\n",
       "10  9  0.544415  nan      0.0\n",
       "11  2  0.758871  nan      1.0\n",
       "12  2  0.342796    X      2.0\n",
       "13  3  0.827801  nan      3.0\n",
       "14  7  0.345358  nan      4.0\n",
       "15  3  0.537172    X      5.0\n",
       "16  3  0.260792    X      6.0\n",
       "17  9  0.125686    Y      7.0\n",
       "18  7  0.303246  nan      8.0\n",
       "19  3  0.527692    X      9.0"
      ]
     },
     "execution_count": 113,
     "metadata": {},
     "output_type": "execute_result"
    }
   ],
   "source": [
    "df2.fillna(\"Missing\")"
   ]
  },
  {
   "cell_type": "code",
   "execution_count": 114,
   "id": "51c724ac",
   "metadata": {
    "execution": {
     "iopub.execute_input": "2023-10-25T14:10:54.810848Z",
     "iopub.status.busy": "2023-10-25T14:10:54.809729Z",
     "iopub.status.idle": "2023-10-25T14:10:54.824076Z",
     "shell.execute_reply": "2023-10-25T14:10:54.822903Z"
    },
    "papermill": {
     "duration": 0.09934,
     "end_time": "2023-10-25T14:10:54.826178",
     "exception": false,
     "start_time": "2023-10-25T14:10:54.726838",
     "status": "completed"
    },
    "tags": []
   },
   "outputs": [
    {
     "data": {
      "text/html": [
       "<div>\n",
       "<style scoped>\n",
       "    .dataframe tbody tr th:only-of-type {\n",
       "        vertical-align: middle;\n",
       "    }\n",
       "\n",
       "    .dataframe tbody tr th {\n",
       "        vertical-align: top;\n",
       "    }\n",
       "\n",
       "    .dataframe thead th {\n",
       "        text-align: right;\n",
       "    }\n",
       "</style>\n",
       "<table border=\"1\" class=\"dataframe\">\n",
       "  <thead>\n",
       "    <tr style=\"text-align: right;\">\n",
       "      <th></th>\n",
       "      <th>A</th>\n",
       "      <th>B</th>\n",
       "      <th>C</th>\n",
       "      <th>D</th>\n",
       "    </tr>\n",
       "  </thead>\n",
       "  <tbody>\n",
       "    <tr>\n",
       "      <th>0</th>\n",
       "      <td>3</td>\n",
       "      <td>0.534155</td>\n",
       "      <td>Y</td>\n",
       "      <td>NaN</td>\n",
       "    </tr>\n",
       "    <tr>\n",
       "      <th>1</th>\n",
       "      <td>6</td>\n",
       "      <td>0.634350</td>\n",
       "      <td>Missing</td>\n",
       "      <td>NaN</td>\n",
       "    </tr>\n",
       "    <tr>\n",
       "      <th>2</th>\n",
       "      <td>3</td>\n",
       "      <td>0.674282</td>\n",
       "      <td>Y</td>\n",
       "      <td>NaN</td>\n",
       "    </tr>\n",
       "    <tr>\n",
       "      <th>3</th>\n",
       "      <td>8</td>\n",
       "      <td>0.678004</td>\n",
       "      <td>Y</td>\n",
       "      <td>NaN</td>\n",
       "    </tr>\n",
       "    <tr>\n",
       "      <th>4</th>\n",
       "      <td>9</td>\n",
       "      <td>0.064703</td>\n",
       "      <td>Missing</td>\n",
       "      <td>NaN</td>\n",
       "    </tr>\n",
       "    <tr>\n",
       "      <th>5</th>\n",
       "      <td>6</td>\n",
       "      <td>0.098042</td>\n",
       "      <td>X</td>\n",
       "      <td>NaN</td>\n",
       "    </tr>\n",
       "    <tr>\n",
       "      <th>6</th>\n",
       "      <td>1</td>\n",
       "      <td>0.624307</td>\n",
       "      <td>Missing</td>\n",
       "      <td>NaN</td>\n",
       "    </tr>\n",
       "    <tr>\n",
       "      <th>7</th>\n",
       "      <td>2</td>\n",
       "      <td>0.081202</td>\n",
       "      <td>Y</td>\n",
       "      <td>NaN</td>\n",
       "    </tr>\n",
       "    <tr>\n",
       "      <th>8</th>\n",
       "      <td>3</td>\n",
       "      <td>0.243027</td>\n",
       "      <td>X</td>\n",
       "      <td>NaN</td>\n",
       "    </tr>\n",
       "    <tr>\n",
       "      <th>9</th>\n",
       "      <td>7</td>\n",
       "      <td>0.015304</td>\n",
       "      <td>Y</td>\n",
       "      <td>NaN</td>\n",
       "    </tr>\n",
       "    <tr>\n",
       "      <th>10</th>\n",
       "      <td>9</td>\n",
       "      <td>0.544415</td>\n",
       "      <td>Missing</td>\n",
       "      <td>0.0</td>\n",
       "    </tr>\n",
       "    <tr>\n",
       "      <th>11</th>\n",
       "      <td>2</td>\n",
       "      <td>0.758871</td>\n",
       "      <td>Missing</td>\n",
       "      <td>1.0</td>\n",
       "    </tr>\n",
       "    <tr>\n",
       "      <th>12</th>\n",
       "      <td>2</td>\n",
       "      <td>0.342796</td>\n",
       "      <td>X</td>\n",
       "      <td>2.0</td>\n",
       "    </tr>\n",
       "    <tr>\n",
       "      <th>13</th>\n",
       "      <td>3</td>\n",
       "      <td>0.827801</td>\n",
       "      <td>Missing</td>\n",
       "      <td>3.0</td>\n",
       "    </tr>\n",
       "    <tr>\n",
       "      <th>14</th>\n",
       "      <td>7</td>\n",
       "      <td>0.345358</td>\n",
       "      <td>Missing</td>\n",
       "      <td>4.0</td>\n",
       "    </tr>\n",
       "    <tr>\n",
       "      <th>15</th>\n",
       "      <td>3</td>\n",
       "      <td>0.537172</td>\n",
       "      <td>X</td>\n",
       "      <td>5.0</td>\n",
       "    </tr>\n",
       "    <tr>\n",
       "      <th>16</th>\n",
       "      <td>3</td>\n",
       "      <td>0.260792</td>\n",
       "      <td>X</td>\n",
       "      <td>6.0</td>\n",
       "    </tr>\n",
       "    <tr>\n",
       "      <th>17</th>\n",
       "      <td>9</td>\n",
       "      <td>0.125686</td>\n",
       "      <td>Y</td>\n",
       "      <td>7.0</td>\n",
       "    </tr>\n",
       "    <tr>\n",
       "      <th>18</th>\n",
       "      <td>7</td>\n",
       "      <td>0.303246</td>\n",
       "      <td>Missing</td>\n",
       "      <td>8.0</td>\n",
       "    </tr>\n",
       "    <tr>\n",
       "      <th>19</th>\n",
       "      <td>3</td>\n",
       "      <td>0.527692</td>\n",
       "      <td>X</td>\n",
       "      <td>9.0</td>\n",
       "    </tr>\n",
       "  </tbody>\n",
       "</table>\n",
       "</div>"
      ],
      "text/plain": [
       "    A         B        C    D\n",
       "0   3  0.534155        Y  NaN\n",
       "1   6  0.634350  Missing  NaN\n",
       "2   3  0.674282        Y  NaN\n",
       "3   8  0.678004        Y  NaN\n",
       "4   9  0.064703  Missing  NaN\n",
       "5   6  0.098042        X  NaN\n",
       "6   1  0.624307  Missing  NaN\n",
       "7   2  0.081202        Y  NaN\n",
       "8   3  0.243027        X  NaN\n",
       "9   7  0.015304        Y  NaN\n",
       "10  9  0.544415  Missing  0.0\n",
       "11  2  0.758871  Missing  1.0\n",
       "12  2  0.342796        X  2.0\n",
       "13  3  0.827801  Missing  3.0\n",
       "14  7  0.345358  Missing  4.0\n",
       "15  3  0.537172        X  5.0\n",
       "16  3  0.260792        X  6.0\n",
       "17  9  0.125686        Y  7.0\n",
       "18  7  0.303246  Missing  8.0\n",
       "19  3  0.527692        X  9.0"
      ]
     },
     "execution_count": 114,
     "metadata": {},
     "output_type": "execute_result"
    }
   ],
   "source": [
    "df2.replace(\"nan\",'Missing')\n",
    "# this will only perform on which nan type is str"
   ]
  },
  {
   "cell_type": "markdown",
   "id": "b3bdaaac",
   "metadata": {
    "papermill": {
     "duration": 0.081867,
     "end_time": "2023-10-25T14:10:54.992190",
     "exception": false,
     "start_time": "2023-10-25T14:10:54.910323",
     "status": "completed"
    },
    "tags": []
   },
   "source": [
    "#### 2. **Changing Data Types**:\n",
    "\n",
    "   - `df.astype(dtype)`: Converts the data type of one or more columns.\n",
    "   - `pd.to_numeric()`, `pd.to_datetime()`, `pd.to_timedelta()`: Converts data to specific data types."
   ]
  },
  {
   "cell_type": "code",
   "execution_count": 115,
   "id": "62402375",
   "metadata": {
    "execution": {
     "iopub.execute_input": "2023-10-25T14:10:55.157215Z",
     "iopub.status.busy": "2023-10-25T14:10:55.156051Z",
     "iopub.status.idle": "2023-10-25T14:10:55.167739Z",
     "shell.execute_reply": "2023-10-25T14:10:55.166440Z"
    },
    "papermill": {
     "duration": 0.096147,
     "end_time": "2023-10-25T14:10:55.169991",
     "exception": false,
     "start_time": "2023-10-25T14:10:55.073844",
     "status": "completed"
    },
    "tags": []
   },
   "outputs": [
    {
     "name": "stdout",
     "output_type": "stream",
     "text": [
      "<class 'pandas.core.frame.DataFrame'>\n",
      "Index: 10 entries, Alice to Jack\n",
      "Data columns (total 5 columns):\n",
      " #   Column   Non-Null Count  Dtype\n",
      "---  ------   --------------  -----\n",
      " 0   Math     10 non-null     int64\n",
      " 1   Science  10 non-null     int64\n",
      " 2   History  10 non-null     int64\n",
      " 3   English  10 non-null     int64\n",
      " 4   Art      10 non-null     int64\n",
      "dtypes: int64(5)\n",
      "memory usage: 780.0+ bytes\n"
     ]
    }
   ],
   "source": [
    "dummy.info()"
   ]
  },
  {
   "cell_type": "code",
   "execution_count": 116,
   "id": "e68b5716",
   "metadata": {
    "execution": {
     "iopub.execute_input": "2023-10-25T14:10:55.397401Z",
     "iopub.status.busy": "2023-10-25T14:10:55.396701Z",
     "iopub.status.idle": "2023-10-25T14:10:55.412879Z",
     "shell.execute_reply": "2023-10-25T14:10:55.411616Z"
    },
    "papermill": {
     "duration": 0.164303,
     "end_time": "2023-10-25T14:10:55.415247",
     "exception": false,
     "start_time": "2023-10-25T14:10:55.250944",
     "status": "completed"
    },
    "tags": []
   },
   "outputs": [
    {
     "data": {
      "text/html": [
       "<div>\n",
       "<style scoped>\n",
       "    .dataframe tbody tr th:only-of-type {\n",
       "        vertical-align: middle;\n",
       "    }\n",
       "\n",
       "    .dataframe tbody tr th {\n",
       "        vertical-align: top;\n",
       "    }\n",
       "\n",
       "    .dataframe thead th {\n",
       "        text-align: right;\n",
       "    }\n",
       "</style>\n",
       "<table border=\"1\" class=\"dataframe\">\n",
       "  <thead>\n",
       "    <tr style=\"text-align: right;\">\n",
       "      <th></th>\n",
       "      <th>Math</th>\n",
       "      <th>Science</th>\n",
       "      <th>History</th>\n",
       "      <th>English</th>\n",
       "      <th>Art</th>\n",
       "    </tr>\n",
       "  </thead>\n",
       "  <tbody>\n",
       "    <tr>\n",
       "      <th>Alice</th>\n",
       "      <td>95.0</td>\n",
       "      <td>86.0</td>\n",
       "      <td>95.0</td>\n",
       "      <td>95.0</td>\n",
       "      <td>74.0</td>\n",
       "    </tr>\n",
       "    <tr>\n",
       "      <th>Bob</th>\n",
       "      <td>80.0</td>\n",
       "      <td>93.0</td>\n",
       "      <td>82.0</td>\n",
       "      <td>77.0</td>\n",
       "      <td>95.0</td>\n",
       "    </tr>\n",
       "    <tr>\n",
       "      <th>Charlie</th>\n",
       "      <td>97.0</td>\n",
       "      <td>72.0</td>\n",
       "      <td>95.0</td>\n",
       "      <td>75.0</td>\n",
       "      <td>59.0</td>\n",
       "    </tr>\n",
       "    <tr>\n",
       "      <th>David</th>\n",
       "      <td>86.0</td>\n",
       "      <td>88.0</td>\n",
       "      <td>91.0</td>\n",
       "      <td>78.0</td>\n",
       "      <td>77.0</td>\n",
       "    </tr>\n",
       "    <tr>\n",
       "      <th>Eva</th>\n",
       "      <td>75.0</td>\n",
       "      <td>54.0</td>\n",
       "      <td>63.0</td>\n",
       "      <td>67.0</td>\n",
       "      <td>85.0</td>\n",
       "    </tr>\n",
       "    <tr>\n",
       "      <th>Frank</th>\n",
       "      <td>53.0</td>\n",
       "      <td>50.0</td>\n",
       "      <td>96.0</td>\n",
       "      <td>51.0</td>\n",
       "      <td>51.0</td>\n",
       "    </tr>\n",
       "    <tr>\n",
       "      <th>Grace</th>\n",
       "      <td>94.0</td>\n",
       "      <td>70.0</td>\n",
       "      <td>89.0</td>\n",
       "      <td>94.0</td>\n",
       "      <td>59.0</td>\n",
       "    </tr>\n",
       "    <tr>\n",
       "      <th>Henry</th>\n",
       "      <td>100.0</td>\n",
       "      <td>53.0</td>\n",
       "      <td>70.0</td>\n",
       "      <td>79.0</td>\n",
       "      <td>72.0</td>\n",
       "    </tr>\n",
       "    <tr>\n",
       "      <th>Ivy</th>\n",
       "      <td>82.0</td>\n",
       "      <td>65.0</td>\n",
       "      <td>95.0</td>\n",
       "      <td>61.0</td>\n",
       "      <td>75.0</td>\n",
       "    </tr>\n",
       "    <tr>\n",
       "      <th>Jack</th>\n",
       "      <td>57.0</td>\n",
       "      <td>74.0</td>\n",
       "      <td>93.0</td>\n",
       "      <td>50.0</td>\n",
       "      <td>87.0</td>\n",
       "    </tr>\n",
       "  </tbody>\n",
       "</table>\n",
       "</div>"
      ],
      "text/plain": [
       "          Math  Science  History  English   Art\n",
       "Alice     95.0     86.0     95.0     95.0  74.0\n",
       "Bob       80.0     93.0     82.0     77.0  95.0\n",
       "Charlie   97.0     72.0     95.0     75.0  59.0\n",
       "David     86.0     88.0     91.0     78.0  77.0\n",
       "Eva       75.0     54.0     63.0     67.0  85.0\n",
       "Frank     53.0     50.0     96.0     51.0  51.0\n",
       "Grace     94.0     70.0     89.0     94.0  59.0\n",
       "Henry    100.0     53.0     70.0     79.0  72.0\n",
       "Ivy       82.0     65.0     95.0     61.0  75.0\n",
       "Jack      57.0     74.0     93.0     50.0  87.0"
      ]
     },
     "execution_count": 116,
     "metadata": {},
     "output_type": "execute_result"
    }
   ],
   "source": [
    "dummy.astype(float)"
   ]
  },
  {
   "cell_type": "code",
   "execution_count": 117,
   "id": "16bb3094",
   "metadata": {
    "execution": {
     "iopub.execute_input": "2023-10-25T14:10:55.584495Z",
     "iopub.status.busy": "2023-10-25T14:10:55.584086Z",
     "iopub.status.idle": "2023-10-25T14:10:55.591213Z",
     "shell.execute_reply": "2023-10-25T14:10:55.590382Z"
    },
    "papermill": {
     "duration": 0.095288,
     "end_time": "2023-10-25T14:10:55.593259",
     "exception": false,
     "start_time": "2023-10-25T14:10:55.497971",
     "status": "completed"
    },
    "tags": []
   },
   "outputs": [
    {
     "data": {
      "text/plain": [
       "Alice       95\n",
       "Bob         80\n",
       "Charlie     97\n",
       "David       86\n",
       "Eva         75\n",
       "Frank       53\n",
       "Grace       94\n",
       "Henry      100\n",
       "Ivy         82\n",
       "Jack        57\n",
       "Name: Math, dtype: object"
      ]
     },
     "execution_count": 117,
     "metadata": {},
     "output_type": "execute_result"
    }
   ],
   "source": [
    "dummy['Math'].astype(str)"
   ]
  },
  {
   "cell_type": "code",
   "execution_count": 118,
   "id": "922420ef",
   "metadata": {
    "execution": {
     "iopub.execute_input": "2023-10-25T14:10:55.778841Z",
     "iopub.status.busy": "2023-10-25T14:10:55.778126Z",
     "iopub.status.idle": "2023-10-25T14:10:55.786542Z",
     "shell.execute_reply": "2023-10-25T14:10:55.785618Z"
    },
    "papermill": {
     "duration": 0.09309,
     "end_time": "2023-10-25T14:10:55.788896",
     "exception": false,
     "start_time": "2023-10-25T14:10:55.695806",
     "status": "completed"
    },
    "tags": []
   },
   "outputs": [],
   "source": [
    "import pandas as pd\n",
    "import random\n",
    "import string\n",
    "from datetime import datetime, time, timedelta\n",
    "\n",
    "# Create a list of data\n",
    "data = []\n",
    "\n",
    "# Generate random data for 20 rows\n",
    "for _ in range(20):\n",
    "    # Generate random datetime\n",
    "    date = datetime(2023, random.randint(1, 12), random.randint(1, 28), random.randint(0, 23), random.randint(0, 59), random.randint(0, 59))\n",
    "    \n",
    "    # Generate random time\n",
    "    start_time = time(random.randint(0, 23), random.randint(0, 59), random.randint(0, 59))\n",
    "    \n",
    "    # Generate random integer\n",
    "    integer_value = random.randint(0, 100)\n",
    "    \n",
    "    # Generate random float\n",
    "    float_value = round(random.uniform(0, 100), 2)\n",
    "    \n",
    "    # Generate random string\n",
    "    string_value = ''.join(random.choice(string.ascii_letters) for _ in range(5))\n",
    "    \n",
    "    data.append([date, start_time, integer_value, float_value, string_value])\n",
    "\n",
    "# Create a DataFrame\n",
    "df3 = pd.DataFrame(data, columns=['Datetime', 'Time', 'Integer', 'Float', 'String'], dtype=object)"
   ]
  },
  {
   "cell_type": "code",
   "execution_count": 119,
   "id": "a94e03f5",
   "metadata": {
    "execution": {
     "iopub.execute_input": "2023-10-25T14:10:55.961137Z",
     "iopub.status.busy": "2023-10-25T14:10:55.960746Z",
     "iopub.status.idle": "2023-10-25T14:10:55.974075Z",
     "shell.execute_reply": "2023-10-25T14:10:55.972640Z"
    },
    "papermill": {
     "duration": 0.103148,
     "end_time": "2023-10-25T14:10:55.976525",
     "exception": false,
     "start_time": "2023-10-25T14:10:55.873377",
     "status": "completed"
    },
    "tags": []
   },
   "outputs": [
    {
     "data": {
      "text/html": [
       "<div>\n",
       "<style scoped>\n",
       "    .dataframe tbody tr th:only-of-type {\n",
       "        vertical-align: middle;\n",
       "    }\n",
       "\n",
       "    .dataframe tbody tr th {\n",
       "        vertical-align: top;\n",
       "    }\n",
       "\n",
       "    .dataframe thead th {\n",
       "        text-align: right;\n",
       "    }\n",
       "</style>\n",
       "<table border=\"1\" class=\"dataframe\">\n",
       "  <thead>\n",
       "    <tr style=\"text-align: right;\">\n",
       "      <th></th>\n",
       "      <th>Datetime</th>\n",
       "      <th>Time</th>\n",
       "      <th>Integer</th>\n",
       "      <th>Float</th>\n",
       "      <th>String</th>\n",
       "    </tr>\n",
       "  </thead>\n",
       "  <tbody>\n",
       "    <tr>\n",
       "      <th>0</th>\n",
       "      <td>2023-03-02 23:49:45</td>\n",
       "      <td>21:49:04</td>\n",
       "      <td>53</td>\n",
       "      <td>10.2</td>\n",
       "      <td>JAtgy</td>\n",
       "    </tr>\n",
       "    <tr>\n",
       "      <th>1</th>\n",
       "      <td>2023-07-01 15:48:43</td>\n",
       "      <td>15:40:29</td>\n",
       "      <td>83</td>\n",
       "      <td>80.01</td>\n",
       "      <td>iLtDu</td>\n",
       "    </tr>\n",
       "    <tr>\n",
       "      <th>2</th>\n",
       "      <td>2023-04-07 17:21:21</td>\n",
       "      <td>19:27:24</td>\n",
       "      <td>69</td>\n",
       "      <td>66.93</td>\n",
       "      <td>TnOap</td>\n",
       "    </tr>\n",
       "    <tr>\n",
       "      <th>3</th>\n",
       "      <td>2023-05-11 15:06:31</td>\n",
       "      <td>04:02:06</td>\n",
       "      <td>9</td>\n",
       "      <td>9.92</td>\n",
       "      <td>ybuyd</td>\n",
       "    </tr>\n",
       "    <tr>\n",
       "      <th>4</th>\n",
       "      <td>2023-05-02 16:28:04</td>\n",
       "      <td>09:57:23</td>\n",
       "      <td>94</td>\n",
       "      <td>3.84</td>\n",
       "      <td>axfRc</td>\n",
       "    </tr>\n",
       "    <tr>\n",
       "      <th>5</th>\n",
       "      <td>2023-01-05 20:36:46</td>\n",
       "      <td>01:31:25</td>\n",
       "      <td>76</td>\n",
       "      <td>32.37</td>\n",
       "      <td>qWLtR</td>\n",
       "    </tr>\n",
       "    <tr>\n",
       "      <th>6</th>\n",
       "      <td>2023-07-23 06:24:48</td>\n",
       "      <td>02:12:47</td>\n",
       "      <td>14</td>\n",
       "      <td>4.25</td>\n",
       "      <td>YwoZk</td>\n",
       "    </tr>\n",
       "    <tr>\n",
       "      <th>7</th>\n",
       "      <td>2023-10-20 06:19:22</td>\n",
       "      <td>01:57:36</td>\n",
       "      <td>99</td>\n",
       "      <td>35.37</td>\n",
       "      <td>LJqWG</td>\n",
       "    </tr>\n",
       "    <tr>\n",
       "      <th>8</th>\n",
       "      <td>2023-11-02 16:34:33</td>\n",
       "      <td>22:00:43</td>\n",
       "      <td>87</td>\n",
       "      <td>77.68</td>\n",
       "      <td>uhgJA</td>\n",
       "    </tr>\n",
       "    <tr>\n",
       "      <th>9</th>\n",
       "      <td>2023-01-10 23:27:36</td>\n",
       "      <td>08:16:49</td>\n",
       "      <td>83</td>\n",
       "      <td>88.43</td>\n",
       "      <td>EwKTV</td>\n",
       "    </tr>\n",
       "    <tr>\n",
       "      <th>10</th>\n",
       "      <td>2023-03-12 10:22:10</td>\n",
       "      <td>00:36:26</td>\n",
       "      <td>69</td>\n",
       "      <td>45.78</td>\n",
       "      <td>xGMwO</td>\n",
       "    </tr>\n",
       "    <tr>\n",
       "      <th>11</th>\n",
       "      <td>2023-05-14 11:59:50</td>\n",
       "      <td>11:57:37</td>\n",
       "      <td>29</td>\n",
       "      <td>75.57</td>\n",
       "      <td>Utquq</td>\n",
       "    </tr>\n",
       "    <tr>\n",
       "      <th>12</th>\n",
       "      <td>2023-11-28 00:25:53</td>\n",
       "      <td>05:22:31</td>\n",
       "      <td>3</td>\n",
       "      <td>75.92</td>\n",
       "      <td>FDjdY</td>\n",
       "    </tr>\n",
       "    <tr>\n",
       "      <th>13</th>\n",
       "      <td>2023-09-22 15:43:14</td>\n",
       "      <td>03:18:10</td>\n",
       "      <td>88</td>\n",
       "      <td>52.66</td>\n",
       "      <td>PKdkb</td>\n",
       "    </tr>\n",
       "    <tr>\n",
       "      <th>14</th>\n",
       "      <td>2023-07-01 03:35:40</td>\n",
       "      <td>17:35:21</td>\n",
       "      <td>66</td>\n",
       "      <td>68.43</td>\n",
       "      <td>YbpXx</td>\n",
       "    </tr>\n",
       "    <tr>\n",
       "      <th>15</th>\n",
       "      <td>2023-07-07 18:33:39</td>\n",
       "      <td>03:40:37</td>\n",
       "      <td>6</td>\n",
       "      <td>2.21</td>\n",
       "      <td>gxwXN</td>\n",
       "    </tr>\n",
       "    <tr>\n",
       "      <th>16</th>\n",
       "      <td>2023-05-08 10:22:51</td>\n",
       "      <td>01:31:16</td>\n",
       "      <td>95</td>\n",
       "      <td>47.3</td>\n",
       "      <td>ZkJAM</td>\n",
       "    </tr>\n",
       "    <tr>\n",
       "      <th>17</th>\n",
       "      <td>2023-04-08 03:08:21</td>\n",
       "      <td>06:16:56</td>\n",
       "      <td>1</td>\n",
       "      <td>15.23</td>\n",
       "      <td>EuqLe</td>\n",
       "    </tr>\n",
       "    <tr>\n",
       "      <th>18</th>\n",
       "      <td>2023-05-09 21:38:10</td>\n",
       "      <td>23:13:26</td>\n",
       "      <td>32</td>\n",
       "      <td>22.46</td>\n",
       "      <td>yEMiC</td>\n",
       "    </tr>\n",
       "    <tr>\n",
       "      <th>19</th>\n",
       "      <td>2023-03-28 14:10:23</td>\n",
       "      <td>20:11:05</td>\n",
       "      <td>53</td>\n",
       "      <td>81.05</td>\n",
       "      <td>OOSqN</td>\n",
       "    </tr>\n",
       "  </tbody>\n",
       "</table>\n",
       "</div>"
      ],
      "text/plain": [
       "               Datetime      Time Integer  Float String\n",
       "0   2023-03-02 23:49:45  21:49:04      53   10.2  JAtgy\n",
       "1   2023-07-01 15:48:43  15:40:29      83  80.01  iLtDu\n",
       "2   2023-04-07 17:21:21  19:27:24      69  66.93  TnOap\n",
       "3   2023-05-11 15:06:31  04:02:06       9   9.92  ybuyd\n",
       "4   2023-05-02 16:28:04  09:57:23      94   3.84  axfRc\n",
       "5   2023-01-05 20:36:46  01:31:25      76  32.37  qWLtR\n",
       "6   2023-07-23 06:24:48  02:12:47      14   4.25  YwoZk\n",
       "7   2023-10-20 06:19:22  01:57:36      99  35.37  LJqWG\n",
       "8   2023-11-02 16:34:33  22:00:43      87  77.68  uhgJA\n",
       "9   2023-01-10 23:27:36  08:16:49      83  88.43  EwKTV\n",
       "10  2023-03-12 10:22:10  00:36:26      69  45.78  xGMwO\n",
       "11  2023-05-14 11:59:50  11:57:37      29  75.57  Utquq\n",
       "12  2023-11-28 00:25:53  05:22:31       3  75.92  FDjdY\n",
       "13  2023-09-22 15:43:14  03:18:10      88  52.66  PKdkb\n",
       "14  2023-07-01 03:35:40  17:35:21      66  68.43  YbpXx\n",
       "15  2023-07-07 18:33:39  03:40:37       6   2.21  gxwXN\n",
       "16  2023-05-08 10:22:51  01:31:16      95   47.3  ZkJAM\n",
       "17  2023-04-08 03:08:21  06:16:56       1  15.23  EuqLe\n",
       "18  2023-05-09 21:38:10  23:13:26      32  22.46  yEMiC\n",
       "19  2023-03-28 14:10:23  20:11:05      53  81.05  OOSqN"
      ]
     },
     "execution_count": 119,
     "metadata": {},
     "output_type": "execute_result"
    }
   ],
   "source": [
    "# Display the DataFrame\n",
    "df3"
   ]
  },
  {
   "cell_type": "code",
   "execution_count": 120,
   "id": "24094f15",
   "metadata": {
    "execution": {
     "iopub.execute_input": "2023-10-25T14:10:56.147913Z",
     "iopub.status.busy": "2023-10-25T14:10:56.147232Z",
     "iopub.status.idle": "2023-10-25T14:10:56.159666Z",
     "shell.execute_reply": "2023-10-25T14:10:56.158187Z"
    },
    "papermill": {
     "duration": 0.100774,
     "end_time": "2023-10-25T14:10:56.162165",
     "exception": false,
     "start_time": "2023-10-25T14:10:56.061391",
     "status": "completed"
    },
    "tags": []
   },
   "outputs": [
    {
     "name": "stdout",
     "output_type": "stream",
     "text": [
      "<class 'pandas.core.frame.DataFrame'>\n",
      "RangeIndex: 20 entries, 0 to 19\n",
      "Data columns (total 5 columns):\n",
      " #   Column    Non-Null Count  Dtype \n",
      "---  ------    --------------  ----- \n",
      " 0   Datetime  20 non-null     object\n",
      " 1   Time      20 non-null     object\n",
      " 2   Integer   20 non-null     object\n",
      " 3   Float     20 non-null     object\n",
      " 4   String    20 non-null     object\n",
      "dtypes: object(5)\n",
      "memory usage: 928.0+ bytes\n"
     ]
    }
   ],
   "source": [
    "df3.info()"
   ]
  },
  {
   "cell_type": "code",
   "execution_count": 121,
   "id": "e709b56f",
   "metadata": {
    "execution": {
     "iopub.execute_input": "2023-10-25T14:10:56.333187Z",
     "iopub.status.busy": "2023-10-25T14:10:56.332836Z",
     "iopub.status.idle": "2023-10-25T14:10:56.340458Z",
     "shell.execute_reply": "2023-10-25T14:10:56.339348Z"
    },
    "papermill": {
     "duration": 0.093939,
     "end_time": "2023-10-25T14:10:56.342541",
     "exception": false,
     "start_time": "2023-10-25T14:10:56.248602",
     "status": "completed"
    },
    "tags": []
   },
   "outputs": [
    {
     "data": {
      "text/plain": [
       "0     53\n",
       "1     83\n",
       "2     69\n",
       "3      9\n",
       "4     94\n",
       "5     76\n",
       "6     14\n",
       "7     99\n",
       "8     87\n",
       "9     83\n",
       "10    69\n",
       "11    29\n",
       "12     3\n",
       "13    88\n",
       "14    66\n",
       "15     6\n",
       "16    95\n",
       "17     1\n",
       "18    32\n",
       "19    53\n",
       "Name: Integer, dtype: int64"
      ]
     },
     "execution_count": 121,
     "metadata": {},
     "output_type": "execute_result"
    }
   ],
   "source": [
    "# str int to int\n",
    "pd.to_numeric(df3['Integer'])"
   ]
  },
  {
   "cell_type": "code",
   "execution_count": 122,
   "id": "48498edf",
   "metadata": {
    "execution": {
     "iopub.execute_input": "2023-10-25T14:10:56.510933Z",
     "iopub.status.busy": "2023-10-25T14:10:56.509987Z",
     "iopub.status.idle": "2023-10-25T14:10:56.518344Z",
     "shell.execute_reply": "2023-10-25T14:10:56.517538Z"
    },
    "papermill": {
     "duration": 0.094408,
     "end_time": "2023-10-25T14:10:56.520418",
     "exception": false,
     "start_time": "2023-10-25T14:10:56.426010",
     "status": "completed"
    },
    "tags": []
   },
   "outputs": [
    {
     "data": {
      "text/plain": [
       "0     10.20\n",
       "1     80.01\n",
       "2     66.93\n",
       "3      9.92\n",
       "4      3.84\n",
       "5     32.37\n",
       "6      4.25\n",
       "7     35.37\n",
       "8     77.68\n",
       "9     88.43\n",
       "10    45.78\n",
       "11    75.57\n",
       "12    75.92\n",
       "13    52.66\n",
       "14    68.43\n",
       "15     2.21\n",
       "16    47.30\n",
       "17    15.23\n",
       "18    22.46\n",
       "19    81.05\n",
       "Name: Float, dtype: float64"
      ]
     },
     "execution_count": 122,
     "metadata": {},
     "output_type": "execute_result"
    }
   ],
   "source": [
    "# float object to float\n",
    "pd.to_numeric(df3['Float'])"
   ]
  },
  {
   "cell_type": "code",
   "execution_count": 123,
   "id": "c459da52",
   "metadata": {
    "execution": {
     "iopub.execute_input": "2023-10-25T14:10:56.689102Z",
     "iopub.status.busy": "2023-10-25T14:10:56.688528Z",
     "iopub.status.idle": "2023-10-25T14:10:56.697306Z",
     "shell.execute_reply": "2023-10-25T14:10:56.696523Z"
    },
    "papermill": {
     "duration": 0.09566,
     "end_time": "2023-10-25T14:10:56.699301",
     "exception": false,
     "start_time": "2023-10-25T14:10:56.603641",
     "status": "completed"
    },
    "tags": []
   },
   "outputs": [
    {
     "data": {
      "text/plain": [
       "0    2023-03-02 23:49:45\n",
       "1    2023-07-01 15:48:43\n",
       "2    2023-04-07 17:21:21\n",
       "3    2023-05-11 15:06:31\n",
       "4    2023-05-02 16:28:04\n",
       "5    2023-01-05 20:36:46\n",
       "6    2023-07-23 06:24:48\n",
       "7    2023-10-20 06:19:22\n",
       "8    2023-11-02 16:34:33\n",
       "9    2023-01-10 23:27:36\n",
       "10   2023-03-12 10:22:10\n",
       "11   2023-05-14 11:59:50\n",
       "12   2023-11-28 00:25:53\n",
       "13   2023-09-22 15:43:14\n",
       "14   2023-07-01 03:35:40\n",
       "15   2023-07-07 18:33:39\n",
       "16   2023-05-08 10:22:51\n",
       "17   2023-04-08 03:08:21\n",
       "18   2023-05-09 21:38:10\n",
       "19   2023-03-28 14:10:23\n",
       "Name: Datetime, dtype: datetime64[ns]"
      ]
     },
     "execution_count": 123,
     "metadata": {},
     "output_type": "execute_result"
    }
   ],
   "source": [
    "# object to datetime\n",
    "pd.to_datetime(df3['Datetime'])"
   ]
  },
  {
   "cell_type": "code",
   "execution_count": 124,
   "id": "eb07bb2e",
   "metadata": {
    "execution": {
     "iopub.execute_input": "2023-10-25T14:10:56.870106Z",
     "iopub.status.busy": "2023-10-25T14:10:56.869527Z",
     "iopub.status.idle": "2023-10-25T14:10:56.877170Z",
     "shell.execute_reply": "2023-10-25T14:10:56.876360Z"
    },
    "papermill": {
     "duration": 0.094828,
     "end_time": "2023-10-25T14:10:56.879482",
     "exception": false,
     "start_time": "2023-10-25T14:10:56.784654",
     "status": "completed"
    },
    "tags": []
   },
   "outputs": [
    {
     "data": {
      "text/plain": [
       "0     2023-03-02\n",
       "1     2023-07-01\n",
       "2     2023-04-07\n",
       "3     2023-05-11\n",
       "4     2023-05-02\n",
       "5     2023-01-05\n",
       "6     2023-07-23\n",
       "7     2023-10-20\n",
       "8     2023-11-02\n",
       "9     2023-01-10\n",
       "10    2023-03-12\n",
       "11    2023-05-14\n",
       "12    2023-11-28\n",
       "13    2023-09-22\n",
       "14    2023-07-01\n",
       "15    2023-07-07\n",
       "16    2023-05-08\n",
       "17    2023-04-08\n",
       "18    2023-05-09\n",
       "19    2023-03-28\n",
       "Name: Datetime, dtype: object"
      ]
     },
     "execution_count": 124,
     "metadata": {},
     "output_type": "execute_result"
    }
   ],
   "source": [
    "# extract date\n",
    "pd.to_datetime(df3['Datetime']).dt.date"
   ]
  },
  {
   "cell_type": "code",
   "execution_count": 125,
   "id": "7052e46e",
   "metadata": {
    "execution": {
     "iopub.execute_input": "2023-10-25T14:10:57.045951Z",
     "iopub.status.busy": "2023-10-25T14:10:57.045561Z",
     "iopub.status.idle": "2023-10-25T14:10:57.054452Z",
     "shell.execute_reply": "2023-10-25T14:10:57.053475Z"
    },
    "papermill": {
     "duration": 0.094801,
     "end_time": "2023-10-25T14:10:57.056636",
     "exception": false,
     "start_time": "2023-10-25T14:10:56.961835",
     "status": "completed"
    },
    "tags": []
   },
   "outputs": [
    {
     "data": {
      "text/plain": [
       "0     2023\n",
       "1     2023\n",
       "2     2023\n",
       "3     2023\n",
       "4     2023\n",
       "5     2023\n",
       "6     2023\n",
       "7     2023\n",
       "8     2023\n",
       "9     2023\n",
       "10    2023\n",
       "11    2023\n",
       "12    2023\n",
       "13    2023\n",
       "14    2023\n",
       "15    2023\n",
       "16    2023\n",
       "17    2023\n",
       "18    2023\n",
       "19    2023\n",
       "Name: Datetime, dtype: int32"
      ]
     },
     "execution_count": 125,
     "metadata": {},
     "output_type": "execute_result"
    }
   ],
   "source": [
    "# get year\n",
    "pd.to_datetime(df3['Datetime']).dt.year"
   ]
  },
  {
   "cell_type": "code",
   "execution_count": 126,
   "id": "ac47b69a",
   "metadata": {
    "execution": {
     "iopub.execute_input": "2023-10-25T14:10:57.227601Z",
     "iopub.status.busy": "2023-10-25T14:10:57.226557Z",
     "iopub.status.idle": "2023-10-25T14:10:57.235289Z",
     "shell.execute_reply": "2023-10-25T14:10:57.234494Z"
    },
    "papermill": {
     "duration": 0.097342,
     "end_time": "2023-10-25T14:10:57.237263",
     "exception": false,
     "start_time": "2023-10-25T14:10:57.139921",
     "status": "completed"
    },
    "tags": []
   },
   "outputs": [
    {
     "data": {
      "text/plain": [
       "0      3\n",
       "1      7\n",
       "2      4\n",
       "3      5\n",
       "4      5\n",
       "5      1\n",
       "6      7\n",
       "7     10\n",
       "8     11\n",
       "9      1\n",
       "10     3\n",
       "11     5\n",
       "12    11\n",
       "13     9\n",
       "14     7\n",
       "15     7\n",
       "16     5\n",
       "17     4\n",
       "18     5\n",
       "19     3\n",
       "Name: Datetime, dtype: int32"
      ]
     },
     "execution_count": 126,
     "metadata": {},
     "output_type": "execute_result"
    }
   ],
   "source": [
    "# get month\n",
    "pd.to_datetime(df3['Datetime']).dt.month"
   ]
  },
  {
   "cell_type": "code",
   "execution_count": 127,
   "id": "562ed029",
   "metadata": {
    "execution": {
     "iopub.execute_input": "2023-10-25T14:10:57.407381Z",
     "iopub.status.busy": "2023-10-25T14:10:57.406640Z",
     "iopub.status.idle": "2023-10-25T14:10:57.415715Z",
     "shell.execute_reply": "2023-10-25T14:10:57.414649Z"
    },
    "papermill": {
     "duration": 0.096422,
     "end_time": "2023-10-25T14:10:57.417922",
     "exception": false,
     "start_time": "2023-10-25T14:10:57.321500",
     "status": "completed"
    },
    "tags": []
   },
   "outputs": [
    {
     "data": {
      "text/plain": [
       "0         March\n",
       "1          July\n",
       "2         April\n",
       "3           May\n",
       "4           May\n",
       "5       January\n",
       "6          July\n",
       "7       October\n",
       "8      November\n",
       "9       January\n",
       "10        March\n",
       "11          May\n",
       "12     November\n",
       "13    September\n",
       "14         July\n",
       "15         July\n",
       "16          May\n",
       "17        April\n",
       "18          May\n",
       "19        March\n",
       "Name: Datetime, dtype: object"
      ]
     },
     "execution_count": 127,
     "metadata": {},
     "output_type": "execute_result"
    }
   ],
   "source": [
    "# get month name\n",
    "pd.to_datetime(df3['Datetime']).dt.month_name()"
   ]
  },
  {
   "cell_type": "code",
   "execution_count": 128,
   "id": "2be6d769",
   "metadata": {
    "execution": {
     "iopub.execute_input": "2023-10-25T14:10:57.587435Z",
     "iopub.status.busy": "2023-10-25T14:10:57.586703Z",
     "iopub.status.idle": "2023-10-25T14:10:57.595287Z",
     "shell.execute_reply": "2023-10-25T14:10:57.594468Z"
    },
    "papermill": {
     "duration": 0.094913,
     "end_time": "2023-10-25T14:10:57.597414",
     "exception": false,
     "start_time": "2023-10-25T14:10:57.502501",
     "status": "completed"
    },
    "tags": []
   },
   "outputs": [
    {
     "data": {
      "text/plain": [
       "0      2\n",
       "1      1\n",
       "2      7\n",
       "3     11\n",
       "4      2\n",
       "5      5\n",
       "6     23\n",
       "7     20\n",
       "8      2\n",
       "9     10\n",
       "10    12\n",
       "11    14\n",
       "12    28\n",
       "13    22\n",
       "14     1\n",
       "15     7\n",
       "16     8\n",
       "17     8\n",
       "18     9\n",
       "19    28\n",
       "Name: Datetime, dtype: int32"
      ]
     },
     "execution_count": 128,
     "metadata": {},
     "output_type": "execute_result"
    }
   ],
   "source": [
    "# get day\n",
    "pd.to_datetime(df3['Datetime']).dt.day"
   ]
  },
  {
   "cell_type": "code",
   "execution_count": 129,
   "id": "93052727",
   "metadata": {
    "execution": {
     "iopub.execute_input": "2023-10-25T14:10:57.768513Z",
     "iopub.status.busy": "2023-10-25T14:10:57.767779Z",
     "iopub.status.idle": "2023-10-25T14:10:57.776708Z",
     "shell.execute_reply": "2023-10-25T14:10:57.775664Z"
    },
    "papermill": {
     "duration": 0.09721,
     "end_time": "2023-10-25T14:10:57.778827",
     "exception": false,
     "start_time": "2023-10-25T14:10:57.681617",
     "status": "completed"
    },
    "tags": []
   },
   "outputs": [
    {
     "data": {
      "text/plain": [
       "0     Thursday\n",
       "1     Saturday\n",
       "2       Friday\n",
       "3     Thursday\n",
       "4      Tuesday\n",
       "5     Thursday\n",
       "6       Sunday\n",
       "7       Friday\n",
       "8     Thursday\n",
       "9      Tuesday\n",
       "10      Sunday\n",
       "11      Sunday\n",
       "12     Tuesday\n",
       "13      Friday\n",
       "14    Saturday\n",
       "15      Friday\n",
       "16      Monday\n",
       "17    Saturday\n",
       "18     Tuesday\n",
       "19     Tuesday\n",
       "Name: Datetime, dtype: object"
      ]
     },
     "execution_count": 129,
     "metadata": {},
     "output_type": "execute_result"
    }
   ],
   "source": [
    "# get day name\n",
    "pd.to_datetime(df3['Datetime']).dt.day_name()"
   ]
  },
  {
   "cell_type": "code",
   "execution_count": 130,
   "id": "295abd89",
   "metadata": {
    "execution": {
     "iopub.execute_input": "2023-10-25T14:10:57.951850Z",
     "iopub.status.busy": "2023-10-25T14:10:57.951066Z",
     "iopub.status.idle": "2023-10-25T14:10:57.959804Z",
     "shell.execute_reply": "2023-10-25T14:10:57.958753Z"
    },
    "papermill": {
     "duration": 0.098222,
     "end_time": "2023-10-25T14:10:57.961930",
     "exception": false,
     "start_time": "2023-10-25T14:10:57.863708",
     "status": "completed"
    },
    "tags": []
   },
   "outputs": [
    {
     "data": {
      "text/plain": [
       "0     3\n",
       "1     5\n",
       "2     4\n",
       "3     3\n",
       "4     1\n",
       "5     3\n",
       "6     6\n",
       "7     4\n",
       "8     3\n",
       "9     1\n",
       "10    6\n",
       "11    6\n",
       "12    1\n",
       "13    4\n",
       "14    5\n",
       "15    4\n",
       "16    0\n",
       "17    5\n",
       "18    1\n",
       "19    1\n",
       "Name: Datetime, dtype: int32"
      ]
     },
     "execution_count": 130,
     "metadata": {},
     "output_type": "execute_result"
    }
   ],
   "source": [
    "# get week \n",
    "pd.to_datetime(df3['Datetime']).dt.weekday"
   ]
  },
  {
   "cell_type": "code",
   "execution_count": 131,
   "id": "1b95df58",
   "metadata": {
    "execution": {
     "iopub.execute_input": "2023-10-25T14:10:58.133916Z",
     "iopub.status.busy": "2023-10-25T14:10:58.133193Z",
     "iopub.status.idle": "2023-10-25T14:10:58.141794Z",
     "shell.execute_reply": "2023-10-25T14:10:58.140788Z"
    },
    "papermill": {
     "duration": 0.096763,
     "end_time": "2023-10-25T14:10:58.143741",
     "exception": false,
     "start_time": "2023-10-25T14:10:58.046978",
     "status": "completed"
    },
    "tags": []
   },
   "outputs": [
    {
     "data": {
      "text/plain": [
       "0     23:49:45\n",
       "1     15:48:43\n",
       "2     17:21:21\n",
       "3     15:06:31\n",
       "4     16:28:04\n",
       "5     20:36:46\n",
       "6     06:24:48\n",
       "7     06:19:22\n",
       "8     16:34:33\n",
       "9     23:27:36\n",
       "10    10:22:10\n",
       "11    11:59:50\n",
       "12    00:25:53\n",
       "13    15:43:14\n",
       "14    03:35:40\n",
       "15    18:33:39\n",
       "16    10:22:51\n",
       "17    03:08:21\n",
       "18    21:38:10\n",
       "19    14:10:23\n",
       "Name: Datetime, dtype: object"
      ]
     },
     "execution_count": 131,
     "metadata": {},
     "output_type": "execute_result"
    }
   ],
   "source": [
    "# get time from datetime\n",
    "pd.to_datetime(df3['Datetime']).dt.time"
   ]
  },
  {
   "cell_type": "code",
   "execution_count": 132,
   "id": "ccdac5d0",
   "metadata": {
    "execution": {
     "iopub.execute_input": "2023-10-25T14:10:58.314384Z",
     "iopub.status.busy": "2023-10-25T14:10:58.313991Z",
     "iopub.status.idle": "2023-10-25T14:10:58.322241Z",
     "shell.execute_reply": "2023-10-25T14:10:58.321096Z"
    },
    "papermill": {
     "duration": 0.095531,
     "end_time": "2023-10-25T14:10:58.324426",
     "exception": false,
     "start_time": "2023-10-25T14:10:58.228895",
     "status": "completed"
    },
    "tags": []
   },
   "outputs": [
    {
     "data": {
      "text/plain": [
       "0     23\n",
       "1     15\n",
       "2     17\n",
       "3     15\n",
       "4     16\n",
       "5     20\n",
       "6      6\n",
       "7      6\n",
       "8     16\n",
       "9     23\n",
       "10    10\n",
       "11    11\n",
       "12     0\n",
       "13    15\n",
       "14     3\n",
       "15    18\n",
       "16    10\n",
       "17     3\n",
       "18    21\n",
       "19    14\n",
       "Name: Datetime, dtype: int32"
      ]
     },
     "execution_count": 132,
     "metadata": {},
     "output_type": "execute_result"
    }
   ],
   "source": [
    "# get hour\n",
    "pd.to_datetime(df3['Datetime']).dt.hour"
   ]
  },
  {
   "cell_type": "code",
   "execution_count": 133,
   "id": "b30ba421",
   "metadata": {
    "execution": {
     "iopub.execute_input": "2023-10-25T14:10:58.496459Z",
     "iopub.status.busy": "2023-10-25T14:10:58.496076Z",
     "iopub.status.idle": "2023-10-25T14:10:58.504812Z",
     "shell.execute_reply": "2023-10-25T14:10:58.503617Z"
    },
    "papermill": {
     "duration": 0.097459,
     "end_time": "2023-10-25T14:10:58.506933",
     "exception": false,
     "start_time": "2023-10-25T14:10:58.409474",
     "status": "completed"
    },
    "tags": []
   },
   "outputs": [
    {
     "data": {
      "text/plain": [
       "0     49\n",
       "1     48\n",
       "2     21\n",
       "3      6\n",
       "4     28\n",
       "5     36\n",
       "6     24\n",
       "7     19\n",
       "8     34\n",
       "9     27\n",
       "10    22\n",
       "11    59\n",
       "12    25\n",
       "13    43\n",
       "14    35\n",
       "15    33\n",
       "16    22\n",
       "17     8\n",
       "18    38\n",
       "19    10\n",
       "Name: Datetime, dtype: int32"
      ]
     },
     "execution_count": 133,
     "metadata": {},
     "output_type": "execute_result"
    }
   ],
   "source": [
    "# get minute\n",
    "pd.to_datetime(df3['Datetime']).dt.minute"
   ]
  },
  {
   "cell_type": "code",
   "execution_count": 134,
   "id": "4024a998",
   "metadata": {
    "execution": {
     "iopub.execute_input": "2023-10-25T14:10:58.677243Z",
     "iopub.status.busy": "2023-10-25T14:10:58.676502Z",
     "iopub.status.idle": "2023-10-25T14:10:58.684834Z",
     "shell.execute_reply": "2023-10-25T14:10:58.683826Z"
    },
    "papermill": {
     "duration": 0.095046,
     "end_time": "2023-10-25T14:10:58.686914",
     "exception": false,
     "start_time": "2023-10-25T14:10:58.591868",
     "status": "completed"
    },
    "tags": []
   },
   "outputs": [
    {
     "data": {
      "text/plain": [
       "0     45\n",
       "1     43\n",
       "2     21\n",
       "3     31\n",
       "4      4\n",
       "5     46\n",
       "6     48\n",
       "7     22\n",
       "8     33\n",
       "9     36\n",
       "10    10\n",
       "11    50\n",
       "12    53\n",
       "13    14\n",
       "14    40\n",
       "15    39\n",
       "16    51\n",
       "17    21\n",
       "18    10\n",
       "19    23\n",
       "Name: Datetime, dtype: int32"
      ]
     },
     "execution_count": 134,
     "metadata": {},
     "output_type": "execute_result"
    }
   ],
   "source": [
    "# get second\n",
    "pd.to_datetime(df3['Datetime']).dt.second"
   ]
  },
  {
   "cell_type": "markdown",
   "id": "52ec16c3",
   "metadata": {
    "papermill": {
     "duration": 0.084281,
     "end_time": "2023-10-25T14:10:58.854737",
     "exception": false,
     "start_time": "2023-10-25T14:10:58.770456",
     "status": "completed"
    },
    "tags": []
   },
   "source": [
    "#### 3. **Data Aggregation and Grouping**:\n",
    "\n",
    "   - `df.groupby()`: Groups data based on one or more columns for aggregation.\n",
    "   - `agg()`: Performs aggregation operations (e.g., sum, mean, count) on grouped data.\n",
    "   - `pivot_table()`: Creates pivot tables for summarizing data.\n",
    "   "
   ]
  },
  {
   "cell_type": "code",
   "execution_count": 135,
   "id": "a09b7b99",
   "metadata": {
    "execution": {
     "iopub.execute_input": "2023-10-25T14:10:59.092667Z",
     "iopub.status.busy": "2023-10-25T14:10:59.092055Z",
     "iopub.status.idle": "2023-10-25T14:10:59.107232Z",
     "shell.execute_reply": "2023-10-25T14:10:59.106373Z"
    },
    "papermill": {
     "duration": 0.166912,
     "end_time": "2023-10-25T14:10:59.109680",
     "exception": false,
     "start_time": "2023-10-25T14:10:58.942768",
     "status": "completed"
    },
    "tags": []
   },
   "outputs": [],
   "source": [
    "df= pd.read_csv(\"/kaggle/input/ipl-auction-20132022-data/IPl Auction 2013-2022.csv\")\n",
    "players = df.groupby(\"type\") # gourping on players category"
   ]
  },
  {
   "cell_type": "markdown",
   "id": "ad196222",
   "metadata": {
    "papermill": {
     "duration": 0.083182,
     "end_time": "2023-10-25T14:10:59.277712",
     "exception": false,
     "start_time": "2023-10-25T14:10:59.194530",
     "status": "completed"
    },
    "tags": []
   },
   "source": [
    "`df.groupby()` is a powerful method in Pandas for grouping data in a DataFrame. It returns a `GroupBy` object, which provides various methods and attributes for working with grouped data. Here are some of the commonly used attributes, methods, and variables of a `GroupBy` object:\n",
    "\n",
    "1. **`groups` (attribute)**:\n",
    "   - Returns a dictionary where the keys are the unique group labels, and the values are the corresponding group indices."
   ]
  },
  {
   "cell_type": "code",
   "execution_count": 136,
   "id": "9d596698",
   "metadata": {
    "execution": {
     "iopub.execute_input": "2023-10-25T14:10:59.449537Z",
     "iopub.status.busy": "2023-10-25T14:10:59.448902Z",
     "iopub.status.idle": "2023-10-25T14:10:59.458308Z",
     "shell.execute_reply": "2023-10-25T14:10:59.457191Z"
    },
    "papermill": {
     "duration": 0.097924,
     "end_time": "2023-10-25T14:10:59.460305",
     "exception": false,
     "start_time": "2023-10-25T14:10:59.362381",
     "status": "completed"
    },
    "tags": []
   },
   "outputs": [
    {
     "data": {
      "text/plain": [
       "{'All-Rounder': [1, 8, 9, 11, 14, 15, 20, 22, 27, 28, 34, 35, 36, 37, 40, 48, 51, 52, 53, 54, 56, 57, 60, 61, 63, 64, 67, 71, 76, 78, 84, 85, 86, 90, 97, 98, 99, 107, 108, 109, 110, 112, 113, 115, 118, 119, 120, 125, 126, 130, 131, 133, 134, 136, 137, 140, 141, 143, 144, 150, 152, 158, 163, 164, 166, 167, 170, 174, 176, 179, 182, 183, 184, 190, 196, 197, 202, 204, 205, 207, 210, 214, 218, 220, 222, 223, 229, 230, 231, 232, 235, 236, 237, 238, 239, 240, 241, 242, 243, 246, ...], 'Batsman': [0, 4, 13, 17, 21, 26, 30, 38, 42, 43, 47, 62, 69, 70, 72, 77, 79, 80, 83, 93, 94, 101, 102, 117, 121, 139, 146, 147, 156, 157, 165, 175, 188, 189, 195, 201, 206, 208, 211, 221, 253, 254, 265, 268, 283, 285, 286, 292, 293, 297, 304, 309, 317, 318, 324, 325, 327, 350, 359, 369, 372, 375, 378, 382, 389, 391, 412, 416, 418, 424, 427, 430, 432, 435, 439, 442, 443, 447, 457, 459, 462, 463, 468, 469, 476, 481, 483, 492, 494, 511, 522, 529, 531, 537, 545, 547, 550, 551, 558, 561, ...], 'Bowler': [3, 6, 7, 10, 12, 16, 18, 19, 23, 24, 25, 31, 32, 33, 41, 46, 49, 50, 55, 58, 59, 66, 73, 74, 81, 87, 88, 89, 91, 92, 95, 96, 103, 104, 105, 106, 111, 116, 122, 124, 129, 132, 135, 138, 142, 145, 148, 149, 151, 153, 154, 155, 159, 161, 162, 169, 172, 173, 177, 178, 181, 186, 187, 192, 193, 194, 199, 200, 203, 209, 213, 216, 217, 219, 225, 226, 227, 228, 233, 234, 244, 245, 247, 248, 249, 259, 260, 261, 263, 264, 270, 271, 274, 276, 281, 289, 290, 291, 296, 298, ...], 'Wicket Keeper': [2, 5, 29, 39, 44, 45, 65, 68, 75, 82, 100, 114, 123, 127, 128, 160, 168, 171, 180, 185, 191, 198, 212, 215, 224, 255, 257, 267, 277, 288, 303, 313, 314, 332, 338, 339, 352, 377, 380, 381, 388, 393, 399, 417, 449, 450, 465, 480, 488, 491, 504, 514, 519, 532, 541, 557, 594, 612, 620, 623, 625, 634, 638, 640, 666, 672, 682, 689, 706, 718, 719, 731, 732, 735, 760, 781, 794, 799, 822, 852, 855, 861, 867, 868, 871, 885, 890, 898, 909, 924, 925, 927, 954, 967]}"
      ]
     },
     "execution_count": 136,
     "metadata": {},
     "output_type": "execute_result"
    }
   ],
   "source": [
    "players.groups"
   ]
  },
  {
   "cell_type": "markdown",
   "id": "34e42550",
   "metadata": {
    "papermill": {
     "duration": 0.088234,
     "end_time": "2023-10-25T14:10:59.633982",
     "exception": false,
     "start_time": "2023-10-25T14:10:59.545748",
     "status": "completed"
    },
    "tags": []
   },
   "source": [
    "2. **`get_group()` (method)**:\n",
    "   - Retrieves a specific group from the grouped data. For example, `grouped.get_group('GroupLabel')` returns a DataFrame with all rows belonging to 'GroupLabel'."
   ]
  },
  {
   "cell_type": "code",
   "execution_count": 137,
   "id": "f60dd4f4",
   "metadata": {
    "execution": {
     "iopub.execute_input": "2023-10-25T14:10:59.803945Z",
     "iopub.status.busy": "2023-10-25T14:10:59.803572Z",
     "iopub.status.idle": "2023-10-25T14:10:59.809911Z",
     "shell.execute_reply": "2023-10-25T14:10:59.808822Z"
    },
    "papermill": {
     "duration": 0.094125,
     "end_time": "2023-10-25T14:10:59.812071",
     "exception": false,
     "start_time": "2023-10-25T14:10:59.717946",
     "status": "completed"
    },
    "tags": []
   },
   "outputs": [
    {
     "data": {
      "text/plain": [
       "dict_keys(['All-Rounder', 'Batsman', 'Bowler', 'Wicket Keeper'])"
      ]
     },
     "execution_count": 137,
     "metadata": {},
     "output_type": "execute_result"
    }
   ],
   "source": [
    "players.groups.keys()"
   ]
  },
  {
   "cell_type": "code",
   "execution_count": 138,
   "id": "9cdd7fdf",
   "metadata": {
    "execution": {
     "iopub.execute_input": "2023-10-25T14:10:59.983102Z",
     "iopub.status.busy": "2023-10-25T14:10:59.982060Z",
     "iopub.status.idle": "2023-10-25T14:10:59.995558Z",
     "shell.execute_reply": "2023-10-25T14:10:59.994791Z"
    },
    "papermill": {
     "duration": 0.102488,
     "end_time": "2023-10-25T14:10:59.997863",
     "exception": false,
     "start_time": "2023-10-25T14:10:59.895375",
     "status": "completed"
    },
    "tags": []
   },
   "outputs": [
    {
     "data": {
      "text/html": [
       "<div>\n",
       "<style scoped>\n",
       "    .dataframe tbody tr th:only-of-type {\n",
       "        vertical-align: middle;\n",
       "    }\n",
       "\n",
       "    .dataframe tbody tr th {\n",
       "        vertical-align: top;\n",
       "    }\n",
       "\n",
       "    .dataframe thead th {\n",
       "        text-align: right;\n",
       "    }\n",
       "</style>\n",
       "<table border=\"1\" class=\"dataframe\">\n",
       "  <thead>\n",
       "    <tr style=\"text-align: right;\">\n",
       "      <th></th>\n",
       "      <th>player_name</th>\n",
       "      <th>nationality</th>\n",
       "      <th>type</th>\n",
       "      <th>teams</th>\n",
       "      <th>year</th>\n",
       "      <th>sponsored_by</th>\n",
       "      <th>sold_price</th>\n",
       "    </tr>\n",
       "  </thead>\n",
       "  <tbody>\n",
       "    <tr>\n",
       "      <th>1</th>\n",
       "      <td>Dwayne Bravo</td>\n",
       "      <td>Overseas</td>\n",
       "      <td>All-Rounder</td>\n",
       "      <td>Chennai Super Kings</td>\n",
       "      <td>2022</td>\n",
       "      <td>TATA</td>\n",
       "      <td>44000000</td>\n",
       "    </tr>\n",
       "    <tr>\n",
       "      <th>8</th>\n",
       "      <td>Shivam Dube</td>\n",
       "      <td>Indian</td>\n",
       "      <td>All-Rounder</td>\n",
       "      <td>Chennai Super Kings</td>\n",
       "      <td>2022</td>\n",
       "      <td>TATA</td>\n",
       "      <td>40000000</td>\n",
       "    </tr>\n",
       "    <tr>\n",
       "      <th>9</th>\n",
       "      <td>Chris Jordan</td>\n",
       "      <td>Overseas</td>\n",
       "      <td>All-Rounder</td>\n",
       "      <td>Chennai Super Kings</td>\n",
       "      <td>2022</td>\n",
       "      <td>TATA</td>\n",
       "      <td>36000000</td>\n",
       "    </tr>\n",
       "    <tr>\n",
       "      <th>11</th>\n",
       "      <td>Rajvardhan Hangargekar</td>\n",
       "      <td>Indian</td>\n",
       "      <td>All-Rounder</td>\n",
       "      <td>Chennai Super Kings</td>\n",
       "      <td>2022</td>\n",
       "      <td>TATA</td>\n",
       "      <td>15000000</td>\n",
       "    </tr>\n",
       "    <tr>\n",
       "      <th>14</th>\n",
       "      <td>Dwaine Pretorius</td>\n",
       "      <td>Overseas</td>\n",
       "      <td>All-Rounder</td>\n",
       "      <td>Chennai Super Kings</td>\n",
       "      <td>2022</td>\n",
       "      <td>TATA</td>\n",
       "      <td>5000000</td>\n",
       "    </tr>\n",
       "  </tbody>\n",
       "</table>\n",
       "</div>"
      ],
      "text/plain": [
       "               player_name nationality         type                teams  \\\n",
       "1             Dwayne Bravo    Overseas  All-Rounder  Chennai Super Kings   \n",
       "8              Shivam Dube      Indian  All-Rounder  Chennai Super Kings   \n",
       "9             Chris Jordan    Overseas  All-Rounder  Chennai Super Kings   \n",
       "11  Rajvardhan Hangargekar      Indian  All-Rounder  Chennai Super Kings   \n",
       "14        Dwaine Pretorius    Overseas  All-Rounder  Chennai Super Kings   \n",
       "\n",
       "    year sponsored_by  sold_price  \n",
       "1   2022         TATA    44000000  \n",
       "8   2022         TATA    40000000  \n",
       "9   2022         TATA    36000000  \n",
       "11  2022         TATA    15000000  \n",
       "14  2022         TATA     5000000  "
      ]
     },
     "execution_count": 138,
     "metadata": {},
     "output_type": "execute_result"
    }
   ],
   "source": [
    "players.get_group('All-Rounder').head()"
   ]
  },
  {
   "cell_type": "code",
   "execution_count": 139,
   "id": "b774561a",
   "metadata": {
    "execution": {
     "iopub.execute_input": "2023-10-25T14:11:00.174256Z",
     "iopub.status.busy": "2023-10-25T14:11:00.173209Z",
     "iopub.status.idle": "2023-10-25T14:11:00.187058Z",
     "shell.execute_reply": "2023-10-25T14:11:00.185698Z"
    },
    "papermill": {
     "duration": 0.104762,
     "end_time": "2023-10-25T14:11:00.189348",
     "exception": false,
     "start_time": "2023-10-25T14:11:00.084586",
     "status": "completed"
    },
    "tags": []
   },
   "outputs": [
    {
     "data": {
      "text/html": [
       "<div>\n",
       "<style scoped>\n",
       "    .dataframe tbody tr th:only-of-type {\n",
       "        vertical-align: middle;\n",
       "    }\n",
       "\n",
       "    .dataframe tbody tr th {\n",
       "        vertical-align: top;\n",
       "    }\n",
       "\n",
       "    .dataframe thead th {\n",
       "        text-align: right;\n",
       "    }\n",
       "</style>\n",
       "<table border=\"1\" class=\"dataframe\">\n",
       "  <thead>\n",
       "    <tr style=\"text-align: right;\">\n",
       "      <th></th>\n",
       "      <th>player_name</th>\n",
       "      <th>nationality</th>\n",
       "      <th>type</th>\n",
       "      <th>teams</th>\n",
       "      <th>year</th>\n",
       "      <th>sponsored_by</th>\n",
       "      <th>sold_price</th>\n",
       "    </tr>\n",
       "  </thead>\n",
       "  <tbody>\n",
       "    <tr>\n",
       "      <th>3</th>\n",
       "      <td>Deepak Chahar</td>\n",
       "      <td>Indian</td>\n",
       "      <td>Bowler</td>\n",
       "      <td>Chennai Super Kings</td>\n",
       "      <td>2022</td>\n",
       "      <td>TATA</td>\n",
       "      <td>140000000</td>\n",
       "    </tr>\n",
       "    <tr>\n",
       "      <th>6</th>\n",
       "      <td>K.M. Asif</td>\n",
       "      <td>Indian</td>\n",
       "      <td>Bowler</td>\n",
       "      <td>Chennai Super Kings</td>\n",
       "      <td>2022</td>\n",
       "      <td>TATA</td>\n",
       "      <td>2000000</td>\n",
       "    </tr>\n",
       "    <tr>\n",
       "      <th>7</th>\n",
       "      <td>Tushar Deshpande</td>\n",
       "      <td>Indian</td>\n",
       "      <td>Bowler</td>\n",
       "      <td>Chennai Super Kings</td>\n",
       "      <td>2022</td>\n",
       "      <td>TATA</td>\n",
       "      <td>2000000</td>\n",
       "    </tr>\n",
       "    <tr>\n",
       "      <th>10</th>\n",
       "      <td>Maheesh Theekshana</td>\n",
       "      <td>Overseas</td>\n",
       "      <td>Bowler</td>\n",
       "      <td>Chennai Super Kings</td>\n",
       "      <td>2022</td>\n",
       "      <td>TATA</td>\n",
       "      <td>7000000</td>\n",
       "    </tr>\n",
       "    <tr>\n",
       "      <th>12</th>\n",
       "      <td>Simarjeet Singh</td>\n",
       "      <td>Indian</td>\n",
       "      <td>Bowler</td>\n",
       "      <td>Chennai Super Kings</td>\n",
       "      <td>2022</td>\n",
       "      <td>TATA</td>\n",
       "      <td>2000000</td>\n",
       "    </tr>\n",
       "  </tbody>\n",
       "</table>\n",
       "</div>"
      ],
      "text/plain": [
       "           player_name nationality    type                teams  year  \\\n",
       "3        Deepak Chahar      Indian  Bowler  Chennai Super Kings  2022   \n",
       "6            K.M. Asif      Indian  Bowler  Chennai Super Kings  2022   \n",
       "7     Tushar Deshpande      Indian  Bowler  Chennai Super Kings  2022   \n",
       "10  Maheesh Theekshana    Overseas  Bowler  Chennai Super Kings  2022   \n",
       "12     Simarjeet Singh      Indian  Bowler  Chennai Super Kings  2022   \n",
       "\n",
       "   sponsored_by  sold_price  \n",
       "3          TATA   140000000  \n",
       "6          TATA     2000000  \n",
       "7          TATA     2000000  \n",
       "10         TATA     7000000  \n",
       "12         TATA     2000000  "
      ]
     },
     "execution_count": 139,
     "metadata": {},
     "output_type": "execute_result"
    }
   ],
   "source": [
    "players.get_group(\"Bowler\").head()"
   ]
  },
  {
   "cell_type": "markdown",
   "id": "448701a1",
   "metadata": {
    "papermill": {
     "duration": 0.084256,
     "end_time": "2023-10-25T14:11:00.361458",
     "exception": false,
     "start_time": "2023-10-25T14:11:00.277202",
     "status": "completed"
    },
    "tags": []
   },
   "source": [
    "3. **`size()` (method)**:\n",
    "   - Returns a Series with the group sizes, indicating how many rows are in each group."
   ]
  },
  {
   "cell_type": "code",
   "execution_count": 140,
   "id": "bd76e2cc",
   "metadata": {
    "execution": {
     "iopub.execute_input": "2023-10-25T14:11:00.533722Z",
     "iopub.status.busy": "2023-10-25T14:11:00.533335Z",
     "iopub.status.idle": "2023-10-25T14:11:00.541454Z",
     "shell.execute_reply": "2023-10-25T14:11:00.540357Z"
    },
    "papermill": {
     "duration": 0.095886,
     "end_time": "2023-10-25T14:11:00.543638",
     "exception": false,
     "start_time": "2023-10-25T14:11:00.447752",
     "status": "completed"
    },
    "tags": []
   },
   "outputs": [
    {
     "data": {
      "text/plain": [
       "type\n",
       "All-Rounder      349\n",
       "Batsman          173\n",
       "Bowler           352\n",
       "Wicket Keeper     94\n",
       "dtype: int64"
      ]
     },
     "execution_count": 140,
     "metadata": {},
     "output_type": "execute_result"
    }
   ],
   "source": [
    "players.size()"
   ]
  },
  {
   "cell_type": "markdown",
   "id": "123ef14f",
   "metadata": {
    "papermill": {
     "duration": 0.084242,
     "end_time": "2023-10-25T14:11:00.723037",
     "exception": false,
     "start_time": "2023-10-25T14:11:00.638795",
     "status": "completed"
    },
    "tags": []
   },
   "source": [
    "4. **`count()` (method)**:\n",
    "   - Returns the count of non-null values in each group."
   ]
  },
  {
   "cell_type": "code",
   "execution_count": 141,
   "id": "204fde18",
   "metadata": {
    "execution": {
     "iopub.execute_input": "2023-10-25T14:11:00.907981Z",
     "iopub.status.busy": "2023-10-25T14:11:00.907378Z",
     "iopub.status.idle": "2023-10-25T14:11:00.927539Z",
     "shell.execute_reply": "2023-10-25T14:11:00.926381Z"
    },
    "papermill": {
     "duration": 0.115115,
     "end_time": "2023-10-25T14:11:00.929886",
     "exception": false,
     "start_time": "2023-10-25T14:11:00.814771",
     "status": "completed"
    },
    "tags": []
   },
   "outputs": [
    {
     "data": {
      "text/html": [
       "<div>\n",
       "<style scoped>\n",
       "    .dataframe tbody tr th:only-of-type {\n",
       "        vertical-align: middle;\n",
       "    }\n",
       "\n",
       "    .dataframe tbody tr th {\n",
       "        vertical-align: top;\n",
       "    }\n",
       "\n",
       "    .dataframe thead th {\n",
       "        text-align: right;\n",
       "    }\n",
       "</style>\n",
       "<table border=\"1\" class=\"dataframe\">\n",
       "  <thead>\n",
       "    <tr style=\"text-align: right;\">\n",
       "      <th></th>\n",
       "      <th>player_name</th>\n",
       "      <th>nationality</th>\n",
       "      <th>teams</th>\n",
       "      <th>year</th>\n",
       "      <th>sponsored_by</th>\n",
       "      <th>sold_price</th>\n",
       "    </tr>\n",
       "    <tr>\n",
       "      <th>type</th>\n",
       "      <th></th>\n",
       "      <th></th>\n",
       "      <th></th>\n",
       "      <th></th>\n",
       "      <th></th>\n",
       "      <th></th>\n",
       "    </tr>\n",
       "  </thead>\n",
       "  <tbody>\n",
       "    <tr>\n",
       "      <th>All-Rounder</th>\n",
       "      <td>349</td>\n",
       "      <td>77</td>\n",
       "      <td>349</td>\n",
       "      <td>349</td>\n",
       "      <td>349</td>\n",
       "      <td>349</td>\n",
       "    </tr>\n",
       "    <tr>\n",
       "      <th>Batsman</th>\n",
       "      <td>173</td>\n",
       "      <td>36</td>\n",
       "      <td>173</td>\n",
       "      <td>173</td>\n",
       "      <td>173</td>\n",
       "      <td>173</td>\n",
       "    </tr>\n",
       "    <tr>\n",
       "      <th>Bowler</th>\n",
       "      <td>352</td>\n",
       "      <td>69</td>\n",
       "      <td>352</td>\n",
       "      <td>352</td>\n",
       "      <td>352</td>\n",
       "      <td>352</td>\n",
       "    </tr>\n",
       "    <tr>\n",
       "      <th>Wicket Keeper</th>\n",
       "      <td>94</td>\n",
       "      <td>22</td>\n",
       "      <td>94</td>\n",
       "      <td>94</td>\n",
       "      <td>94</td>\n",
       "      <td>94</td>\n",
       "    </tr>\n",
       "  </tbody>\n",
       "</table>\n",
       "</div>"
      ],
      "text/plain": [
       "               player_name  nationality  teams  year  sponsored_by  sold_price\n",
       "type                                                                          \n",
       "All-Rounder            349           77    349   349           349         349\n",
       "Batsman                173           36    173   173           173         173\n",
       "Bowler                 352           69    352   352           352         352\n",
       "Wicket Keeper           94           22     94    94            94          94"
      ]
     },
     "execution_count": 141,
     "metadata": {},
     "output_type": "execute_result"
    }
   ],
   "source": [
    "players.count()"
   ]
  },
  {
   "cell_type": "markdown",
   "id": "b91cf0a2",
   "metadata": {
    "papermill": {
     "duration": 0.085066,
     "end_time": "2023-10-25T14:11:01.106231",
     "exception": false,
     "start_time": "2023-10-25T14:11:01.021165",
     "status": "completed"
    },
    "tags": []
   },
   "source": [
    "5. **`mean()` (method)**:\n",
    "   - Calculates the mean of each group."
   ]
  },
  {
   "cell_type": "code",
   "execution_count": 142,
   "id": "26b9c104",
   "metadata": {
    "execution": {
     "iopub.execute_input": "2023-10-25T14:11:01.284330Z",
     "iopub.status.busy": "2023-10-25T14:11:01.283535Z",
     "iopub.status.idle": "2023-10-25T14:11:01.295234Z",
     "shell.execute_reply": "2023-10-25T14:11:01.294042Z"
    },
    "papermill": {
     "duration": 0.10401,
     "end_time": "2023-10-25T14:11:01.297647",
     "exception": false,
     "start_time": "2023-10-25T14:11:01.193637",
     "status": "completed"
    },
    "tags": []
   },
   "outputs": [
    {
     "data": {
      "text/plain": [
       "type\n",
       "All-Rounder      2.248173e+07\n",
       "Batsman          2.137861e+07\n",
       "Bowler           1.959943e+07\n",
       "Wicket Keeper    2.048936e+07\n",
       "Name: sold_price, dtype: float64"
      ]
     },
     "execution_count": 142,
     "metadata": {},
     "output_type": "execute_result"
    }
   ],
   "source": [
    "players['sold_price'].mean()"
   ]
  },
  {
   "cell_type": "code",
   "execution_count": 143,
   "id": "4fc00638",
   "metadata": {
    "execution": {
     "iopub.execute_input": "2023-10-25T14:11:01.473119Z",
     "iopub.status.busy": "2023-10-25T14:11:01.472379Z",
     "iopub.status.idle": "2023-10-25T14:11:01.481526Z",
     "shell.execute_reply": "2023-10-25T14:11:01.479527Z"
    },
    "papermill": {
     "duration": 0.099112,
     "end_time": "2023-10-25T14:11:01.484017",
     "exception": false,
     "start_time": "2023-10-25T14:11:01.384905",
     "status": "completed"
    },
    "tags": []
   },
   "outputs": [
    {
     "data": {
      "text/plain": [
       "21378612.716763005"
      ]
     },
     "execution_count": 143,
     "metadata": {},
     "output_type": "execute_result"
    }
   ],
   "source": [
    "players.get_group('Batsman')['sold_price'].mean()"
   ]
  },
  {
   "cell_type": "markdown",
   "id": "9831921a",
   "metadata": {
    "papermill": {
     "duration": 0.088494,
     "end_time": "2023-10-25T14:11:01.659007",
     "exception": false,
     "start_time": "2023-10-25T14:11:01.570513",
     "status": "completed"
    },
    "tags": []
   },
   "source": [
    "6. **`sum()` (method)**:\n",
    "   - Calculates the sum of each group."
   ]
  },
  {
   "cell_type": "code",
   "execution_count": 144,
   "id": "3d544086",
   "metadata": {
    "execution": {
     "iopub.execute_input": "2023-10-25T14:11:01.832628Z",
     "iopub.status.busy": "2023-10-25T14:11:01.831724Z",
     "iopub.status.idle": "2023-10-25T14:11:01.840059Z",
     "shell.execute_reply": "2023-10-25T14:11:01.839071Z"
    },
    "papermill": {
     "duration": 0.096575,
     "end_time": "2023-10-25T14:11:01.842120",
     "exception": false,
     "start_time": "2023-10-25T14:11:01.745545",
     "status": "completed"
    },
    "tags": []
   },
   "outputs": [
    {
     "data": {
      "text/plain": [
       "type\n",
       "All-Rounder      7846125000\n",
       "Batsman          3698500000\n",
       "Bowler           6899000000\n",
       "Wicket Keeper    1926000000\n",
       "Name: sold_price, dtype: int64"
      ]
     },
     "execution_count": 144,
     "metadata": {},
     "output_type": "execute_result"
    }
   ],
   "source": [
    "players['sold_price'].sum()"
   ]
  },
  {
   "cell_type": "code",
   "execution_count": 145,
   "id": "7f52e6a1",
   "metadata": {
    "execution": {
     "iopub.execute_input": "2023-10-25T14:11:02.015250Z",
     "iopub.status.busy": "2023-10-25T14:11:02.014657Z",
     "iopub.status.idle": "2023-10-25T14:11:02.021852Z",
     "shell.execute_reply": "2023-10-25T14:11:02.020795Z"
    },
    "papermill": {
     "duration": 0.095301,
     "end_time": "2023-10-25T14:11:02.023770",
     "exception": false,
     "start_time": "2023-10-25T14:11:01.928469",
     "status": "completed"
    },
    "tags": []
   },
   "outputs": [
    {
     "data": {
      "text/plain": [
       "3698500000"
      ]
     },
     "execution_count": 145,
     "metadata": {},
     "output_type": "execute_result"
    }
   ],
   "source": [
    "players.get_group('Batsman')['sold_price'].sum()"
   ]
  },
  {
   "cell_type": "markdown",
   "id": "85b56586",
   "metadata": {
    "papermill": {
     "duration": 0.085874,
     "end_time": "2023-10-25T14:11:02.193626",
     "exception": false,
     "start_time": "2023-10-25T14:11:02.107752",
     "status": "completed"
    },
    "tags": []
   },
   "source": [
    "7. **`min()` (method)**:\n",
    "   - Calculates the minimum value in each group."
   ]
  },
  {
   "cell_type": "code",
   "execution_count": 146,
   "id": "f0179a36",
   "metadata": {
    "execution": {
     "iopub.execute_input": "2023-10-25T14:11:02.366871Z",
     "iopub.status.busy": "2023-10-25T14:11:02.366240Z",
     "iopub.status.idle": "2023-10-25T14:11:02.374019Z",
     "shell.execute_reply": "2023-10-25T14:11:02.373104Z"
    },
    "papermill": {
     "duration": 0.09697,
     "end_time": "2023-10-25T14:11:02.375981",
     "exception": false,
     "start_time": "2023-10-25T14:11:02.279011",
     "status": "completed"
    },
    "tags": []
   },
   "outputs": [
    {
     "data": {
      "text/plain": [
       "type\n",
       "All-Rounder      1000000\n",
       "Batsman          1000000\n",
       "Bowler           1000000\n",
       "Wicket Keeper    1000000\n",
       "Name: sold_price, dtype: int64"
      ]
     },
     "execution_count": 146,
     "metadata": {},
     "output_type": "execute_result"
    }
   ],
   "source": [
    "players['sold_price'].min()"
   ]
  },
  {
   "cell_type": "markdown",
   "id": "05a6c481",
   "metadata": {
    "papermill": {
     "duration": 0.083928,
     "end_time": "2023-10-25T14:11:02.545123",
     "exception": false,
     "start_time": "2023-10-25T14:11:02.461195",
     "status": "completed"
    },
    "tags": []
   },
   "source": [
    "8. **`max()` (method)**:\n",
    "   - Calculates the maximum value in each group."
   ]
  },
  {
   "cell_type": "code",
   "execution_count": 147,
   "id": "e7b11ba0",
   "metadata": {
    "execution": {
     "iopub.execute_input": "2023-10-25T14:11:02.722120Z",
     "iopub.status.busy": "2023-10-25T14:11:02.721449Z",
     "iopub.status.idle": "2023-10-25T14:11:02.729618Z",
     "shell.execute_reply": "2023-10-25T14:11:02.728649Z"
    },
    "papermill": {
     "duration": 0.102625,
     "end_time": "2023-10-25T14:11:02.732401",
     "exception": false,
     "start_time": "2023-10-25T14:11:02.629776",
     "status": "completed"
    },
    "tags": []
   },
   "outputs": [
    {
     "data": {
      "text/plain": [
       "type\n",
       "All-Rounder      162500000\n",
       "Batsman          160000000\n",
       "Bowler           140000000\n",
       "Wicket Keeper    152500000\n",
       "Name: sold_price, dtype: int64"
      ]
     },
     "execution_count": 147,
     "metadata": {},
     "output_type": "execute_result"
    }
   ],
   "source": [
    "players['sold_price'].max()"
   ]
  },
  {
   "cell_type": "markdown",
   "id": "ecadc9f5",
   "metadata": {
    "papermill": {
     "duration": 0.086088,
     "end_time": "2023-10-25T14:11:02.903525",
     "exception": false,
     "start_time": "2023-10-25T14:11:02.817437",
     "status": "completed"
    },
    "tags": []
   },
   "source": [
    "9. **`agg()` (method)**:\n",
    "   - Applies one or more aggregation functions to each group. You can pass a dictionary specifying which functions to apply to which columns."
   ]
  },
  {
   "cell_type": "code",
   "execution_count": 148,
   "id": "ecbc6f54",
   "metadata": {
    "execution": {
     "iopub.execute_input": "2023-10-25T14:11:03.078561Z",
     "iopub.status.busy": "2023-10-25T14:11:03.077868Z",
     "iopub.status.idle": "2023-10-25T14:11:03.093258Z",
     "shell.execute_reply": "2023-10-25T14:11:03.092377Z"
    },
    "papermill": {
     "duration": 0.103753,
     "end_time": "2023-10-25T14:11:03.095467",
     "exception": false,
     "start_time": "2023-10-25T14:11:02.991714",
     "status": "completed"
    },
    "tags": []
   },
   "outputs": [
    {
     "data": {
      "text/html": [
       "<div>\n",
       "<style scoped>\n",
       "    .dataframe tbody tr th:only-of-type {\n",
       "        vertical-align: middle;\n",
       "    }\n",
       "\n",
       "    .dataframe tbody tr th {\n",
       "        vertical-align: top;\n",
       "    }\n",
       "\n",
       "    .dataframe thead tr th {\n",
       "        text-align: left;\n",
       "    }\n",
       "\n",
       "    .dataframe thead tr:last-of-type th {\n",
       "        text-align: right;\n",
       "    }\n",
       "</style>\n",
       "<table border=\"1\" class=\"dataframe\">\n",
       "  <thead>\n",
       "    <tr>\n",
       "      <th></th>\n",
       "      <th colspan=\"4\" halign=\"left\">sold_price</th>\n",
       "    </tr>\n",
       "    <tr>\n",
       "      <th></th>\n",
       "      <th>sum</th>\n",
       "      <th>mean</th>\n",
       "      <th>min</th>\n",
       "      <th>max</th>\n",
       "    </tr>\n",
       "    <tr>\n",
       "      <th>type</th>\n",
       "      <th></th>\n",
       "      <th></th>\n",
       "      <th></th>\n",
       "      <th></th>\n",
       "    </tr>\n",
       "  </thead>\n",
       "  <tbody>\n",
       "    <tr>\n",
       "      <th>All-Rounder</th>\n",
       "      <td>7846125000</td>\n",
       "      <td>2.248173e+07</td>\n",
       "      <td>1000000</td>\n",
       "      <td>162500000</td>\n",
       "    </tr>\n",
       "    <tr>\n",
       "      <th>Batsman</th>\n",
       "      <td>3698500000</td>\n",
       "      <td>2.137861e+07</td>\n",
       "      <td>1000000</td>\n",
       "      <td>160000000</td>\n",
       "    </tr>\n",
       "    <tr>\n",
       "      <th>Bowler</th>\n",
       "      <td>6899000000</td>\n",
       "      <td>1.959943e+07</td>\n",
       "      <td>1000000</td>\n",
       "      <td>140000000</td>\n",
       "    </tr>\n",
       "    <tr>\n",
       "      <th>Wicket Keeper</th>\n",
       "      <td>1926000000</td>\n",
       "      <td>2.048936e+07</td>\n",
       "      <td>1000000</td>\n",
       "      <td>152500000</td>\n",
       "    </tr>\n",
       "  </tbody>\n",
       "</table>\n",
       "</div>"
      ],
      "text/plain": [
       "               sold_price                                  \n",
       "                      sum          mean      min        max\n",
       "type                                                       \n",
       "All-Rounder    7846125000  2.248173e+07  1000000  162500000\n",
       "Batsman        3698500000  2.137861e+07  1000000  160000000\n",
       "Bowler         6899000000  1.959943e+07  1000000  140000000\n",
       "Wicket Keeper  1926000000  2.048936e+07  1000000  152500000"
      ]
     },
     "execution_count": 148,
     "metadata": {},
     "output_type": "execute_result"
    }
   ],
   "source": [
    "players.agg({'sold_price': ['sum', 'mean', 'min','max']})"
   ]
  },
  {
   "cell_type": "markdown",
   "id": "1332ec21",
   "metadata": {
    "papermill": {
     "duration": 0.08424,
     "end_time": "2023-10-25T14:11:03.266305",
     "exception": false,
     "start_time": "2023-10-25T14:11:03.182065",
     "status": "completed"
    },
    "tags": []
   },
   "source": [
    "10. **`apply()` (method)**:\n",
    "    - Applies a custom function to each group."
   ]
  },
  {
   "cell_type": "code",
   "execution_count": 149,
   "id": "9d128ab8",
   "metadata": {
    "execution": {
     "iopub.execute_input": "2023-10-25T14:11:03.439941Z",
     "iopub.status.busy": "2023-10-25T14:11:03.439232Z",
     "iopub.status.idle": "2023-10-25T14:11:03.457686Z",
     "shell.execute_reply": "2023-10-25T14:11:03.456588Z"
    },
    "papermill": {
     "duration": 0.108263,
     "end_time": "2023-10-25T14:11:03.459993",
     "exception": false,
     "start_time": "2023-10-25T14:11:03.351730",
     "status": "completed"
    },
    "tags": []
   },
   "outputs": [
    {
     "data": {
      "text/html": [
       "<div>\n",
       "<style scoped>\n",
       "    .dataframe tbody tr th:only-of-type {\n",
       "        vertical-align: middle;\n",
       "    }\n",
       "\n",
       "    .dataframe tbody tr th {\n",
       "        vertical-align: top;\n",
       "    }\n",
       "\n",
       "    .dataframe thead th {\n",
       "        text-align: right;\n",
       "    }\n",
       "</style>\n",
       "<table border=\"1\" class=\"dataframe\">\n",
       "  <thead>\n",
       "    <tr style=\"text-align: right;\">\n",
       "      <th></th>\n",
       "      <th>player_name</th>\n",
       "      <th>nationality</th>\n",
       "      <th>type</th>\n",
       "      <th>teams</th>\n",
       "      <th>year</th>\n",
       "      <th>sponsored_by</th>\n",
       "      <th>sold_price</th>\n",
       "    </tr>\n",
       "  </thead>\n",
       "  <tbody>\n",
       "    <tr>\n",
       "      <th>3</th>\n",
       "      <td>Deepak Chahar</td>\n",
       "      <td>Indian</td>\n",
       "      <td>Bowler</td>\n",
       "      <td>Chennai Super Kings</td>\n",
       "      <td>2022</td>\n",
       "      <td>TATA</td>\n",
       "      <td>140000000</td>\n",
       "    </tr>\n",
       "    <tr>\n",
       "      <th>6</th>\n",
       "      <td>K.M. Asif</td>\n",
       "      <td>Indian</td>\n",
       "      <td>Bowler</td>\n",
       "      <td>Chennai Super Kings</td>\n",
       "      <td>2022</td>\n",
       "      <td>TATA</td>\n",
       "      <td>2000000</td>\n",
       "    </tr>\n",
       "    <tr>\n",
       "      <th>7</th>\n",
       "      <td>Tushar Deshpande</td>\n",
       "      <td>Indian</td>\n",
       "      <td>Bowler</td>\n",
       "      <td>Chennai Super Kings</td>\n",
       "      <td>2022</td>\n",
       "      <td>TATA</td>\n",
       "      <td>2000000</td>\n",
       "    </tr>\n",
       "    <tr>\n",
       "      <th>10</th>\n",
       "      <td>Maheesh Theekshana</td>\n",
       "      <td>Overseas</td>\n",
       "      <td>Bowler</td>\n",
       "      <td>Chennai Super Kings</td>\n",
       "      <td>2022</td>\n",
       "      <td>TATA</td>\n",
       "      <td>7000000</td>\n",
       "    </tr>\n",
       "    <tr>\n",
       "      <th>12</th>\n",
       "      <td>Simarjeet Singh</td>\n",
       "      <td>Indian</td>\n",
       "      <td>Bowler</td>\n",
       "      <td>Chennai Super Kings</td>\n",
       "      <td>2022</td>\n",
       "      <td>TATA</td>\n",
       "      <td>2000000</td>\n",
       "    </tr>\n",
       "    <tr>\n",
       "      <th>...</th>\n",
       "      <td>...</td>\n",
       "      <td>...</td>\n",
       "      <td>...</td>\n",
       "      <td>...</td>\n",
       "      <td>...</td>\n",
       "      <td>...</td>\n",
       "      <td>...</td>\n",
       "    </tr>\n",
       "    <tr>\n",
       "      <th>958</th>\n",
       "      <td>Ravi Rampaul</td>\n",
       "      <td>NaN</td>\n",
       "      <td>Bowler</td>\n",
       "      <td>Royal Challengers Bangalore</td>\n",
       "      <td>2013</td>\n",
       "      <td>PEPSI</td>\n",
       "      <td>21750000</td>\n",
       "    </tr>\n",
       "    <tr>\n",
       "      <th>959</th>\n",
       "      <td>Pankaj Singh</td>\n",
       "      <td>NaN</td>\n",
       "      <td>Bowler</td>\n",
       "      <td>Royal Challengers Bangalore</td>\n",
       "      <td>2013</td>\n",
       "      <td>PEPSI</td>\n",
       "      <td>11250000</td>\n",
       "    </tr>\n",
       "    <tr>\n",
       "      <th>964</th>\n",
       "      <td>Sudeep Tyagi</td>\n",
       "      <td>NaN</td>\n",
       "      <td>Bowler</td>\n",
       "      <td>Sunrisers Hyderabad</td>\n",
       "      <td>2013</td>\n",
       "      <td>PEPSI</td>\n",
       "      <td>7500000</td>\n",
       "    </tr>\n",
       "    <tr>\n",
       "      <th>965</th>\n",
       "      <td>Clinton McKay</td>\n",
       "      <td>NaN</td>\n",
       "      <td>Bowler</td>\n",
       "      <td>Sunrisers Hyderabad</td>\n",
       "      <td>2013</td>\n",
       "      <td>PEPSI</td>\n",
       "      <td>7500000</td>\n",
       "    </tr>\n",
       "    <tr>\n",
       "      <th>966</th>\n",
       "      <td>Nathan McCullum</td>\n",
       "      <td>NaN</td>\n",
       "      <td>Bowler</td>\n",
       "      <td>Sunrisers Hyderabad</td>\n",
       "      <td>2013</td>\n",
       "      <td>PEPSI</td>\n",
       "      <td>7500000</td>\n",
       "    </tr>\n",
       "  </tbody>\n",
       "</table>\n",
       "<p>352 rows × 7 columns</p>\n",
       "</div>"
      ],
      "text/plain": [
       "            player_name nationality    type                        teams  \\\n",
       "3         Deepak Chahar      Indian  Bowler          Chennai Super Kings   \n",
       "6             K.M. Asif      Indian  Bowler          Chennai Super Kings   \n",
       "7      Tushar Deshpande      Indian  Bowler          Chennai Super Kings   \n",
       "10   Maheesh Theekshana    Overseas  Bowler          Chennai Super Kings   \n",
       "12      Simarjeet Singh      Indian  Bowler          Chennai Super Kings   \n",
       "..                  ...         ...     ...                          ...   \n",
       "958        Ravi Rampaul         NaN  Bowler  Royal Challengers Bangalore   \n",
       "959        Pankaj Singh         NaN  Bowler  Royal Challengers Bangalore   \n",
       "964        Sudeep Tyagi         NaN  Bowler          Sunrisers Hyderabad   \n",
       "965       Clinton McKay         NaN  Bowler          Sunrisers Hyderabad   \n",
       "966     Nathan McCullum         NaN  Bowler          Sunrisers Hyderabad   \n",
       "\n",
       "     year sponsored_by  sold_price  \n",
       "3    2022         TATA   140000000  \n",
       "6    2022         TATA     2000000  \n",
       "7    2022         TATA     2000000  \n",
       "10   2022         TATA     7000000  \n",
       "12   2022         TATA     2000000  \n",
       "..    ...          ...         ...  \n",
       "958  2013        PEPSI    21750000  \n",
       "959  2013        PEPSI    11250000  \n",
       "964  2013        PEPSI     7500000  \n",
       "965  2013        PEPSI     7500000  \n",
       "966  2013        PEPSI     7500000  \n",
       "\n",
       "[352 rows x 7 columns]"
      ]
     },
     "execution_count": 149,
     "metadata": {},
     "output_type": "execute_result"
    }
   ],
   "source": [
    "players.get_group(\"Bowler\").apply(lambda x : x*1)"
   ]
  },
  {
   "cell_type": "markdown",
   "id": "da92681c",
   "metadata": {
    "papermill": {
     "duration": 0.085457,
     "end_time": "2023-10-25T14:11:03.631941",
     "exception": false,
     "start_time": "2023-10-25T14:11:03.546484",
     "status": "completed"
    },
    "tags": []
   },
   "source": [
    "11. **`transform()` (method)**:\n",
    "    - Applies a function to each group and broadcasts the results to the original DataFrame."
   ]
  },
  {
   "cell_type": "code",
   "execution_count": null,
   "id": "0cb0b2dc",
   "metadata": {
    "papermill": {
     "duration": 0.150062,
     "end_time": "2023-10-25T14:11:03.870176",
     "exception": false,
     "start_time": "2023-10-25T14:11:03.720114",
     "status": "completed"
    },
    "tags": []
   },
   "outputs": [],
   "source": []
  },
  {
   "cell_type": "markdown",
   "id": "7fcb7554",
   "metadata": {
    "papermill": {
     "duration": 0.086283,
     "end_time": "2023-10-25T14:11:04.043515",
     "exception": false,
     "start_time": "2023-10-25T14:11:03.957232",
     "status": "completed"
    },
    "tags": []
   },
   "source": [
    "12. **`filter()` (method)**:\n",
    "    - Filters groups based on a condition and returns a new GroupBy object containing only the selected groups."
   ]
  },
  {
   "cell_type": "markdown",
   "id": "d91400c3",
   "metadata": {
    "papermill": {
     "duration": 0.086314,
     "end_time": "2023-10-25T14:11:04.217512",
     "exception": false,
     "start_time": "2023-10-25T14:11:04.131198",
     "status": "completed"
    },
    "tags": []
   },
   "source": [
    "13. **`describe()` (method)**:\n",
    "    - Generates descriptive statistics for each group, similar to the `describe()` method for DataFrames."
   ]
  },
  {
   "cell_type": "code",
   "execution_count": 150,
   "id": "94fdcf1f",
   "metadata": {
    "execution": {
     "iopub.execute_input": "2023-10-25T14:11:04.395724Z",
     "iopub.status.busy": "2023-10-25T14:11:04.395349Z",
     "iopub.status.idle": "2023-10-25T14:11:04.424055Z",
     "shell.execute_reply": "2023-10-25T14:11:04.422858Z"
    },
    "papermill": {
     "duration": 0.119774,
     "end_time": "2023-10-25T14:11:04.426600",
     "exception": false,
     "start_time": "2023-10-25T14:11:04.306826",
     "status": "completed"
    },
    "tags": []
   },
   "outputs": [
    {
     "data": {
      "text/html": [
       "<div>\n",
       "<style scoped>\n",
       "    .dataframe tbody tr th:only-of-type {\n",
       "        vertical-align: middle;\n",
       "    }\n",
       "\n",
       "    .dataframe tbody tr th {\n",
       "        vertical-align: top;\n",
       "    }\n",
       "\n",
       "    .dataframe thead th {\n",
       "        text-align: right;\n",
       "    }\n",
       "</style>\n",
       "<table border=\"1\" class=\"dataframe\">\n",
       "  <thead>\n",
       "    <tr style=\"text-align: right;\">\n",
       "      <th></th>\n",
       "      <th>player_name</th>\n",
       "      <th>nationality</th>\n",
       "      <th>teams</th>\n",
       "      <th>year</th>\n",
       "      <th>sponsored_by</th>\n",
       "      <th>sold_price</th>\n",
       "    </tr>\n",
       "  </thead>\n",
       "  <tbody>\n",
       "    <tr>\n",
       "      <th>count</th>\n",
       "      <td>4.000000</td>\n",
       "      <td>4.000000</td>\n",
       "      <td>4.000000</td>\n",
       "      <td>4.000000</td>\n",
       "      <td>4.000000</td>\n",
       "      <td>4.000000</td>\n",
       "    </tr>\n",
       "    <tr>\n",
       "      <th>mean</th>\n",
       "      <td>242.000000</td>\n",
       "      <td>51.000000</td>\n",
       "      <td>242.000000</td>\n",
       "      <td>242.000000</td>\n",
       "      <td>242.000000</td>\n",
       "      <td>242.000000</td>\n",
       "    </tr>\n",
       "    <tr>\n",
       "      <th>std</th>\n",
       "      <td>129.375423</td>\n",
       "      <td>26.242459</td>\n",
       "      <td>129.375423</td>\n",
       "      <td>129.375423</td>\n",
       "      <td>129.375423</td>\n",
       "      <td>129.375423</td>\n",
       "    </tr>\n",
       "    <tr>\n",
       "      <th>min</th>\n",
       "      <td>94.000000</td>\n",
       "      <td>22.000000</td>\n",
       "      <td>94.000000</td>\n",
       "      <td>94.000000</td>\n",
       "      <td>94.000000</td>\n",
       "      <td>94.000000</td>\n",
       "    </tr>\n",
       "    <tr>\n",
       "      <th>25%</th>\n",
       "      <td>153.250000</td>\n",
       "      <td>32.500000</td>\n",
       "      <td>153.250000</td>\n",
       "      <td>153.250000</td>\n",
       "      <td>153.250000</td>\n",
       "      <td>153.250000</td>\n",
       "    </tr>\n",
       "    <tr>\n",
       "      <th>50%</th>\n",
       "      <td>261.000000</td>\n",
       "      <td>52.500000</td>\n",
       "      <td>261.000000</td>\n",
       "      <td>261.000000</td>\n",
       "      <td>261.000000</td>\n",
       "      <td>261.000000</td>\n",
       "    </tr>\n",
       "    <tr>\n",
       "      <th>75%</th>\n",
       "      <td>349.750000</td>\n",
       "      <td>71.000000</td>\n",
       "      <td>349.750000</td>\n",
       "      <td>349.750000</td>\n",
       "      <td>349.750000</td>\n",
       "      <td>349.750000</td>\n",
       "    </tr>\n",
       "    <tr>\n",
       "      <th>max</th>\n",
       "      <td>352.000000</td>\n",
       "      <td>77.000000</td>\n",
       "      <td>352.000000</td>\n",
       "      <td>352.000000</td>\n",
       "      <td>352.000000</td>\n",
       "      <td>352.000000</td>\n",
       "    </tr>\n",
       "  </tbody>\n",
       "</table>\n",
       "</div>"
      ],
      "text/plain": [
       "       player_name  nationality       teams        year  sponsored_by  \\\n",
       "count     4.000000     4.000000    4.000000    4.000000      4.000000   \n",
       "mean    242.000000    51.000000  242.000000  242.000000    242.000000   \n",
       "std     129.375423    26.242459  129.375423  129.375423    129.375423   \n",
       "min      94.000000    22.000000   94.000000   94.000000     94.000000   \n",
       "25%     153.250000    32.500000  153.250000  153.250000    153.250000   \n",
       "50%     261.000000    52.500000  261.000000  261.000000    261.000000   \n",
       "75%     349.750000    71.000000  349.750000  349.750000    349.750000   \n",
       "max     352.000000    77.000000  352.000000  352.000000    352.000000   \n",
       "\n",
       "       sold_price  \n",
       "count    4.000000  \n",
       "mean   242.000000  \n",
       "std    129.375423  \n",
       "min     94.000000  \n",
       "25%    153.250000  \n",
       "50%    261.000000  \n",
       "75%    349.750000  \n",
       "max    352.000000  "
      ]
     },
     "execution_count": 150,
     "metadata": {},
     "output_type": "execute_result"
    }
   ],
   "source": [
    "players.count().describe()"
   ]
  },
  {
   "cell_type": "markdown",
   "id": "1685f1c0",
   "metadata": {
    "papermill": {
     "duration": 0.087318,
     "end_time": "2023-10-25T14:11:04.601065",
     "exception": false,
     "start_time": "2023-10-25T14:11:04.513747",
     "status": "completed"
    },
    "tags": []
   },
   "source": [
    "14. **`head()` and `tail()` (method)**:\n",
    "    - Returns the first or last n rows of each group."
   ]
  },
  {
   "cell_type": "code",
   "execution_count": 151,
   "id": "1ddcc65f",
   "metadata": {
    "execution": {
     "iopub.execute_input": "2023-10-25T14:11:04.787201Z",
     "iopub.status.busy": "2023-10-25T14:11:04.786799Z",
     "iopub.status.idle": "2023-10-25T14:11:04.802439Z",
     "shell.execute_reply": "2023-10-25T14:11:04.801462Z"
    },
    "papermill": {
     "duration": 0.108306,
     "end_time": "2023-10-25T14:11:04.804527",
     "exception": false,
     "start_time": "2023-10-25T14:11:04.696221",
     "status": "completed"
    },
    "tags": []
   },
   "outputs": [
    {
     "data": {
      "text/html": [
       "<div>\n",
       "<style scoped>\n",
       "    .dataframe tbody tr th:only-of-type {\n",
       "        vertical-align: middle;\n",
       "    }\n",
       "\n",
       "    .dataframe tbody tr th {\n",
       "        vertical-align: top;\n",
       "    }\n",
       "\n",
       "    .dataframe thead th {\n",
       "        text-align: right;\n",
       "    }\n",
       "</style>\n",
       "<table border=\"1\" class=\"dataframe\">\n",
       "  <thead>\n",
       "    <tr style=\"text-align: right;\">\n",
       "      <th></th>\n",
       "      <th>player_name</th>\n",
       "      <th>nationality</th>\n",
       "      <th>type</th>\n",
       "      <th>teams</th>\n",
       "      <th>year</th>\n",
       "      <th>sponsored_by</th>\n",
       "      <th>sold_price</th>\n",
       "    </tr>\n",
       "  </thead>\n",
       "  <tbody>\n",
       "    <tr>\n",
       "      <th>0</th>\n",
       "      <td>Robin Uthappa</td>\n",
       "      <td>Indian</td>\n",
       "      <td>Batsman</td>\n",
       "      <td>Chennai Super Kings</td>\n",
       "      <td>2022</td>\n",
       "      <td>TATA</td>\n",
       "      <td>20000000</td>\n",
       "    </tr>\n",
       "    <tr>\n",
       "      <th>1</th>\n",
       "      <td>Dwayne Bravo</td>\n",
       "      <td>Overseas</td>\n",
       "      <td>All-Rounder</td>\n",
       "      <td>Chennai Super Kings</td>\n",
       "      <td>2022</td>\n",
       "      <td>TATA</td>\n",
       "      <td>44000000</td>\n",
       "    </tr>\n",
       "    <tr>\n",
       "      <th>2</th>\n",
       "      <td>Ambati Rayudu</td>\n",
       "      <td>Indian</td>\n",
       "      <td>Wicket Keeper</td>\n",
       "      <td>Chennai Super Kings</td>\n",
       "      <td>2022</td>\n",
       "      <td>TATA</td>\n",
       "      <td>67500000</td>\n",
       "    </tr>\n",
       "    <tr>\n",
       "      <th>3</th>\n",
       "      <td>Deepak Chahar</td>\n",
       "      <td>Indian</td>\n",
       "      <td>Bowler</td>\n",
       "      <td>Chennai Super Kings</td>\n",
       "      <td>2022</td>\n",
       "      <td>TATA</td>\n",
       "      <td>140000000</td>\n",
       "    </tr>\n",
       "    <tr>\n",
       "      <th>4</th>\n",
       "      <td>C.Hari Nishaanth</td>\n",
       "      <td>Indian</td>\n",
       "      <td>Batsman</td>\n",
       "      <td>Chennai Super Kings</td>\n",
       "      <td>2022</td>\n",
       "      <td>TATA</td>\n",
       "      <td>2000000</td>\n",
       "    </tr>\n",
       "    <tr>\n",
       "      <th>5</th>\n",
       "      <td>N. Jagadeesan</td>\n",
       "      <td>Indian</td>\n",
       "      <td>Wicket Keeper</td>\n",
       "      <td>Chennai Super Kings</td>\n",
       "      <td>2022</td>\n",
       "      <td>TATA</td>\n",
       "      <td>2000000</td>\n",
       "    </tr>\n",
       "    <tr>\n",
       "      <th>6</th>\n",
       "      <td>K.M. Asif</td>\n",
       "      <td>Indian</td>\n",
       "      <td>Bowler</td>\n",
       "      <td>Chennai Super Kings</td>\n",
       "      <td>2022</td>\n",
       "      <td>TATA</td>\n",
       "      <td>2000000</td>\n",
       "    </tr>\n",
       "    <tr>\n",
       "      <th>7</th>\n",
       "      <td>Tushar Deshpande</td>\n",
       "      <td>Indian</td>\n",
       "      <td>Bowler</td>\n",
       "      <td>Chennai Super Kings</td>\n",
       "      <td>2022</td>\n",
       "      <td>TATA</td>\n",
       "      <td>2000000</td>\n",
       "    </tr>\n",
       "    <tr>\n",
       "      <th>8</th>\n",
       "      <td>Shivam Dube</td>\n",
       "      <td>Indian</td>\n",
       "      <td>All-Rounder</td>\n",
       "      <td>Chennai Super Kings</td>\n",
       "      <td>2022</td>\n",
       "      <td>TATA</td>\n",
       "      <td>40000000</td>\n",
       "    </tr>\n",
       "    <tr>\n",
       "      <th>9</th>\n",
       "      <td>Chris Jordan</td>\n",
       "      <td>Overseas</td>\n",
       "      <td>All-Rounder</td>\n",
       "      <td>Chennai Super Kings</td>\n",
       "      <td>2022</td>\n",
       "      <td>TATA</td>\n",
       "      <td>36000000</td>\n",
       "    </tr>\n",
       "    <tr>\n",
       "      <th>10</th>\n",
       "      <td>Maheesh Theekshana</td>\n",
       "      <td>Overseas</td>\n",
       "      <td>Bowler</td>\n",
       "      <td>Chennai Super Kings</td>\n",
       "      <td>2022</td>\n",
       "      <td>TATA</td>\n",
       "      <td>7000000</td>\n",
       "    </tr>\n",
       "    <tr>\n",
       "      <th>11</th>\n",
       "      <td>Rajvardhan Hangargekar</td>\n",
       "      <td>Indian</td>\n",
       "      <td>All-Rounder</td>\n",
       "      <td>Chennai Super Kings</td>\n",
       "      <td>2022</td>\n",
       "      <td>TATA</td>\n",
       "      <td>15000000</td>\n",
       "    </tr>\n",
       "    <tr>\n",
       "      <th>12</th>\n",
       "      <td>Simarjeet Singh</td>\n",
       "      <td>Indian</td>\n",
       "      <td>Bowler</td>\n",
       "      <td>Chennai Super Kings</td>\n",
       "      <td>2022</td>\n",
       "      <td>TATA</td>\n",
       "      <td>2000000</td>\n",
       "    </tr>\n",
       "    <tr>\n",
       "      <th>13</th>\n",
       "      <td>Devon Conway</td>\n",
       "      <td>Overseas</td>\n",
       "      <td>Batsman</td>\n",
       "      <td>Chennai Super Kings</td>\n",
       "      <td>2022</td>\n",
       "      <td>TATA</td>\n",
       "      <td>10000000</td>\n",
       "    </tr>\n",
       "    <tr>\n",
       "      <th>14</th>\n",
       "      <td>Dwaine Pretorius</td>\n",
       "      <td>Overseas</td>\n",
       "      <td>All-Rounder</td>\n",
       "      <td>Chennai Super Kings</td>\n",
       "      <td>2022</td>\n",
       "      <td>TATA</td>\n",
       "      <td>5000000</td>\n",
       "    </tr>\n",
       "    <tr>\n",
       "      <th>17</th>\n",
       "      <td>Subhranshu Senapati</td>\n",
       "      <td>Indian</td>\n",
       "      <td>Batsman</td>\n",
       "      <td>Chennai Super Kings</td>\n",
       "      <td>2022</td>\n",
       "      <td>TATA</td>\n",
       "      <td>2000000</td>\n",
       "    </tr>\n",
       "    <tr>\n",
       "      <th>21</th>\n",
       "      <td>David Warner</td>\n",
       "      <td>Overseas</td>\n",
       "      <td>Batsman</td>\n",
       "      <td>Delhi Capitals</td>\n",
       "      <td>2022</td>\n",
       "      <td>TATA</td>\n",
       "      <td>62500000</td>\n",
       "    </tr>\n",
       "    <tr>\n",
       "      <th>29</th>\n",
       "      <td>K.S. Bharat</td>\n",
       "      <td>Indian</td>\n",
       "      <td>Wicket Keeper</td>\n",
       "      <td>Delhi Capitals</td>\n",
       "      <td>2022</td>\n",
       "      <td>TATA</td>\n",
       "      <td>20000000</td>\n",
       "    </tr>\n",
       "    <tr>\n",
       "      <th>39</th>\n",
       "      <td>Tim Seifert</td>\n",
       "      <td>Overseas</td>\n",
       "      <td>Wicket Keeper</td>\n",
       "      <td>Delhi Capitals</td>\n",
       "      <td>2022</td>\n",
       "      <td>TATA</td>\n",
       "      <td>5000000</td>\n",
       "    </tr>\n",
       "    <tr>\n",
       "      <th>44</th>\n",
       "      <td>Wriddhiman Saha</td>\n",
       "      <td>Indian</td>\n",
       "      <td>Wicket Keeper</td>\n",
       "      <td>Gujarat Titans</td>\n",
       "      <td>2022</td>\n",
       "      <td>TATA</td>\n",
       "      <td>19000000</td>\n",
       "    </tr>\n",
       "  </tbody>\n",
       "</table>\n",
       "</div>"
      ],
      "text/plain": [
       "               player_name nationality           type                teams  \\\n",
       "0            Robin Uthappa      Indian        Batsman  Chennai Super Kings   \n",
       "1             Dwayne Bravo    Overseas    All-Rounder  Chennai Super Kings   \n",
       "2            Ambati Rayudu      Indian  Wicket Keeper  Chennai Super Kings   \n",
       "3            Deepak Chahar      Indian         Bowler  Chennai Super Kings   \n",
       "4         C.Hari Nishaanth      Indian        Batsman  Chennai Super Kings   \n",
       "5            N. Jagadeesan      Indian  Wicket Keeper  Chennai Super Kings   \n",
       "6                K.M. Asif      Indian         Bowler  Chennai Super Kings   \n",
       "7         Tushar Deshpande      Indian         Bowler  Chennai Super Kings   \n",
       "8              Shivam Dube      Indian    All-Rounder  Chennai Super Kings   \n",
       "9             Chris Jordan    Overseas    All-Rounder  Chennai Super Kings   \n",
       "10      Maheesh Theekshana    Overseas         Bowler  Chennai Super Kings   \n",
       "11  Rajvardhan Hangargekar      Indian    All-Rounder  Chennai Super Kings   \n",
       "12         Simarjeet Singh      Indian         Bowler  Chennai Super Kings   \n",
       "13            Devon Conway    Overseas        Batsman  Chennai Super Kings   \n",
       "14        Dwaine Pretorius    Overseas    All-Rounder  Chennai Super Kings   \n",
       "17     Subhranshu Senapati      Indian        Batsman  Chennai Super Kings   \n",
       "21            David Warner    Overseas        Batsman       Delhi Capitals   \n",
       "29             K.S. Bharat      Indian  Wicket Keeper       Delhi Capitals   \n",
       "39             Tim Seifert    Overseas  Wicket Keeper       Delhi Capitals   \n",
       "44         Wriddhiman Saha      Indian  Wicket Keeper       Gujarat Titans   \n",
       "\n",
       "    year sponsored_by  sold_price  \n",
       "0   2022         TATA    20000000  \n",
       "1   2022         TATA    44000000  \n",
       "2   2022         TATA    67500000  \n",
       "3   2022         TATA   140000000  \n",
       "4   2022         TATA     2000000  \n",
       "5   2022         TATA     2000000  \n",
       "6   2022         TATA     2000000  \n",
       "7   2022         TATA     2000000  \n",
       "8   2022         TATA    40000000  \n",
       "9   2022         TATA    36000000  \n",
       "10  2022         TATA     7000000  \n",
       "11  2022         TATA    15000000  \n",
       "12  2022         TATA     2000000  \n",
       "13  2022         TATA    10000000  \n",
       "14  2022         TATA     5000000  \n",
       "17  2022         TATA     2000000  \n",
       "21  2022         TATA    62500000  \n",
       "29  2022         TATA    20000000  \n",
       "39  2022         TATA     5000000  \n",
       "44  2022         TATA    19000000  "
      ]
     },
     "execution_count": 151,
     "metadata": {},
     "output_type": "execute_result"
    }
   ],
   "source": [
    "players.head()"
   ]
  },
  {
   "cell_type": "code",
   "execution_count": 152,
   "id": "4e569a22",
   "metadata": {
    "execution": {
     "iopub.execute_input": "2023-10-25T14:11:04.984785Z",
     "iopub.status.busy": "2023-10-25T14:11:04.984388Z",
     "iopub.status.idle": "2023-10-25T14:11:05.001477Z",
     "shell.execute_reply": "2023-10-25T14:11:05.000351Z"
    },
    "papermill": {
     "duration": 0.110425,
     "end_time": "2023-10-25T14:11:05.004156",
     "exception": false,
     "start_time": "2023-10-25T14:11:04.893731",
     "status": "completed"
    },
    "tags": []
   },
   "outputs": [
    {
     "data": {
      "text/html": [
       "<div>\n",
       "<style scoped>\n",
       "    .dataframe tbody tr th:only-of-type {\n",
       "        vertical-align: middle;\n",
       "    }\n",
       "\n",
       "    .dataframe tbody tr th {\n",
       "        vertical-align: top;\n",
       "    }\n",
       "\n",
       "    .dataframe thead th {\n",
       "        text-align: right;\n",
       "    }\n",
       "</style>\n",
       "<table border=\"1\" class=\"dataframe\">\n",
       "  <thead>\n",
       "    <tr style=\"text-align: right;\">\n",
       "      <th></th>\n",
       "      <th>player_name</th>\n",
       "      <th>nationality</th>\n",
       "      <th>type</th>\n",
       "      <th>teams</th>\n",
       "      <th>year</th>\n",
       "      <th>sponsored_by</th>\n",
       "      <th>sold_price</th>\n",
       "    </tr>\n",
       "  </thead>\n",
       "  <tbody>\n",
       "    <tr>\n",
       "      <th>924</th>\n",
       "      <td>Naman Ojha</td>\n",
       "      <td>NaN</td>\n",
       "      <td>Wicket Keeper</td>\n",
       "      <td>Sunrisers Hyderabad</td>\n",
       "      <td>2014</td>\n",
       "      <td>PEPSI</td>\n",
       "      <td>5000000</td>\n",
       "    </tr>\n",
       "    <tr>\n",
       "      <th>925</th>\n",
       "      <td>Brendan Taylor</td>\n",
       "      <td>NaN</td>\n",
       "      <td>Wicket Keeper</td>\n",
       "      <td>Sunrisers Hyderabad</td>\n",
       "      <td>2014</td>\n",
       "      <td>PEPSI</td>\n",
       "      <td>3000000</td>\n",
       "    </tr>\n",
       "    <tr>\n",
       "      <th>927</th>\n",
       "      <td>Amit Paunikar</td>\n",
       "      <td>NaN</td>\n",
       "      <td>Wicket Keeper</td>\n",
       "      <td>Sunrisers Hyderabad</td>\n",
       "      <td>2014</td>\n",
       "      <td>PEPSI</td>\n",
       "      <td>2000000</td>\n",
       "    </tr>\n",
       "    <tr>\n",
       "      <th>932</th>\n",
       "      <td>Manprit Juneja</td>\n",
       "      <td>NaN</td>\n",
       "      <td>Batsman</td>\n",
       "      <td>Sunrisers Hyderabad</td>\n",
       "      <td>2014</td>\n",
       "      <td>PEPSI</td>\n",
       "      <td>1000000</td>\n",
       "    </tr>\n",
       "    <tr>\n",
       "      <th>940</th>\n",
       "      <td>Luke Pomersbach</td>\n",
       "      <td>NaN</td>\n",
       "      <td>Batsman</td>\n",
       "      <td>Kings XI Punjab</td>\n",
       "      <td>2013</td>\n",
       "      <td>PEPSI</td>\n",
       "      <td>22500000</td>\n",
       "    </tr>\n",
       "    <tr>\n",
       "      <th>945</th>\n",
       "      <td>Ricky Ponting</td>\n",
       "      <td>NaN</td>\n",
       "      <td>Batsman</td>\n",
       "      <td>Mumbai Indians</td>\n",
       "      <td>2013</td>\n",
       "      <td>PEPSI</td>\n",
       "      <td>30000000</td>\n",
       "    </tr>\n",
       "    <tr>\n",
       "      <th>946</th>\n",
       "      <td>Philip Hughes</td>\n",
       "      <td>NaN</td>\n",
       "      <td>Batsman</td>\n",
       "      <td>Mumbai Indians</td>\n",
       "      <td>2013</td>\n",
       "      <td>PEPSI</td>\n",
       "      <td>7500000</td>\n",
       "    </tr>\n",
       "    <tr>\n",
       "      <th>951</th>\n",
       "      <td>Michael Clarke</td>\n",
       "      <td>NaN</td>\n",
       "      <td>Batsman</td>\n",
       "      <td>Pune Warriors India</td>\n",
       "      <td>2013</td>\n",
       "      <td>PEPSI</td>\n",
       "      <td>30000000</td>\n",
       "    </tr>\n",
       "    <tr>\n",
       "      <th>954</th>\n",
       "      <td>Kusal Janith Perera</td>\n",
       "      <td>NaN</td>\n",
       "      <td>Wicket Keeper</td>\n",
       "      <td>Rajasthan Royals</td>\n",
       "      <td>2013</td>\n",
       "      <td>PEPSI</td>\n",
       "      <td>1500000</td>\n",
       "    </tr>\n",
       "    <tr>\n",
       "      <th>957</th>\n",
       "      <td>Moises Henriques</td>\n",
       "      <td>NaN</td>\n",
       "      <td>All-Rounder</td>\n",
       "      <td>Royal Challengers Bangalore</td>\n",
       "      <td>2013</td>\n",
       "      <td>PEPSI</td>\n",
       "      <td>22500000</td>\n",
       "    </tr>\n",
       "    <tr>\n",
       "      <th>958</th>\n",
       "      <td>Ravi Rampaul</td>\n",
       "      <td>NaN</td>\n",
       "      <td>Bowler</td>\n",
       "      <td>Royal Challengers Bangalore</td>\n",
       "      <td>2013</td>\n",
       "      <td>PEPSI</td>\n",
       "      <td>21750000</td>\n",
       "    </tr>\n",
       "    <tr>\n",
       "      <th>959</th>\n",
       "      <td>Pankaj Singh</td>\n",
       "      <td>NaN</td>\n",
       "      <td>Bowler</td>\n",
       "      <td>Royal Challengers Bangalore</td>\n",
       "      <td>2013</td>\n",
       "      <td>PEPSI</td>\n",
       "      <td>11250000</td>\n",
       "    </tr>\n",
       "    <tr>\n",
       "      <th>960</th>\n",
       "      <td>Daniel Christian</td>\n",
       "      <td>NaN</td>\n",
       "      <td>All-Rounder</td>\n",
       "      <td>Royal Challengers Bangalore</td>\n",
       "      <td>2013</td>\n",
       "      <td>PEPSI</td>\n",
       "      <td>7500000</td>\n",
       "    </tr>\n",
       "    <tr>\n",
       "      <th>961</th>\n",
       "      <td>Christopher Barnwell</td>\n",
       "      <td>NaN</td>\n",
       "      <td>All-Rounder</td>\n",
       "      <td>Royal Challengers Bangalore</td>\n",
       "      <td>2013</td>\n",
       "      <td>PEPSI</td>\n",
       "      <td>3750000</td>\n",
       "    </tr>\n",
       "    <tr>\n",
       "      <th>962</th>\n",
       "      <td>Thisara Perera</td>\n",
       "      <td>NaN</td>\n",
       "      <td>All-Rounder</td>\n",
       "      <td>Sunrisers Hyderabad</td>\n",
       "      <td>2013</td>\n",
       "      <td>PEPSI</td>\n",
       "      <td>50625000</td>\n",
       "    </tr>\n",
       "    <tr>\n",
       "      <th>963</th>\n",
       "      <td>Darren Sammy</td>\n",
       "      <td>NaN</td>\n",
       "      <td>All-Rounder</td>\n",
       "      <td>Sunrisers Hyderabad</td>\n",
       "      <td>2013</td>\n",
       "      <td>PEPSI</td>\n",
       "      <td>31875000</td>\n",
       "    </tr>\n",
       "    <tr>\n",
       "      <th>964</th>\n",
       "      <td>Sudeep Tyagi</td>\n",
       "      <td>NaN</td>\n",
       "      <td>Bowler</td>\n",
       "      <td>Sunrisers Hyderabad</td>\n",
       "      <td>2013</td>\n",
       "      <td>PEPSI</td>\n",
       "      <td>7500000</td>\n",
       "    </tr>\n",
       "    <tr>\n",
       "      <th>965</th>\n",
       "      <td>Clinton McKay</td>\n",
       "      <td>NaN</td>\n",
       "      <td>Bowler</td>\n",
       "      <td>Sunrisers Hyderabad</td>\n",
       "      <td>2013</td>\n",
       "      <td>PEPSI</td>\n",
       "      <td>7500000</td>\n",
       "    </tr>\n",
       "    <tr>\n",
       "      <th>966</th>\n",
       "      <td>Nathan McCullum</td>\n",
       "      <td>NaN</td>\n",
       "      <td>Bowler</td>\n",
       "      <td>Sunrisers Hyderabad</td>\n",
       "      <td>2013</td>\n",
       "      <td>PEPSI</td>\n",
       "      <td>7500000</td>\n",
       "    </tr>\n",
       "    <tr>\n",
       "      <th>967</th>\n",
       "      <td>Quinton De Kock</td>\n",
       "      <td>NaN</td>\n",
       "      <td>Wicket Keeper</td>\n",
       "      <td>Sunrisers Hyderabad</td>\n",
       "      <td>2013</td>\n",
       "      <td>PEPSI</td>\n",
       "      <td>1500000</td>\n",
       "    </tr>\n",
       "  </tbody>\n",
       "</table>\n",
       "</div>"
      ],
      "text/plain": [
       "              player_name nationality           type  \\\n",
       "924            Naman Ojha         NaN  Wicket Keeper   \n",
       "925        Brendan Taylor         NaN  Wicket Keeper   \n",
       "927         Amit Paunikar         NaN  Wicket Keeper   \n",
       "932        Manprit Juneja         NaN        Batsman   \n",
       "940       Luke Pomersbach         NaN        Batsman   \n",
       "945         Ricky Ponting         NaN        Batsman   \n",
       "946         Philip Hughes         NaN        Batsman   \n",
       "951        Michael Clarke         NaN        Batsman   \n",
       "954   Kusal Janith Perera         NaN  Wicket Keeper   \n",
       "957      Moises Henriques         NaN    All-Rounder   \n",
       "958          Ravi Rampaul         NaN         Bowler   \n",
       "959          Pankaj Singh         NaN         Bowler   \n",
       "960      Daniel Christian         NaN    All-Rounder   \n",
       "961  Christopher Barnwell         NaN    All-Rounder   \n",
       "962        Thisara Perera         NaN    All-Rounder   \n",
       "963          Darren Sammy         NaN    All-Rounder   \n",
       "964          Sudeep Tyagi         NaN         Bowler   \n",
       "965         Clinton McKay         NaN         Bowler   \n",
       "966       Nathan McCullum         NaN         Bowler   \n",
       "967       Quinton De Kock         NaN  Wicket Keeper   \n",
       "\n",
       "                           teams  year sponsored_by  sold_price  \n",
       "924          Sunrisers Hyderabad  2014        PEPSI     5000000  \n",
       "925          Sunrisers Hyderabad  2014        PEPSI     3000000  \n",
       "927          Sunrisers Hyderabad  2014        PEPSI     2000000  \n",
       "932          Sunrisers Hyderabad  2014        PEPSI     1000000  \n",
       "940              Kings XI Punjab  2013        PEPSI    22500000  \n",
       "945               Mumbai Indians  2013        PEPSI    30000000  \n",
       "946               Mumbai Indians  2013        PEPSI     7500000  \n",
       "951          Pune Warriors India  2013        PEPSI    30000000  \n",
       "954             Rajasthan Royals  2013        PEPSI     1500000  \n",
       "957  Royal Challengers Bangalore  2013        PEPSI    22500000  \n",
       "958  Royal Challengers Bangalore  2013        PEPSI    21750000  \n",
       "959  Royal Challengers Bangalore  2013        PEPSI    11250000  \n",
       "960  Royal Challengers Bangalore  2013        PEPSI     7500000  \n",
       "961  Royal Challengers Bangalore  2013        PEPSI     3750000  \n",
       "962          Sunrisers Hyderabad  2013        PEPSI    50625000  \n",
       "963          Sunrisers Hyderabad  2013        PEPSI    31875000  \n",
       "964          Sunrisers Hyderabad  2013        PEPSI     7500000  \n",
       "965          Sunrisers Hyderabad  2013        PEPSI     7500000  \n",
       "966          Sunrisers Hyderabad  2013        PEPSI     7500000  \n",
       "967          Sunrisers Hyderabad  2013        PEPSI     1500000  "
      ]
     },
     "execution_count": 152,
     "metadata": {},
     "output_type": "execute_result"
    }
   ],
   "source": [
    "players.tail()"
   ]
  },
  {
   "cell_type": "markdown",
   "id": "1f695d84",
   "metadata": {
    "papermill": {
     "duration": 0.087923,
     "end_time": "2023-10-25T14:11:05.183513",
     "exception": false,
     "start_time": "2023-10-25T14:11:05.095590",
     "status": "completed"
    },
    "tags": []
   },
   "source": [
    "15. **`nth()` (method)**:\n",
    "    - Returns the nth row from each group."
   ]
  },
  {
   "cell_type": "code",
   "execution_count": 153,
   "id": "ab7aaeb6",
   "metadata": {
    "execution": {
     "iopub.execute_input": "2023-10-25T14:11:05.363474Z",
     "iopub.status.busy": "2023-10-25T14:11:05.363091Z",
     "iopub.status.idle": "2023-10-25T14:11:05.375288Z",
     "shell.execute_reply": "2023-10-25T14:11:05.374482Z"
    },
    "papermill": {
     "duration": 0.104856,
     "end_time": "2023-10-25T14:11:05.377460",
     "exception": false,
     "start_time": "2023-10-25T14:11:05.272604",
     "status": "completed"
    },
    "tags": []
   },
   "outputs": [
    {
     "data": {
      "text/html": [
       "<div>\n",
       "<style scoped>\n",
       "    .dataframe tbody tr th:only-of-type {\n",
       "        vertical-align: middle;\n",
       "    }\n",
       "\n",
       "    .dataframe tbody tr th {\n",
       "        vertical-align: top;\n",
       "    }\n",
       "\n",
       "    .dataframe thead th {\n",
       "        text-align: right;\n",
       "    }\n",
       "</style>\n",
       "<table border=\"1\" class=\"dataframe\">\n",
       "  <thead>\n",
       "    <tr style=\"text-align: right;\">\n",
       "      <th></th>\n",
       "      <th>player_name</th>\n",
       "      <th>nationality</th>\n",
       "      <th>type</th>\n",
       "      <th>teams</th>\n",
       "      <th>year</th>\n",
       "      <th>sponsored_by</th>\n",
       "      <th>sold_price</th>\n",
       "    </tr>\n",
       "  </thead>\n",
       "  <tbody>\n",
       "    <tr>\n",
       "      <th>10</th>\n",
       "      <td>Maheesh Theekshana</td>\n",
       "      <td>Overseas</td>\n",
       "      <td>Bowler</td>\n",
       "      <td>Chennai Super Kings</td>\n",
       "      <td>2022</td>\n",
       "      <td>TATA</td>\n",
       "      <td>7000000</td>\n",
       "    </tr>\n",
       "    <tr>\n",
       "      <th>11</th>\n",
       "      <td>Rajvardhan Hangargekar</td>\n",
       "      <td>Indian</td>\n",
       "      <td>All-Rounder</td>\n",
       "      <td>Chennai Super Kings</td>\n",
       "      <td>2022</td>\n",
       "      <td>TATA</td>\n",
       "      <td>15000000</td>\n",
       "    </tr>\n",
       "    <tr>\n",
       "      <th>17</th>\n",
       "      <td>Subhranshu Senapati</td>\n",
       "      <td>Indian</td>\n",
       "      <td>Batsman</td>\n",
       "      <td>Chennai Super Kings</td>\n",
       "      <td>2022</td>\n",
       "      <td>TATA</td>\n",
       "      <td>2000000</td>\n",
       "    </tr>\n",
       "    <tr>\n",
       "      <th>39</th>\n",
       "      <td>Tim Seifert</td>\n",
       "      <td>Overseas</td>\n",
       "      <td>Wicket Keeper</td>\n",
       "      <td>Delhi Capitals</td>\n",
       "      <td>2022</td>\n",
       "      <td>TATA</td>\n",
       "      <td>5000000</td>\n",
       "    </tr>\n",
       "  </tbody>\n",
       "</table>\n",
       "</div>"
      ],
      "text/plain": [
       "               player_name nationality           type                teams  \\\n",
       "10      Maheesh Theekshana    Overseas         Bowler  Chennai Super Kings   \n",
       "11  Rajvardhan Hangargekar      Indian    All-Rounder  Chennai Super Kings   \n",
       "17     Subhranshu Senapati      Indian        Batsman  Chennai Super Kings   \n",
       "39             Tim Seifert    Overseas  Wicket Keeper       Delhi Capitals   \n",
       "\n",
       "    year sponsored_by  sold_price  \n",
       "10  2022         TATA     7000000  \n",
       "11  2022         TATA    15000000  \n",
       "17  2022         TATA     2000000  \n",
       "39  2022         TATA     5000000  "
      ]
     },
     "execution_count": 153,
     "metadata": {},
     "output_type": "execute_result"
    }
   ],
   "source": [
    "players.nth(3)"
   ]
  },
  {
   "cell_type": "markdown",
   "id": "a4f1bc0e",
   "metadata": {
    "papermill": {
     "duration": 0.094716,
     "end_time": "2023-10-25T14:11:05.562940",
     "exception": false,
     "start_time": "2023-10-25T14:11:05.468224",
     "status": "completed"
    },
    "tags": []
   },
   "source": [
    "16. **`first()` and `last()` (method)**:\n",
    "    - Returns the first or last row from each group."
   ]
  },
  {
   "cell_type": "code",
   "execution_count": 154,
   "id": "a893a888",
   "metadata": {
    "execution": {
     "iopub.execute_input": "2023-10-25T14:11:05.757259Z",
     "iopub.status.busy": "2023-10-25T14:11:05.756866Z",
     "iopub.status.idle": "2023-10-25T14:11:05.771085Z",
     "shell.execute_reply": "2023-10-25T14:11:05.770065Z"
    },
    "papermill": {
     "duration": 0.111058,
     "end_time": "2023-10-25T14:11:05.773398",
     "exception": false,
     "start_time": "2023-10-25T14:11:05.662340",
     "status": "completed"
    },
    "tags": []
   },
   "outputs": [
    {
     "data": {
      "text/html": [
       "<div>\n",
       "<style scoped>\n",
       "    .dataframe tbody tr th:only-of-type {\n",
       "        vertical-align: middle;\n",
       "    }\n",
       "\n",
       "    .dataframe tbody tr th {\n",
       "        vertical-align: top;\n",
       "    }\n",
       "\n",
       "    .dataframe thead th {\n",
       "        text-align: right;\n",
       "    }\n",
       "</style>\n",
       "<table border=\"1\" class=\"dataframe\">\n",
       "  <thead>\n",
       "    <tr style=\"text-align: right;\">\n",
       "      <th></th>\n",
       "      <th>player_name</th>\n",
       "      <th>nationality</th>\n",
       "      <th>teams</th>\n",
       "      <th>year</th>\n",
       "      <th>sponsored_by</th>\n",
       "      <th>sold_price</th>\n",
       "    </tr>\n",
       "    <tr>\n",
       "      <th>type</th>\n",
       "      <th></th>\n",
       "      <th></th>\n",
       "      <th></th>\n",
       "      <th></th>\n",
       "      <th></th>\n",
       "      <th></th>\n",
       "    </tr>\n",
       "  </thead>\n",
       "  <tbody>\n",
       "    <tr>\n",
       "      <th>All-Rounder</th>\n",
       "      <td>Dwayne Bravo</td>\n",
       "      <td>Overseas</td>\n",
       "      <td>Chennai Super Kings</td>\n",
       "      <td>2022</td>\n",
       "      <td>TATA</td>\n",
       "      <td>44000000</td>\n",
       "    </tr>\n",
       "    <tr>\n",
       "      <th>Batsman</th>\n",
       "      <td>Robin Uthappa</td>\n",
       "      <td>Indian</td>\n",
       "      <td>Chennai Super Kings</td>\n",
       "      <td>2022</td>\n",
       "      <td>TATA</td>\n",
       "      <td>20000000</td>\n",
       "    </tr>\n",
       "    <tr>\n",
       "      <th>Bowler</th>\n",
       "      <td>Deepak Chahar</td>\n",
       "      <td>Indian</td>\n",
       "      <td>Chennai Super Kings</td>\n",
       "      <td>2022</td>\n",
       "      <td>TATA</td>\n",
       "      <td>140000000</td>\n",
       "    </tr>\n",
       "    <tr>\n",
       "      <th>Wicket Keeper</th>\n",
       "      <td>Ambati Rayudu</td>\n",
       "      <td>Indian</td>\n",
       "      <td>Chennai Super Kings</td>\n",
       "      <td>2022</td>\n",
       "      <td>TATA</td>\n",
       "      <td>67500000</td>\n",
       "    </tr>\n",
       "  </tbody>\n",
       "</table>\n",
       "</div>"
      ],
      "text/plain": [
       "                 player_name nationality                teams  year  \\\n",
       "type                                                                  \n",
       "All-Rounder     Dwayne Bravo    Overseas  Chennai Super Kings  2022   \n",
       "Batsman        Robin Uthappa      Indian  Chennai Super Kings  2022   \n",
       "Bowler         Deepak Chahar      Indian  Chennai Super Kings  2022   \n",
       "Wicket Keeper  Ambati Rayudu      Indian  Chennai Super Kings  2022   \n",
       "\n",
       "              sponsored_by  sold_price  \n",
       "type                                    \n",
       "All-Rounder           TATA    44000000  \n",
       "Batsman               TATA    20000000  \n",
       "Bowler                TATA   140000000  \n",
       "Wicket Keeper         TATA    67500000  "
      ]
     },
     "execution_count": 154,
     "metadata": {},
     "output_type": "execute_result"
    }
   ],
   "source": [
    "players.first()"
   ]
  },
  {
   "cell_type": "code",
   "execution_count": 155,
   "id": "e24bf13f",
   "metadata": {
    "execution": {
     "iopub.execute_input": "2023-10-25T14:11:05.952354Z",
     "iopub.status.busy": "2023-10-25T14:11:05.951948Z",
     "iopub.status.idle": "2023-10-25T14:11:05.965919Z",
     "shell.execute_reply": "2023-10-25T14:11:05.964747Z"
    },
    "papermill": {
     "duration": 0.10521,
     "end_time": "2023-10-25T14:11:05.968063",
     "exception": false,
     "start_time": "2023-10-25T14:11:05.862853",
     "status": "completed"
    },
    "tags": []
   },
   "outputs": [
    {
     "data": {
      "text/html": [
       "<div>\n",
       "<style scoped>\n",
       "    .dataframe tbody tr th:only-of-type {\n",
       "        vertical-align: middle;\n",
       "    }\n",
       "\n",
       "    .dataframe tbody tr th {\n",
       "        vertical-align: top;\n",
       "    }\n",
       "\n",
       "    .dataframe thead th {\n",
       "        text-align: right;\n",
       "    }\n",
       "</style>\n",
       "<table border=\"1\" class=\"dataframe\">\n",
       "  <thead>\n",
       "    <tr style=\"text-align: right;\">\n",
       "      <th></th>\n",
       "      <th>player_name</th>\n",
       "      <th>nationality</th>\n",
       "      <th>teams</th>\n",
       "      <th>year</th>\n",
       "      <th>sponsored_by</th>\n",
       "      <th>sold_price</th>\n",
       "    </tr>\n",
       "    <tr>\n",
       "      <th>type</th>\n",
       "      <th></th>\n",
       "      <th></th>\n",
       "      <th></th>\n",
       "      <th></th>\n",
       "      <th></th>\n",
       "      <th></th>\n",
       "    </tr>\n",
       "  </thead>\n",
       "  <tbody>\n",
       "    <tr>\n",
       "      <th>All-Rounder</th>\n",
       "      <td>Darren Sammy</td>\n",
       "      <td>Indian</td>\n",
       "      <td>Sunrisers Hyderabad</td>\n",
       "      <td>2013</td>\n",
       "      <td>PEPSI</td>\n",
       "      <td>31875000</td>\n",
       "    </tr>\n",
       "    <tr>\n",
       "      <th>Batsman</th>\n",
       "      <td>Michael Clarke</td>\n",
       "      <td>Indian</td>\n",
       "      <td>Pune Warriors India</td>\n",
       "      <td>2013</td>\n",
       "      <td>PEPSI</td>\n",
       "      <td>30000000</td>\n",
       "    </tr>\n",
       "    <tr>\n",
       "      <th>Bowler</th>\n",
       "      <td>Nathan McCullum</td>\n",
       "      <td>Indian</td>\n",
       "      <td>Sunrisers Hyderabad</td>\n",
       "      <td>2013</td>\n",
       "      <td>PEPSI</td>\n",
       "      <td>7500000</td>\n",
       "    </tr>\n",
       "    <tr>\n",
       "      <th>Wicket Keeper</th>\n",
       "      <td>Quinton De Kock</td>\n",
       "      <td>Overseas</td>\n",
       "      <td>Sunrisers Hyderabad</td>\n",
       "      <td>2013</td>\n",
       "      <td>PEPSI</td>\n",
       "      <td>1500000</td>\n",
       "    </tr>\n",
       "  </tbody>\n",
       "</table>\n",
       "</div>"
      ],
      "text/plain": [
       "                   player_name nationality                teams  year  \\\n",
       "type                                                                    \n",
       "All-Rounder       Darren Sammy      Indian  Sunrisers Hyderabad  2013   \n",
       "Batsman         Michael Clarke      Indian  Pune Warriors India  2013   \n",
       "Bowler         Nathan McCullum      Indian  Sunrisers Hyderabad  2013   \n",
       "Wicket Keeper  Quinton De Kock    Overseas  Sunrisers Hyderabad  2013   \n",
       "\n",
       "              sponsored_by  sold_price  \n",
       "type                                    \n",
       "All-Rounder          PEPSI    31875000  \n",
       "Batsman              PEPSI    30000000  \n",
       "Bowler               PEPSI     7500000  \n",
       "Wicket Keeper        PEPSI     1500000  "
      ]
     },
     "execution_count": 155,
     "metadata": {},
     "output_type": "execute_result"
    }
   ],
   "source": [
    "players.last()"
   ]
  },
  {
   "cell_type": "markdown",
   "id": "e729b592",
   "metadata": {
    "papermill": {
     "duration": 0.091217,
     "end_time": "2023-10-25T14:11:06.149872",
     "exception": false,
     "start_time": "2023-10-25T14:11:06.058655",
     "status": "completed"
    },
    "tags": []
   },
   "source": [
    "17. **`mean()`, `sum()`, `std()`, and other aggregation methods**:\n",
    "    - These methods can be used to calculate various statistics for each group."
   ]
  },
  {
   "cell_type": "code",
   "execution_count": 156,
   "id": "3a465ed4",
   "metadata": {
    "execution": {
     "iopub.execute_input": "2023-10-25T14:11:06.328104Z",
     "iopub.status.busy": "2023-10-25T14:11:06.327701Z",
     "iopub.status.idle": "2023-10-25T14:11:06.336409Z",
     "shell.execute_reply": "2023-10-25T14:11:06.335041Z"
    },
    "papermill": {
     "duration": 0.100408,
     "end_time": "2023-10-25T14:11:06.338732",
     "exception": false,
     "start_time": "2023-10-25T14:11:06.238324",
     "status": "completed"
    },
    "tags": []
   },
   "outputs": [
    {
     "data": {
      "text/plain": [
       "type\n",
       "All-Rounder      2.248173e+07\n",
       "Batsman          2.137861e+07\n",
       "Bowler           1.959943e+07\n",
       "Wicket Keeper    2.048936e+07\n",
       "Name: sold_price, dtype: float64"
      ]
     },
     "execution_count": 156,
     "metadata": {},
     "output_type": "execute_result"
    }
   ],
   "source": [
    "players['sold_price'].mean()"
   ]
  },
  {
   "cell_type": "code",
   "execution_count": 157,
   "id": "1110aa5c",
   "metadata": {
    "execution": {
     "iopub.execute_input": "2023-10-25T14:11:06.517136Z",
     "iopub.status.busy": "2023-10-25T14:11:06.516733Z",
     "iopub.status.idle": "2023-10-25T14:11:06.524253Z",
     "shell.execute_reply": "2023-10-25T14:11:06.523008Z"
    },
    "papermill": {
     "duration": 0.100002,
     "end_time": "2023-10-25T14:11:06.526166",
     "exception": false,
     "start_time": "2023-10-25T14:11:06.426164",
     "status": "completed"
    },
    "tags": []
   },
   "outputs": [
    {
     "data": {
      "text/plain": [
       "type\n",
       "All-Rounder      7846125000\n",
       "Batsman          3698500000\n",
       "Bowler           6899000000\n",
       "Wicket Keeper    1926000000\n",
       "Name: sold_price, dtype: int64"
      ]
     },
     "execution_count": 157,
     "metadata": {},
     "output_type": "execute_result"
    }
   ],
   "source": [
    "players['sold_price'].sum()"
   ]
  },
  {
   "cell_type": "code",
   "execution_count": 158,
   "id": "ef6468b8",
   "metadata": {
    "execution": {
     "iopub.execute_input": "2023-10-25T14:11:06.706202Z",
     "iopub.status.busy": "2023-10-25T14:11:06.705685Z",
     "iopub.status.idle": "2023-10-25T14:11:06.715558Z",
     "shell.execute_reply": "2023-10-25T14:11:06.714445Z"
    },
    "papermill": {
     "duration": 0.102942,
     "end_time": "2023-10-25T14:11:06.717829",
     "exception": false,
     "start_time": "2023-10-25T14:11:06.614887",
     "status": "completed"
    },
    "tags": []
   },
   "outputs": [
    {
     "data": {
      "text/plain": [
       "type\n",
       "All-Rounder      3.145726e+07\n",
       "Batsman          2.656414e+07\n",
       "Bowler           2.449227e+07\n",
       "Wicket Keeper    2.965455e+07\n",
       "Name: sold_price, dtype: float64"
      ]
     },
     "execution_count": 158,
     "metadata": {},
     "output_type": "execute_result"
    }
   ],
   "source": [
    "players['sold_price'].std()"
   ]
  },
  {
   "cell_type": "code",
   "execution_count": 159,
   "id": "63b0a1ca",
   "metadata": {
    "execution": {
     "iopub.execute_input": "2023-10-25T14:11:06.965424Z",
     "iopub.status.busy": "2023-10-25T14:11:06.965017Z",
     "iopub.status.idle": "2023-10-25T14:11:06.973198Z",
     "shell.execute_reply": "2023-10-25T14:11:06.972091Z"
    },
    "papermill": {
     "duration": 0.168471,
     "end_time": "2023-10-25T14:11:06.975303",
     "exception": false,
     "start_time": "2023-10-25T14:11:06.806832",
     "status": "completed"
    },
    "tags": []
   },
   "outputs": [
    {
     "data": {
      "text/plain": [
       "type\n",
       "All-Rounder      1000000\n",
       "Batsman          1000000\n",
       "Bowler           1000000\n",
       "Wicket Keeper    1000000\n",
       "Name: sold_price, dtype: int64"
      ]
     },
     "execution_count": 159,
     "metadata": {},
     "output_type": "execute_result"
    }
   ],
   "source": [
    "players['sold_price'].min()"
   ]
  },
  {
   "cell_type": "code",
   "execution_count": 160,
   "id": "7a4d3427",
   "metadata": {
    "execution": {
     "iopub.execute_input": "2023-10-25T14:11:07.155250Z",
     "iopub.status.busy": "2023-10-25T14:11:07.154879Z",
     "iopub.status.idle": "2023-10-25T14:11:07.163060Z",
     "shell.execute_reply": "2023-10-25T14:11:07.161961Z"
    },
    "papermill": {
     "duration": 0.101004,
     "end_time": "2023-10-25T14:11:07.165387",
     "exception": false,
     "start_time": "2023-10-25T14:11:07.064383",
     "status": "completed"
    },
    "tags": []
   },
   "outputs": [
    {
     "data": {
      "text/plain": [
       "type\n",
       "All-Rounder      162500000\n",
       "Batsman          160000000\n",
       "Bowler           140000000\n",
       "Wicket Keeper    152500000\n",
       "Name: sold_price, dtype: int64"
      ]
     },
     "execution_count": 160,
     "metadata": {},
     "output_type": "execute_result"
    }
   ],
   "source": [
    "players['sold_price'].max()"
   ]
  },
  {
   "cell_type": "markdown",
   "id": "71a8a7f2",
   "metadata": {
    "papermill": {
     "duration": 0.08807,
     "end_time": "2023-10-25T14:11:07.342514",
     "exception": false,
     "start_time": "2023-10-25T14:11:07.254444",
     "status": "completed"
    },
    "tags": []
   },
   "source": [
    "18. **`size()`, `count()`, `first()`, `last()`, and other counting and selection methods**:\n",
    "    - These methods help in summarizing and selecting data based on group properties."
   ]
  },
  {
   "cell_type": "code",
   "execution_count": 161,
   "id": "beedfc12",
   "metadata": {
    "execution": {
     "iopub.execute_input": "2023-10-25T14:11:07.524329Z",
     "iopub.status.busy": "2023-10-25T14:11:07.523927Z",
     "iopub.status.idle": "2023-10-25T14:11:07.532180Z",
     "shell.execute_reply": "2023-10-25T14:11:07.531109Z"
    },
    "papermill": {
     "duration": 0.102806,
     "end_time": "2023-10-25T14:11:07.534222",
     "exception": false,
     "start_time": "2023-10-25T14:11:07.431416",
     "status": "completed"
    },
    "tags": []
   },
   "outputs": [
    {
     "data": {
      "text/plain": [
       "type\n",
       "All-Rounder      349\n",
       "Batsman          173\n",
       "Bowler           352\n",
       "Wicket Keeper     94\n",
       "dtype: int64"
      ]
     },
     "execution_count": 161,
     "metadata": {},
     "output_type": "execute_result"
    }
   ],
   "source": [
    "players.size()"
   ]
  },
  {
   "cell_type": "code",
   "execution_count": 162,
   "id": "ba4f1860",
   "metadata": {
    "execution": {
     "iopub.execute_input": "2023-10-25T14:11:07.714596Z",
     "iopub.status.busy": "2023-10-25T14:11:07.714224Z",
     "iopub.status.idle": "2023-10-25T14:11:07.725555Z",
     "shell.execute_reply": "2023-10-25T14:11:07.724461Z"
    },
    "papermill": {
     "duration": 0.104681,
     "end_time": "2023-10-25T14:11:07.727709",
     "exception": false,
     "start_time": "2023-10-25T14:11:07.623028",
     "status": "completed"
    },
    "tags": []
   },
   "outputs": [
    {
     "data": {
      "text/html": [
       "<div>\n",
       "<style scoped>\n",
       "    .dataframe tbody tr th:only-of-type {\n",
       "        vertical-align: middle;\n",
       "    }\n",
       "\n",
       "    .dataframe tbody tr th {\n",
       "        vertical-align: top;\n",
       "    }\n",
       "\n",
       "    .dataframe thead th {\n",
       "        text-align: right;\n",
       "    }\n",
       "</style>\n",
       "<table border=\"1\" class=\"dataframe\">\n",
       "  <thead>\n",
       "    <tr style=\"text-align: right;\">\n",
       "      <th></th>\n",
       "      <th>player_name</th>\n",
       "      <th>nationality</th>\n",
       "      <th>teams</th>\n",
       "      <th>year</th>\n",
       "      <th>sponsored_by</th>\n",
       "      <th>sold_price</th>\n",
       "    </tr>\n",
       "    <tr>\n",
       "      <th>type</th>\n",
       "      <th></th>\n",
       "      <th></th>\n",
       "      <th></th>\n",
       "      <th></th>\n",
       "      <th></th>\n",
       "      <th></th>\n",
       "    </tr>\n",
       "  </thead>\n",
       "  <tbody>\n",
       "    <tr>\n",
       "      <th>All-Rounder</th>\n",
       "      <td>349</td>\n",
       "      <td>77</td>\n",
       "      <td>349</td>\n",
       "      <td>349</td>\n",
       "      <td>349</td>\n",
       "      <td>349</td>\n",
       "    </tr>\n",
       "    <tr>\n",
       "      <th>Batsman</th>\n",
       "      <td>173</td>\n",
       "      <td>36</td>\n",
       "      <td>173</td>\n",
       "      <td>173</td>\n",
       "      <td>173</td>\n",
       "      <td>173</td>\n",
       "    </tr>\n",
       "    <tr>\n",
       "      <th>Bowler</th>\n",
       "      <td>352</td>\n",
       "      <td>69</td>\n",
       "      <td>352</td>\n",
       "      <td>352</td>\n",
       "      <td>352</td>\n",
       "      <td>352</td>\n",
       "    </tr>\n",
       "    <tr>\n",
       "      <th>Wicket Keeper</th>\n",
       "      <td>94</td>\n",
       "      <td>22</td>\n",
       "      <td>94</td>\n",
       "      <td>94</td>\n",
       "      <td>94</td>\n",
       "      <td>94</td>\n",
       "    </tr>\n",
       "  </tbody>\n",
       "</table>\n",
       "</div>"
      ],
      "text/plain": [
       "               player_name  nationality  teams  year  sponsored_by  sold_price\n",
       "type                                                                          \n",
       "All-Rounder            349           77    349   349           349         349\n",
       "Batsman                173           36    173   173           173         173\n",
       "Bowler                 352           69    352   352           352         352\n",
       "Wicket Keeper           94           22     94    94            94          94"
      ]
     },
     "execution_count": 162,
     "metadata": {},
     "output_type": "execute_result"
    }
   ],
   "source": [
    "players.count()"
   ]
  },
  {
   "cell_type": "code",
   "execution_count": 163,
   "id": "7890eafe",
   "metadata": {
    "execution": {
     "iopub.execute_input": "2023-10-25T14:11:07.908121Z",
     "iopub.status.busy": "2023-10-25T14:11:07.907755Z",
     "iopub.status.idle": "2023-10-25T14:11:07.921172Z",
     "shell.execute_reply": "2023-10-25T14:11:07.920068Z"
    },
    "papermill": {
     "duration": 0.107248,
     "end_time": "2023-10-25T14:11:07.923364",
     "exception": false,
     "start_time": "2023-10-25T14:11:07.816116",
     "status": "completed"
    },
    "tags": []
   },
   "outputs": [
    {
     "data": {
      "text/html": [
       "<div>\n",
       "<style scoped>\n",
       "    .dataframe tbody tr th:only-of-type {\n",
       "        vertical-align: middle;\n",
       "    }\n",
       "\n",
       "    .dataframe tbody tr th {\n",
       "        vertical-align: top;\n",
       "    }\n",
       "\n",
       "    .dataframe thead th {\n",
       "        text-align: right;\n",
       "    }\n",
       "</style>\n",
       "<table border=\"1\" class=\"dataframe\">\n",
       "  <thead>\n",
       "    <tr style=\"text-align: right;\">\n",
       "      <th></th>\n",
       "      <th>player_name</th>\n",
       "      <th>nationality</th>\n",
       "      <th>teams</th>\n",
       "      <th>year</th>\n",
       "      <th>sponsored_by</th>\n",
       "      <th>sold_price</th>\n",
       "    </tr>\n",
       "    <tr>\n",
       "      <th>type</th>\n",
       "      <th></th>\n",
       "      <th></th>\n",
       "      <th></th>\n",
       "      <th></th>\n",
       "      <th></th>\n",
       "      <th></th>\n",
       "    </tr>\n",
       "  </thead>\n",
       "  <tbody>\n",
       "    <tr>\n",
       "      <th>All-Rounder</th>\n",
       "      <td>Dwayne Bravo</td>\n",
       "      <td>Overseas</td>\n",
       "      <td>Chennai Super Kings</td>\n",
       "      <td>2022</td>\n",
       "      <td>TATA</td>\n",
       "      <td>44000000</td>\n",
       "    </tr>\n",
       "    <tr>\n",
       "      <th>Batsman</th>\n",
       "      <td>Robin Uthappa</td>\n",
       "      <td>Indian</td>\n",
       "      <td>Chennai Super Kings</td>\n",
       "      <td>2022</td>\n",
       "      <td>TATA</td>\n",
       "      <td>20000000</td>\n",
       "    </tr>\n",
       "    <tr>\n",
       "      <th>Bowler</th>\n",
       "      <td>Deepak Chahar</td>\n",
       "      <td>Indian</td>\n",
       "      <td>Chennai Super Kings</td>\n",
       "      <td>2022</td>\n",
       "      <td>TATA</td>\n",
       "      <td>140000000</td>\n",
       "    </tr>\n",
       "    <tr>\n",
       "      <th>Wicket Keeper</th>\n",
       "      <td>Ambati Rayudu</td>\n",
       "      <td>Indian</td>\n",
       "      <td>Chennai Super Kings</td>\n",
       "      <td>2022</td>\n",
       "      <td>TATA</td>\n",
       "      <td>67500000</td>\n",
       "    </tr>\n",
       "  </tbody>\n",
       "</table>\n",
       "</div>"
      ],
      "text/plain": [
       "                 player_name nationality                teams  year  \\\n",
       "type                                                                  \n",
       "All-Rounder     Dwayne Bravo    Overseas  Chennai Super Kings  2022   \n",
       "Batsman        Robin Uthappa      Indian  Chennai Super Kings  2022   \n",
       "Bowler         Deepak Chahar      Indian  Chennai Super Kings  2022   \n",
       "Wicket Keeper  Ambati Rayudu      Indian  Chennai Super Kings  2022   \n",
       "\n",
       "              sponsored_by  sold_price  \n",
       "type                                    \n",
       "All-Rounder           TATA    44000000  \n",
       "Batsman               TATA    20000000  \n",
       "Bowler                TATA   140000000  \n",
       "Wicket Keeper         TATA    67500000  "
      ]
     },
     "execution_count": 163,
     "metadata": {},
     "output_type": "execute_result"
    }
   ],
   "source": [
    "players.first()"
   ]
  },
  {
   "cell_type": "code",
   "execution_count": 164,
   "id": "53ef07bd",
   "metadata": {
    "execution": {
     "iopub.execute_input": "2023-10-25T14:11:08.107401Z",
     "iopub.status.busy": "2023-10-25T14:11:08.106772Z",
     "iopub.status.idle": "2023-10-25T14:11:08.120456Z",
     "shell.execute_reply": "2023-10-25T14:11:08.119360Z"
    },
    "papermill": {
     "duration": 0.107693,
     "end_time": "2023-10-25T14:11:08.122637",
     "exception": false,
     "start_time": "2023-10-25T14:11:08.014944",
     "status": "completed"
    },
    "tags": []
   },
   "outputs": [
    {
     "data": {
      "text/html": [
       "<div>\n",
       "<style scoped>\n",
       "    .dataframe tbody tr th:only-of-type {\n",
       "        vertical-align: middle;\n",
       "    }\n",
       "\n",
       "    .dataframe tbody tr th {\n",
       "        vertical-align: top;\n",
       "    }\n",
       "\n",
       "    .dataframe thead th {\n",
       "        text-align: right;\n",
       "    }\n",
       "</style>\n",
       "<table border=\"1\" class=\"dataframe\">\n",
       "  <thead>\n",
       "    <tr style=\"text-align: right;\">\n",
       "      <th></th>\n",
       "      <th>player_name</th>\n",
       "      <th>nationality</th>\n",
       "      <th>teams</th>\n",
       "      <th>year</th>\n",
       "      <th>sponsored_by</th>\n",
       "      <th>sold_price</th>\n",
       "    </tr>\n",
       "    <tr>\n",
       "      <th>type</th>\n",
       "      <th></th>\n",
       "      <th></th>\n",
       "      <th></th>\n",
       "      <th></th>\n",
       "      <th></th>\n",
       "      <th></th>\n",
       "    </tr>\n",
       "  </thead>\n",
       "  <tbody>\n",
       "    <tr>\n",
       "      <th>All-Rounder</th>\n",
       "      <td>Darren Sammy</td>\n",
       "      <td>Indian</td>\n",
       "      <td>Sunrisers Hyderabad</td>\n",
       "      <td>2013</td>\n",
       "      <td>PEPSI</td>\n",
       "      <td>31875000</td>\n",
       "    </tr>\n",
       "    <tr>\n",
       "      <th>Batsman</th>\n",
       "      <td>Michael Clarke</td>\n",
       "      <td>Indian</td>\n",
       "      <td>Pune Warriors India</td>\n",
       "      <td>2013</td>\n",
       "      <td>PEPSI</td>\n",
       "      <td>30000000</td>\n",
       "    </tr>\n",
       "    <tr>\n",
       "      <th>Bowler</th>\n",
       "      <td>Nathan McCullum</td>\n",
       "      <td>Indian</td>\n",
       "      <td>Sunrisers Hyderabad</td>\n",
       "      <td>2013</td>\n",
       "      <td>PEPSI</td>\n",
       "      <td>7500000</td>\n",
       "    </tr>\n",
       "    <tr>\n",
       "      <th>Wicket Keeper</th>\n",
       "      <td>Quinton De Kock</td>\n",
       "      <td>Overseas</td>\n",
       "      <td>Sunrisers Hyderabad</td>\n",
       "      <td>2013</td>\n",
       "      <td>PEPSI</td>\n",
       "      <td>1500000</td>\n",
       "    </tr>\n",
       "  </tbody>\n",
       "</table>\n",
       "</div>"
      ],
      "text/plain": [
       "                   player_name nationality                teams  year  \\\n",
       "type                                                                    \n",
       "All-Rounder       Darren Sammy      Indian  Sunrisers Hyderabad  2013   \n",
       "Batsman         Michael Clarke      Indian  Pune Warriors India  2013   \n",
       "Bowler         Nathan McCullum      Indian  Sunrisers Hyderabad  2013   \n",
       "Wicket Keeper  Quinton De Kock    Overseas  Sunrisers Hyderabad  2013   \n",
       "\n",
       "              sponsored_by  sold_price  \n",
       "type                                    \n",
       "All-Rounder          PEPSI    31875000  \n",
       "Batsman              PEPSI    30000000  \n",
       "Bowler               PEPSI     7500000  \n",
       "Wicket Keeper        PEPSI     1500000  "
      ]
     },
     "execution_count": 164,
     "metadata": {},
     "output_type": "execute_result"
    }
   ],
   "source": [
    "players.last()"
   ]
  },
  {
   "cell_type": "markdown",
   "id": "809a5863",
   "metadata": {
    "papermill": {
     "duration": 0.089544,
     "end_time": "2023-10-25T14:11:08.304187",
     "exception": false,
     "start_time": "2023-10-25T14:11:08.214643",
     "status": "completed"
    },
    "tags": []
   },
   "source": [
    "The specific method you use will depend on your data analysis needs. These functions allow you to perform group-wise operations and calculations on your data, making groupby an essential tool for data analysis with Pandas."
   ]
  },
  {
   "cell_type": "markdown",
   "id": "fb1bd2a0",
   "metadata": {
    "papermill": {
     "duration": 0.088549,
     "end_time": "2023-10-25T14:11:08.482903",
     "exception": false,
     "start_time": "2023-10-25T14:11:08.394354",
     "status": "completed"
    },
    "tags": []
   },
   "source": [
    "#### 4. **Renaming and Reindexing**:\n",
    "\n",
    "   - `df.rename()`: Renames columns or indexes.\n",
    "   - `df.set_index()`: Sets a specific column as the DataFrame's index.\n",
    "   - `df.reset_index()`: Resets the index."
   ]
  },
  {
   "cell_type": "code",
   "execution_count": 165,
   "id": "3e1dc223",
   "metadata": {
    "execution": {
     "iopub.execute_input": "2023-10-25T14:11:08.663497Z",
     "iopub.status.busy": "2023-10-25T14:11:08.663107Z",
     "iopub.status.idle": "2023-10-25T14:11:08.669708Z",
     "shell.execute_reply": "2023-10-25T14:11:08.668624Z"
    },
    "papermill": {
     "duration": 0.099082,
     "end_time": "2023-10-25T14:11:08.671836",
     "exception": false,
     "start_time": "2023-10-25T14:11:08.572754",
     "status": "completed"
    },
    "tags": []
   },
   "outputs": [
    {
     "data": {
      "text/plain": [
       "Index(['player_name', 'nationality', 'type', 'teams', 'year', 'sponsored_by',\n",
       "       'sold_price'],\n",
       "      dtype='object')"
      ]
     },
     "execution_count": 165,
     "metadata": {},
     "output_type": "execute_result"
    }
   ],
   "source": [
    "df.columns"
   ]
  },
  {
   "cell_type": "code",
   "execution_count": 166,
   "id": "21dfe04a",
   "metadata": {
    "execution": {
     "iopub.execute_input": "2023-10-25T14:11:08.855906Z",
     "iopub.status.busy": "2023-10-25T14:11:08.855173Z",
     "iopub.status.idle": "2023-10-25T14:11:08.860576Z",
     "shell.execute_reply": "2023-10-25T14:11:08.859735Z"
    },
    "papermill": {
     "duration": 0.099494,
     "end_time": "2023-10-25T14:11:08.862681",
     "exception": false,
     "start_time": "2023-10-25T14:11:08.763187",
     "status": "completed"
    },
    "tags": []
   },
   "outputs": [],
   "source": [
    "temp = df.rename(columns={'player_name':'Name', 'nationality':'Nationality', 'type':'Type', 'teams':'Teams', 'year':'Year', 'sponsored_by':'Sponsored_By','sold_price':'Sold_Price'})"
   ]
  },
  {
   "cell_type": "code",
   "execution_count": 167,
   "id": "88743ae3",
   "metadata": {
    "execution": {
     "iopub.execute_input": "2023-10-25T14:11:09.044532Z",
     "iopub.status.busy": "2023-10-25T14:11:09.043822Z",
     "iopub.status.idle": "2023-10-25T14:11:09.049874Z",
     "shell.execute_reply": "2023-10-25T14:11:09.048849Z"
    },
    "papermill": {
     "duration": 0.097718,
     "end_time": "2023-10-25T14:11:09.051890",
     "exception": false,
     "start_time": "2023-10-25T14:11:08.954172",
     "status": "completed"
    },
    "tags": []
   },
   "outputs": [
    {
     "data": {
      "text/plain": [
       "Index(['Name', 'Nationality', 'Type', 'Teams', 'Year', 'Sponsored_By',\n",
       "       'Sold_Price'],\n",
       "      dtype='object')"
      ]
     },
     "execution_count": 167,
     "metadata": {},
     "output_type": "execute_result"
    }
   ],
   "source": [
    "temp.columns"
   ]
  },
  {
   "cell_type": "code",
   "execution_count": 168,
   "id": "c8e51f6d",
   "metadata": {
    "execution": {
     "iopub.execute_input": "2023-10-25T14:11:09.237021Z",
     "iopub.status.busy": "2023-10-25T14:11:09.236370Z",
     "iopub.status.idle": "2023-10-25T14:11:09.252512Z",
     "shell.execute_reply": "2023-10-25T14:11:09.251400Z"
    },
    "papermill": {
     "duration": 0.114848,
     "end_time": "2023-10-25T14:11:09.255914",
     "exception": false,
     "start_time": "2023-10-25T14:11:09.141066",
     "status": "completed"
    },
    "tags": []
   },
   "outputs": [
    {
     "data": {
      "text/html": [
       "<div>\n",
       "<style scoped>\n",
       "    .dataframe tbody tr th:only-of-type {\n",
       "        vertical-align: middle;\n",
       "    }\n",
       "\n",
       "    .dataframe tbody tr th {\n",
       "        vertical-align: top;\n",
       "    }\n",
       "\n",
       "    .dataframe thead th {\n",
       "        text-align: right;\n",
       "    }\n",
       "</style>\n",
       "<table border=\"1\" class=\"dataframe\">\n",
       "  <thead>\n",
       "    <tr style=\"text-align: right;\">\n",
       "      <th></th>\n",
       "      <th>nationality</th>\n",
       "      <th>type</th>\n",
       "      <th>teams</th>\n",
       "      <th>year</th>\n",
       "      <th>sponsored_by</th>\n",
       "      <th>sold_price</th>\n",
       "    </tr>\n",
       "    <tr>\n",
       "      <th>player_name</th>\n",
       "      <th></th>\n",
       "      <th></th>\n",
       "      <th></th>\n",
       "      <th></th>\n",
       "      <th></th>\n",
       "      <th></th>\n",
       "    </tr>\n",
       "  </thead>\n",
       "  <tbody>\n",
       "    <tr>\n",
       "      <th>Robin Uthappa</th>\n",
       "      <td>Indian</td>\n",
       "      <td>Batsman</td>\n",
       "      <td>Chennai Super Kings</td>\n",
       "      <td>2022</td>\n",
       "      <td>TATA</td>\n",
       "      <td>20000000</td>\n",
       "    </tr>\n",
       "    <tr>\n",
       "      <th>Dwayne Bravo</th>\n",
       "      <td>Overseas</td>\n",
       "      <td>All-Rounder</td>\n",
       "      <td>Chennai Super Kings</td>\n",
       "      <td>2022</td>\n",
       "      <td>TATA</td>\n",
       "      <td>44000000</td>\n",
       "    </tr>\n",
       "    <tr>\n",
       "      <th>Ambati Rayudu</th>\n",
       "      <td>Indian</td>\n",
       "      <td>Wicket Keeper</td>\n",
       "      <td>Chennai Super Kings</td>\n",
       "      <td>2022</td>\n",
       "      <td>TATA</td>\n",
       "      <td>67500000</td>\n",
       "    </tr>\n",
       "    <tr>\n",
       "      <th>Deepak Chahar</th>\n",
       "      <td>Indian</td>\n",
       "      <td>Bowler</td>\n",
       "      <td>Chennai Super Kings</td>\n",
       "      <td>2022</td>\n",
       "      <td>TATA</td>\n",
       "      <td>140000000</td>\n",
       "    </tr>\n",
       "    <tr>\n",
       "      <th>C.Hari Nishaanth</th>\n",
       "      <td>Indian</td>\n",
       "      <td>Batsman</td>\n",
       "      <td>Chennai Super Kings</td>\n",
       "      <td>2022</td>\n",
       "      <td>TATA</td>\n",
       "      <td>2000000</td>\n",
       "    </tr>\n",
       "    <tr>\n",
       "      <th>...</th>\n",
       "      <td>...</td>\n",
       "      <td>...</td>\n",
       "      <td>...</td>\n",
       "      <td>...</td>\n",
       "      <td>...</td>\n",
       "      <td>...</td>\n",
       "    </tr>\n",
       "    <tr>\n",
       "      <th>Darren Sammy</th>\n",
       "      <td>NaN</td>\n",
       "      <td>All-Rounder</td>\n",
       "      <td>Sunrisers Hyderabad</td>\n",
       "      <td>2013</td>\n",
       "      <td>PEPSI</td>\n",
       "      <td>31875000</td>\n",
       "    </tr>\n",
       "    <tr>\n",
       "      <th>Sudeep Tyagi</th>\n",
       "      <td>NaN</td>\n",
       "      <td>Bowler</td>\n",
       "      <td>Sunrisers Hyderabad</td>\n",
       "      <td>2013</td>\n",
       "      <td>PEPSI</td>\n",
       "      <td>7500000</td>\n",
       "    </tr>\n",
       "    <tr>\n",
       "      <th>Clinton McKay</th>\n",
       "      <td>NaN</td>\n",
       "      <td>Bowler</td>\n",
       "      <td>Sunrisers Hyderabad</td>\n",
       "      <td>2013</td>\n",
       "      <td>PEPSI</td>\n",
       "      <td>7500000</td>\n",
       "    </tr>\n",
       "    <tr>\n",
       "      <th>Nathan McCullum</th>\n",
       "      <td>NaN</td>\n",
       "      <td>Bowler</td>\n",
       "      <td>Sunrisers Hyderabad</td>\n",
       "      <td>2013</td>\n",
       "      <td>PEPSI</td>\n",
       "      <td>7500000</td>\n",
       "    </tr>\n",
       "    <tr>\n",
       "      <th>Quinton De Kock</th>\n",
       "      <td>NaN</td>\n",
       "      <td>Wicket Keeper</td>\n",
       "      <td>Sunrisers Hyderabad</td>\n",
       "      <td>2013</td>\n",
       "      <td>PEPSI</td>\n",
       "      <td>1500000</td>\n",
       "    </tr>\n",
       "  </tbody>\n",
       "</table>\n",
       "<p>968 rows × 6 columns</p>\n",
       "</div>"
      ],
      "text/plain": [
       "                 nationality           type                teams  year  \\\n",
       "player_name                                                              \n",
       "Robin Uthappa         Indian        Batsman  Chennai Super Kings  2022   \n",
       "Dwayne Bravo        Overseas    All-Rounder  Chennai Super Kings  2022   \n",
       "Ambati Rayudu         Indian  Wicket Keeper  Chennai Super Kings  2022   \n",
       "Deepak Chahar         Indian         Bowler  Chennai Super Kings  2022   \n",
       "C.Hari Nishaanth      Indian        Batsman  Chennai Super Kings  2022   \n",
       "...                      ...            ...                  ...   ...   \n",
       "Darren Sammy             NaN    All-Rounder  Sunrisers Hyderabad  2013   \n",
       "Sudeep Tyagi             NaN         Bowler  Sunrisers Hyderabad  2013   \n",
       "Clinton McKay            NaN         Bowler  Sunrisers Hyderabad  2013   \n",
       "Nathan McCullum          NaN         Bowler  Sunrisers Hyderabad  2013   \n",
       "Quinton De Kock          NaN  Wicket Keeper  Sunrisers Hyderabad  2013   \n",
       "\n",
       "                 sponsored_by  sold_price  \n",
       "player_name                                \n",
       "Robin Uthappa            TATA    20000000  \n",
       "Dwayne Bravo             TATA    44000000  \n",
       "Ambati Rayudu            TATA    67500000  \n",
       "Deepak Chahar            TATA   140000000  \n",
       "C.Hari Nishaanth         TATA     2000000  \n",
       "...                       ...         ...  \n",
       "Darren Sammy            PEPSI    31875000  \n",
       "Sudeep Tyagi            PEPSI     7500000  \n",
       "Clinton McKay           PEPSI     7500000  \n",
       "Nathan McCullum         PEPSI     7500000  \n",
       "Quinton De Kock         PEPSI     1500000  \n",
       "\n",
       "[968 rows x 6 columns]"
      ]
     },
     "execution_count": 168,
     "metadata": {},
     "output_type": "execute_result"
    }
   ],
   "source": [
    "df.set_index('player_name')"
   ]
  },
  {
   "cell_type": "code",
   "execution_count": 169,
   "id": "b748b708",
   "metadata": {
    "execution": {
     "iopub.execute_input": "2023-10-25T14:11:09.444962Z",
     "iopub.status.busy": "2023-10-25T14:11:09.444291Z",
     "iopub.status.idle": "2023-10-25T14:11:09.450084Z",
     "shell.execute_reply": "2023-10-25T14:11:09.449255Z"
    },
    "papermill": {
     "duration": 0.100301,
     "end_time": "2023-10-25T14:11:09.452034",
     "exception": false,
     "start_time": "2023-10-25T14:11:09.351733",
     "status": "completed"
    },
    "tags": []
   },
   "outputs": [
    {
     "data": {
      "text/plain": [
       "RangeIndex(start=0, stop=968, step=1)"
      ]
     },
     "execution_count": 169,
     "metadata": {},
     "output_type": "execute_result"
    }
   ],
   "source": [
    "df.index"
   ]
  },
  {
   "cell_type": "code",
   "execution_count": 170,
   "id": "3cb727b7",
   "metadata": {
    "execution": {
     "iopub.execute_input": "2023-10-25T14:11:09.634013Z",
     "iopub.status.busy": "2023-10-25T14:11:09.633363Z",
     "iopub.status.idle": "2023-10-25T14:11:09.649927Z",
     "shell.execute_reply": "2023-10-25T14:11:09.648662Z"
    },
    "papermill": {
     "duration": 0.110297,
     "end_time": "2023-10-25T14:11:09.652254",
     "exception": false,
     "start_time": "2023-10-25T14:11:09.541957",
     "status": "completed"
    },
    "tags": []
   },
   "outputs": [
    {
     "data": {
      "text/html": [
       "<div>\n",
       "<style scoped>\n",
       "    .dataframe tbody tr th:only-of-type {\n",
       "        vertical-align: middle;\n",
       "    }\n",
       "\n",
       "    .dataframe tbody tr th {\n",
       "        vertical-align: top;\n",
       "    }\n",
       "\n",
       "    .dataframe thead th {\n",
       "        text-align: right;\n",
       "    }\n",
       "</style>\n",
       "<table border=\"1\" class=\"dataframe\">\n",
       "  <thead>\n",
       "    <tr style=\"text-align: right;\">\n",
       "      <th></th>\n",
       "      <th>player_name</th>\n",
       "      <th>nationality</th>\n",
       "      <th>type</th>\n",
       "      <th>teams</th>\n",
       "      <th>year</th>\n",
       "      <th>sponsored_by</th>\n",
       "      <th>sold_price</th>\n",
       "    </tr>\n",
       "  </thead>\n",
       "  <tbody>\n",
       "    <tr>\n",
       "      <th>0</th>\n",
       "      <td>Robin Uthappa</td>\n",
       "      <td>Indian</td>\n",
       "      <td>Batsman</td>\n",
       "      <td>Chennai Super Kings</td>\n",
       "      <td>2022</td>\n",
       "      <td>TATA</td>\n",
       "      <td>20000000</td>\n",
       "    </tr>\n",
       "    <tr>\n",
       "      <th>1</th>\n",
       "      <td>Dwayne Bravo</td>\n",
       "      <td>Overseas</td>\n",
       "      <td>All-Rounder</td>\n",
       "      <td>Chennai Super Kings</td>\n",
       "      <td>2022</td>\n",
       "      <td>TATA</td>\n",
       "      <td>44000000</td>\n",
       "    </tr>\n",
       "    <tr>\n",
       "      <th>2</th>\n",
       "      <td>Ambati Rayudu</td>\n",
       "      <td>Indian</td>\n",
       "      <td>Wicket Keeper</td>\n",
       "      <td>Chennai Super Kings</td>\n",
       "      <td>2022</td>\n",
       "      <td>TATA</td>\n",
       "      <td>67500000</td>\n",
       "    </tr>\n",
       "    <tr>\n",
       "      <th>3</th>\n",
       "      <td>Deepak Chahar</td>\n",
       "      <td>Indian</td>\n",
       "      <td>Bowler</td>\n",
       "      <td>Chennai Super Kings</td>\n",
       "      <td>2022</td>\n",
       "      <td>TATA</td>\n",
       "      <td>140000000</td>\n",
       "    </tr>\n",
       "    <tr>\n",
       "      <th>4</th>\n",
       "      <td>C.Hari Nishaanth</td>\n",
       "      <td>Indian</td>\n",
       "      <td>Batsman</td>\n",
       "      <td>Chennai Super Kings</td>\n",
       "      <td>2022</td>\n",
       "      <td>TATA</td>\n",
       "      <td>2000000</td>\n",
       "    </tr>\n",
       "    <tr>\n",
       "      <th>...</th>\n",
       "      <td>...</td>\n",
       "      <td>...</td>\n",
       "      <td>...</td>\n",
       "      <td>...</td>\n",
       "      <td>...</td>\n",
       "      <td>...</td>\n",
       "      <td>...</td>\n",
       "    </tr>\n",
       "    <tr>\n",
       "      <th>963</th>\n",
       "      <td>Darren Sammy</td>\n",
       "      <td>NaN</td>\n",
       "      <td>All-Rounder</td>\n",
       "      <td>Sunrisers Hyderabad</td>\n",
       "      <td>2013</td>\n",
       "      <td>PEPSI</td>\n",
       "      <td>31875000</td>\n",
       "    </tr>\n",
       "    <tr>\n",
       "      <th>964</th>\n",
       "      <td>Sudeep Tyagi</td>\n",
       "      <td>NaN</td>\n",
       "      <td>Bowler</td>\n",
       "      <td>Sunrisers Hyderabad</td>\n",
       "      <td>2013</td>\n",
       "      <td>PEPSI</td>\n",
       "      <td>7500000</td>\n",
       "    </tr>\n",
       "    <tr>\n",
       "      <th>965</th>\n",
       "      <td>Clinton McKay</td>\n",
       "      <td>NaN</td>\n",
       "      <td>Bowler</td>\n",
       "      <td>Sunrisers Hyderabad</td>\n",
       "      <td>2013</td>\n",
       "      <td>PEPSI</td>\n",
       "      <td>7500000</td>\n",
       "    </tr>\n",
       "    <tr>\n",
       "      <th>966</th>\n",
       "      <td>Nathan McCullum</td>\n",
       "      <td>NaN</td>\n",
       "      <td>Bowler</td>\n",
       "      <td>Sunrisers Hyderabad</td>\n",
       "      <td>2013</td>\n",
       "      <td>PEPSI</td>\n",
       "      <td>7500000</td>\n",
       "    </tr>\n",
       "    <tr>\n",
       "      <th>967</th>\n",
       "      <td>Quinton De Kock</td>\n",
       "      <td>NaN</td>\n",
       "      <td>Wicket Keeper</td>\n",
       "      <td>Sunrisers Hyderabad</td>\n",
       "      <td>2013</td>\n",
       "      <td>PEPSI</td>\n",
       "      <td>1500000</td>\n",
       "    </tr>\n",
       "  </tbody>\n",
       "</table>\n",
       "<p>968 rows × 7 columns</p>\n",
       "</div>"
      ],
      "text/plain": [
       "          player_name nationality           type                teams  year  \\\n",
       "0       Robin Uthappa      Indian        Batsman  Chennai Super Kings  2022   \n",
       "1        Dwayne Bravo    Overseas    All-Rounder  Chennai Super Kings  2022   \n",
       "2       Ambati Rayudu      Indian  Wicket Keeper  Chennai Super Kings  2022   \n",
       "3       Deepak Chahar      Indian         Bowler  Chennai Super Kings  2022   \n",
       "4    C.Hari Nishaanth      Indian        Batsman  Chennai Super Kings  2022   \n",
       "..                ...         ...            ...                  ...   ...   \n",
       "963      Darren Sammy         NaN    All-Rounder  Sunrisers Hyderabad  2013   \n",
       "964      Sudeep Tyagi         NaN         Bowler  Sunrisers Hyderabad  2013   \n",
       "965     Clinton McKay         NaN         Bowler  Sunrisers Hyderabad  2013   \n",
       "966   Nathan McCullum         NaN         Bowler  Sunrisers Hyderabad  2013   \n",
       "967   Quinton De Kock         NaN  Wicket Keeper  Sunrisers Hyderabad  2013   \n",
       "\n",
       "    sponsored_by  sold_price  \n",
       "0           TATA    20000000  \n",
       "1           TATA    44000000  \n",
       "2           TATA    67500000  \n",
       "3           TATA   140000000  \n",
       "4           TATA     2000000  \n",
       "..           ...         ...  \n",
       "963        PEPSI    31875000  \n",
       "964        PEPSI     7500000  \n",
       "965        PEPSI     7500000  \n",
       "966        PEPSI     7500000  \n",
       "967        PEPSI     1500000  \n",
       "\n",
       "[968 rows x 7 columns]"
      ]
     },
     "execution_count": 170,
     "metadata": {},
     "output_type": "execute_result"
    }
   ],
   "source": [
    "df.reset_index(drop=True)"
   ]
  },
  {
   "cell_type": "markdown",
   "id": "e4a2250e",
   "metadata": {
    "papermill": {
     "duration": 0.090654,
     "end_time": "2023-10-25T14:11:09.835233",
     "exception": false,
     "start_time": "2023-10-25T14:11:09.744579",
     "status": "completed"
    },
    "tags": []
   },
   "source": [
    "#### 5. **Dropping Columns**:\n",
    "\n",
    "   - `df.drop(columns)`: Drops specified columns.\n",
    "   - `df.pop(column)`: Removes and returns a specific column."
   ]
  },
  {
   "cell_type": "code",
   "execution_count": 171,
   "id": "827fee55",
   "metadata": {
    "execution": {
     "iopub.execute_input": "2023-10-25T14:11:10.019894Z",
     "iopub.status.busy": "2023-10-25T14:11:10.019529Z",
     "iopub.status.idle": "2023-10-25T14:11:10.026513Z",
     "shell.execute_reply": "2023-10-25T14:11:10.025433Z"
    },
    "papermill": {
     "duration": 0.10246,
     "end_time": "2023-10-25T14:11:10.028893",
     "exception": false,
     "start_time": "2023-10-25T14:11:09.926433",
     "status": "completed"
    },
    "tags": []
   },
   "outputs": [
    {
     "data": {
      "text/plain": [
       "Index(['player_name', 'nationality', 'type', 'teams', 'year', 'sponsored_by',\n",
       "       'sold_price'],\n",
       "      dtype='object')"
      ]
     },
     "execution_count": 171,
     "metadata": {},
     "output_type": "execute_result"
    }
   ],
   "source": [
    "df.columns"
   ]
  },
  {
   "cell_type": "code",
   "execution_count": 172,
   "id": "7aa690ce",
   "metadata": {
    "execution": {
     "iopub.execute_input": "2023-10-25T14:11:10.214813Z",
     "iopub.status.busy": "2023-10-25T14:11:10.214440Z",
     "iopub.status.idle": "2023-10-25T14:11:10.231800Z",
     "shell.execute_reply": "2023-10-25T14:11:10.230648Z"
    },
    "papermill": {
     "duration": 0.112412,
     "end_time": "2023-10-25T14:11:10.234083",
     "exception": false,
     "start_time": "2023-10-25T14:11:10.121671",
     "status": "completed"
    },
    "tags": []
   },
   "outputs": [
    {
     "data": {
      "text/html": [
       "<div>\n",
       "<style scoped>\n",
       "    .dataframe tbody tr th:only-of-type {\n",
       "        vertical-align: middle;\n",
       "    }\n",
       "\n",
       "    .dataframe tbody tr th {\n",
       "        vertical-align: top;\n",
       "    }\n",
       "\n",
       "    .dataframe thead th {\n",
       "        text-align: right;\n",
       "    }\n",
       "</style>\n",
       "<table border=\"1\" class=\"dataframe\">\n",
       "  <thead>\n",
       "    <tr style=\"text-align: right;\">\n",
       "      <th></th>\n",
       "      <th>player_name</th>\n",
       "      <th>type</th>\n",
       "      <th>teams</th>\n",
       "      <th>year</th>\n",
       "      <th>sponsored_by</th>\n",
       "      <th>sold_price</th>\n",
       "    </tr>\n",
       "  </thead>\n",
       "  <tbody>\n",
       "    <tr>\n",
       "      <th>0</th>\n",
       "      <td>Robin Uthappa</td>\n",
       "      <td>Batsman</td>\n",
       "      <td>Chennai Super Kings</td>\n",
       "      <td>2022</td>\n",
       "      <td>TATA</td>\n",
       "      <td>20000000</td>\n",
       "    </tr>\n",
       "    <tr>\n",
       "      <th>1</th>\n",
       "      <td>Dwayne Bravo</td>\n",
       "      <td>All-Rounder</td>\n",
       "      <td>Chennai Super Kings</td>\n",
       "      <td>2022</td>\n",
       "      <td>TATA</td>\n",
       "      <td>44000000</td>\n",
       "    </tr>\n",
       "    <tr>\n",
       "      <th>2</th>\n",
       "      <td>Ambati Rayudu</td>\n",
       "      <td>Wicket Keeper</td>\n",
       "      <td>Chennai Super Kings</td>\n",
       "      <td>2022</td>\n",
       "      <td>TATA</td>\n",
       "      <td>67500000</td>\n",
       "    </tr>\n",
       "    <tr>\n",
       "      <th>3</th>\n",
       "      <td>Deepak Chahar</td>\n",
       "      <td>Bowler</td>\n",
       "      <td>Chennai Super Kings</td>\n",
       "      <td>2022</td>\n",
       "      <td>TATA</td>\n",
       "      <td>140000000</td>\n",
       "    </tr>\n",
       "    <tr>\n",
       "      <th>4</th>\n",
       "      <td>C.Hari Nishaanth</td>\n",
       "      <td>Batsman</td>\n",
       "      <td>Chennai Super Kings</td>\n",
       "      <td>2022</td>\n",
       "      <td>TATA</td>\n",
       "      <td>2000000</td>\n",
       "    </tr>\n",
       "    <tr>\n",
       "      <th>...</th>\n",
       "      <td>...</td>\n",
       "      <td>...</td>\n",
       "      <td>...</td>\n",
       "      <td>...</td>\n",
       "      <td>...</td>\n",
       "      <td>...</td>\n",
       "    </tr>\n",
       "    <tr>\n",
       "      <th>963</th>\n",
       "      <td>Darren Sammy</td>\n",
       "      <td>All-Rounder</td>\n",
       "      <td>Sunrisers Hyderabad</td>\n",
       "      <td>2013</td>\n",
       "      <td>PEPSI</td>\n",
       "      <td>31875000</td>\n",
       "    </tr>\n",
       "    <tr>\n",
       "      <th>964</th>\n",
       "      <td>Sudeep Tyagi</td>\n",
       "      <td>Bowler</td>\n",
       "      <td>Sunrisers Hyderabad</td>\n",
       "      <td>2013</td>\n",
       "      <td>PEPSI</td>\n",
       "      <td>7500000</td>\n",
       "    </tr>\n",
       "    <tr>\n",
       "      <th>965</th>\n",
       "      <td>Clinton McKay</td>\n",
       "      <td>Bowler</td>\n",
       "      <td>Sunrisers Hyderabad</td>\n",
       "      <td>2013</td>\n",
       "      <td>PEPSI</td>\n",
       "      <td>7500000</td>\n",
       "    </tr>\n",
       "    <tr>\n",
       "      <th>966</th>\n",
       "      <td>Nathan McCullum</td>\n",
       "      <td>Bowler</td>\n",
       "      <td>Sunrisers Hyderabad</td>\n",
       "      <td>2013</td>\n",
       "      <td>PEPSI</td>\n",
       "      <td>7500000</td>\n",
       "    </tr>\n",
       "    <tr>\n",
       "      <th>967</th>\n",
       "      <td>Quinton De Kock</td>\n",
       "      <td>Wicket Keeper</td>\n",
       "      <td>Sunrisers Hyderabad</td>\n",
       "      <td>2013</td>\n",
       "      <td>PEPSI</td>\n",
       "      <td>1500000</td>\n",
       "    </tr>\n",
       "  </tbody>\n",
       "</table>\n",
       "<p>968 rows × 6 columns</p>\n",
       "</div>"
      ],
      "text/plain": [
       "          player_name           type                teams  year sponsored_by  \\\n",
       "0       Robin Uthappa        Batsman  Chennai Super Kings  2022         TATA   \n",
       "1        Dwayne Bravo    All-Rounder  Chennai Super Kings  2022         TATA   \n",
       "2       Ambati Rayudu  Wicket Keeper  Chennai Super Kings  2022         TATA   \n",
       "3       Deepak Chahar         Bowler  Chennai Super Kings  2022         TATA   \n",
       "4    C.Hari Nishaanth        Batsman  Chennai Super Kings  2022         TATA   \n",
       "..                ...            ...                  ...   ...          ...   \n",
       "963      Darren Sammy    All-Rounder  Sunrisers Hyderabad  2013        PEPSI   \n",
       "964      Sudeep Tyagi         Bowler  Sunrisers Hyderabad  2013        PEPSI   \n",
       "965     Clinton McKay         Bowler  Sunrisers Hyderabad  2013        PEPSI   \n",
       "966   Nathan McCullum         Bowler  Sunrisers Hyderabad  2013        PEPSI   \n",
       "967   Quinton De Kock  Wicket Keeper  Sunrisers Hyderabad  2013        PEPSI   \n",
       "\n",
       "     sold_price  \n",
       "0      20000000  \n",
       "1      44000000  \n",
       "2      67500000  \n",
       "3     140000000  \n",
       "4       2000000  \n",
       "..          ...  \n",
       "963    31875000  \n",
       "964     7500000  \n",
       "965     7500000  \n",
       "966     7500000  \n",
       "967     1500000  \n",
       "\n",
       "[968 rows x 6 columns]"
      ]
     },
     "execution_count": 172,
     "metadata": {},
     "output_type": "execute_result"
    }
   ],
   "source": [
    "df.drop(columns='nationality')"
   ]
  },
  {
   "cell_type": "code",
   "execution_count": 173,
   "id": "9cd98399",
   "metadata": {
    "execution": {
     "iopub.execute_input": "2023-10-25T14:11:10.418983Z",
     "iopub.status.busy": "2023-10-25T14:11:10.418629Z",
     "iopub.status.idle": "2023-10-25T14:11:10.432121Z",
     "shell.execute_reply": "2023-10-25T14:11:10.431322Z"
    },
    "papermill": {
     "duration": 0.108232,
     "end_time": "2023-10-25T14:11:10.433998",
     "exception": false,
     "start_time": "2023-10-25T14:11:10.325766",
     "status": "completed"
    },
    "tags": []
   },
   "outputs": [
    {
     "data": {
      "text/html": [
       "<div>\n",
       "<style scoped>\n",
       "    .dataframe tbody tr th:only-of-type {\n",
       "        vertical-align: middle;\n",
       "    }\n",
       "\n",
       "    .dataframe tbody tr th {\n",
       "        vertical-align: top;\n",
       "    }\n",
       "\n",
       "    .dataframe thead th {\n",
       "        text-align: right;\n",
       "    }\n",
       "</style>\n",
       "<table border=\"1\" class=\"dataframe\">\n",
       "  <thead>\n",
       "    <tr style=\"text-align: right;\">\n",
       "      <th></th>\n",
       "      <th>player_name</th>\n",
       "      <th>type</th>\n",
       "      <th>teams</th>\n",
       "      <th>sponsored_by</th>\n",
       "      <th>sold_price</th>\n",
       "    </tr>\n",
       "  </thead>\n",
       "  <tbody>\n",
       "    <tr>\n",
       "      <th>0</th>\n",
       "      <td>Robin Uthappa</td>\n",
       "      <td>Batsman</td>\n",
       "      <td>Chennai Super Kings</td>\n",
       "      <td>TATA</td>\n",
       "      <td>20000000</td>\n",
       "    </tr>\n",
       "    <tr>\n",
       "      <th>1</th>\n",
       "      <td>Dwayne Bravo</td>\n",
       "      <td>All-Rounder</td>\n",
       "      <td>Chennai Super Kings</td>\n",
       "      <td>TATA</td>\n",
       "      <td>44000000</td>\n",
       "    </tr>\n",
       "    <tr>\n",
       "      <th>2</th>\n",
       "      <td>Ambati Rayudu</td>\n",
       "      <td>Wicket Keeper</td>\n",
       "      <td>Chennai Super Kings</td>\n",
       "      <td>TATA</td>\n",
       "      <td>67500000</td>\n",
       "    </tr>\n",
       "    <tr>\n",
       "      <th>3</th>\n",
       "      <td>Deepak Chahar</td>\n",
       "      <td>Bowler</td>\n",
       "      <td>Chennai Super Kings</td>\n",
       "      <td>TATA</td>\n",
       "      <td>140000000</td>\n",
       "    </tr>\n",
       "    <tr>\n",
       "      <th>4</th>\n",
       "      <td>C.Hari Nishaanth</td>\n",
       "      <td>Batsman</td>\n",
       "      <td>Chennai Super Kings</td>\n",
       "      <td>TATA</td>\n",
       "      <td>2000000</td>\n",
       "    </tr>\n",
       "    <tr>\n",
       "      <th>...</th>\n",
       "      <td>...</td>\n",
       "      <td>...</td>\n",
       "      <td>...</td>\n",
       "      <td>...</td>\n",
       "      <td>...</td>\n",
       "    </tr>\n",
       "    <tr>\n",
       "      <th>963</th>\n",
       "      <td>Darren Sammy</td>\n",
       "      <td>All-Rounder</td>\n",
       "      <td>Sunrisers Hyderabad</td>\n",
       "      <td>PEPSI</td>\n",
       "      <td>31875000</td>\n",
       "    </tr>\n",
       "    <tr>\n",
       "      <th>964</th>\n",
       "      <td>Sudeep Tyagi</td>\n",
       "      <td>Bowler</td>\n",
       "      <td>Sunrisers Hyderabad</td>\n",
       "      <td>PEPSI</td>\n",
       "      <td>7500000</td>\n",
       "    </tr>\n",
       "    <tr>\n",
       "      <th>965</th>\n",
       "      <td>Clinton McKay</td>\n",
       "      <td>Bowler</td>\n",
       "      <td>Sunrisers Hyderabad</td>\n",
       "      <td>PEPSI</td>\n",
       "      <td>7500000</td>\n",
       "    </tr>\n",
       "    <tr>\n",
       "      <th>966</th>\n",
       "      <td>Nathan McCullum</td>\n",
       "      <td>Bowler</td>\n",
       "      <td>Sunrisers Hyderabad</td>\n",
       "      <td>PEPSI</td>\n",
       "      <td>7500000</td>\n",
       "    </tr>\n",
       "    <tr>\n",
       "      <th>967</th>\n",
       "      <td>Quinton De Kock</td>\n",
       "      <td>Wicket Keeper</td>\n",
       "      <td>Sunrisers Hyderabad</td>\n",
       "      <td>PEPSI</td>\n",
       "      <td>1500000</td>\n",
       "    </tr>\n",
       "  </tbody>\n",
       "</table>\n",
       "<p>968 rows × 5 columns</p>\n",
       "</div>"
      ],
      "text/plain": [
       "          player_name           type                teams sponsored_by  \\\n",
       "0       Robin Uthappa        Batsman  Chennai Super Kings         TATA   \n",
       "1        Dwayne Bravo    All-Rounder  Chennai Super Kings         TATA   \n",
       "2       Ambati Rayudu  Wicket Keeper  Chennai Super Kings         TATA   \n",
       "3       Deepak Chahar         Bowler  Chennai Super Kings         TATA   \n",
       "4    C.Hari Nishaanth        Batsman  Chennai Super Kings         TATA   \n",
       "..                ...            ...                  ...          ...   \n",
       "963      Darren Sammy    All-Rounder  Sunrisers Hyderabad        PEPSI   \n",
       "964      Sudeep Tyagi         Bowler  Sunrisers Hyderabad        PEPSI   \n",
       "965     Clinton McKay         Bowler  Sunrisers Hyderabad        PEPSI   \n",
       "966   Nathan McCullum         Bowler  Sunrisers Hyderabad        PEPSI   \n",
       "967   Quinton De Kock  Wicket Keeper  Sunrisers Hyderabad        PEPSI   \n",
       "\n",
       "     sold_price  \n",
       "0      20000000  \n",
       "1      44000000  \n",
       "2      67500000  \n",
       "3     140000000  \n",
       "4       2000000  \n",
       "..          ...  \n",
       "963    31875000  \n",
       "964     7500000  \n",
       "965     7500000  \n",
       "966     7500000  \n",
       "967     1500000  \n",
       "\n",
       "[968 rows x 5 columns]"
      ]
     },
     "execution_count": 173,
     "metadata": {},
     "output_type": "execute_result"
    }
   ],
   "source": [
    "df.drop(columns=['nationality','year'])"
   ]
  },
  {
   "cell_type": "code",
   "execution_count": 174,
   "id": "27e1b87d",
   "metadata": {
    "execution": {
     "iopub.execute_input": "2023-10-25T14:11:10.618814Z",
     "iopub.status.busy": "2023-10-25T14:11:10.617807Z",
     "iopub.status.idle": "2023-10-25T14:11:10.626924Z",
     "shell.execute_reply": "2023-10-25T14:11:10.625885Z"
    },
    "papermill": {
     "duration": 0.103673,
     "end_time": "2023-10-25T14:11:10.629165",
     "exception": false,
     "start_time": "2023-10-25T14:11:10.525492",
     "status": "completed"
    },
    "tags": []
   },
   "outputs": [
    {
     "data": {
      "text/plain": [
       "0       TATA\n",
       "1       TATA\n",
       "2       TATA\n",
       "3       TATA\n",
       "4       TATA\n",
       "       ...  \n",
       "963    PEPSI\n",
       "964    PEPSI\n",
       "965    PEPSI\n",
       "966    PEPSI\n",
       "967    PEPSI\n",
       "Name: sponsored_by, Length: 968, dtype: object"
      ]
     },
     "execution_count": 174,
     "metadata": {},
     "output_type": "execute_result"
    }
   ],
   "source": [
    "df.pop('sponsored_by')"
   ]
  },
  {
   "cell_type": "code",
   "execution_count": 175,
   "id": "bcae78b3",
   "metadata": {
    "execution": {
     "iopub.execute_input": "2023-10-25T14:11:10.815637Z",
     "iopub.status.busy": "2023-10-25T14:11:10.815223Z",
     "iopub.status.idle": "2023-10-25T14:11:10.829887Z",
     "shell.execute_reply": "2023-10-25T14:11:10.828581Z"
    },
    "papermill": {
     "duration": 0.109649,
     "end_time": "2023-10-25T14:11:10.832106",
     "exception": false,
     "start_time": "2023-10-25T14:11:10.722457",
     "status": "completed"
    },
    "tags": []
   },
   "outputs": [
    {
     "data": {
      "text/html": [
       "<div>\n",
       "<style scoped>\n",
       "    .dataframe tbody tr th:only-of-type {\n",
       "        vertical-align: middle;\n",
       "    }\n",
       "\n",
       "    .dataframe tbody tr th {\n",
       "        vertical-align: top;\n",
       "    }\n",
       "\n",
       "    .dataframe thead th {\n",
       "        text-align: right;\n",
       "    }\n",
       "</style>\n",
       "<table border=\"1\" class=\"dataframe\">\n",
       "  <thead>\n",
       "    <tr style=\"text-align: right;\">\n",
       "      <th></th>\n",
       "      <th>player_name</th>\n",
       "      <th>nationality</th>\n",
       "      <th>type</th>\n",
       "      <th>teams</th>\n",
       "      <th>year</th>\n",
       "      <th>sold_price</th>\n",
       "    </tr>\n",
       "  </thead>\n",
       "  <tbody>\n",
       "    <tr>\n",
       "      <th>0</th>\n",
       "      <td>Robin Uthappa</td>\n",
       "      <td>Indian</td>\n",
       "      <td>Batsman</td>\n",
       "      <td>Chennai Super Kings</td>\n",
       "      <td>2022</td>\n",
       "      <td>20000000</td>\n",
       "    </tr>\n",
       "    <tr>\n",
       "      <th>1</th>\n",
       "      <td>Dwayne Bravo</td>\n",
       "      <td>Overseas</td>\n",
       "      <td>All-Rounder</td>\n",
       "      <td>Chennai Super Kings</td>\n",
       "      <td>2022</td>\n",
       "      <td>44000000</td>\n",
       "    </tr>\n",
       "    <tr>\n",
       "      <th>2</th>\n",
       "      <td>Ambati Rayudu</td>\n",
       "      <td>Indian</td>\n",
       "      <td>Wicket Keeper</td>\n",
       "      <td>Chennai Super Kings</td>\n",
       "      <td>2022</td>\n",
       "      <td>67500000</td>\n",
       "    </tr>\n",
       "    <tr>\n",
       "      <th>3</th>\n",
       "      <td>Deepak Chahar</td>\n",
       "      <td>Indian</td>\n",
       "      <td>Bowler</td>\n",
       "      <td>Chennai Super Kings</td>\n",
       "      <td>2022</td>\n",
       "      <td>140000000</td>\n",
       "    </tr>\n",
       "    <tr>\n",
       "      <th>4</th>\n",
       "      <td>C.Hari Nishaanth</td>\n",
       "      <td>Indian</td>\n",
       "      <td>Batsman</td>\n",
       "      <td>Chennai Super Kings</td>\n",
       "      <td>2022</td>\n",
       "      <td>2000000</td>\n",
       "    </tr>\n",
       "    <tr>\n",
       "      <th>...</th>\n",
       "      <td>...</td>\n",
       "      <td>...</td>\n",
       "      <td>...</td>\n",
       "      <td>...</td>\n",
       "      <td>...</td>\n",
       "      <td>...</td>\n",
       "    </tr>\n",
       "    <tr>\n",
       "      <th>963</th>\n",
       "      <td>Darren Sammy</td>\n",
       "      <td>NaN</td>\n",
       "      <td>All-Rounder</td>\n",
       "      <td>Sunrisers Hyderabad</td>\n",
       "      <td>2013</td>\n",
       "      <td>31875000</td>\n",
       "    </tr>\n",
       "    <tr>\n",
       "      <th>964</th>\n",
       "      <td>Sudeep Tyagi</td>\n",
       "      <td>NaN</td>\n",
       "      <td>Bowler</td>\n",
       "      <td>Sunrisers Hyderabad</td>\n",
       "      <td>2013</td>\n",
       "      <td>7500000</td>\n",
       "    </tr>\n",
       "    <tr>\n",
       "      <th>965</th>\n",
       "      <td>Clinton McKay</td>\n",
       "      <td>NaN</td>\n",
       "      <td>Bowler</td>\n",
       "      <td>Sunrisers Hyderabad</td>\n",
       "      <td>2013</td>\n",
       "      <td>7500000</td>\n",
       "    </tr>\n",
       "    <tr>\n",
       "      <th>966</th>\n",
       "      <td>Nathan McCullum</td>\n",
       "      <td>NaN</td>\n",
       "      <td>Bowler</td>\n",
       "      <td>Sunrisers Hyderabad</td>\n",
       "      <td>2013</td>\n",
       "      <td>7500000</td>\n",
       "    </tr>\n",
       "    <tr>\n",
       "      <th>967</th>\n",
       "      <td>Quinton De Kock</td>\n",
       "      <td>NaN</td>\n",
       "      <td>Wicket Keeper</td>\n",
       "      <td>Sunrisers Hyderabad</td>\n",
       "      <td>2013</td>\n",
       "      <td>1500000</td>\n",
       "    </tr>\n",
       "  </tbody>\n",
       "</table>\n",
       "<p>968 rows × 6 columns</p>\n",
       "</div>"
      ],
      "text/plain": [
       "          player_name nationality           type                teams  year  \\\n",
       "0       Robin Uthappa      Indian        Batsman  Chennai Super Kings  2022   \n",
       "1        Dwayne Bravo    Overseas    All-Rounder  Chennai Super Kings  2022   \n",
       "2       Ambati Rayudu      Indian  Wicket Keeper  Chennai Super Kings  2022   \n",
       "3       Deepak Chahar      Indian         Bowler  Chennai Super Kings  2022   \n",
       "4    C.Hari Nishaanth      Indian        Batsman  Chennai Super Kings  2022   \n",
       "..                ...         ...            ...                  ...   ...   \n",
       "963      Darren Sammy         NaN    All-Rounder  Sunrisers Hyderabad  2013   \n",
       "964      Sudeep Tyagi         NaN         Bowler  Sunrisers Hyderabad  2013   \n",
       "965     Clinton McKay         NaN         Bowler  Sunrisers Hyderabad  2013   \n",
       "966   Nathan McCullum         NaN         Bowler  Sunrisers Hyderabad  2013   \n",
       "967   Quinton De Kock         NaN  Wicket Keeper  Sunrisers Hyderabad  2013   \n",
       "\n",
       "     sold_price  \n",
       "0      20000000  \n",
       "1      44000000  \n",
       "2      67500000  \n",
       "3     140000000  \n",
       "4       2000000  \n",
       "..          ...  \n",
       "963    31875000  \n",
       "964     7500000  \n",
       "965     7500000  \n",
       "966     7500000  \n",
       "967     1500000  \n",
       "\n",
       "[968 rows x 6 columns]"
      ]
     },
     "execution_count": 175,
     "metadata": {},
     "output_type": "execute_result"
    }
   ],
   "source": [
    "df"
   ]
  },
  {
   "cell_type": "markdown",
   "id": "4669fad2",
   "metadata": {
    "papermill": {
     "duration": 0.090715,
     "end_time": "2023-10-25T14:11:11.016621",
     "exception": false,
     "start_time": "2023-10-25T14:11:10.925906",
     "status": "completed"
    },
    "tags": []
   },
   "source": [
    "#### 6. **String Manipulation**:\n",
    "\n",
    "   - `str.lower()`, `str.upper()`, `str.strip()`: Performs string operations on text columns.\n",
    "   - `str.contains()`, `str.replace()`: Searches for and replaces text in columns."
   ]
  },
  {
   "cell_type": "code",
   "execution_count": 176,
   "id": "5a4deec0",
   "metadata": {
    "execution": {
     "iopub.execute_input": "2023-10-25T14:11:11.201252Z",
     "iopub.status.busy": "2023-10-25T14:11:11.200866Z",
     "iopub.status.idle": "2023-10-25T14:11:11.214940Z",
     "shell.execute_reply": "2023-10-25T14:11:11.213878Z"
    },
    "papermill": {
     "duration": 0.109455,
     "end_time": "2023-10-25T14:11:11.217261",
     "exception": false,
     "start_time": "2023-10-25T14:11:11.107806",
     "status": "completed"
    },
    "tags": []
   },
   "outputs": [
    {
     "data": {
      "text/html": [
       "<div>\n",
       "<style scoped>\n",
       "    .dataframe tbody tr th:only-of-type {\n",
       "        vertical-align: middle;\n",
       "    }\n",
       "\n",
       "    .dataframe tbody tr th {\n",
       "        vertical-align: top;\n",
       "    }\n",
       "\n",
       "    .dataframe thead th {\n",
       "        text-align: right;\n",
       "    }\n",
       "</style>\n",
       "<table border=\"1\" class=\"dataframe\">\n",
       "  <thead>\n",
       "    <tr style=\"text-align: right;\">\n",
       "      <th></th>\n",
       "      <th>player_name</th>\n",
       "      <th>nationality</th>\n",
       "      <th>type</th>\n",
       "      <th>teams</th>\n",
       "      <th>year</th>\n",
       "      <th>sold_price</th>\n",
       "    </tr>\n",
       "  </thead>\n",
       "  <tbody>\n",
       "    <tr>\n",
       "      <th>0</th>\n",
       "      <td>Robin Uthappa</td>\n",
       "      <td>Indian</td>\n",
       "      <td>Batsman</td>\n",
       "      <td>Chennai Super Kings</td>\n",
       "      <td>2022</td>\n",
       "      <td>20000000</td>\n",
       "    </tr>\n",
       "    <tr>\n",
       "      <th>1</th>\n",
       "      <td>Dwayne Bravo</td>\n",
       "      <td>Overseas</td>\n",
       "      <td>All-Rounder</td>\n",
       "      <td>Chennai Super Kings</td>\n",
       "      <td>2022</td>\n",
       "      <td>44000000</td>\n",
       "    </tr>\n",
       "    <tr>\n",
       "      <th>2</th>\n",
       "      <td>Ambati Rayudu</td>\n",
       "      <td>Indian</td>\n",
       "      <td>Wicket Keeper</td>\n",
       "      <td>Chennai Super Kings</td>\n",
       "      <td>2022</td>\n",
       "      <td>67500000</td>\n",
       "    </tr>\n",
       "    <tr>\n",
       "      <th>3</th>\n",
       "      <td>Deepak Chahar</td>\n",
       "      <td>Indian</td>\n",
       "      <td>Bowler</td>\n",
       "      <td>Chennai Super Kings</td>\n",
       "      <td>2022</td>\n",
       "      <td>140000000</td>\n",
       "    </tr>\n",
       "    <tr>\n",
       "      <th>4</th>\n",
       "      <td>C.Hari Nishaanth</td>\n",
       "      <td>Indian</td>\n",
       "      <td>Batsman</td>\n",
       "      <td>Chennai Super Kings</td>\n",
       "      <td>2022</td>\n",
       "      <td>2000000</td>\n",
       "    </tr>\n",
       "    <tr>\n",
       "      <th>...</th>\n",
       "      <td>...</td>\n",
       "      <td>...</td>\n",
       "      <td>...</td>\n",
       "      <td>...</td>\n",
       "      <td>...</td>\n",
       "      <td>...</td>\n",
       "    </tr>\n",
       "    <tr>\n",
       "      <th>963</th>\n",
       "      <td>Darren Sammy</td>\n",
       "      <td>NaN</td>\n",
       "      <td>All-Rounder</td>\n",
       "      <td>Sunrisers Hyderabad</td>\n",
       "      <td>2013</td>\n",
       "      <td>31875000</td>\n",
       "    </tr>\n",
       "    <tr>\n",
       "      <th>964</th>\n",
       "      <td>Sudeep Tyagi</td>\n",
       "      <td>NaN</td>\n",
       "      <td>Bowler</td>\n",
       "      <td>Sunrisers Hyderabad</td>\n",
       "      <td>2013</td>\n",
       "      <td>7500000</td>\n",
       "    </tr>\n",
       "    <tr>\n",
       "      <th>965</th>\n",
       "      <td>Clinton McKay</td>\n",
       "      <td>NaN</td>\n",
       "      <td>Bowler</td>\n",
       "      <td>Sunrisers Hyderabad</td>\n",
       "      <td>2013</td>\n",
       "      <td>7500000</td>\n",
       "    </tr>\n",
       "    <tr>\n",
       "      <th>966</th>\n",
       "      <td>Nathan McCullum</td>\n",
       "      <td>NaN</td>\n",
       "      <td>Bowler</td>\n",
       "      <td>Sunrisers Hyderabad</td>\n",
       "      <td>2013</td>\n",
       "      <td>7500000</td>\n",
       "    </tr>\n",
       "    <tr>\n",
       "      <th>967</th>\n",
       "      <td>Quinton De Kock</td>\n",
       "      <td>NaN</td>\n",
       "      <td>Wicket Keeper</td>\n",
       "      <td>Sunrisers Hyderabad</td>\n",
       "      <td>2013</td>\n",
       "      <td>1500000</td>\n",
       "    </tr>\n",
       "  </tbody>\n",
       "</table>\n",
       "<p>968 rows × 6 columns</p>\n",
       "</div>"
      ],
      "text/plain": [
       "          player_name nationality           type                teams  year  \\\n",
       "0       Robin Uthappa      Indian        Batsman  Chennai Super Kings  2022   \n",
       "1        Dwayne Bravo    Overseas    All-Rounder  Chennai Super Kings  2022   \n",
       "2       Ambati Rayudu      Indian  Wicket Keeper  Chennai Super Kings  2022   \n",
       "3       Deepak Chahar      Indian         Bowler  Chennai Super Kings  2022   \n",
       "4    C.Hari Nishaanth      Indian        Batsman  Chennai Super Kings  2022   \n",
       "..                ...         ...            ...                  ...   ...   \n",
       "963      Darren Sammy         NaN    All-Rounder  Sunrisers Hyderabad  2013   \n",
       "964      Sudeep Tyagi         NaN         Bowler  Sunrisers Hyderabad  2013   \n",
       "965     Clinton McKay         NaN         Bowler  Sunrisers Hyderabad  2013   \n",
       "966   Nathan McCullum         NaN         Bowler  Sunrisers Hyderabad  2013   \n",
       "967   Quinton De Kock         NaN  Wicket Keeper  Sunrisers Hyderabad  2013   \n",
       "\n",
       "     sold_price  \n",
       "0      20000000  \n",
       "1      44000000  \n",
       "2      67500000  \n",
       "3     140000000  \n",
       "4       2000000  \n",
       "..          ...  \n",
       "963    31875000  \n",
       "964     7500000  \n",
       "965     7500000  \n",
       "966     7500000  \n",
       "967     1500000  \n",
       "\n",
       "[968 rows x 6 columns]"
      ]
     },
     "execution_count": 176,
     "metadata": {},
     "output_type": "execute_result"
    }
   ],
   "source": [
    "df"
   ]
  },
  {
   "cell_type": "code",
   "execution_count": 177,
   "id": "a864606f",
   "metadata": {
    "execution": {
     "iopub.execute_input": "2023-10-25T14:11:11.405184Z",
     "iopub.status.busy": "2023-10-25T14:11:11.404828Z",
     "iopub.status.idle": "2023-10-25T14:11:11.414255Z",
     "shell.execute_reply": "2023-10-25T14:11:11.413242Z"
    },
    "papermill": {
     "duration": 0.105057,
     "end_time": "2023-10-25T14:11:11.416190",
     "exception": false,
     "start_time": "2023-10-25T14:11:11.311133",
     "status": "completed"
    },
    "tags": []
   },
   "outputs": [
    {
     "data": {
      "text/plain": [
       "0         robin uthappa\n",
       "1          dwayne bravo\n",
       "2         ambati rayudu\n",
       "3         deepak chahar\n",
       "4      c.hari nishaanth\n",
       "             ...       \n",
       "963        darren sammy\n",
       "964        sudeep tyagi\n",
       "965       clinton mckay\n",
       "966     nathan mccullum\n",
       "967     quinton de kock\n",
       "Name: player_name, Length: 968, dtype: object"
      ]
     },
     "execution_count": 177,
     "metadata": {},
     "output_type": "execute_result"
    }
   ],
   "source": [
    "df['player_name'].str.lower()"
   ]
  },
  {
   "cell_type": "code",
   "execution_count": 178,
   "id": "781a920f",
   "metadata": {
    "execution": {
     "iopub.execute_input": "2023-10-25T14:11:11.602859Z",
     "iopub.status.busy": "2023-10-25T14:11:11.602342Z",
     "iopub.status.idle": "2023-10-25T14:11:11.611599Z",
     "shell.execute_reply": "2023-10-25T14:11:11.610545Z"
    },
    "papermill": {
     "duration": 0.105125,
     "end_time": "2023-10-25T14:11:11.613795",
     "exception": false,
     "start_time": "2023-10-25T14:11:11.508670",
     "status": "completed"
    },
    "tags": []
   },
   "outputs": [
    {
     "data": {
      "text/plain": [
       "0         ROBIN UTHAPPA\n",
       "1          DWAYNE BRAVO\n",
       "2         AMBATI RAYUDU\n",
       "3         DEEPAK CHAHAR\n",
       "4      C.HARI NISHAANTH\n",
       "             ...       \n",
       "963        DARREN SAMMY\n",
       "964        SUDEEP TYAGI\n",
       "965       CLINTON MCKAY\n",
       "966     NATHAN MCCULLUM\n",
       "967     QUINTON DE KOCK\n",
       "Name: player_name, Length: 968, dtype: object"
      ]
     },
     "execution_count": 178,
     "metadata": {},
     "output_type": "execute_result"
    }
   ],
   "source": [
    "df['player_name'].str.upper()"
   ]
  },
  {
   "cell_type": "code",
   "execution_count": 179,
   "id": "4b669973",
   "metadata": {
    "execution": {
     "iopub.execute_input": "2023-10-25T14:11:11.802665Z",
     "iopub.status.busy": "2023-10-25T14:11:11.802263Z",
     "iopub.status.idle": "2023-10-25T14:11:11.812131Z",
     "shell.execute_reply": "2023-10-25T14:11:11.811134Z"
    },
    "papermill": {
     "duration": 0.105421,
     "end_time": "2023-10-25T14:11:11.814256",
     "exception": false,
     "start_time": "2023-10-25T14:11:11.708835",
     "status": "completed"
    },
    "tags": []
   },
   "outputs": [
    {
     "data": {
      "text/plain": [
       "0         Robin Uthappa\n",
       "1          Dwayne Bravo\n",
       "2         Ambati Rayudu\n",
       "3         Deepak Chahar\n",
       "4      C.Hari Nishaanth\n",
       "             ...       \n",
       "963        Darren Sammy\n",
       "964        Sudeep Tyagi\n",
       "965       Clinton McKay\n",
       "966     Nathan McCullum\n",
       "967     Quinton De Kock\n",
       "Name: player_name, Length: 968, dtype: object"
      ]
     },
     "execution_count": 179,
     "metadata": {},
     "output_type": "execute_result"
    }
   ],
   "source": [
    "df['player_name'].str.strip()"
   ]
  },
  {
   "cell_type": "markdown",
   "id": "cd2c00fd",
   "metadata": {
    "papermill": {
     "duration": 0.155337,
     "end_time": "2023-10-25T14:11:12.062527",
     "exception": false,
     "start_time": "2023-10-25T14:11:11.907190",
     "status": "completed"
    },
    "tags": []
   },
   "source": [
    "#### 7. **Duplicated Data**:\n",
    "\n",
    "   - `df.duplicated()`: Identifies duplicate rows.\n",
    "   - `df.drop_duplicates()`: Removes duplicate rows."
   ]
  },
  {
   "cell_type": "code",
   "execution_count": 180,
   "id": "77053cff",
   "metadata": {
    "execution": {
     "iopub.execute_input": "2023-10-25T14:11:12.249763Z",
     "iopub.status.busy": "2023-10-25T14:11:12.249390Z",
     "iopub.status.idle": "2023-10-25T14:11:12.258675Z",
     "shell.execute_reply": "2023-10-25T14:11:12.257769Z"
    },
    "papermill": {
     "duration": 0.105956,
     "end_time": "2023-10-25T14:11:12.260640",
     "exception": false,
     "start_time": "2023-10-25T14:11:12.154684",
     "status": "completed"
    },
    "tags": []
   },
   "outputs": [
    {
     "data": {
      "text/plain": [
       "6"
      ]
     },
     "execution_count": 180,
     "metadata": {},
     "output_type": "execute_result"
    }
   ],
   "source": [
    "excel_df.duplicated().sum()"
   ]
  },
  {
   "cell_type": "code",
   "execution_count": 181,
   "id": "f58549a5",
   "metadata": {
    "execution": {
     "iopub.execute_input": "2023-10-25T14:11:12.447002Z",
     "iopub.status.busy": "2023-10-25T14:11:12.446539Z",
     "iopub.status.idle": "2023-10-25T14:11:12.466088Z",
     "shell.execute_reply": "2023-10-25T14:11:12.464980Z"
    },
    "papermill": {
     "duration": 0.115633,
     "end_time": "2023-10-25T14:11:12.468109",
     "exception": false,
     "start_time": "2023-10-25T14:11:12.352476",
     "status": "completed"
    },
    "tags": []
   },
   "outputs": [
    {
     "data": {
      "text/html": [
       "<div>\n",
       "<style scoped>\n",
       "    .dataframe tbody tr th:only-of-type {\n",
       "        vertical-align: middle;\n",
       "    }\n",
       "\n",
       "    .dataframe tbody tr th {\n",
       "        vertical-align: top;\n",
       "    }\n",
       "\n",
       "    .dataframe thead th {\n",
       "        text-align: right;\n",
       "    }\n",
       "</style>\n",
       "<table border=\"1\" class=\"dataframe\">\n",
       "  <thead>\n",
       "    <tr style=\"text-align: right;\">\n",
       "      <th></th>\n",
       "      <th>Data</th>\n",
       "      <th>Col1</th>\n",
       "      <th>Col2</th>\n",
       "      <th>Col3</th>\n",
       "      <th>Col4</th>\n",
       "      <th>Col5</th>\n",
       "      <th>Col6</th>\n",
       "      <th>Col7</th>\n",
       "      <th>Col8</th>\n",
       "      <th>Col9</th>\n",
       "      <th>Col10</th>\n",
       "      <th>Col11</th>\n",
       "    </tr>\n",
       "  </thead>\n",
       "  <tbody>\n",
       "    <tr>\n",
       "      <th>20</th>\n",
       "      <td>NaN</td>\n",
       "      <td>NaN</td>\n",
       "      <td>NaN</td>\n",
       "      <td>NaN</td>\n",
       "      <td>NaN</td>\n",
       "      <td>NaN</td>\n",
       "      <td>NaN</td>\n",
       "      <td>NaN</td>\n",
       "      <td>NaN</td>\n",
       "      <td>NaN</td>\n",
       "      <td>NaN</td>\n",
       "      <td>NaN</td>\n",
       "    </tr>\n",
       "    <tr>\n",
       "      <th>22</th>\n",
       "      <td>NaN</td>\n",
       "      <td>in million USD</td>\n",
       "      <td>FY '09</td>\n",
       "      <td>FY '10</td>\n",
       "      <td>FY '11</td>\n",
       "      <td>FY '12</td>\n",
       "      <td>FY '13</td>\n",
       "      <td>FY '14</td>\n",
       "      <td>FY '15</td>\n",
       "      <td>FY '16</td>\n",
       "      <td>FY '17</td>\n",
       "      <td>FY '18</td>\n",
       "    </tr>\n",
       "    <tr>\n",
       "      <th>64</th>\n",
       "      <td>NaN</td>\n",
       "      <td>NaN</td>\n",
       "      <td>NaN</td>\n",
       "      <td>NaN</td>\n",
       "      <td>NaN</td>\n",
       "      <td>NaN</td>\n",
       "      <td>NaN</td>\n",
       "      <td>NaN</td>\n",
       "      <td>NaN</td>\n",
       "      <td>NaN</td>\n",
       "      <td>NaN</td>\n",
       "      <td>NaN</td>\n",
       "    </tr>\n",
       "    <tr>\n",
       "      <th>66</th>\n",
       "      <td>NaN</td>\n",
       "      <td>in million USD</td>\n",
       "      <td>FY '09</td>\n",
       "      <td>FY '10</td>\n",
       "      <td>FY '11</td>\n",
       "      <td>FY '12</td>\n",
       "      <td>FY '13</td>\n",
       "      <td>FY '14</td>\n",
       "      <td>FY '15</td>\n",
       "      <td>FY '16</td>\n",
       "      <td>FY '17</td>\n",
       "      <td>FY '18</td>\n",
       "    </tr>\n",
       "    <tr>\n",
       "      <th>67</th>\n",
       "      <td>NaN</td>\n",
       "      <td>CONSOLIDATED NET INCOME</td>\n",
       "      <td>6906</td>\n",
       "      <td>11837</td>\n",
       "      <td>8646</td>\n",
       "      <td>9086</td>\n",
       "      <td>8626</td>\n",
       "      <td>7124</td>\n",
       "      <td>7366</td>\n",
       "      <td>6550</td>\n",
       "      <td>1283</td>\n",
       "      <td>6476</td>\n",
       "    </tr>\n",
       "    <tr>\n",
       "      <th>70</th>\n",
       "      <td>NaN</td>\n",
       "      <td>Net income from continuing operations</td>\n",
       "      <td>NaN</td>\n",
       "      <td>NaN</td>\n",
       "      <td>NaN</td>\n",
       "      <td>NaN</td>\n",
       "      <td>NaN</td>\n",
       "      <td>NaN</td>\n",
       "      <td>7366</td>\n",
       "      <td>6550</td>\n",
       "      <td>1182</td>\n",
       "      <td>6727</td>\n",
       "    </tr>\n",
       "  </tbody>\n",
       "</table>\n",
       "</div>"
      ],
      "text/plain": [
       "   Data                                   Col1    Col2    Col3    Col4  \\\n",
       "20  NaN                                    NaN     NaN     NaN     NaN   \n",
       "22  NaN                         in million USD  FY '09  FY '10  FY '11   \n",
       "64  NaN                                    NaN     NaN     NaN     NaN   \n",
       "66  NaN                         in million USD  FY '09  FY '10  FY '11   \n",
       "67  NaN                CONSOLIDATED NET INCOME    6906   11837    8646   \n",
       "70  NaN  Net income from continuing operations     NaN     NaN     NaN   \n",
       "\n",
       "      Col5    Col6    Col7    Col8    Col9   Col10   Col11  \n",
       "20     NaN     NaN     NaN     NaN     NaN     NaN     NaN  \n",
       "22  FY '12  FY '13  FY '14  FY '15  FY '16  FY '17  FY '18  \n",
       "64     NaN     NaN     NaN     NaN     NaN     NaN     NaN  \n",
       "66  FY '12  FY '13  FY '14  FY '15  FY '16  FY '17  FY '18  \n",
       "67    9086    8626    7124    7366    6550    1283    6476  \n",
       "70     NaN     NaN     NaN    7366    6550    1182    6727  "
      ]
     },
     "execution_count": 181,
     "metadata": {},
     "output_type": "execute_result"
    }
   ],
   "source": [
    "excel_df[excel_df.duplicated()]"
   ]
  },
  {
   "cell_type": "code",
   "execution_count": 182,
   "id": "9474f07c",
   "metadata": {
    "execution": {
     "iopub.execute_input": "2023-10-25T14:11:12.655761Z",
     "iopub.status.busy": "2023-10-25T14:11:12.655371Z",
     "iopub.status.idle": "2023-10-25T14:11:12.675345Z",
     "shell.execute_reply": "2023-10-25T14:11:12.674235Z"
    },
    "papermill": {
     "duration": 0.115901,
     "end_time": "2023-10-25T14:11:12.677388",
     "exception": false,
     "start_time": "2023-10-25T14:11:12.561487",
     "status": "completed"
    },
    "tags": []
   },
   "outputs": [
    {
     "data": {
      "text/html": [
       "<div>\n",
       "<style scoped>\n",
       "    .dataframe tbody tr th:only-of-type {\n",
       "        vertical-align: middle;\n",
       "    }\n",
       "\n",
       "    .dataframe tbody tr th {\n",
       "        vertical-align: top;\n",
       "    }\n",
       "\n",
       "    .dataframe thead th {\n",
       "        text-align: right;\n",
       "    }\n",
       "</style>\n",
       "<table border=\"1\" class=\"dataframe\">\n",
       "  <thead>\n",
       "    <tr style=\"text-align: right;\">\n",
       "      <th></th>\n",
       "      <th>Data</th>\n",
       "      <th>Col1</th>\n",
       "      <th>Col2</th>\n",
       "      <th>Col3</th>\n",
       "      <th>Col4</th>\n",
       "      <th>Col5</th>\n",
       "      <th>Col6</th>\n",
       "      <th>Col7</th>\n",
       "      <th>Col8</th>\n",
       "      <th>Col9</th>\n",
       "      <th>Col10</th>\n",
       "      <th>Col11</th>\n",
       "    </tr>\n",
       "  </thead>\n",
       "  <tbody>\n",
       "    <tr>\n",
       "      <th>0</th>\n",
       "      <td>NaN</td>\n",
       "      <td>NaN</td>\n",
       "      <td>NaN</td>\n",
       "      <td>NaN</td>\n",
       "      <td>NaN</td>\n",
       "      <td>NaN</td>\n",
       "      <td>NaN</td>\n",
       "      <td>NaN</td>\n",
       "      <td>NaN</td>\n",
       "      <td>NaN</td>\n",
       "      <td>NaN</td>\n",
       "      <td>NaN</td>\n",
       "    </tr>\n",
       "    <tr>\n",
       "      <th>1</th>\n",
       "      <td>Profit &amp; Loss statement</td>\n",
       "      <td>NaN</td>\n",
       "      <td>NaN</td>\n",
       "      <td>NaN</td>\n",
       "      <td>NaN</td>\n",
       "      <td>NaN</td>\n",
       "      <td>NaN</td>\n",
       "      <td>NaN</td>\n",
       "      <td>NaN</td>\n",
       "      <td>NaN</td>\n",
       "      <td>NaN</td>\n",
       "      <td>NaN</td>\n",
       "    </tr>\n",
       "    <tr>\n",
       "      <th>2</th>\n",
       "      <td>NaN</td>\n",
       "      <td>in million USD</td>\n",
       "      <td>FY '09</td>\n",
       "      <td>FY '10</td>\n",
       "      <td>FY '11</td>\n",
       "      <td>FY '12</td>\n",
       "      <td>FY '13</td>\n",
       "      <td>FY '14</td>\n",
       "      <td>FY '15</td>\n",
       "      <td>FY '16</td>\n",
       "      <td>FY '17</td>\n",
       "      <td>FY '18</td>\n",
       "    </tr>\n",
       "    <tr>\n",
       "      <th>3</th>\n",
       "      <td>NaN</td>\n",
       "      <td>NET OPERATING REVENUES</td>\n",
       "      <td>30990</td>\n",
       "      <td>35119</td>\n",
       "      <td>46542</td>\n",
       "      <td>48017</td>\n",
       "      <td>46854</td>\n",
       "      <td>45998</td>\n",
       "      <td>44294</td>\n",
       "      <td>41863</td>\n",
       "      <td>35410</td>\n",
       "      <td>31856</td>\n",
       "    </tr>\n",
       "    <tr>\n",
       "      <th>4</th>\n",
       "      <td>NaN</td>\n",
       "      <td>Cost of goods sold</td>\n",
       "      <td>11088</td>\n",
       "      <td>12693</td>\n",
       "      <td>18215</td>\n",
       "      <td>19053</td>\n",
       "      <td>18421</td>\n",
       "      <td>17889</td>\n",
       "      <td>17482</td>\n",
       "      <td>16465</td>\n",
       "      <td>13255</td>\n",
       "      <td>11770</td>\n",
       "    </tr>\n",
       "    <tr>\n",
       "      <th>...</th>\n",
       "      <td>...</td>\n",
       "      <td>...</td>\n",
       "      <td>...</td>\n",
       "      <td>...</td>\n",
       "      <td>...</td>\n",
       "      <td>...</td>\n",
       "      <td>...</td>\n",
       "      <td>...</td>\n",
       "      <td>...</td>\n",
       "      <td>...</td>\n",
       "      <td>...</td>\n",
       "      <td>...</td>\n",
       "    </tr>\n",
       "    <tr>\n",
       "      <th>98</th>\n",
       "      <td>NaN</td>\n",
       "      <td>Effect of exchange rate changes on cash and ca...</td>\n",
       "      <td>576</td>\n",
       "      <td>-166</td>\n",
       "      <td>-430</td>\n",
       "      <td>-255</td>\n",
       "      <td>-611</td>\n",
       "      <td>-934</td>\n",
       "      <td>-878</td>\n",
       "      <td>-6</td>\n",
       "      <td>241</td>\n",
       "      <td>-262</td>\n",
       "    </tr>\n",
       "    <tr>\n",
       "      <th>99</th>\n",
       "      <td>NaN</td>\n",
       "      <td>Cash Provided by (Used in) Investing Activitie...</td>\n",
       "      <td>NaN</td>\n",
       "      <td>NaN</td>\n",
       "      <td>NaN</td>\n",
       "      <td>NaN</td>\n",
       "      <td>NaN</td>\n",
       "      <td>NaN</td>\n",
       "      <td>0</td>\n",
       "      <td>0</td>\n",
       "      <td>-58</td>\n",
       "      <td>-421</td>\n",
       "    </tr>\n",
       "    <tr>\n",
       "      <th>100</th>\n",
       "      <td>NaN</td>\n",
       "      <td>Cash Provided by (Used in) Financing Activitie...</td>\n",
       "      <td>NaN</td>\n",
       "      <td>NaN</td>\n",
       "      <td>NaN</td>\n",
       "      <td>NaN</td>\n",
       "      <td>NaN</td>\n",
       "      <td>NaN</td>\n",
       "      <td>0</td>\n",
       "      <td>0</td>\n",
       "      <td>-38</td>\n",
       "      <td>205</td>\n",
       "    </tr>\n",
       "    <tr>\n",
       "      <th>101</th>\n",
       "      <td>NaN</td>\n",
       "      <td>Net Cash Provided by (Used in) Discontinued Op...</td>\n",
       "      <td>NaN</td>\n",
       "      <td>NaN</td>\n",
       "      <td>NaN</td>\n",
       "      <td>NaN</td>\n",
       "      <td>NaN</td>\n",
       "      <td>NaN</td>\n",
       "      <td>0</td>\n",
       "      <td>0</td>\n",
       "      <td>15</td>\n",
       "      <td>91</td>\n",
       "    </tr>\n",
       "    <tr>\n",
       "      <th>102</th>\n",
       "      <td>NaN</td>\n",
       "      <td>Net increase (decrease) during the year</td>\n",
       "      <td>2320</td>\n",
       "      <td>1496</td>\n",
       "      <td>4286</td>\n",
       "      <td>-4361</td>\n",
       "      <td>1972</td>\n",
       "      <td>-1456</td>\n",
       "      <td>-1649</td>\n",
       "      <td>1246</td>\n",
       "      <td>-2477</td>\n",
       "      <td>2945</td>\n",
       "    </tr>\n",
       "  </tbody>\n",
       "</table>\n",
       "<p>97 rows × 12 columns</p>\n",
       "</div>"
      ],
      "text/plain": [
       "                        Data  \\\n",
       "0                        NaN   \n",
       "1    Profit & Loss statement   \n",
       "2                        NaN   \n",
       "3                        NaN   \n",
       "4                        NaN   \n",
       "..                       ...   \n",
       "98                       NaN   \n",
       "99                       NaN   \n",
       "100                      NaN   \n",
       "101                      NaN   \n",
       "102                      NaN   \n",
       "\n",
       "                                                  Col1    Col2    Col3  \\\n",
       "0                                                  NaN     NaN     NaN   \n",
       "1                                                  NaN     NaN     NaN   \n",
       "2                                       in million USD  FY '09  FY '10   \n",
       "3                               NET OPERATING REVENUES   30990   35119   \n",
       "4                                   Cost of goods sold   11088   12693   \n",
       "..                                                 ...     ...     ...   \n",
       "98   Effect of exchange rate changes on cash and ca...     576    -166   \n",
       "99   Cash Provided by (Used in) Investing Activitie...     NaN     NaN   \n",
       "100  Cash Provided by (Used in) Financing Activitie...     NaN     NaN   \n",
       "101  Net Cash Provided by (Used in) Discontinued Op...     NaN     NaN   \n",
       "102            Net increase (decrease) during the year    2320    1496   \n",
       "\n",
       "       Col4    Col5    Col6    Col7    Col8    Col9   Col10   Col11  \n",
       "0       NaN     NaN     NaN     NaN     NaN     NaN     NaN     NaN  \n",
       "1       NaN     NaN     NaN     NaN     NaN     NaN     NaN     NaN  \n",
       "2    FY '11  FY '12  FY '13  FY '14  FY '15  FY '16  FY '17  FY '18  \n",
       "3     46542   48017   46854   45998   44294   41863   35410   31856  \n",
       "4     18215   19053   18421   17889   17482   16465   13255   11770  \n",
       "..      ...     ...     ...     ...     ...     ...     ...     ...  \n",
       "98     -430    -255    -611    -934    -878      -6     241    -262  \n",
       "99      NaN     NaN     NaN     NaN       0       0     -58    -421  \n",
       "100     NaN     NaN     NaN     NaN       0       0     -38     205  \n",
       "101     NaN     NaN     NaN     NaN       0       0      15      91  \n",
       "102    4286   -4361    1972   -1456   -1649    1246   -2477    2945  \n",
       "\n",
       "[97 rows x 12 columns]"
      ]
     },
     "execution_count": 182,
     "metadata": {},
     "output_type": "execute_result"
    }
   ],
   "source": [
    "excel_df.drop_duplicates(keep='first')"
   ]
  },
  {
   "cell_type": "code",
   "execution_count": 183,
   "id": "7403d518",
   "metadata": {
    "execution": {
     "iopub.execute_input": "2023-10-25T14:11:12.867982Z",
     "iopub.status.busy": "2023-10-25T14:11:12.867051Z",
     "iopub.status.idle": "2023-10-25T14:11:12.878748Z",
     "shell.execute_reply": "2023-10-25T14:11:12.877768Z"
    },
    "papermill": {
     "duration": 0.10702,
     "end_time": "2023-10-25T14:11:12.880728",
     "exception": false,
     "start_time": "2023-10-25T14:11:12.773708",
     "status": "completed"
    },
    "tags": []
   },
   "outputs": [
    {
     "data": {
      "text/plain": [
       "0"
      ]
     },
     "execution_count": 183,
     "metadata": {},
     "output_type": "execute_result"
    }
   ],
   "source": [
    "excel_df.drop_duplicates(keep='first').duplicated().sum()"
   ]
  },
  {
   "cell_type": "markdown",
   "id": "a05b4b19",
   "metadata": {
    "papermill": {
     "duration": 0.095121,
     "end_time": "2023-10-25T14:11:13.070683",
     "exception": false,
     "start_time": "2023-10-25T14:11:12.975562",
     "status": "completed"
    },
    "tags": []
   },
   "source": [
    "#### 8. **Applying Custom Functions**:\n",
    "\n",
    "   - `apply(func)`, `applymap(func)`: Applies a custom function element-wise or row-wise.\n",
    "   - `transform(func)`: Applies a custom function element-wise and retains the DataFrame shape.\n",
    "   \n",
    "``` python \n",
    "df.apply(func, axis=0)  # Apply 'func' to each column\n",
    "df.apply(func, axis=1)  # Apply 'func' to each row\n",
    "\n",
    "df.applymap(func)  # Apply 'func' to each element in the DataFrame\n",
    "\n",
    "series.map(func)  # Apply 'func' to each element in the Series\n",
    "\n",
    "df.groupby('grouping_column').agg(func)  # Apply aggregation functions to groups\n",
    "df.groupby('grouping_column').transform(func)  # Apply a function to each group and broadcast the results\n",
    "df.groupby('grouping_column').filter(lambda x: condition(x))  # Filter groups based on a condition\n",
    "\n",
    "\n",
    "```\n"
   ]
  },
  {
   "cell_type": "code",
   "execution_count": 184,
   "id": "472a2877",
   "metadata": {
    "execution": {
     "iopub.execute_input": "2023-10-25T14:11:13.262568Z",
     "iopub.status.busy": "2023-10-25T14:11:13.261831Z",
     "iopub.status.idle": "2023-10-25T14:11:13.269609Z",
     "shell.execute_reply": "2023-10-25T14:11:13.268336Z"
    },
    "papermill": {
     "duration": 0.105496,
     "end_time": "2023-10-25T14:11:13.271648",
     "exception": false,
     "start_time": "2023-10-25T14:11:13.166152",
     "status": "completed"
    },
    "tags": []
   },
   "outputs": [
    {
     "name": "stdout",
     "output_type": "stream",
     "text": [
      "10.0K\n",
      "2.0M\n",
      "2.5B\n"
     ]
    }
   ],
   "source": [
    "# creating a custom function\n",
    "def format_large_number(number):\n",
    "    if number < 1000:\n",
    "        return str(number)\n",
    "    elif number < 1e6:\n",
    "        return f'{number / 1e3:.1f}K'\n",
    "    elif number < 1e9:\n",
    "        return f'{number / 1e6:.1f}M'\n",
    "    else:\n",
    "        return f'{number / 1e9:.1f}B'\n",
    "\n",
    "# Test the function with some examples\n",
    "number1 = 10000\n",
    "number2 = 2000000\n",
    "number3 = 2500000000\n",
    "\n",
    "formatted1 = format_large_number(number1)\n",
    "formatted2 = format_large_number(number2)\n",
    "formatted3 = format_large_number(number3)\n",
    "\n",
    "print(formatted1)  # Output: 10.0K\n",
    "print(formatted2)  # Output: 2.0M\n",
    "print(formatted3)  # Output: 2.5B"
   ]
  },
  {
   "cell_type": "code",
   "execution_count": 185,
   "id": "048d583f",
   "metadata": {
    "execution": {
     "iopub.execute_input": "2023-10-25T14:11:13.463168Z",
     "iopub.status.busy": "2023-10-25T14:11:13.462602Z",
     "iopub.status.idle": "2023-10-25T14:11:13.470403Z",
     "shell.execute_reply": "2023-10-25T14:11:13.469353Z"
    },
    "papermill": {
     "duration": 0.104705,
     "end_time": "2023-10-25T14:11:13.472644",
     "exception": false,
     "start_time": "2023-10-25T14:11:13.367939",
     "status": "completed"
    },
    "tags": []
   },
   "outputs": [
    {
     "data": {
      "text/plain": [
       "0       20000000\n",
       "1       44000000\n",
       "2       67500000\n",
       "3      140000000\n",
       "4        2000000\n",
       "         ...    \n",
       "963     31875000\n",
       "964      7500000\n",
       "965      7500000\n",
       "966      7500000\n",
       "967      1500000\n",
       "Name: sold_price, Length: 968, dtype: int64"
      ]
     },
     "execution_count": 185,
     "metadata": {},
     "output_type": "execute_result"
    }
   ],
   "source": [
    "df['sold_price']"
   ]
  },
  {
   "cell_type": "code",
   "execution_count": 186,
   "id": "678b31d9",
   "metadata": {
    "execution": {
     "iopub.execute_input": "2023-10-25T14:11:13.662831Z",
     "iopub.status.busy": "2023-10-25T14:11:13.662459Z",
     "iopub.status.idle": "2023-10-25T14:11:13.673149Z",
     "shell.execute_reply": "2023-10-25T14:11:13.671881Z"
    },
    "papermill": {
     "duration": 0.109194,
     "end_time": "2023-10-25T14:11:13.675554",
     "exception": false,
     "start_time": "2023-10-25T14:11:13.566360",
     "status": "completed"
    },
    "tags": []
   },
   "outputs": [
    {
     "data": {
      "text/plain": [
       "0       20.0M\n",
       "1       44.0M\n",
       "2       67.5M\n",
       "3      140.0M\n",
       "4        2.0M\n",
       "        ...  \n",
       "963     31.9M\n",
       "964      7.5M\n",
       "965      7.5M\n",
       "966      7.5M\n",
       "967      1.5M\n",
       "Name: sold_price, Length: 968, dtype: object"
      ]
     },
     "execution_count": 186,
     "metadata": {},
     "output_type": "execute_result"
    }
   ],
   "source": [
    "df['sold_price'].apply(format_large_number)"
   ]
  },
  {
   "cell_type": "code",
   "execution_count": null,
   "id": "bcc7a693",
   "metadata": {
    "papermill": {
     "duration": 0.093019,
     "end_time": "2023-10-25T14:11:13.864322",
     "exception": false,
     "start_time": "2023-10-25T14:11:13.771303",
     "status": "completed"
    },
    "tags": []
   },
   "outputs": [],
   "source": []
  },
  {
   "cell_type": "markdown",
   "id": "98c0d8f5",
   "metadata": {
    "papermill": {
     "duration": 0.092837,
     "end_time": "2023-10-25T14:11:14.051819",
     "exception": false,
     "start_time": "2023-10-25T14:11:13.958982",
     "status": "completed"
    },
    "tags": []
   },
   "source": [
    "#### 9. **Handling Outliers**:\n",
    "\n",
    "   - Filtering rows or replacing outlier values based on criteria."
   ]
  },
  {
   "cell_type": "markdown",
   "id": "c3581625",
   "metadata": {
    "papermill": {
     "duration": 0.094028,
     "end_time": "2023-10-25T14:11:14.238447",
     "exception": false,
     "start_time": "2023-10-25T14:11:14.144419",
     "status": "completed"
    },
    "tags": []
   },
   "source": [
    "Handling outliers in a dataset is an important step in data preprocessing and analysis. Outliers are data points that significantly differ from the majority of the data and can distort statistical analyses and machine learning models. Pandas offers several methods to handle outliers:\n",
    "\n",
    "1. **Identifying Outliers:**\n",
    "   - Before handling outliers, you need to identify them. You can use descriptive statistics, visualizations, or statistical tests to identify outliers in your data.\n",
    "\n",
    "2. **Removing Outliers:**\n",
    "   - One common approach is to remove outliers from the dataset. You can do this by filtering the data based on certain criteria. For example, you can remove data points that fall outside a specified range or z-score threshold.\n",
    "\n",
    "   ```python\n",
    "   # Removing outliers based on z-score\n",
    "   from scipy import stats\n",
    "   z_scores = stats.zscore(df['column_to_check'])\n",
    "   df_no_outliers = df[(z_scores < 3) & (z_scores > -3)]\n",
    "   ```\n",
    "\n",
    "3. **Replacing Outliers:**\n",
    "   - Instead of removing outliers, you can replace them with more reasonable values. You might replace them with the mean, median, or a custom value.\n",
    "\n",
    "   ```python\n",
    "   # Replacing outliers with the median\n",
    "   median_value = df['column_to_check'].median()\n",
    "   df['column_to_check'] = df['column_to_check'].apply(lambda x: median_value if x > threshold else x)\n",
    "   ```\n",
    "\n",
    "4. **Transforming Data:**\n",
    "   - You can transform the data to make it more robust to outliers. Common transformations include log transformation or using the Tukey fence.\n",
    "\n",
    "   ```python\n",
    "   # Log transformation\n",
    "   df['column_to_check'] = np.log(df['column_to_check'])\n",
    "   ```\n",
    "\n",
    "5. **Clipping Data:**\n",
    "   - Another option is to clip the data, which caps the extreme values at a predefined threshold.\n",
    "\n",
    "   ```python\n",
    "   # Clipping data\n",
    "   df['column_to_check'] = df['column_to_check'].clip(lower=min_value, upper=max_value)\n",
    "   ```\n",
    "\n",
    "6. **Winsorization:**\n",
    "   - Winsorization is a method where you replace outliers with the nearest non-outlier value.\n",
    "\n",
    "   ```python\n",
    "   from scipy.stats.mstats import winsorize\n",
    "   winsorized_data = winsorize(df['column_to_check'], limits=[0.05, 0.05])\n",
    "   ```\n",
    "\n",
    "7. **Robust Statistics:**\n",
    "   - Using robust statistical methods like the median instead of the mean can make your analysis less sensitive to outliers.\n",
    "\n",
    "8. **Machine Learning Models:**\n",
    "   - Some machine learning models can handle outliers effectively, or you can use techniques like robust regression.\n",
    "\n",
    "The approach you choose depends on your specific data, the nature of the outliers, and the goals of your analysis. Always consider the domain and context when deciding how to handle outliers in your dataset."
   ]
  },
  {
   "cell_type": "markdown",
   "id": "15c17c93",
   "metadata": {
    "papermill": {
     "duration": 0.092962,
     "end_time": "2023-10-25T14:11:14.426621",
     "exception": false,
     "start_time": "2023-10-25T14:11:14.333659",
     "status": "completed"
    },
    "tags": []
   },
   "source": [
    "#### 10. **Binning and Categorization**:\n",
    "\n",
    "    - `cut()`: Divides a continuous variable into categorical bins.\n",
    "    - `qcut()`: Divides a continuous variable into quantile-based bins."
   ]
  },
  {
   "cell_type": "code",
   "execution_count": 187,
   "id": "0a00772b",
   "metadata": {
    "execution": {
     "iopub.execute_input": "2023-10-25T14:11:14.616674Z",
     "iopub.status.busy": "2023-10-25T14:11:14.616289Z",
     "iopub.status.idle": "2023-10-25T14:11:14.634315Z",
     "shell.execute_reply": "2023-10-25T14:11:14.633366Z"
    },
    "papermill": {
     "duration": 0.117734,
     "end_time": "2023-10-25T14:11:14.636965",
     "exception": false,
     "start_time": "2023-10-25T14:11:14.519231",
     "status": "completed"
    },
    "tags": []
   },
   "outputs": [
    {
     "name": "stdout",
     "output_type": "stream",
     "text": [
      "         Date  Temperature (°C) Temperature Category\n",
      "0  2023-01-01                 5                 Cold\n",
      "1  2023-01-02                12             Moderate\n",
      "2  2023-01-03                18             Moderate\n",
      "3  2023-01-04                24             Moderate\n",
      "4  2023-01-05                30                  Hot\n",
      "5  2023-01-06                35                  Hot\n",
      "6  2023-01-07                10                 Cold\n",
      "7  2023-01-08                15             Moderate\n",
      "8  2023-01-09                22             Moderate\n",
      "9  2023-01-10                28                  Hot\n",
      "10 2023-01-11                32                  Hot\n",
      "11 2023-01-12                38                  Hot\n",
      "12 2023-01-13                 7                 Cold\n",
      "13 2023-01-14                14             Moderate\n",
      "14 2023-01-15                19             Moderate\n",
      "15 2023-01-16                26                  Hot\n",
      "16 2023-01-17                33                  Hot\n",
      "17 2023-01-18                40                  Hot\n",
      "18 2023-01-19                 9                 Cold\n",
      "19 2023-01-20                16             Moderate\n",
      "20 2023-01-21                21             Moderate\n",
      "21 2023-01-22                27                  Hot\n",
      "22 2023-01-23                31                  Hot\n",
      "23 2023-01-24                36                  Hot\n",
      "24 2023-01-25                 8                 Cold\n",
      "25 2023-01-26                13             Moderate\n",
      "26 2023-01-27                17             Moderate\n",
      "27 2023-01-28                23             Moderate\n",
      "28 2023-01-29                29                  Hot\n",
      "29 2023-01-30                34                  Hot\n"
     ]
    }
   ],
   "source": [
    "import pandas as pd\n",
    "\n",
    "# Sample data\n",
    "data = {'Date': pd.date_range(start='2023-01-01', periods=30, freq='D'),\n",
    "        'Temperature (°C)': [5, 12, 18, 24, 30, 35, 10, 15, 22, 28, 32, 38, 7, 14, 19, 26, 33, 40, 9, 16, 21, 27, 31, 36, 8, 13, 17, 23, 29, 34]}\n",
    "\n",
    "df = pd.DataFrame(data)\n",
    "\n",
    "# Define temperature bins\n",
    "temperature_bins = [0, 10, 25, 40]\n",
    "temperature_labels = ['Cold', 'Moderate', 'Hot']\n",
    "\n",
    "# Create a new column with temperature categories\n",
    "df['Temperature Category'] = pd.cut(df['Temperature (°C)'], bins=temperature_bins, labels=temperature_labels)\n",
    "\n",
    "print(df)\n"
   ]
  },
  {
   "cell_type": "markdown",
   "id": "4f1c52cb",
   "metadata": {
    "execution": {
     "iopub.execute_input": "2023-10-25T04:03:36.988287Z",
     "iopub.status.busy": "2023-10-25T04:03:36.987665Z",
     "iopub.status.idle": "2023-10-25T04:03:37.005868Z",
     "shell.execute_reply": "2023-10-25T04:03:37.004121Z",
     "shell.execute_reply.started": "2023-10-25T04:03:36.988243Z"
    },
    "papermill": {
     "duration": 0.095444,
     "end_time": "2023-10-25T14:11:14.832059",
     "exception": false,
     "start_time": "2023-10-25T14:11:14.736615",
     "status": "completed"
    },
    "tags": []
   },
   "source": [
    "The `pd.cut()` function in Pandas is used to perform binning or categorization of data, which is the process of converting continuous numerical data into discrete categories or bins. It's particularly useful when you want to group data into intervals or categories for analysis, visualization, or modeling.\n",
    "\n",
    "Here's how to use `pd.cut()` with a simple example:"
   ]
  },
  {
   "cell_type": "code",
   "execution_count": 188,
   "id": "123c4f65",
   "metadata": {
    "execution": {
     "iopub.execute_input": "2023-10-25T14:11:15.035132Z",
     "iopub.status.busy": "2023-10-25T14:11:15.034547Z",
     "iopub.status.idle": "2023-10-25T14:11:15.050842Z",
     "shell.execute_reply": "2023-10-25T14:11:15.049559Z"
    },
    "papermill": {
     "duration": 0.122887,
     "end_time": "2023-10-25T14:11:15.053963",
     "exception": false,
     "start_time": "2023-10-25T14:11:14.931076",
     "status": "completed"
    },
    "tags": []
   },
   "outputs": [
    {
     "data": {
      "text/html": [
       "<div>\n",
       "<style scoped>\n",
       "    .dataframe tbody tr th:only-of-type {\n",
       "        vertical-align: middle;\n",
       "    }\n",
       "\n",
       "    .dataframe tbody tr th {\n",
       "        vertical-align: top;\n",
       "    }\n",
       "\n",
       "    .dataframe thead th {\n",
       "        text-align: right;\n",
       "    }\n",
       "</style>\n",
       "<table border=\"1\" class=\"dataframe\">\n",
       "  <thead>\n",
       "    <tr style=\"text-align: right;\">\n",
       "      <th></th>\n",
       "      <th>Age</th>\n",
       "      <th>Age Group</th>\n",
       "    </tr>\n",
       "  </thead>\n",
       "  <tbody>\n",
       "    <tr>\n",
       "      <th>0</th>\n",
       "      <td>25</td>\n",
       "      <td>18-30</td>\n",
       "    </tr>\n",
       "    <tr>\n",
       "      <th>1</th>\n",
       "      <td>32</td>\n",
       "      <td>31-40</td>\n",
       "    </tr>\n",
       "    <tr>\n",
       "      <th>2</th>\n",
       "      <td>45</td>\n",
       "      <td>41-60</td>\n",
       "    </tr>\n",
       "    <tr>\n",
       "      <th>3</th>\n",
       "      <td>18</td>\n",
       "      <td>&lt;18</td>\n",
       "    </tr>\n",
       "    <tr>\n",
       "      <th>4</th>\n",
       "      <td>63</td>\n",
       "      <td>60+</td>\n",
       "    </tr>\n",
       "    <tr>\n",
       "      <th>5</th>\n",
       "      <td>29</td>\n",
       "      <td>18-30</td>\n",
       "    </tr>\n",
       "    <tr>\n",
       "      <th>6</th>\n",
       "      <td>55</td>\n",
       "      <td>41-60</td>\n",
       "    </tr>\n",
       "    <tr>\n",
       "      <th>7</th>\n",
       "      <td>41</td>\n",
       "      <td>41-60</td>\n",
       "    </tr>\n",
       "    <tr>\n",
       "      <th>8</th>\n",
       "      <td>37</td>\n",
       "      <td>31-40</td>\n",
       "    </tr>\n",
       "    <tr>\n",
       "      <th>9</th>\n",
       "      <td>50</td>\n",
       "      <td>41-60</td>\n",
       "    </tr>\n",
       "  </tbody>\n",
       "</table>\n",
       "</div>"
      ],
      "text/plain": [
       "   Age Age Group\n",
       "0   25     18-30\n",
       "1   32     31-40\n",
       "2   45     41-60\n",
       "3   18       <18\n",
       "4   63       60+\n",
       "5   29     18-30\n",
       "6   55     41-60\n",
       "7   41     41-60\n",
       "8   37     31-40\n",
       "9   50     41-60"
      ]
     },
     "execution_count": 188,
     "metadata": {},
     "output_type": "execute_result"
    }
   ],
   "source": [
    "import pandas as pd\n",
    "\n",
    "# Sample data\n",
    "data = {'Age': [25, 32, 45, 18, 63, 29, 55, 41, 37, 50]}\n",
    "df = pd.DataFrame(data)\n",
    "\n",
    "# Define bins for age groups\n",
    "age_bins = [0, 18, 30, 40, 60, 100]\n",
    "age_labels = ['<18', '18-30', '31-40', '41-60', '60+']\n",
    "\n",
    "# Create a new column with age categories\n",
    "df['Age Group'] = pd.cut(df['Age'], bins=age_bins, labels=age_labels)\n",
    "\n",
    "df"
   ]
  },
  {
   "cell_type": "markdown",
   "id": "ec4c491c",
   "metadata": {
    "execution": {
     "iopub.execute_input": "2023-10-25T04:03:36.988287Z",
     "iopub.status.busy": "2023-10-25T04:03:36.987665Z",
     "iopub.status.idle": "2023-10-25T04:03:37.005868Z",
     "shell.execute_reply": "2023-10-25T04:03:37.004121Z",
     "shell.execute_reply.started": "2023-10-25T04:03:36.988243Z"
    },
    "papermill": {
     "duration": 0.09744,
     "end_time": "2023-10-25T14:11:15.254702",
     "exception": false,
     "start_time": "2023-10-25T14:11:15.157262",
     "status": "completed"
    },
    "tags": []
   },
   "source": [
    "In this example, we:\n",
    "\n",
    "1. Import Pandas and create a DataFrame with a column 'Age' containing age values.\n",
    "\n",
    "2. Define the bins and labels for age groups. We have defined five bins with corresponding labels, categorizing individuals into age groups.\n",
    "\n",
    "3. Use `pd.cut()` to create a new column 'Age Group' in the DataFrame. This new column contains the age categories based on the specified bins and labels.\n",
    "\n",
    "The resulting DataFrame will have the 'Age Group' column, where each individual's age is categorized into one of the specified age groups.\n",
    "\n",
    "The `pd.cut()` function allows you to specify custom bins and labels, providing you with flexibility in categorizing your data based on your specific requirements. It's a powerful tool for data transformation and preparation for analysis or visualization tasks."
   ]
  },
  {
   "cell_type": "markdown",
   "id": "60683aab",
   "metadata": {
    "execution": {
     "iopub.execute_input": "2023-10-25T04:06:21.488915Z",
     "iopub.status.busy": "2023-10-25T04:06:21.488426Z",
     "iopub.status.idle": "2023-10-25T04:06:21.500566Z",
     "shell.execute_reply": "2023-10-25T04:06:21.498265Z",
     "shell.execute_reply.started": "2023-10-25T04:06:21.488880Z"
    },
    "papermill": {
     "duration": 0.100481,
     "end_time": "2023-10-25T14:11:15.452528",
     "exception": false,
     "start_time": "2023-10-25T14:11:15.352047",
     "status": "completed"
    },
    "tags": []
   },
   "source": [
    "The `pd.qcut()` function in Pandas is used for quantile-based binning, which divides continuous data into discrete intervals or bins such that each bin contains approximately the same number of data points. This is useful when you want to create bins that have a balanced number of data points, making it especially helpful for equal-frequency binning.\n",
    "\n",
    "Here's how to use `pd.qcut()` with an example:"
   ]
  },
  {
   "cell_type": "code",
   "execution_count": 189,
   "id": "b1b03a00",
   "metadata": {
    "execution": {
     "iopub.execute_input": "2023-10-25T14:11:15.665965Z",
     "iopub.status.busy": "2023-10-25T14:11:15.665569Z",
     "iopub.status.idle": "2023-10-25T14:11:15.681969Z",
     "shell.execute_reply": "2023-10-25T14:11:15.680960Z"
    },
    "papermill": {
     "duration": 0.129276,
     "end_time": "2023-10-25T14:11:15.684035",
     "exception": false,
     "start_time": "2023-10-25T14:11:15.554759",
     "status": "completed"
    },
    "tags": []
   },
   "outputs": [
    {
     "data": {
      "text/html": [
       "<div>\n",
       "<style scoped>\n",
       "    .dataframe tbody tr th:only-of-type {\n",
       "        vertical-align: middle;\n",
       "    }\n",
       "\n",
       "    .dataframe tbody tr th {\n",
       "        vertical-align: top;\n",
       "    }\n",
       "\n",
       "    .dataframe thead th {\n",
       "        text-align: right;\n",
       "    }\n",
       "</style>\n",
       "<table border=\"1\" class=\"dataframe\">\n",
       "  <thead>\n",
       "    <tr style=\"text-align: right;\">\n",
       "      <th></th>\n",
       "      <th>Scores</th>\n",
       "      <th>Score Category</th>\n",
       "    </tr>\n",
       "  </thead>\n",
       "  <tbody>\n",
       "    <tr>\n",
       "      <th>0</th>\n",
       "      <td>70</td>\n",
       "      <td>Low</td>\n",
       "    </tr>\n",
       "    <tr>\n",
       "      <th>1</th>\n",
       "      <td>82</td>\n",
       "      <td>Medium</td>\n",
       "    </tr>\n",
       "    <tr>\n",
       "      <th>2</th>\n",
       "      <td>60</td>\n",
       "      <td>Low</td>\n",
       "    </tr>\n",
       "    <tr>\n",
       "      <th>3</th>\n",
       "      <td>90</td>\n",
       "      <td>High</td>\n",
       "    </tr>\n",
       "    <tr>\n",
       "      <th>4</th>\n",
       "      <td>78</td>\n",
       "      <td>Medium</td>\n",
       "    </tr>\n",
       "    <tr>\n",
       "      <th>5</th>\n",
       "      <td>55</td>\n",
       "      <td>Low</td>\n",
       "    </tr>\n",
       "    <tr>\n",
       "      <th>6</th>\n",
       "      <td>88</td>\n",
       "      <td>High</td>\n",
       "    </tr>\n",
       "    <tr>\n",
       "      <th>7</th>\n",
       "      <td>92</td>\n",
       "      <td>High</td>\n",
       "    </tr>\n",
       "    <tr>\n",
       "      <th>8</th>\n",
       "      <td>75</td>\n",
       "      <td>Medium</td>\n",
       "    </tr>\n",
       "    <tr>\n",
       "      <th>9</th>\n",
       "      <td>68</td>\n",
       "      <td>Low</td>\n",
       "    </tr>\n",
       "  </tbody>\n",
       "</table>\n",
       "</div>"
      ],
      "text/plain": [
       "   Scores Score Category\n",
       "0      70            Low\n",
       "1      82         Medium\n",
       "2      60            Low\n",
       "3      90           High\n",
       "4      78         Medium\n",
       "5      55            Low\n",
       "6      88           High\n",
       "7      92           High\n",
       "8      75         Medium\n",
       "9      68            Low"
      ]
     },
     "execution_count": 189,
     "metadata": {},
     "output_type": "execute_result"
    }
   ],
   "source": [
    "import pandas as pd\n",
    "\n",
    "# Sample data\n",
    "data = {'Scores': [70, 82, 60, 90, 78, 55, 88, 92, 75, 68]}\n",
    "df = pd.DataFrame(data)\n",
    "\n",
    "# Use qcut to create quantile-based bins\n",
    "quantile_bins = pd.qcut(df['Scores'], q=3, labels=['Low', 'Medium', 'High'])\n",
    "\n",
    "df['Score Category'] = quantile_bins\n",
    "\n",
    "df"
   ]
  },
  {
   "cell_type": "markdown",
   "id": "c84d3735",
   "metadata": {
    "papermill": {
     "duration": 0.093683,
     "end_time": "2023-10-25T14:11:15.873030",
     "exception": false,
     "start_time": "2023-10-25T14:11:15.779347",
     "status": "completed"
    },
    "tags": []
   },
   "source": [
    "In this example, we:\n",
    "\n",
    "1. Import Pandas and create a DataFrame with a column 'Scores' containing numerical values.\n",
    "\n",
    "2. Use `pd.qcut()` to create quantile-based bins. The `q` parameter specifies the number of quantiles or bins you want to create, and `labels` allow you to assign labels to each bin. In this case, we create three quantile-based bins labeled as 'Low,' 'Medium,' and 'High.'\n",
    "\n",
    "3. Add a new column, 'Score Category,' to the DataFrame to store the quantile-based categories.\n",
    "\n",
    "The resulting DataFrame will have the 'Score Category' column, with each individual's score categorized into one of the quantile-based bins. The `pd.qcut()` function ensures that each bin contains approximately the same number of data points, making it suitable for equal-frequency binning and avoiding bias in the bin sizes.\n",
    "\n",
    "`pd.qcut()` is particularly useful when you want to categorize data into intervals based on the distribution of the data itself, ensuring that you have a balanced representation in each category."
   ]
  },
  {
   "cell_type": "markdown",
   "id": "6be5f6dc",
   "metadata": {
    "papermill": {
     "duration": 0.095839,
     "end_time": "2023-10-25T14:11:16.063903",
     "exception": false,
     "start_time": "2023-10-25T14:11:15.968064",
     "status": "completed"
    },
    "tags": []
   },
   "source": [
    "#### 11. **Merging and Joining Data**:\n",
    "\n",
    "    - `concat()`, `merge()`: Combines multiple DataFrames.\n",
    "    - `join()`: Joins DataFrames on a common column."
   ]
  },
  {
   "cell_type": "markdown",
   "id": "81e174a5",
   "metadata": {
    "papermill": {
     "duration": 0.09384,
     "end_time": "2023-10-25T14:11:16.252444",
     "exception": false,
     "start_time": "2023-10-25T14:11:16.158604",
     "status": "completed"
    },
    "tags": []
   },
   "source": [
    "Merging and joining data in Pandas is a crucial operation when working with multiple DataFrames. These operations allow you to combine or join data from different sources based on common columns or keys. Here's an overview of the key functions for merging and joining data in Pandas:\n",
    "\n",
    "1. **`pd.concat()`:**\n",
    "   - The `pd.concat()` function is used to concatenate or stack multiple DataFrames along a particular axis (either rows or columns). It is useful when you want to combine data from different DataFrames without regard to their indexes.\n",
    "   \n",
    "   ```python\n",
    "   concatenated = pd.concat([df1, df2], axis=0)  # Concatenate vertically (along rows)\n",
    "   concatenated = pd.concat([df1, df2], axis=1)  # Concatenate horizontally (along columns)\n",
    "   ```"
   ]
  },
  {
   "cell_type": "code",
   "execution_count": 190,
   "id": "1549d87e",
   "metadata": {
    "execution": {
     "iopub.execute_input": "2023-10-25T14:11:16.442462Z",
     "iopub.status.busy": "2023-10-25T14:11:16.441891Z",
     "iopub.status.idle": "2023-10-25T14:11:16.448483Z",
     "shell.execute_reply": "2023-10-25T14:11:16.447733Z"
    },
    "papermill": {
     "duration": 0.103022,
     "end_time": "2023-10-25T14:11:16.450512",
     "exception": false,
     "start_time": "2023-10-25T14:11:16.347490",
     "status": "completed"
    },
    "tags": []
   },
   "outputs": [],
   "source": [
    "import pandas as pd\n",
    "\n",
    "# Sample data\n",
    "data1 = {'A': ['A0', 'A1', 'A2'],\n",
    "         'B': ['B0', 'B1', 'B2']}\n",
    "data2 = {'A': ['A3', 'A4', 'A5'],\n",
    "         'B': ['B3', 'B4', 'B5']}\n",
    "df1 = pd.DataFrame(data1)\n",
    "df2 = pd.DataFrame(data2)\n",
    "\n",
    "# Concatenate vertically (along rows)\n",
    "concatenated = pd.concat([df1, df2], axis=0)"
   ]
  },
  {
   "cell_type": "code",
   "execution_count": 191,
   "id": "ba9c0132",
   "metadata": {
    "execution": {
     "iopub.execute_input": "2023-10-25T14:11:16.641056Z",
     "iopub.status.busy": "2023-10-25T14:11:16.640471Z",
     "iopub.status.idle": "2023-10-25T14:11:16.648665Z",
     "shell.execute_reply": "2023-10-25T14:11:16.647568Z"
    },
    "papermill": {
     "duration": 0.106767,
     "end_time": "2023-10-25T14:11:16.650624",
     "exception": false,
     "start_time": "2023-10-25T14:11:16.543857",
     "status": "completed"
    },
    "tags": []
   },
   "outputs": [
    {
     "data": {
      "text/html": [
       "<div>\n",
       "<style scoped>\n",
       "    .dataframe tbody tr th:only-of-type {\n",
       "        vertical-align: middle;\n",
       "    }\n",
       "\n",
       "    .dataframe tbody tr th {\n",
       "        vertical-align: top;\n",
       "    }\n",
       "\n",
       "    .dataframe thead th {\n",
       "        text-align: right;\n",
       "    }\n",
       "</style>\n",
       "<table border=\"1\" class=\"dataframe\">\n",
       "  <thead>\n",
       "    <tr style=\"text-align: right;\">\n",
       "      <th></th>\n",
       "      <th>A</th>\n",
       "      <th>B</th>\n",
       "    </tr>\n",
       "  </thead>\n",
       "  <tbody>\n",
       "    <tr>\n",
       "      <th>0</th>\n",
       "      <td>A0</td>\n",
       "      <td>B0</td>\n",
       "    </tr>\n",
       "    <tr>\n",
       "      <th>1</th>\n",
       "      <td>A1</td>\n",
       "      <td>B1</td>\n",
       "    </tr>\n",
       "    <tr>\n",
       "      <th>2</th>\n",
       "      <td>A2</td>\n",
       "      <td>B2</td>\n",
       "    </tr>\n",
       "  </tbody>\n",
       "</table>\n",
       "</div>"
      ],
      "text/plain": [
       "    A   B\n",
       "0  A0  B0\n",
       "1  A1  B1\n",
       "2  A2  B2"
      ]
     },
     "execution_count": 191,
     "metadata": {},
     "output_type": "execute_result"
    }
   ],
   "source": [
    "df1"
   ]
  },
  {
   "cell_type": "code",
   "execution_count": 192,
   "id": "29f4c990",
   "metadata": {
    "execution": {
     "iopub.execute_input": "2023-10-25T14:11:16.842342Z",
     "iopub.status.busy": "2023-10-25T14:11:16.841768Z",
     "iopub.status.idle": "2023-10-25T14:11:16.849867Z",
     "shell.execute_reply": "2023-10-25T14:11:16.848944Z"
    },
    "papermill": {
     "duration": 0.104865,
     "end_time": "2023-10-25T14:11:16.851896",
     "exception": false,
     "start_time": "2023-10-25T14:11:16.747031",
     "status": "completed"
    },
    "tags": []
   },
   "outputs": [
    {
     "data": {
      "text/html": [
       "<div>\n",
       "<style scoped>\n",
       "    .dataframe tbody tr th:only-of-type {\n",
       "        vertical-align: middle;\n",
       "    }\n",
       "\n",
       "    .dataframe tbody tr th {\n",
       "        vertical-align: top;\n",
       "    }\n",
       "\n",
       "    .dataframe thead th {\n",
       "        text-align: right;\n",
       "    }\n",
       "</style>\n",
       "<table border=\"1\" class=\"dataframe\">\n",
       "  <thead>\n",
       "    <tr style=\"text-align: right;\">\n",
       "      <th></th>\n",
       "      <th>A</th>\n",
       "      <th>B</th>\n",
       "    </tr>\n",
       "  </thead>\n",
       "  <tbody>\n",
       "    <tr>\n",
       "      <th>0</th>\n",
       "      <td>A3</td>\n",
       "      <td>B3</td>\n",
       "    </tr>\n",
       "    <tr>\n",
       "      <th>1</th>\n",
       "      <td>A4</td>\n",
       "      <td>B4</td>\n",
       "    </tr>\n",
       "    <tr>\n",
       "      <th>2</th>\n",
       "      <td>A5</td>\n",
       "      <td>B5</td>\n",
       "    </tr>\n",
       "  </tbody>\n",
       "</table>\n",
       "</div>"
      ],
      "text/plain": [
       "    A   B\n",
       "0  A3  B3\n",
       "1  A4  B4\n",
       "2  A5  B5"
      ]
     },
     "execution_count": 192,
     "metadata": {},
     "output_type": "execute_result"
    }
   ],
   "source": [
    "df2"
   ]
  },
  {
   "cell_type": "code",
   "execution_count": 193,
   "id": "2d70789d",
   "metadata": {
    "execution": {
     "iopub.execute_input": "2023-10-25T14:11:17.105045Z",
     "iopub.status.busy": "2023-10-25T14:11:17.104417Z",
     "iopub.status.idle": "2023-10-25T14:11:17.113047Z",
     "shell.execute_reply": "2023-10-25T14:11:17.112285Z"
    },
    "papermill": {
     "duration": 0.168708,
     "end_time": "2023-10-25T14:11:17.114912",
     "exception": false,
     "start_time": "2023-10-25T14:11:16.946204",
     "status": "completed"
    },
    "tags": []
   },
   "outputs": [
    {
     "data": {
      "text/html": [
       "<div>\n",
       "<style scoped>\n",
       "    .dataframe tbody tr th:only-of-type {\n",
       "        vertical-align: middle;\n",
       "    }\n",
       "\n",
       "    .dataframe tbody tr th {\n",
       "        vertical-align: top;\n",
       "    }\n",
       "\n",
       "    .dataframe thead th {\n",
       "        text-align: right;\n",
       "    }\n",
       "</style>\n",
       "<table border=\"1\" class=\"dataframe\">\n",
       "  <thead>\n",
       "    <tr style=\"text-align: right;\">\n",
       "      <th></th>\n",
       "      <th>A</th>\n",
       "      <th>B</th>\n",
       "    </tr>\n",
       "  </thead>\n",
       "  <tbody>\n",
       "    <tr>\n",
       "      <th>0</th>\n",
       "      <td>A0</td>\n",
       "      <td>B0</td>\n",
       "    </tr>\n",
       "    <tr>\n",
       "      <th>1</th>\n",
       "      <td>A1</td>\n",
       "      <td>B1</td>\n",
       "    </tr>\n",
       "    <tr>\n",
       "      <th>2</th>\n",
       "      <td>A2</td>\n",
       "      <td>B2</td>\n",
       "    </tr>\n",
       "    <tr>\n",
       "      <th>0</th>\n",
       "      <td>A3</td>\n",
       "      <td>B3</td>\n",
       "    </tr>\n",
       "    <tr>\n",
       "      <th>1</th>\n",
       "      <td>A4</td>\n",
       "      <td>B4</td>\n",
       "    </tr>\n",
       "    <tr>\n",
       "      <th>2</th>\n",
       "      <td>A5</td>\n",
       "      <td>B5</td>\n",
       "    </tr>\n",
       "  </tbody>\n",
       "</table>\n",
       "</div>"
      ],
      "text/plain": [
       "    A   B\n",
       "0  A0  B0\n",
       "1  A1  B1\n",
       "2  A2  B2\n",
       "0  A3  B3\n",
       "1  A4  B4\n",
       "2  A5  B5"
      ]
     },
     "execution_count": 193,
     "metadata": {},
     "output_type": "execute_result"
    }
   ],
   "source": [
    "concatenated"
   ]
  },
  {
   "cell_type": "code",
   "execution_count": 194,
   "id": "5c5fb7f7",
   "metadata": {
    "execution": {
     "iopub.execute_input": "2023-10-25T14:11:17.305744Z",
     "iopub.status.busy": "2023-10-25T14:11:17.305102Z",
     "iopub.status.idle": "2023-10-25T14:11:17.311822Z",
     "shell.execute_reply": "2023-10-25T14:11:17.310756Z"
    },
    "papermill": {
     "duration": 0.103818,
     "end_time": "2023-10-25T14:11:17.313947",
     "exception": false,
     "start_time": "2023-10-25T14:11:17.210129",
     "status": "completed"
    },
    "tags": []
   },
   "outputs": [],
   "source": [
    "import pandas as pd\n",
    "\n",
    "# Sample data\n",
    "data1 = {'A': ['A0', 'A1', 'A2'],\n",
    "         'B': ['B0', 'B1', 'B2']}\n",
    "data2 = {'C': ['C0', 'C1', 'C2'],\n",
    "         'D': ['D0', 'D1', 'D2']}\n",
    "df1 = pd.DataFrame(data1)\n",
    "df2 = pd.DataFrame(data2)\n",
    "\n",
    "# Concatenate horizontally (along columns)\n",
    "concatenated = pd.concat([df1, df2], axis=1)"
   ]
  },
  {
   "cell_type": "code",
   "execution_count": 195,
   "id": "6c8d6405",
   "metadata": {
    "execution": {
     "iopub.execute_input": "2023-10-25T14:11:17.504169Z",
     "iopub.status.busy": "2023-10-25T14:11:17.503580Z",
     "iopub.status.idle": "2023-10-25T14:11:17.511696Z",
     "shell.execute_reply": "2023-10-25T14:11:17.510762Z"
    },
    "papermill": {
     "duration": 0.105125,
     "end_time": "2023-10-25T14:11:17.513599",
     "exception": false,
     "start_time": "2023-10-25T14:11:17.408474",
     "status": "completed"
    },
    "tags": []
   },
   "outputs": [
    {
     "data": {
      "text/html": [
       "<div>\n",
       "<style scoped>\n",
       "    .dataframe tbody tr th:only-of-type {\n",
       "        vertical-align: middle;\n",
       "    }\n",
       "\n",
       "    .dataframe tbody tr th {\n",
       "        vertical-align: top;\n",
       "    }\n",
       "\n",
       "    .dataframe thead th {\n",
       "        text-align: right;\n",
       "    }\n",
       "</style>\n",
       "<table border=\"1\" class=\"dataframe\">\n",
       "  <thead>\n",
       "    <tr style=\"text-align: right;\">\n",
       "      <th></th>\n",
       "      <th>A</th>\n",
       "      <th>B</th>\n",
       "    </tr>\n",
       "  </thead>\n",
       "  <tbody>\n",
       "    <tr>\n",
       "      <th>0</th>\n",
       "      <td>A0</td>\n",
       "      <td>B0</td>\n",
       "    </tr>\n",
       "    <tr>\n",
       "      <th>1</th>\n",
       "      <td>A1</td>\n",
       "      <td>B1</td>\n",
       "    </tr>\n",
       "    <tr>\n",
       "      <th>2</th>\n",
       "      <td>A2</td>\n",
       "      <td>B2</td>\n",
       "    </tr>\n",
       "  </tbody>\n",
       "</table>\n",
       "</div>"
      ],
      "text/plain": [
       "    A   B\n",
       "0  A0  B0\n",
       "1  A1  B1\n",
       "2  A2  B2"
      ]
     },
     "execution_count": 195,
     "metadata": {},
     "output_type": "execute_result"
    }
   ],
   "source": [
    "df1"
   ]
  },
  {
   "cell_type": "code",
   "execution_count": 196,
   "id": "b5a60f3e",
   "metadata": {
    "execution": {
     "iopub.execute_input": "2023-10-25T14:11:17.705977Z",
     "iopub.status.busy": "2023-10-25T14:11:17.705404Z",
     "iopub.status.idle": "2023-10-25T14:11:17.713355Z",
     "shell.execute_reply": "2023-10-25T14:11:17.712535Z"
    },
    "papermill": {
     "duration": 0.106526,
     "end_time": "2023-10-25T14:11:17.715380",
     "exception": false,
     "start_time": "2023-10-25T14:11:17.608854",
     "status": "completed"
    },
    "tags": []
   },
   "outputs": [
    {
     "data": {
      "text/html": [
       "<div>\n",
       "<style scoped>\n",
       "    .dataframe tbody tr th:only-of-type {\n",
       "        vertical-align: middle;\n",
       "    }\n",
       "\n",
       "    .dataframe tbody tr th {\n",
       "        vertical-align: top;\n",
       "    }\n",
       "\n",
       "    .dataframe thead th {\n",
       "        text-align: right;\n",
       "    }\n",
       "</style>\n",
       "<table border=\"1\" class=\"dataframe\">\n",
       "  <thead>\n",
       "    <tr style=\"text-align: right;\">\n",
       "      <th></th>\n",
       "      <th>C</th>\n",
       "      <th>D</th>\n",
       "    </tr>\n",
       "  </thead>\n",
       "  <tbody>\n",
       "    <tr>\n",
       "      <th>0</th>\n",
       "      <td>C0</td>\n",
       "      <td>D0</td>\n",
       "    </tr>\n",
       "    <tr>\n",
       "      <th>1</th>\n",
       "      <td>C1</td>\n",
       "      <td>D1</td>\n",
       "    </tr>\n",
       "    <tr>\n",
       "      <th>2</th>\n",
       "      <td>C2</td>\n",
       "      <td>D2</td>\n",
       "    </tr>\n",
       "  </tbody>\n",
       "</table>\n",
       "</div>"
      ],
      "text/plain": [
       "    C   D\n",
       "0  C0  D0\n",
       "1  C1  D1\n",
       "2  C2  D2"
      ]
     },
     "execution_count": 196,
     "metadata": {},
     "output_type": "execute_result"
    }
   ],
   "source": [
    "df2"
   ]
  },
  {
   "cell_type": "code",
   "execution_count": 197,
   "id": "11762afc",
   "metadata": {
    "execution": {
     "iopub.execute_input": "2023-10-25T14:11:17.907897Z",
     "iopub.status.busy": "2023-10-25T14:11:17.907299Z",
     "iopub.status.idle": "2023-10-25T14:11:17.916666Z",
     "shell.execute_reply": "2023-10-25T14:11:17.915567Z"
    },
    "papermill": {
     "duration": 0.10752,
     "end_time": "2023-10-25T14:11:17.918690",
     "exception": false,
     "start_time": "2023-10-25T14:11:17.811170",
     "status": "completed"
    },
    "tags": []
   },
   "outputs": [
    {
     "data": {
      "text/html": [
       "<div>\n",
       "<style scoped>\n",
       "    .dataframe tbody tr th:only-of-type {\n",
       "        vertical-align: middle;\n",
       "    }\n",
       "\n",
       "    .dataframe tbody tr th {\n",
       "        vertical-align: top;\n",
       "    }\n",
       "\n",
       "    .dataframe thead th {\n",
       "        text-align: right;\n",
       "    }\n",
       "</style>\n",
       "<table border=\"1\" class=\"dataframe\">\n",
       "  <thead>\n",
       "    <tr style=\"text-align: right;\">\n",
       "      <th></th>\n",
       "      <th>A</th>\n",
       "      <th>B</th>\n",
       "      <th>C</th>\n",
       "      <th>D</th>\n",
       "    </tr>\n",
       "  </thead>\n",
       "  <tbody>\n",
       "    <tr>\n",
       "      <th>0</th>\n",
       "      <td>A0</td>\n",
       "      <td>B0</td>\n",
       "      <td>C0</td>\n",
       "      <td>D0</td>\n",
       "    </tr>\n",
       "    <tr>\n",
       "      <th>1</th>\n",
       "      <td>A1</td>\n",
       "      <td>B1</td>\n",
       "      <td>C1</td>\n",
       "      <td>D1</td>\n",
       "    </tr>\n",
       "    <tr>\n",
       "      <th>2</th>\n",
       "      <td>A2</td>\n",
       "      <td>B2</td>\n",
       "      <td>C2</td>\n",
       "      <td>D2</td>\n",
       "    </tr>\n",
       "  </tbody>\n",
       "</table>\n",
       "</div>"
      ],
      "text/plain": [
       "    A   B   C   D\n",
       "0  A0  B0  C0  D0\n",
       "1  A1  B1  C1  D1\n",
       "2  A2  B2  C2  D2"
      ]
     },
     "execution_count": 197,
     "metadata": {},
     "output_type": "execute_result"
    }
   ],
   "source": [
    "concatenated"
   ]
  },
  {
   "cell_type": "markdown",
   "id": "0e5c82d3",
   "metadata": {
    "papermill": {
     "duration": 0.093568,
     "end_time": "2023-10-25T14:11:18.108908",
     "exception": false,
     "start_time": "2023-10-25T14:11:18.015340",
     "status": "completed"
    },
    "tags": []
   },
   "source": [
    "2. **`pd.merge()`:**\n",
    "   - The `pd.merge()` function is used to perform database-style joins on DataFrames. It allows you to combine DataFrames based on common columns or keys, similar to SQL joins. You can specify the type of join (inner, outer, left, or right) and the columns on which to join.\n",
    "   \n",
    "   ```python\n",
    "   merged = pd.merge(df1, df2, on='common_column', how='inner')  # Inner join\n",
    "   ```"
   ]
  },
  {
   "cell_type": "markdown",
   "id": "292e48c0",
   "metadata": {
    "papermill": {
     "duration": 0.094287,
     "end_time": "2023-10-25T14:11:18.297787",
     "exception": false,
     "start_time": "2023-10-25T14:11:18.203500",
     "status": "completed"
    },
    "tags": []
   },
   "source": [
    "The `pd.merge()` function in Pandas is used to combine two or more DataFrames based on common columns or keys, similar to how SQL joins work. Let's go through an example to demonstrate how to use `pd.merge()`:\n",
    "\n",
    "Suppose you have two DataFrames, `df1` and `df2`, and you want to merge them based on a common column called \"Key.\"\n",
    "\n",
    "**Example: Merging DataFrames with `pd.merge()`**"
   ]
  },
  {
   "cell_type": "code",
   "execution_count": 198,
   "id": "d544a3a4",
   "metadata": {
    "execution": {
     "iopub.execute_input": "2023-10-25T14:11:18.488764Z",
     "iopub.status.busy": "2023-10-25T14:11:18.488175Z",
     "iopub.status.idle": "2023-10-25T14:11:18.501452Z",
     "shell.execute_reply": "2023-10-25T14:11:18.500644Z"
    },
    "papermill": {
     "duration": 0.110943,
     "end_time": "2023-10-25T14:11:18.503681",
     "exception": false,
     "start_time": "2023-10-25T14:11:18.392738",
     "status": "completed"
    },
    "tags": []
   },
   "outputs": [],
   "source": [
    "import pandas as pd\n",
    "\n",
    "# Sample data for df1\n",
    "data1 = {'Key': ['A', 'B', 'C', 'D'],\n",
    "         'Value1': [1, 2, 3, 4]}\n",
    "df1 = pd.DataFrame(data1)\n",
    "\n",
    "# Sample data for df2\n",
    "data2 = {'Key': ['B', 'D', 'E', 'F'],\n",
    "         'Value2': [5, 6, 7, 8]}\n",
    "df2 = pd.DataFrame(data2)\n",
    "\n",
    "# Merge df1 and df2 based on the 'Key' column\n",
    "merged = pd.merge(df1, df2, on='Key', how='inner')"
   ]
  },
  {
   "cell_type": "code",
   "execution_count": 199,
   "id": "df90a1c6",
   "metadata": {
    "execution": {
     "iopub.execute_input": "2023-10-25T14:11:18.696554Z",
     "iopub.status.busy": "2023-10-25T14:11:18.695913Z",
     "iopub.status.idle": "2023-10-25T14:11:18.704924Z",
     "shell.execute_reply": "2023-10-25T14:11:18.703861Z"
    },
    "papermill": {
     "duration": 0.108262,
     "end_time": "2023-10-25T14:11:18.707028",
     "exception": false,
     "start_time": "2023-10-25T14:11:18.598766",
     "status": "completed"
    },
    "tags": []
   },
   "outputs": [
    {
     "data": {
      "text/html": [
       "<div>\n",
       "<style scoped>\n",
       "    .dataframe tbody tr th:only-of-type {\n",
       "        vertical-align: middle;\n",
       "    }\n",
       "\n",
       "    .dataframe tbody tr th {\n",
       "        vertical-align: top;\n",
       "    }\n",
       "\n",
       "    .dataframe thead th {\n",
       "        text-align: right;\n",
       "    }\n",
       "</style>\n",
       "<table border=\"1\" class=\"dataframe\">\n",
       "  <thead>\n",
       "    <tr style=\"text-align: right;\">\n",
       "      <th></th>\n",
       "      <th>Key</th>\n",
       "      <th>Value1</th>\n",
       "    </tr>\n",
       "  </thead>\n",
       "  <tbody>\n",
       "    <tr>\n",
       "      <th>0</th>\n",
       "      <td>A</td>\n",
       "      <td>1</td>\n",
       "    </tr>\n",
       "    <tr>\n",
       "      <th>1</th>\n",
       "      <td>B</td>\n",
       "      <td>2</td>\n",
       "    </tr>\n",
       "    <tr>\n",
       "      <th>2</th>\n",
       "      <td>C</td>\n",
       "      <td>3</td>\n",
       "    </tr>\n",
       "    <tr>\n",
       "      <th>3</th>\n",
       "      <td>D</td>\n",
       "      <td>4</td>\n",
       "    </tr>\n",
       "  </tbody>\n",
       "</table>\n",
       "</div>"
      ],
      "text/plain": [
       "  Key  Value1\n",
       "0   A       1\n",
       "1   B       2\n",
       "2   C       3\n",
       "3   D       4"
      ]
     },
     "execution_count": 199,
     "metadata": {},
     "output_type": "execute_result"
    }
   ],
   "source": [
    "df1"
   ]
  },
  {
   "cell_type": "code",
   "execution_count": 200,
   "id": "01a36377",
   "metadata": {
    "execution": {
     "iopub.execute_input": "2023-10-25T14:11:18.901519Z",
     "iopub.status.busy": "2023-10-25T14:11:18.900861Z",
     "iopub.status.idle": "2023-10-25T14:11:18.910060Z",
     "shell.execute_reply": "2023-10-25T14:11:18.909349Z"
    },
    "papermill": {
     "duration": 0.106487,
     "end_time": "2023-10-25T14:11:18.912039",
     "exception": false,
     "start_time": "2023-10-25T14:11:18.805552",
     "status": "completed"
    },
    "tags": []
   },
   "outputs": [
    {
     "data": {
      "text/html": [
       "<div>\n",
       "<style scoped>\n",
       "    .dataframe tbody tr th:only-of-type {\n",
       "        vertical-align: middle;\n",
       "    }\n",
       "\n",
       "    .dataframe tbody tr th {\n",
       "        vertical-align: top;\n",
       "    }\n",
       "\n",
       "    .dataframe thead th {\n",
       "        text-align: right;\n",
       "    }\n",
       "</style>\n",
       "<table border=\"1\" class=\"dataframe\">\n",
       "  <thead>\n",
       "    <tr style=\"text-align: right;\">\n",
       "      <th></th>\n",
       "      <th>Key</th>\n",
       "      <th>Value2</th>\n",
       "    </tr>\n",
       "  </thead>\n",
       "  <tbody>\n",
       "    <tr>\n",
       "      <th>0</th>\n",
       "      <td>B</td>\n",
       "      <td>5</td>\n",
       "    </tr>\n",
       "    <tr>\n",
       "      <th>1</th>\n",
       "      <td>D</td>\n",
       "      <td>6</td>\n",
       "    </tr>\n",
       "    <tr>\n",
       "      <th>2</th>\n",
       "      <td>E</td>\n",
       "      <td>7</td>\n",
       "    </tr>\n",
       "    <tr>\n",
       "      <th>3</th>\n",
       "      <td>F</td>\n",
       "      <td>8</td>\n",
       "    </tr>\n",
       "  </tbody>\n",
       "</table>\n",
       "</div>"
      ],
      "text/plain": [
       "  Key  Value2\n",
       "0   B       5\n",
       "1   D       6\n",
       "2   E       7\n",
       "3   F       8"
      ]
     },
     "execution_count": 200,
     "metadata": {},
     "output_type": "execute_result"
    }
   ],
   "source": [
    "df2"
   ]
  },
  {
   "cell_type": "code",
   "execution_count": 201,
   "id": "24af4aea",
   "metadata": {
    "execution": {
     "iopub.execute_input": "2023-10-25T14:11:19.106753Z",
     "iopub.status.busy": "2023-10-25T14:11:19.106091Z",
     "iopub.status.idle": "2023-10-25T14:11:19.114588Z",
     "shell.execute_reply": "2023-10-25T14:11:19.113852Z"
    },
    "papermill": {
     "duration": 0.107857,
     "end_time": "2023-10-25T14:11:19.116446",
     "exception": false,
     "start_time": "2023-10-25T14:11:19.008589",
     "status": "completed"
    },
    "tags": []
   },
   "outputs": [
    {
     "data": {
      "text/html": [
       "<div>\n",
       "<style scoped>\n",
       "    .dataframe tbody tr th:only-of-type {\n",
       "        vertical-align: middle;\n",
       "    }\n",
       "\n",
       "    .dataframe tbody tr th {\n",
       "        vertical-align: top;\n",
       "    }\n",
       "\n",
       "    .dataframe thead th {\n",
       "        text-align: right;\n",
       "    }\n",
       "</style>\n",
       "<table border=\"1\" class=\"dataframe\">\n",
       "  <thead>\n",
       "    <tr style=\"text-align: right;\">\n",
       "      <th></th>\n",
       "      <th>Key</th>\n",
       "      <th>Value1</th>\n",
       "      <th>Value2</th>\n",
       "    </tr>\n",
       "  </thead>\n",
       "  <tbody>\n",
       "    <tr>\n",
       "      <th>0</th>\n",
       "      <td>B</td>\n",
       "      <td>2</td>\n",
       "      <td>5</td>\n",
       "    </tr>\n",
       "    <tr>\n",
       "      <th>1</th>\n",
       "      <td>D</td>\n",
       "      <td>4</td>\n",
       "      <td>6</td>\n",
       "    </tr>\n",
       "  </tbody>\n",
       "</table>\n",
       "</div>"
      ],
      "text/plain": [
       "  Key  Value1  Value2\n",
       "0   B       2       5\n",
       "1   D       4       6"
      ]
     },
     "execution_count": 201,
     "metadata": {},
     "output_type": "execute_result"
    }
   ],
   "source": [
    "merged"
   ]
  },
  {
   "cell_type": "markdown",
   "id": "47c61f33",
   "metadata": {
    "papermill": {
     "duration": 0.094403,
     "end_time": "2023-10-25T14:11:19.307516",
     "exception": false,
     "start_time": "2023-10-25T14:11:19.213113",
     "status": "completed"
    },
    "tags": []
   },
   "source": [
    "In this example, we:\n",
    "\n",
    "1. Import Pandas and create two DataFrames, `df1` and `df2`, each with a 'Key' column.\n",
    "\n",
    "2. Use `pd.merge()` to merge `df1` and `df2` based on the 'Key' column. We specify `on='Key'` to indicate that we want to merge on the 'Key' column.\n",
    "\n",
    "3. We also specify `how='inner'` to perform an inner join. An inner join includes only the common 'Key' values present in both DataFrames. Other options for `how` include 'left,' 'right,' and 'outer' to perform left, right, or full outer joins, respectively.\n",
    "\n",
    "The resulting `merged` DataFrame will contain only the rows with common 'Key' values from both `df1` and `df2`. In this case, it will contain rows with 'Key' values 'B' and 'D.'\n",
    "\n",
    "Output of the `merged` DataFrame:\n",
    "\n",
    "```\n",
    "  Key  Value1  Value2\n",
    "0   B       2       5\n",
    "1   D       4       6\n",
    "```\n",
    "\n",
    "This demonstrates how `pd.merge()` is used to perform various types of joins, such as inner, left, right, or outer joins, based on common columns or keys in different DataFrames. It's a powerful tool for integrating and combining data from multiple sources."
   ]
  },
  {
   "cell_type": "markdown",
   "id": "131601b2",
   "metadata": {
    "papermill": {
     "duration": 0.094799,
     "end_time": "2023-10-25T14:11:19.497645",
     "exception": false,
     "start_time": "2023-10-25T14:11:19.402846",
     "status": "completed"
    },
    "tags": []
   },
   "source": [
    "3. **`.join()`:**\n",
    "   - The `.join()` method is used to join two DataFrames based on a common column, typically the index column. It provides a convenient way to perform left or right joins.\n",
    "   \n",
    "   ```python\n",
    "   df1.join(df2, how='left')  # Left join\n",
    "   ```\n",
    "\n",
    "These functions and methods are powerful tools for combining data from different sources into a single DataFrame, either by stacking them (using `pd.concat()`) or by merging them (using `pd.merge()` or `.join()`).\n",
    "\n",
    "In addition to these, you can specify key columns, handle duplicate column names, and perform more complex merging and joining operations, including merging on multiple columns or keys.\n",
    "\n",
    "The choice of which method to use depends on the specific requirements of your data and the type of merge or join operation you want to perform. Understanding the different types of joins (inner, outer, left, right) and how to specify key columns is important when working with these functions."
   ]
  },
  {
   "cell_type": "markdown",
   "id": "93de03b7",
   "metadata": {
    "papermill": {
     "duration": 0.095335,
     "end_time": "2023-10-25T14:11:19.690364",
     "exception": false,
     "start_time": "2023-10-25T14:11:19.595029",
     "status": "completed"
    },
    "tags": []
   },
   "source": [
    "In Pandas, the `.join()` method is used to combine two DataFrames based on a common column or index. The `.join()` method is more commonly used when you want to join DataFrames on their indices. Let's go through an example to demonstrate how to use `.join()`:\n",
    "\n",
    "Suppose you have two DataFrames, `df1` and `df2`, and you want to join them based on their indices or a common column, such as \"Key.\"\n",
    "\n",
    "**Example: Joining DataFrames with `.join()`**"
   ]
  },
  {
   "cell_type": "code",
   "execution_count": 202,
   "id": "d0cb36f0",
   "metadata": {
    "execution": {
     "iopub.execute_input": "2023-10-25T14:11:19.893853Z",
     "iopub.status.busy": "2023-10-25T14:11:19.893204Z",
     "iopub.status.idle": "2023-10-25T14:11:19.902037Z",
     "shell.execute_reply": "2023-10-25T14:11:19.900891Z"
    },
    "papermill": {
     "duration": 0.117317,
     "end_time": "2023-10-25T14:11:19.904337",
     "exception": false,
     "start_time": "2023-10-25T14:11:19.787020",
     "status": "completed"
    },
    "tags": []
   },
   "outputs": [],
   "source": [
    "import pandas as pd\n",
    "\n",
    "# Sample data for df1\n",
    "data1 = {'Key': ['A', 'B', 'C', 'D'],\n",
    "         'Value1': [1, 2, 3, 4]}\n",
    "df1 = pd.DataFrame(data1)\n",
    "\n",
    "# Sample data for df2\n",
    "data2 = {'Value2': [5, 6, 7, 8]}\n",
    "df2 = pd.DataFrame(data2, index=['B', 'D', 'E', 'F'])\n",
    "\n",
    "# Join df1 and df2 based on their indices\n",
    "joined = df1.set_index('Key').join(df2, how='left')"
   ]
  },
  {
   "cell_type": "code",
   "execution_count": 203,
   "id": "25cbdd75",
   "metadata": {
    "execution": {
     "iopub.execute_input": "2023-10-25T14:11:20.098522Z",
     "iopub.status.busy": "2023-10-25T14:11:20.097410Z",
     "iopub.status.idle": "2023-10-25T14:11:20.106821Z",
     "shell.execute_reply": "2023-10-25T14:11:20.105675Z"
    },
    "papermill": {
     "duration": 0.108588,
     "end_time": "2023-10-25T14:11:20.109159",
     "exception": false,
     "start_time": "2023-10-25T14:11:20.000571",
     "status": "completed"
    },
    "tags": []
   },
   "outputs": [
    {
     "data": {
      "text/html": [
       "<div>\n",
       "<style scoped>\n",
       "    .dataframe tbody tr th:only-of-type {\n",
       "        vertical-align: middle;\n",
       "    }\n",
       "\n",
       "    .dataframe tbody tr th {\n",
       "        vertical-align: top;\n",
       "    }\n",
       "\n",
       "    .dataframe thead th {\n",
       "        text-align: right;\n",
       "    }\n",
       "</style>\n",
       "<table border=\"1\" class=\"dataframe\">\n",
       "  <thead>\n",
       "    <tr style=\"text-align: right;\">\n",
       "      <th></th>\n",
       "      <th>Key</th>\n",
       "      <th>Value1</th>\n",
       "    </tr>\n",
       "  </thead>\n",
       "  <tbody>\n",
       "    <tr>\n",
       "      <th>0</th>\n",
       "      <td>A</td>\n",
       "      <td>1</td>\n",
       "    </tr>\n",
       "    <tr>\n",
       "      <th>1</th>\n",
       "      <td>B</td>\n",
       "      <td>2</td>\n",
       "    </tr>\n",
       "    <tr>\n",
       "      <th>2</th>\n",
       "      <td>C</td>\n",
       "      <td>3</td>\n",
       "    </tr>\n",
       "    <tr>\n",
       "      <th>3</th>\n",
       "      <td>D</td>\n",
       "      <td>4</td>\n",
       "    </tr>\n",
       "  </tbody>\n",
       "</table>\n",
       "</div>"
      ],
      "text/plain": [
       "  Key  Value1\n",
       "0   A       1\n",
       "1   B       2\n",
       "2   C       3\n",
       "3   D       4"
      ]
     },
     "execution_count": 203,
     "metadata": {},
     "output_type": "execute_result"
    }
   ],
   "source": [
    "df1"
   ]
  },
  {
   "cell_type": "code",
   "execution_count": 204,
   "id": "7720e80b",
   "metadata": {
    "execution": {
     "iopub.execute_input": "2023-10-25T14:11:20.302121Z",
     "iopub.status.busy": "2023-10-25T14:11:20.301746Z",
     "iopub.status.idle": "2023-10-25T14:11:20.310443Z",
     "shell.execute_reply": "2023-10-25T14:11:20.309344Z"
    },
    "papermill": {
     "duration": 0.107385,
     "end_time": "2023-10-25T14:11:20.312367",
     "exception": false,
     "start_time": "2023-10-25T14:11:20.204982",
     "status": "completed"
    },
    "tags": []
   },
   "outputs": [
    {
     "data": {
      "text/html": [
       "<div>\n",
       "<style scoped>\n",
       "    .dataframe tbody tr th:only-of-type {\n",
       "        vertical-align: middle;\n",
       "    }\n",
       "\n",
       "    .dataframe tbody tr th {\n",
       "        vertical-align: top;\n",
       "    }\n",
       "\n",
       "    .dataframe thead th {\n",
       "        text-align: right;\n",
       "    }\n",
       "</style>\n",
       "<table border=\"1\" class=\"dataframe\">\n",
       "  <thead>\n",
       "    <tr style=\"text-align: right;\">\n",
       "      <th></th>\n",
       "      <th>Value2</th>\n",
       "    </tr>\n",
       "  </thead>\n",
       "  <tbody>\n",
       "    <tr>\n",
       "      <th>B</th>\n",
       "      <td>5</td>\n",
       "    </tr>\n",
       "    <tr>\n",
       "      <th>D</th>\n",
       "      <td>6</td>\n",
       "    </tr>\n",
       "    <tr>\n",
       "      <th>E</th>\n",
       "      <td>7</td>\n",
       "    </tr>\n",
       "    <tr>\n",
       "      <th>F</th>\n",
       "      <td>8</td>\n",
       "    </tr>\n",
       "  </tbody>\n",
       "</table>\n",
       "</div>"
      ],
      "text/plain": [
       "   Value2\n",
       "B       5\n",
       "D       6\n",
       "E       7\n",
       "F       8"
      ]
     },
     "execution_count": 204,
     "metadata": {},
     "output_type": "execute_result"
    }
   ],
   "source": [
    "df2"
   ]
  },
  {
   "cell_type": "code",
   "execution_count": 205,
   "id": "4e168cd7",
   "metadata": {
    "execution": {
     "iopub.execute_input": "2023-10-25T14:11:20.504893Z",
     "iopub.status.busy": "2023-10-25T14:11:20.503960Z",
     "iopub.status.idle": "2023-10-25T14:11:20.513000Z",
     "shell.execute_reply": "2023-10-25T14:11:20.512182Z"
    },
    "papermill": {
     "duration": 0.107078,
     "end_time": "2023-10-25T14:11:20.514947",
     "exception": false,
     "start_time": "2023-10-25T14:11:20.407869",
     "status": "completed"
    },
    "tags": []
   },
   "outputs": [
    {
     "data": {
      "text/html": [
       "<div>\n",
       "<style scoped>\n",
       "    .dataframe tbody tr th:only-of-type {\n",
       "        vertical-align: middle;\n",
       "    }\n",
       "\n",
       "    .dataframe tbody tr th {\n",
       "        vertical-align: top;\n",
       "    }\n",
       "\n",
       "    .dataframe thead th {\n",
       "        text-align: right;\n",
       "    }\n",
       "</style>\n",
       "<table border=\"1\" class=\"dataframe\">\n",
       "  <thead>\n",
       "    <tr style=\"text-align: right;\">\n",
       "      <th></th>\n",
       "      <th>Value1</th>\n",
       "      <th>Value2</th>\n",
       "    </tr>\n",
       "    <tr>\n",
       "      <th>Key</th>\n",
       "      <th></th>\n",
       "      <th></th>\n",
       "    </tr>\n",
       "  </thead>\n",
       "  <tbody>\n",
       "    <tr>\n",
       "      <th>A</th>\n",
       "      <td>1</td>\n",
       "      <td>NaN</td>\n",
       "    </tr>\n",
       "    <tr>\n",
       "      <th>B</th>\n",
       "      <td>2</td>\n",
       "      <td>5.0</td>\n",
       "    </tr>\n",
       "    <tr>\n",
       "      <th>C</th>\n",
       "      <td>3</td>\n",
       "      <td>NaN</td>\n",
       "    </tr>\n",
       "    <tr>\n",
       "      <th>D</th>\n",
       "      <td>4</td>\n",
       "      <td>6.0</td>\n",
       "    </tr>\n",
       "  </tbody>\n",
       "</table>\n",
       "</div>"
      ],
      "text/plain": [
       "     Value1  Value2\n",
       "Key                \n",
       "A         1     NaN\n",
       "B         2     5.0\n",
       "C         3     NaN\n",
       "D         4     6.0"
      ]
     },
     "execution_count": 205,
     "metadata": {},
     "output_type": "execute_result"
    }
   ],
   "source": [
    "joined"
   ]
  },
  {
   "cell_type": "markdown",
   "id": "2bffe67d",
   "metadata": {
    "papermill": {
     "duration": 0.094951,
     "end_time": "2023-10-25T14:11:20.705125",
     "exception": false,
     "start_time": "2023-10-25T14:11:20.610174",
     "status": "completed"
    },
    "tags": []
   },
   "source": [
    "In this example, we:\n",
    "\n",
    "1. Import Pandas and create two DataFrames, `df1` and `df2`. `df1` has a 'Key' column, and `df2` has a 'Value2' column.\n",
    "\n",
    "2. Use `.set_index('Key')` to set the 'Key' column as the index in `df1`. This prepares `df1` for the join.\n",
    "\n",
    "3. Use the `.join()` method to join `df1` and `df2`. We specify `how='left'` to perform a left join, keeping all rows from `df1` and matching rows from `df2`.\n",
    "\n",
    "The resulting `joined` DataFrame will be based on the indices of `df1` and will contain values from both DataFrames, aligning them based on the common 'Key' values.\n",
    "\n",
    "Output of the `joined` DataFrame:\n",
    "\n",
    "```\n",
    "     Value1  Value2\n",
    "Key                \n",
    "A         1     NaN\n",
    "B         2     5.0\n",
    "C         3     NaN\n",
    "D         4     6.0\n",
    "```\n",
    "\n",
    "This demonstrates how to use the `.join()` method in Pandas to combine DataFrames based on common indices or columns. It's a convenient way to align and combine data from different sources."
   ]
  },
  {
   "cell_type": "markdown",
   "id": "8610421a",
   "metadata": {
    "papermill": {
     "duration": 0.096166,
     "end_time": "2023-10-25T14:11:20.897079",
     "exception": false,
     "start_time": "2023-10-25T14:11:20.800913",
     "status": "completed"
    },
    "tags": []
   },
   "source": [
    "12. **Reshaping Data**:\n",
    "\n",
    "    - `melt()`: Unpivots data from wide to long format.\n",
    "    - `pivot()`: Pivots data from long to wide format.\n",
    "    \n",
    "    In Pandas, the `melt()` and `pivot()` functions are used for transforming data between \"wide\" and \"long\" formats. These operations are commonly used for reshaping data for various analysis and visualization tasks.\n",
    "\n",
    "**`melt()`: Unpivoting Data (Wide to Long Format)**\n",
    "\n",
    "The `melt()` function is used to unpivot or melt data from a wide format to a long format. It reshapes the data by converting columns into rows. This can be helpful when you want to analyze data in a more structured or tabular way.\n",
    "\n",
    "Here's an example of how to use `melt()`:"
   ]
  },
  {
   "cell_type": "code",
   "execution_count": 206,
   "id": "bc0b89b5",
   "metadata": {
    "execution": {
     "iopub.execute_input": "2023-10-25T14:11:21.094512Z",
     "iopub.status.busy": "2023-10-25T14:11:21.093771Z",
     "iopub.status.idle": "2023-10-25T14:11:21.103021Z",
     "shell.execute_reply": "2023-10-25T14:11:21.101862Z"
    },
    "papermill": {
     "duration": 0.109174,
     "end_time": "2023-10-25T14:11:21.105404",
     "exception": false,
     "start_time": "2023-10-25T14:11:20.996230",
     "status": "completed"
    },
    "tags": []
   },
   "outputs": [],
   "source": [
    "import pandas as pd\n",
    "\n",
    "# Sample data in wide format\n",
    "data = {'Date': ['2023-01-01', '2023-01-02'],\n",
    "        'Temperature_NY': [32, 35],\n",
    "        'Temperature_LA': [70, 72]}\n",
    "\n",
    "df_wide = pd.DataFrame(data)\n",
    "\n",
    "# Melt the data to long format\n",
    "df_long = pd.melt(df_wide, id_vars=['Date'], var_name='City', value_name='Temperature')"
   ]
  },
  {
   "cell_type": "code",
   "execution_count": 207,
   "id": "abc6720f",
   "metadata": {
    "execution": {
     "iopub.execute_input": "2023-10-25T14:11:21.299243Z",
     "iopub.status.busy": "2023-10-25T14:11:21.298835Z",
     "iopub.status.idle": "2023-10-25T14:11:21.308331Z",
     "shell.execute_reply": "2023-10-25T14:11:21.307253Z"
    },
    "papermill": {
     "duration": 0.107904,
     "end_time": "2023-10-25T14:11:21.310361",
     "exception": false,
     "start_time": "2023-10-25T14:11:21.202457",
     "status": "completed"
    },
    "tags": []
   },
   "outputs": [
    {
     "data": {
      "text/html": [
       "<div>\n",
       "<style scoped>\n",
       "    .dataframe tbody tr th:only-of-type {\n",
       "        vertical-align: middle;\n",
       "    }\n",
       "\n",
       "    .dataframe tbody tr th {\n",
       "        vertical-align: top;\n",
       "    }\n",
       "\n",
       "    .dataframe thead th {\n",
       "        text-align: right;\n",
       "    }\n",
       "</style>\n",
       "<table border=\"1\" class=\"dataframe\">\n",
       "  <thead>\n",
       "    <tr style=\"text-align: right;\">\n",
       "      <th></th>\n",
       "      <th>Date</th>\n",
       "      <th>Temperature_NY</th>\n",
       "      <th>Temperature_LA</th>\n",
       "    </tr>\n",
       "  </thead>\n",
       "  <tbody>\n",
       "    <tr>\n",
       "      <th>0</th>\n",
       "      <td>2023-01-01</td>\n",
       "      <td>32</td>\n",
       "      <td>70</td>\n",
       "    </tr>\n",
       "    <tr>\n",
       "      <th>1</th>\n",
       "      <td>2023-01-02</td>\n",
       "      <td>35</td>\n",
       "      <td>72</td>\n",
       "    </tr>\n",
       "  </tbody>\n",
       "</table>\n",
       "</div>"
      ],
      "text/plain": [
       "         Date  Temperature_NY  Temperature_LA\n",
       "0  2023-01-01              32              70\n",
       "1  2023-01-02              35              72"
      ]
     },
     "execution_count": 207,
     "metadata": {},
     "output_type": "execute_result"
    }
   ],
   "source": [
    "df_wide"
   ]
  },
  {
   "cell_type": "code",
   "execution_count": 208,
   "id": "9f8004ec",
   "metadata": {
    "execution": {
     "iopub.execute_input": "2023-10-25T14:11:21.503568Z",
     "iopub.status.busy": "2023-10-25T14:11:21.503140Z",
     "iopub.status.idle": "2023-10-25T14:11:21.512521Z",
     "shell.execute_reply": "2023-10-25T14:11:21.511749Z"
    },
    "papermill": {
     "duration": 0.108622,
     "end_time": "2023-10-25T14:11:21.514371",
     "exception": false,
     "start_time": "2023-10-25T14:11:21.405749",
     "status": "completed"
    },
    "tags": []
   },
   "outputs": [
    {
     "data": {
      "text/html": [
       "<div>\n",
       "<style scoped>\n",
       "    .dataframe tbody tr th:only-of-type {\n",
       "        vertical-align: middle;\n",
       "    }\n",
       "\n",
       "    .dataframe tbody tr th {\n",
       "        vertical-align: top;\n",
       "    }\n",
       "\n",
       "    .dataframe thead th {\n",
       "        text-align: right;\n",
       "    }\n",
       "</style>\n",
       "<table border=\"1\" class=\"dataframe\">\n",
       "  <thead>\n",
       "    <tr style=\"text-align: right;\">\n",
       "      <th></th>\n",
       "      <th>Date</th>\n",
       "      <th>City</th>\n",
       "      <th>Temperature</th>\n",
       "    </tr>\n",
       "  </thead>\n",
       "  <tbody>\n",
       "    <tr>\n",
       "      <th>0</th>\n",
       "      <td>2023-01-01</td>\n",
       "      <td>Temperature_NY</td>\n",
       "      <td>32</td>\n",
       "    </tr>\n",
       "    <tr>\n",
       "      <th>1</th>\n",
       "      <td>2023-01-02</td>\n",
       "      <td>Temperature_NY</td>\n",
       "      <td>35</td>\n",
       "    </tr>\n",
       "    <tr>\n",
       "      <th>2</th>\n",
       "      <td>2023-01-01</td>\n",
       "      <td>Temperature_LA</td>\n",
       "      <td>70</td>\n",
       "    </tr>\n",
       "    <tr>\n",
       "      <th>3</th>\n",
       "      <td>2023-01-02</td>\n",
       "      <td>Temperature_LA</td>\n",
       "      <td>72</td>\n",
       "    </tr>\n",
       "  </tbody>\n",
       "</table>\n",
       "</div>"
      ],
      "text/plain": [
       "         Date            City  Temperature\n",
       "0  2023-01-01  Temperature_NY           32\n",
       "1  2023-01-02  Temperature_NY           35\n",
       "2  2023-01-01  Temperature_LA           70\n",
       "3  2023-01-02  Temperature_LA           72"
      ]
     },
     "execution_count": 208,
     "metadata": {},
     "output_type": "execute_result"
    }
   ],
   "source": [
    "df_long"
   ]
  },
  {
   "cell_type": "markdown",
   "id": "ef2c83be",
   "metadata": {
    "papermill": {
     "duration": 0.096582,
     "end_time": "2023-10-25T14:11:21.709665",
     "exception": false,
     "start_time": "2023-10-25T14:11:21.613083",
     "status": "completed"
    },
    "tags": []
   },
   "source": [
    "In this example, `melt()` is used to unpivot the data from a wide format where temperatures for different cities are in separate columns to a long format where temperatures are in rows.\n",
    "\n",
    "**`pivot()`: Pivoting Data (Long to Wide Format)**\n",
    "\n",
    "The `pivot()` function, on the other hand, is used to pivot data from a long format to a wide format. It reshapes the data by converting unique values in a column into new columns. This can be useful when you want to create a more structured summary of the data.\n",
    "\n",
    "Here's an example of how to use `pivot()`:"
   ]
  },
  {
   "cell_type": "code",
   "execution_count": 209,
   "id": "da28af9d",
   "metadata": {
    "execution": {
     "iopub.execute_input": "2023-10-25T14:11:21.903842Z",
     "iopub.status.busy": "2023-10-25T14:11:21.903170Z",
     "iopub.status.idle": "2023-10-25T14:11:21.914696Z",
     "shell.execute_reply": "2023-10-25T14:11:21.913641Z"
    },
    "papermill": {
     "duration": 0.110617,
     "end_time": "2023-10-25T14:11:21.916904",
     "exception": false,
     "start_time": "2023-10-25T14:11:21.806287",
     "status": "completed"
    },
    "tags": []
   },
   "outputs": [],
   "source": [
    "import pandas as pd\n",
    "\n",
    "# Sample data in long format\n",
    "data = {'Date': ['2023-01-01', '2023-01-01', '2023-01-02', '2023-01-02'],\n",
    "        'City': ['NY', 'LA', 'NY', 'LA'],\n",
    "        'Temperature': [32, 70, 35, 72]}\n",
    "\n",
    "df_long = pd.DataFrame(data)\n",
    "\n",
    "# Pivot the data to wide format\n",
    "df_wide = df_long.pivot(index='Date', columns='City', values='Temperature')"
   ]
  },
  {
   "cell_type": "code",
   "execution_count": 210,
   "id": "464c30d7",
   "metadata": {
    "execution": {
     "iopub.execute_input": "2023-10-25T14:11:22.112690Z",
     "iopub.status.busy": "2023-10-25T14:11:22.111853Z",
     "iopub.status.idle": "2023-10-25T14:11:22.121606Z",
     "shell.execute_reply": "2023-10-25T14:11:22.120519Z"
    },
    "papermill": {
     "duration": 0.109447,
     "end_time": "2023-10-25T14:11:22.123930",
     "exception": false,
     "start_time": "2023-10-25T14:11:22.014483",
     "status": "completed"
    },
    "tags": []
   },
   "outputs": [
    {
     "data": {
      "text/html": [
       "<div>\n",
       "<style scoped>\n",
       "    .dataframe tbody tr th:only-of-type {\n",
       "        vertical-align: middle;\n",
       "    }\n",
       "\n",
       "    .dataframe tbody tr th {\n",
       "        vertical-align: top;\n",
       "    }\n",
       "\n",
       "    .dataframe thead th {\n",
       "        text-align: right;\n",
       "    }\n",
       "</style>\n",
       "<table border=\"1\" class=\"dataframe\">\n",
       "  <thead>\n",
       "    <tr style=\"text-align: right;\">\n",
       "      <th></th>\n",
       "      <th>Date</th>\n",
       "      <th>City</th>\n",
       "      <th>Temperature</th>\n",
       "    </tr>\n",
       "  </thead>\n",
       "  <tbody>\n",
       "    <tr>\n",
       "      <th>0</th>\n",
       "      <td>2023-01-01</td>\n",
       "      <td>NY</td>\n",
       "      <td>32</td>\n",
       "    </tr>\n",
       "    <tr>\n",
       "      <th>1</th>\n",
       "      <td>2023-01-01</td>\n",
       "      <td>LA</td>\n",
       "      <td>70</td>\n",
       "    </tr>\n",
       "    <tr>\n",
       "      <th>2</th>\n",
       "      <td>2023-01-02</td>\n",
       "      <td>NY</td>\n",
       "      <td>35</td>\n",
       "    </tr>\n",
       "    <tr>\n",
       "      <th>3</th>\n",
       "      <td>2023-01-02</td>\n",
       "      <td>LA</td>\n",
       "      <td>72</td>\n",
       "    </tr>\n",
       "  </tbody>\n",
       "</table>\n",
       "</div>"
      ],
      "text/plain": [
       "         Date City  Temperature\n",
       "0  2023-01-01   NY           32\n",
       "1  2023-01-01   LA           70\n",
       "2  2023-01-02   NY           35\n",
       "3  2023-01-02   LA           72"
      ]
     },
     "execution_count": 210,
     "metadata": {},
     "output_type": "execute_result"
    }
   ],
   "source": [
    "df_long"
   ]
  },
  {
   "cell_type": "code",
   "execution_count": 211,
   "id": "9c2fcb4c",
   "metadata": {
    "execution": {
     "iopub.execute_input": "2023-10-25T14:11:22.384378Z",
     "iopub.status.busy": "2023-10-25T14:11:22.383145Z",
     "iopub.status.idle": "2023-10-25T14:11:22.392925Z",
     "shell.execute_reply": "2023-10-25T14:11:22.391992Z"
    },
    "papermill": {
     "duration": 0.17326,
     "end_time": "2023-10-25T14:11:22.395157",
     "exception": false,
     "start_time": "2023-10-25T14:11:22.221897",
     "status": "completed"
    },
    "tags": []
   },
   "outputs": [
    {
     "data": {
      "text/html": [
       "<div>\n",
       "<style scoped>\n",
       "    .dataframe tbody tr th:only-of-type {\n",
       "        vertical-align: middle;\n",
       "    }\n",
       "\n",
       "    .dataframe tbody tr th {\n",
       "        vertical-align: top;\n",
       "    }\n",
       "\n",
       "    .dataframe thead th {\n",
       "        text-align: right;\n",
       "    }\n",
       "</style>\n",
       "<table border=\"1\" class=\"dataframe\">\n",
       "  <thead>\n",
       "    <tr style=\"text-align: right;\">\n",
       "      <th>City</th>\n",
       "      <th>LA</th>\n",
       "      <th>NY</th>\n",
       "    </tr>\n",
       "    <tr>\n",
       "      <th>Date</th>\n",
       "      <th></th>\n",
       "      <th></th>\n",
       "    </tr>\n",
       "  </thead>\n",
       "  <tbody>\n",
       "    <tr>\n",
       "      <th>2023-01-01</th>\n",
       "      <td>70</td>\n",
       "      <td>32</td>\n",
       "    </tr>\n",
       "    <tr>\n",
       "      <th>2023-01-02</th>\n",
       "      <td>72</td>\n",
       "      <td>35</td>\n",
       "    </tr>\n",
       "  </tbody>\n",
       "</table>\n",
       "</div>"
      ],
      "text/plain": [
       "City        LA  NY\n",
       "Date              \n",
       "2023-01-01  70  32\n",
       "2023-01-02  72  35"
      ]
     },
     "execution_count": 211,
     "metadata": {},
     "output_type": "execute_result"
    }
   ],
   "source": [
    "df_wide"
   ]
  },
  {
   "cell_type": "markdown",
   "id": "2e5deac5",
   "metadata": {
    "papermill": {
     "duration": 0.097599,
     "end_time": "2023-10-25T14:11:22.590224",
     "exception": false,
     "start_time": "2023-10-25T14:11:22.492625",
     "status": "completed"
    },
    "tags": []
   },
   "source": [
    "In this example, `pivot()` is used to pivot the data from a long format where temperatures for different cities are in rows to a wide format where each city has its own column.\n",
    "\n",
    "These functions are valuable for data preprocessing and reshaping when the format of your data needs to change to suit your analysis or visualization requirements."
   ]
  },
  {
   "cell_type": "markdown",
   "id": "deec06fc",
   "metadata": {
    "papermill": {
     "duration": 0.09878,
     "end_time": "2023-10-25T14:11:22.786867",
     "exception": false,
     "start_time": "2023-10-25T14:11:22.688087",
     "status": "completed"
    },
    "tags": []
   },
   "source": [
    "#### 13. **Handling Datetime Data**:\n",
    "\n",
    "    - Extracting date, time, and other components from datetime columns.\n",
    "    \n",
    "    Pandas provides several functions to handle datetime data, allowing you to extract date, time, and other components from datetime columns. Here are some common operations you can perform:\n",
    "\n",
    "**1. Extracting Date and Time Components:**\n",
    "\n",
    "- To extract the year, month, day, hour, minute, or second from a datetime column, you can use the `.dt` accessor along with the specific component you want to extract. Here are some examples:"
   ]
  },
  {
   "cell_type": "code",
   "execution_count": 212,
   "id": "425c40a0",
   "metadata": {
    "execution": {
     "iopub.execute_input": "2023-10-25T14:11:22.983789Z",
     "iopub.status.busy": "2023-10-25T14:11:22.983389Z",
     "iopub.status.idle": "2023-10-25T14:11:22.999349Z",
     "shell.execute_reply": "2023-10-25T14:11:22.998310Z"
    },
    "papermill": {
     "duration": 0.118245,
     "end_time": "2023-10-25T14:11:23.002201",
     "exception": false,
     "start_time": "2023-10-25T14:11:22.883956",
     "status": "completed"
    },
    "tags": []
   },
   "outputs": [],
   "source": [
    "import pandas as pd\n",
    "\n",
    "# Sample DataFrame with a datetime column\n",
    "data = {'Date': ['2023-10-24 08:30:00', '2023-10-24 14:45:00']}\n",
    "df = pd.DataFrame(data)\n",
    "df['Date'] = pd.to_datetime(df['Date'])\n",
    "\n",
    "# Extract year, month, and day\n",
    "df['Year'] = df['Date'].dt.year\n",
    "df['Month'] = df['Date'].dt.month\n",
    "df['Month_name'] = pd.to_datetime(df['Date']).dt.month_name()\n",
    "df['Day'] = df['Date'].dt.day\n",
    "\n",
    "# Extract hour and minute\n",
    "df['Hour'] = df['Date'].dt.hour\n",
    "df['Minute'] = df['Date'].dt.minute"
   ]
  },
  {
   "cell_type": "code",
   "execution_count": 213,
   "id": "3aa412f2",
   "metadata": {
    "execution": {
     "iopub.execute_input": "2023-10-25T14:11:23.201664Z",
     "iopub.status.busy": "2023-10-25T14:11:23.200994Z",
     "iopub.status.idle": "2023-10-25T14:11:23.211593Z",
     "shell.execute_reply": "2023-10-25T14:11:23.210371Z"
    },
    "papermill": {
     "duration": 0.114072,
     "end_time": "2023-10-25T14:11:23.213908",
     "exception": false,
     "start_time": "2023-10-25T14:11:23.099836",
     "status": "completed"
    },
    "tags": []
   },
   "outputs": [
    {
     "data": {
      "text/html": [
       "<div>\n",
       "<style scoped>\n",
       "    .dataframe tbody tr th:only-of-type {\n",
       "        vertical-align: middle;\n",
       "    }\n",
       "\n",
       "    .dataframe tbody tr th {\n",
       "        vertical-align: top;\n",
       "    }\n",
       "\n",
       "    .dataframe thead th {\n",
       "        text-align: right;\n",
       "    }\n",
       "</style>\n",
       "<table border=\"1\" class=\"dataframe\">\n",
       "  <thead>\n",
       "    <tr style=\"text-align: right;\">\n",
       "      <th></th>\n",
       "      <th>Date</th>\n",
       "      <th>Year</th>\n",
       "      <th>Month</th>\n",
       "      <th>Month_name</th>\n",
       "      <th>Day</th>\n",
       "      <th>Hour</th>\n",
       "      <th>Minute</th>\n",
       "    </tr>\n",
       "  </thead>\n",
       "  <tbody>\n",
       "    <tr>\n",
       "      <th>0</th>\n",
       "      <td>2023-10-24 08:30:00</td>\n",
       "      <td>2023</td>\n",
       "      <td>10</td>\n",
       "      <td>October</td>\n",
       "      <td>24</td>\n",
       "      <td>8</td>\n",
       "      <td>30</td>\n",
       "    </tr>\n",
       "    <tr>\n",
       "      <th>1</th>\n",
       "      <td>2023-10-24 14:45:00</td>\n",
       "      <td>2023</td>\n",
       "      <td>10</td>\n",
       "      <td>October</td>\n",
       "      <td>24</td>\n",
       "      <td>14</td>\n",
       "      <td>45</td>\n",
       "    </tr>\n",
       "  </tbody>\n",
       "</table>\n",
       "</div>"
      ],
      "text/plain": [
       "                 Date  Year  Month Month_name  Day  Hour  Minute\n",
       "0 2023-10-24 08:30:00  2023     10    October   24     8      30\n",
       "1 2023-10-24 14:45:00  2023     10    October   24    14      45"
      ]
     },
     "execution_count": 213,
     "metadata": {},
     "output_type": "execute_result"
    }
   ],
   "source": [
    "df"
   ]
  },
  {
   "cell_type": "markdown",
   "id": "1e812f78",
   "metadata": {
    "papermill": {
     "duration": 0.095955,
     "end_time": "2023-10-25T14:11:23.407114",
     "exception": false,
     "start_time": "2023-10-25T14:11:23.311159",
     "status": "completed"
    },
    "tags": []
   },
   "source": [
    "**2. Extracting Weekday:**\n",
    "\n",
    "- To extract the day of the week (e.g., Monday, Tuesday), you can use `.dt.weekday_name` or `.dt.day_name()`. This function works well if the datetime column is of type datetime."
   ]
  },
  {
   "cell_type": "code",
   "execution_count": 214,
   "id": "b2b12cd8",
   "metadata": {
    "execution": {
     "iopub.execute_input": "2023-10-25T14:11:23.602423Z",
     "iopub.status.busy": "2023-10-25T14:11:23.601746Z",
     "iopub.status.idle": "2023-10-25T14:11:23.613421Z",
     "shell.execute_reply": "2023-10-25T14:11:23.612452Z"
    },
    "papermill": {
     "duration": 0.111303,
     "end_time": "2023-10-25T14:11:23.615434",
     "exception": false,
     "start_time": "2023-10-25T14:11:23.504131",
     "status": "completed"
    },
    "tags": []
   },
   "outputs": [
    {
     "data": {
      "text/html": [
       "<div>\n",
       "<style scoped>\n",
       "    .dataframe tbody tr th:only-of-type {\n",
       "        vertical-align: middle;\n",
       "    }\n",
       "\n",
       "    .dataframe tbody tr th {\n",
       "        vertical-align: top;\n",
       "    }\n",
       "\n",
       "    .dataframe thead th {\n",
       "        text-align: right;\n",
       "    }\n",
       "</style>\n",
       "<table border=\"1\" class=\"dataframe\">\n",
       "  <thead>\n",
       "    <tr style=\"text-align: right;\">\n",
       "      <th></th>\n",
       "      <th>Date</th>\n",
       "      <th>Year</th>\n",
       "      <th>Month</th>\n",
       "      <th>Month_name</th>\n",
       "      <th>Day</th>\n",
       "      <th>Hour</th>\n",
       "      <th>Minute</th>\n",
       "      <th>Weekday</th>\n",
       "    </tr>\n",
       "  </thead>\n",
       "  <tbody>\n",
       "    <tr>\n",
       "      <th>0</th>\n",
       "      <td>2023-10-24 08:30:00</td>\n",
       "      <td>2023</td>\n",
       "      <td>10</td>\n",
       "      <td>October</td>\n",
       "      <td>24</td>\n",
       "      <td>8</td>\n",
       "      <td>30</td>\n",
       "      <td>Tuesday</td>\n",
       "    </tr>\n",
       "    <tr>\n",
       "      <th>1</th>\n",
       "      <td>2023-10-24 14:45:00</td>\n",
       "      <td>2023</td>\n",
       "      <td>10</td>\n",
       "      <td>October</td>\n",
       "      <td>24</td>\n",
       "      <td>14</td>\n",
       "      <td>45</td>\n",
       "      <td>Tuesday</td>\n",
       "    </tr>\n",
       "  </tbody>\n",
       "</table>\n",
       "</div>"
      ],
      "text/plain": [
       "                 Date  Year  Month Month_name  Day  Hour  Minute  Weekday\n",
       "0 2023-10-24 08:30:00  2023     10    October   24     8      30  Tuesday\n",
       "1 2023-10-24 14:45:00  2023     10    October   24    14      45  Tuesday"
      ]
     },
     "execution_count": 214,
     "metadata": {},
     "output_type": "execute_result"
    }
   ],
   "source": [
    "# Extract weekday\n",
    "df['Weekday'] = df['Date'].dt.day_name()\n",
    "df"
   ]
  },
  {
   "cell_type": "markdown",
   "id": "f60dbcd6",
   "metadata": {
    "papermill": {
     "duration": 0.097369,
     "end_time": "2023-10-25T14:11:23.813492",
     "exception": false,
     "start_time": "2023-10-25T14:11:23.716123",
     "status": "completed"
    },
    "tags": []
   },
   "source": [
    "**3. Extracting Date Differences:**\n",
    "\n",
    "- You can calculate the difference between two datetime columns, such as days, using the subtraction operator."
   ]
  },
  {
   "cell_type": "code",
   "execution_count": 215,
   "id": "262a7860",
   "metadata": {
    "execution": {
     "iopub.execute_input": "2023-10-25T14:11:24.009138Z",
     "iopub.status.busy": "2023-10-25T14:11:24.008590Z",
     "iopub.status.idle": "2023-10-25T14:11:24.024457Z",
     "shell.execute_reply": "2023-10-25T14:11:24.023357Z"
    },
    "papermill": {
     "duration": 0.117147,
     "end_time": "2023-10-25T14:11:24.026873",
     "exception": false,
     "start_time": "2023-10-25T14:11:23.909726",
     "status": "completed"
    },
    "tags": []
   },
   "outputs": [
    {
     "data": {
      "text/html": [
       "<div>\n",
       "<style scoped>\n",
       "    .dataframe tbody tr th:only-of-type {\n",
       "        vertical-align: middle;\n",
       "    }\n",
       "\n",
       "    .dataframe tbody tr th {\n",
       "        vertical-align: top;\n",
       "    }\n",
       "\n",
       "    .dataframe thead th {\n",
       "        text-align: right;\n",
       "    }\n",
       "</style>\n",
       "<table border=\"1\" class=\"dataframe\">\n",
       "  <thead>\n",
       "    <tr style=\"text-align: right;\">\n",
       "      <th></th>\n",
       "      <th>Date</th>\n",
       "      <th>Year</th>\n",
       "      <th>Month</th>\n",
       "      <th>Month_name</th>\n",
       "      <th>Day</th>\n",
       "      <th>Hour</th>\n",
       "      <th>Minute</th>\n",
       "      <th>Weekday</th>\n",
       "      <th>Date2</th>\n",
       "      <th>DateDifference</th>\n",
       "    </tr>\n",
       "  </thead>\n",
       "  <tbody>\n",
       "    <tr>\n",
       "      <th>0</th>\n",
       "      <td>2023-10-24 08:30:00</td>\n",
       "      <td>2023</td>\n",
       "      <td>10</td>\n",
       "      <td>October</td>\n",
       "      <td>24</td>\n",
       "      <td>8</td>\n",
       "      <td>30</td>\n",
       "      <td>Tuesday</td>\n",
       "      <td>2023-10-25</td>\n",
       "      <td>0</td>\n",
       "    </tr>\n",
       "    <tr>\n",
       "      <th>1</th>\n",
       "      <td>2023-10-24 14:45:00</td>\n",
       "      <td>2023</td>\n",
       "      <td>10</td>\n",
       "      <td>October</td>\n",
       "      <td>24</td>\n",
       "      <td>14</td>\n",
       "      <td>45</td>\n",
       "      <td>Tuesday</td>\n",
       "      <td>2023-10-26</td>\n",
       "      <td>1</td>\n",
       "    </tr>\n",
       "  </tbody>\n",
       "</table>\n",
       "</div>"
      ],
      "text/plain": [
       "                 Date  Year  Month Month_name  Day  Hour  Minute  Weekday  \\\n",
       "0 2023-10-24 08:30:00  2023     10    October   24     8      30  Tuesday   \n",
       "1 2023-10-24 14:45:00  2023     10    October   24    14      45  Tuesday   \n",
       "\n",
       "       Date2  DateDifference  \n",
       "0 2023-10-25               0  \n",
       "1 2023-10-26               1  "
      ]
     },
     "execution_count": 215,
     "metadata": {},
     "output_type": "execute_result"
    }
   ],
   "source": [
    "# Calculate the date difference in days\n",
    "df['Date2'] = pd.to_datetime(['2023-10-25', '2023-10-26'])\n",
    "df['DateDifference'] = (df['Date2'] - df['Date']).dt.days\n",
    "df"
   ]
  },
  {
   "cell_type": "markdown",
   "id": "3ef01190",
   "metadata": {
    "papermill": {
     "duration": 0.099374,
     "end_time": "2023-10-25T14:11:24.225129",
     "exception": false,
     "start_time": "2023-10-25T14:11:24.125755",
     "status": "completed"
    },
    "tags": []
   },
   "source": [
    "These are just a few examples of how to handle datetime data in Pandas. You can use various datetime-related attributes and methods to manipulate datetime columns to suit your specific analysis and reporting needs."
   ]
  },
  {
   "cell_type": "markdown",
   "id": "155f7a73",
   "metadata": {
    "papermill": {
     "duration": 0.095948,
     "end_time": "2023-10-25T14:11:24.418727",
     "exception": false,
     "start_time": "2023-10-25T14:11:24.322779",
     "status": "completed"
    },
    "tags": []
   },
   "source": [
    "14. **Handling Categorical Data**:\n",
    "\n",
    "    - Encoding categorical variables into numerical format."
   ]
  },
  {
   "cell_type": "markdown",
   "id": "7a839e05",
   "metadata": {
    "papermill": {
     "duration": 0.100158,
     "end_time": "2023-10-25T14:11:24.616352",
     "exception": false,
     "start_time": "2023-10-25T14:11:24.516194",
     "status": "completed"
    },
    "tags": []
   },
   "source": [
    "Handling categorical data often involves encoding categorical variables into numerical format so that they can be used in machine learning models or other data analysis tasks. Pandas provides several methods for encoding categorical data, and scikit-learn offers additional tools for preprocessing categorical data. Here are some common techniques:\n",
    "\n",
    "**1. Pandas `pd.get_dummies()`:**\n",
    "\n",
    "`pd.get_dummies()` is a method to perform one-hot encoding, which creates binary columns for each category in the original categorical variable."
   ]
  },
  {
   "cell_type": "code",
   "execution_count": 216,
   "id": "26ba8aa3",
   "metadata": {
    "execution": {
     "iopub.execute_input": "2023-10-25T14:11:24.816697Z",
     "iopub.status.busy": "2023-10-25T14:11:24.816297Z",
     "iopub.status.idle": "2023-10-25T14:11:24.825242Z",
     "shell.execute_reply": "2023-10-25T14:11:24.824044Z"
    },
    "papermill": {
     "duration": 0.111861,
     "end_time": "2023-10-25T14:11:24.827853",
     "exception": false,
     "start_time": "2023-10-25T14:11:24.715992",
     "status": "completed"
    },
    "tags": []
   },
   "outputs": [],
   "source": [
    "import pandas as pd\n",
    "\n",
    "# Sample DataFrame with a categorical column\n",
    "data = {'Category': ['A', 'B', 'A', 'C', 'B']}\n",
    "df = pd.DataFrame(data)\n",
    "\n",
    "# Perform one-hot encoding\n",
    "df_encoded = pd.get_dummies(df, columns=['Category'])"
   ]
  },
  {
   "cell_type": "code",
   "execution_count": 217,
   "id": "699b00c7",
   "metadata": {
    "execution": {
     "iopub.execute_input": "2023-10-25T14:11:25.027420Z",
     "iopub.status.busy": "2023-10-25T14:11:25.026869Z",
     "iopub.status.idle": "2023-10-25T14:11:25.036381Z",
     "shell.execute_reply": "2023-10-25T14:11:25.035168Z"
    },
    "papermill": {
     "duration": 0.108859,
     "end_time": "2023-10-25T14:11:25.038547",
     "exception": false,
     "start_time": "2023-10-25T14:11:24.929688",
     "status": "completed"
    },
    "tags": []
   },
   "outputs": [
    {
     "data": {
      "text/html": [
       "<div>\n",
       "<style scoped>\n",
       "    .dataframe tbody tr th:only-of-type {\n",
       "        vertical-align: middle;\n",
       "    }\n",
       "\n",
       "    .dataframe tbody tr th {\n",
       "        vertical-align: top;\n",
       "    }\n",
       "\n",
       "    .dataframe thead th {\n",
       "        text-align: right;\n",
       "    }\n",
       "</style>\n",
       "<table border=\"1\" class=\"dataframe\">\n",
       "  <thead>\n",
       "    <tr style=\"text-align: right;\">\n",
       "      <th></th>\n",
       "      <th>Category</th>\n",
       "    </tr>\n",
       "  </thead>\n",
       "  <tbody>\n",
       "    <tr>\n",
       "      <th>0</th>\n",
       "      <td>A</td>\n",
       "    </tr>\n",
       "    <tr>\n",
       "      <th>1</th>\n",
       "      <td>B</td>\n",
       "    </tr>\n",
       "    <tr>\n",
       "      <th>2</th>\n",
       "      <td>A</td>\n",
       "    </tr>\n",
       "    <tr>\n",
       "      <th>3</th>\n",
       "      <td>C</td>\n",
       "    </tr>\n",
       "    <tr>\n",
       "      <th>4</th>\n",
       "      <td>B</td>\n",
       "    </tr>\n",
       "  </tbody>\n",
       "</table>\n",
       "</div>"
      ],
      "text/plain": [
       "  Category\n",
       "0        A\n",
       "1        B\n",
       "2        A\n",
       "3        C\n",
       "4        B"
      ]
     },
     "execution_count": 217,
     "metadata": {},
     "output_type": "execute_result"
    }
   ],
   "source": [
    "df"
   ]
  },
  {
   "cell_type": "code",
   "execution_count": 218,
   "id": "4ef077f2",
   "metadata": {
    "execution": {
     "iopub.execute_input": "2023-10-25T14:11:25.237705Z",
     "iopub.status.busy": "2023-10-25T14:11:25.236919Z",
     "iopub.status.idle": "2023-10-25T14:11:25.247242Z",
     "shell.execute_reply": "2023-10-25T14:11:25.246027Z"
    },
    "papermill": {
     "duration": 0.11134,
     "end_time": "2023-10-25T14:11:25.249462",
     "exception": false,
     "start_time": "2023-10-25T14:11:25.138122",
     "status": "completed"
    },
    "tags": []
   },
   "outputs": [
    {
     "data": {
      "text/html": [
       "<div>\n",
       "<style scoped>\n",
       "    .dataframe tbody tr th:only-of-type {\n",
       "        vertical-align: middle;\n",
       "    }\n",
       "\n",
       "    .dataframe tbody tr th {\n",
       "        vertical-align: top;\n",
       "    }\n",
       "\n",
       "    .dataframe thead th {\n",
       "        text-align: right;\n",
       "    }\n",
       "</style>\n",
       "<table border=\"1\" class=\"dataframe\">\n",
       "  <thead>\n",
       "    <tr style=\"text-align: right;\">\n",
       "      <th></th>\n",
       "      <th>Category_A</th>\n",
       "      <th>Category_B</th>\n",
       "      <th>Category_C</th>\n",
       "    </tr>\n",
       "  </thead>\n",
       "  <tbody>\n",
       "    <tr>\n",
       "      <th>0</th>\n",
       "      <td>True</td>\n",
       "      <td>False</td>\n",
       "      <td>False</td>\n",
       "    </tr>\n",
       "    <tr>\n",
       "      <th>1</th>\n",
       "      <td>False</td>\n",
       "      <td>True</td>\n",
       "      <td>False</td>\n",
       "    </tr>\n",
       "    <tr>\n",
       "      <th>2</th>\n",
       "      <td>True</td>\n",
       "      <td>False</td>\n",
       "      <td>False</td>\n",
       "    </tr>\n",
       "    <tr>\n",
       "      <th>3</th>\n",
       "      <td>False</td>\n",
       "      <td>False</td>\n",
       "      <td>True</td>\n",
       "    </tr>\n",
       "    <tr>\n",
       "      <th>4</th>\n",
       "      <td>False</td>\n",
       "      <td>True</td>\n",
       "      <td>False</td>\n",
       "    </tr>\n",
       "  </tbody>\n",
       "</table>\n",
       "</div>"
      ],
      "text/plain": [
       "   Category_A  Category_B  Category_C\n",
       "0        True       False       False\n",
       "1       False        True       False\n",
       "2        True       False       False\n",
       "3       False       False        True\n",
       "4       False        True       False"
      ]
     },
     "execution_count": 218,
     "metadata": {},
     "output_type": "execute_result"
    }
   ],
   "source": [
    "df_encoded"
   ]
  },
  {
   "cell_type": "markdown",
   "id": "93cacca5",
   "metadata": {
    "papermill": {
     "duration": 0.095805,
     "end_time": "2023-10-25T14:11:25.442730",
     "exception": false,
     "start_time": "2023-10-25T14:11:25.346925",
     "status": "completed"
    },
    "tags": []
   },
   "source": [
    "The output will create binary columns for each category, representing whether the category is present or not.\n",
    "\n",
    "**2. Scikit-Learn Label Encoding:**\n",
    "\n",
    "Scikit-learn provides the `LabelEncoder` to convert categorical values into numerical labels."
   ]
  },
  {
   "cell_type": "code",
   "execution_count": 219,
   "id": "66354705",
   "metadata": {
    "execution": {
     "iopub.execute_input": "2023-10-25T14:11:25.725860Z",
     "iopub.status.busy": "2023-10-25T14:11:25.725492Z",
     "iopub.status.idle": "2023-10-25T14:11:26.968979Z",
     "shell.execute_reply": "2023-10-25T14:11:26.967888Z"
    },
    "papermill": {
     "duration": 1.36074,
     "end_time": "2023-10-25T14:11:26.971396",
     "exception": false,
     "start_time": "2023-10-25T14:11:25.610656",
     "status": "completed"
    },
    "tags": []
   },
   "outputs": [],
   "source": [
    "from sklearn.preprocessing import LabelEncoder\n",
    "\n",
    "le = LabelEncoder()\n",
    "df['CategoryEncoded'] = le.fit_transform(df['Category'])"
   ]
  },
  {
   "cell_type": "code",
   "execution_count": 220,
   "id": "6341bcde",
   "metadata": {
    "execution": {
     "iopub.execute_input": "2023-10-25T14:11:27.170513Z",
     "iopub.status.busy": "2023-10-25T14:11:27.169861Z",
     "iopub.status.idle": "2023-10-25T14:11:27.177657Z",
     "shell.execute_reply": "2023-10-25T14:11:27.176703Z"
    },
    "papermill": {
     "duration": 0.109811,
     "end_time": "2023-10-25T14:11:27.179659",
     "exception": false,
     "start_time": "2023-10-25T14:11:27.069848",
     "status": "completed"
    },
    "tags": []
   },
   "outputs": [
    {
     "data": {
      "text/plain": [
       "0    0\n",
       "1    1\n",
       "2    0\n",
       "3    2\n",
       "4    1\n",
       "Name: CategoryEncoded, dtype: int64"
      ]
     },
     "execution_count": 220,
     "metadata": {},
     "output_type": "execute_result"
    }
   ],
   "source": [
    "df['CategoryEncoded']"
   ]
  },
  {
   "cell_type": "markdown",
   "id": "75ddf53b",
   "metadata": {
    "papermill": {
     "duration": 0.098196,
     "end_time": "2023-10-25T14:11:27.375978",
     "exception": false,
     "start_time": "2023-10-25T14:11:27.277782",
     "status": "completed"
    },
    "tags": []
   },
   "source": [
    "This method assigns a unique integer to each category.\n",
    "\n",
    "**3. Scikit-Learn One-Hot Encoding:**\n",
    "\n",
    "Scikit-learn also provides the `OneHotEncoder` to perform one-hot encoding."
   ]
  },
  {
   "cell_type": "code",
   "execution_count": 221,
   "id": "54de0957",
   "metadata": {
    "execution": {
     "iopub.execute_input": "2023-10-25T14:11:27.581579Z",
     "iopub.status.busy": "2023-10-25T14:11:27.580926Z",
     "iopub.status.idle": "2023-10-25T14:11:27.586563Z",
     "shell.execute_reply": "2023-10-25T14:11:27.585591Z"
    },
    "papermill": {
     "duration": 0.112352,
     "end_time": "2023-10-25T14:11:27.588734",
     "exception": false,
     "start_time": "2023-10-25T14:11:27.476382",
     "status": "completed"
    },
    "tags": []
   },
   "outputs": [],
   "source": [
    "from sklearn.preprocessing import OneHotEncoder\n",
    "\n",
    "encoder = OneHotEncoder()\n",
    "encoded_data = encoder.fit_transform(df['Category'].values.reshape(-1, 1))"
   ]
  },
  {
   "cell_type": "markdown",
   "id": "4d1ee3cf",
   "metadata": {
    "papermill": {
     "duration": 0.104079,
     "end_time": "2023-10-25T14:11:27.794342",
     "exception": false,
     "start_time": "2023-10-25T14:11:27.690263",
     "status": "completed"
    },
    "tags": []
   },
   "source": [
    "The resulting `encoded_data` is a sparse matrix that can be converted back to a DataFrame if needed.\n",
    "\n",
    "The choice of encoding method depends on the specific requirements of your analysis or machine learning model. One-hot encoding is suitable when there is no ordinal relationship between categories, while label encoding can be useful when an ordinal relationship exists between categories.\n",
    "\n",
    "**4. Pandas `pd.Categorical`:**\n",
    "\n",
    "Pandas provides the `pd.Categorical` data type that can be used to efficiently encode and manage categorical data. You can convert a column to a `Categorical` data type and then access its codes."
   ]
  },
  {
   "cell_type": "code",
   "execution_count": 222,
   "id": "d1c61bea",
   "metadata": {
    "execution": {
     "iopub.execute_input": "2023-10-25T14:11:27.993038Z",
     "iopub.status.busy": "2023-10-25T14:11:27.992409Z",
     "iopub.status.idle": "2023-10-25T14:11:28.001877Z",
     "shell.execute_reply": "2023-10-25T14:11:28.000744Z"
    },
    "papermill": {
     "duration": 0.112295,
     "end_time": "2023-10-25T14:11:28.004164",
     "exception": false,
     "start_time": "2023-10-25T14:11:27.891869",
     "status": "completed"
    },
    "tags": []
   },
   "outputs": [
    {
     "data": {
      "text/plain": [
       "0    0\n",
       "1    1\n",
       "2    0\n",
       "3    2\n",
       "4    1\n",
       "Name: CategoryEncoded, dtype: int8"
      ]
     },
     "execution_count": 222,
     "metadata": {},
     "output_type": "execute_result"
    }
   ],
   "source": [
    "df['Category'] = pd.Categorical(df['Category'])\n",
    "df['CategoryEncoded'] = df['Category'].cat.codes\n",
    "df['CategoryEncoded']"
   ]
  },
  {
   "cell_type": "markdown",
   "id": "43be6912",
   "metadata": {
    "papermill": {
     "duration": 0.096161,
     "end_time": "2023-10-25T14:11:28.198664",
     "exception": false,
     "start_time": "2023-10-25T14:11:28.102503",
     "status": "completed"
    },
    "tags": []
   },
   "source": [
    "This approach is useful when you want to work with the original categorical values but also have access to their encoded versions.\n",
    "\n",
    "Handling categorical data is an essential step in data preprocessing, and the choice of encoding method can impact the performance of machine learning models. Make sure to choose the appropriate method based on the characteristics of your data and the requirements of your analysis."
   ]
  },
  {
   "cell_type": "markdown",
   "id": "e42d5453",
   "metadata": {
    "papermill": {
     "duration": 0.096724,
     "end_time": "2023-10-25T14:11:28.392502",
     "exception": false,
     "start_time": "2023-10-25T14:11:28.295778",
     "status": "completed"
    },
    "tags": []
   },
   "source": [
    "15. **Mathematical and Statistical Transformations**:\n",
    "\n",
    "    - `df.apply()`: Apply mathematical or statistical functions row-wise or column-wise.\n",
    "    \n",
    "    \n",
    "    In Pandas, you can perform mathematical and statistical transformations using the `df.apply()` method. This method allows you to apply a custom function, a built-in NumPy function, or a statistical function row-wise or column-wise to a DataFrame. Here's how you can use `df.apply()` for such transformations:\n",
    "\n",
    "**1. Applying a Custom Function:**\n",
    "\n",
    "You can define your own custom function and use `df.apply()` to apply it to each row or column of the DataFrame. Here's an example that calculates the square of each element in a DataFrame:"
   ]
  },
  {
   "cell_type": "code",
   "execution_count": 223,
   "id": "e5348009",
   "metadata": {
    "execution": {
     "iopub.execute_input": "2023-10-25T14:11:28.589964Z",
     "iopub.status.busy": "2023-10-25T14:11:28.588743Z",
     "iopub.status.idle": "2023-10-25T14:11:28.600943Z",
     "shell.execute_reply": "2023-10-25T14:11:28.600066Z"
    },
    "papermill": {
     "duration": 0.113382,
     "end_time": "2023-10-25T14:11:28.602975",
     "exception": false,
     "start_time": "2023-10-25T14:11:28.489593",
     "status": "completed"
    },
    "tags": []
   },
   "outputs": [
    {
     "data": {
      "text/html": [
       "<div>\n",
       "<style scoped>\n",
       "    .dataframe tbody tr th:only-of-type {\n",
       "        vertical-align: middle;\n",
       "    }\n",
       "\n",
       "    .dataframe tbody tr th {\n",
       "        vertical-align: top;\n",
       "    }\n",
       "\n",
       "    .dataframe thead th {\n",
       "        text-align: right;\n",
       "    }\n",
       "</style>\n",
       "<table border=\"1\" class=\"dataframe\">\n",
       "  <thead>\n",
       "    <tr style=\"text-align: right;\">\n",
       "      <th></th>\n",
       "      <th>A</th>\n",
       "      <th>B</th>\n",
       "    </tr>\n",
       "  </thead>\n",
       "  <tbody>\n",
       "    <tr>\n",
       "      <th>0</th>\n",
       "      <td>1</td>\n",
       "      <td>25</td>\n",
       "    </tr>\n",
       "    <tr>\n",
       "      <th>1</th>\n",
       "      <td>4</td>\n",
       "      <td>36</td>\n",
       "    </tr>\n",
       "    <tr>\n",
       "      <th>2</th>\n",
       "      <td>9</td>\n",
       "      <td>49</td>\n",
       "    </tr>\n",
       "    <tr>\n",
       "      <th>3</th>\n",
       "      <td>16</td>\n",
       "      <td>64</td>\n",
       "    </tr>\n",
       "  </tbody>\n",
       "</table>\n",
       "</div>"
      ],
      "text/plain": [
       "    A   B\n",
       "0   1  25\n",
       "1   4  36\n",
       "2   9  49\n",
       "3  16  64"
      ]
     },
     "execution_count": 223,
     "metadata": {},
     "output_type": "execute_result"
    }
   ],
   "source": [
    "import pandas as pd\n",
    "\n",
    "# Sample DataFrame\n",
    "data = {'A': [1, 2, 3, 4],\n",
    "        'B': [5, 6, 7, 8]}\n",
    "df = pd.DataFrame(data)\n",
    "\n",
    "# Define a custom function to calculate the square\n",
    "def square(x):\n",
    "    return x ** 2\n",
    "\n",
    "# Apply the custom function to each element in the DataFrame\n",
    "df_squared = df.apply(square)\n",
    "\n",
    "df_squared"
   ]
  },
  {
   "cell_type": "markdown",
   "id": "a39b327b",
   "metadata": {
    "papermill": {
     "duration": 0.099059,
     "end_time": "2023-10-25T14:11:28.800834",
     "exception": false,
     "start_time": "2023-10-25T14:11:28.701775",
     "status": "completed"
    },
    "tags": []
   },
   "source": [
    "**2. Applying Built-in NumPy Functions:**\n",
    "\n",
    "You can apply NumPy functions using `df.apply()` as well. For example, to calculate the mean of each column:"
   ]
  },
  {
   "cell_type": "code",
   "execution_count": 224,
   "id": "a96c1ce0",
   "metadata": {
    "execution": {
     "iopub.execute_input": "2023-10-25T14:11:29.000567Z",
     "iopub.status.busy": "2023-10-25T14:11:28.999791Z",
     "iopub.status.idle": "2023-10-25T14:11:29.010377Z",
     "shell.execute_reply": "2023-10-25T14:11:29.009258Z"
    },
    "papermill": {
     "duration": 0.112771,
     "end_time": "2023-10-25T14:11:29.012647",
     "exception": false,
     "start_time": "2023-10-25T14:11:28.899876",
     "status": "completed"
    },
    "tags": []
   },
   "outputs": [
    {
     "data": {
      "text/plain": [
       "A    2.5\n",
       "B    6.5\n",
       "dtype: float64"
      ]
     },
     "execution_count": 224,
     "metadata": {},
     "output_type": "execute_result"
    }
   ],
   "source": [
    "import pandas as pd\n",
    "import numpy as np\n",
    "\n",
    "# Sample DataFrame\n",
    "data = {'A': [1, 2, 3, 4],\n",
    "        'B': [5, 6, 7, 8]}\n",
    "df = pd.DataFrame(data)\n",
    "\n",
    "# Apply NumPy's mean function to each column\n",
    "column_means = df.apply(np.mean)\n",
    "column_means"
   ]
  },
  {
   "cell_type": "markdown",
   "id": "d7c65992",
   "metadata": {
    "papermill": {
     "duration": 0.09753,
     "end_time": "2023-10-25T14:11:29.208515",
     "exception": false,
     "start_time": "2023-10-25T14:11:29.110985",
     "status": "completed"
    },
    "tags": []
   },
   "source": [
    "**3. Applying Statistical Functions:**\n",
    "\n",
    "You can use statistical functions like `mean()`, `sum()`, `min()`, `max()`, etc., directly with `df.apply()` to compute statistics row-wise or column-wise. For example, to calculate the sum of each row:"
   ]
  },
  {
   "cell_type": "code",
   "execution_count": 225,
   "id": "b0b8ac95",
   "metadata": {
    "execution": {
     "iopub.execute_input": "2023-10-25T14:11:29.408856Z",
     "iopub.status.busy": "2023-10-25T14:11:29.408484Z",
     "iopub.status.idle": "2023-10-25T14:11:29.414965Z",
     "shell.execute_reply": "2023-10-25T14:11:29.414174Z"
    },
    "papermill": {
     "duration": 0.108977,
     "end_time": "2023-10-25T14:11:29.416983",
     "exception": false,
     "start_time": "2023-10-25T14:11:29.308006",
     "status": "completed"
    },
    "tags": []
   },
   "outputs": [],
   "source": [
    "import pandas as pd\n",
    "\n",
    "# Sample DataFrame\n",
    "data = {'A': [1, 2, 3, 4],\n",
    "        'B': [5, 6, 7, 8]}\n",
    "df = pd.DataFrame(data)\n",
    "\n",
    "# Calculate the sum of each row\n",
    "row_sums = df.apply(sum, axis=1)\n"
   ]
  },
  {
   "cell_type": "code",
   "execution_count": 226,
   "id": "ea9c17bf",
   "metadata": {
    "execution": {
     "iopub.execute_input": "2023-10-25T14:11:29.616649Z",
     "iopub.status.busy": "2023-10-25T14:11:29.616256Z",
     "iopub.status.idle": "2023-10-25T14:11:29.625150Z",
     "shell.execute_reply": "2023-10-25T14:11:29.624061Z"
    },
    "papermill": {
     "duration": 0.110828,
     "end_time": "2023-10-25T14:11:29.627193",
     "exception": false,
     "start_time": "2023-10-25T14:11:29.516365",
     "status": "completed"
    },
    "tags": []
   },
   "outputs": [
    {
     "data": {
      "text/html": [
       "<div>\n",
       "<style scoped>\n",
       "    .dataframe tbody tr th:only-of-type {\n",
       "        vertical-align: middle;\n",
       "    }\n",
       "\n",
       "    .dataframe tbody tr th {\n",
       "        vertical-align: top;\n",
       "    }\n",
       "\n",
       "    .dataframe thead th {\n",
       "        text-align: right;\n",
       "    }\n",
       "</style>\n",
       "<table border=\"1\" class=\"dataframe\">\n",
       "  <thead>\n",
       "    <tr style=\"text-align: right;\">\n",
       "      <th></th>\n",
       "      <th>A</th>\n",
       "      <th>B</th>\n",
       "    </tr>\n",
       "  </thead>\n",
       "  <tbody>\n",
       "    <tr>\n",
       "      <th>0</th>\n",
       "      <td>1</td>\n",
       "      <td>5</td>\n",
       "    </tr>\n",
       "    <tr>\n",
       "      <th>1</th>\n",
       "      <td>2</td>\n",
       "      <td>6</td>\n",
       "    </tr>\n",
       "    <tr>\n",
       "      <th>2</th>\n",
       "      <td>3</td>\n",
       "      <td>7</td>\n",
       "    </tr>\n",
       "    <tr>\n",
       "      <th>3</th>\n",
       "      <td>4</td>\n",
       "      <td>8</td>\n",
       "    </tr>\n",
       "  </tbody>\n",
       "</table>\n",
       "</div>"
      ],
      "text/plain": [
       "   A  B\n",
       "0  1  5\n",
       "1  2  6\n",
       "2  3  7\n",
       "3  4  8"
      ]
     },
     "execution_count": 226,
     "metadata": {},
     "output_type": "execute_result"
    }
   ],
   "source": [
    "df"
   ]
  },
  {
   "cell_type": "code",
   "execution_count": 227,
   "id": "30168f4c",
   "metadata": {
    "execution": {
     "iopub.execute_input": "2023-10-25T14:11:29.892176Z",
     "iopub.status.busy": "2023-10-25T14:11:29.891821Z",
     "iopub.status.idle": "2023-10-25T14:11:29.898666Z",
     "shell.execute_reply": "2023-10-25T14:11:29.897347Z"
    },
    "papermill": {
     "duration": 0.109599,
     "end_time": "2023-10-25T14:11:29.900687",
     "exception": false,
     "start_time": "2023-10-25T14:11:29.791088",
     "status": "completed"
    },
    "tags": []
   },
   "outputs": [
    {
     "data": {
      "text/plain": [
       "0     6\n",
       "1     8\n",
       "2    10\n",
       "3    12\n",
       "dtype: int64"
      ]
     },
     "execution_count": 227,
     "metadata": {},
     "output_type": "execute_result"
    }
   ],
   "source": [
    "row_sums"
   ]
  },
  {
   "cell_type": "markdown",
   "id": "2cfc6be0",
   "metadata": {
    "papermill": {
     "duration": 0.096796,
     "end_time": "2023-10-25T14:11:30.097122",
     "exception": false,
     "start_time": "2023-10-25T14:11:30.000326",
     "status": "completed"
    },
    "tags": []
   },
   "source": [
    "The `axis` parameter specifies whether the function should be applied row-wise (axis=1) or column-wise (axis=0).\n",
    "\n",
    "`df.apply()` is a versatile method that allows you to perform a wide range of mathematical and statistical transformations on DataFrames, making it a valuable tool for data analysis and manipulation."
   ]
  },
  {
   "cell_type": "markdown",
   "id": "d08f6067",
   "metadata": {
    "papermill": {
     "duration": 0.097952,
     "end_time": "2023-10-25T14:11:30.294763",
     "exception": false,
     "start_time": "2023-10-25T14:11:30.196811",
     "status": "completed"
    },
    "tags": []
   },
   "source": [
    "16. **Custom Data Cleaning and Transformation**:\n",
    "\n",
    "    - Writing custom functions and transformations to address domain-specific needs.\n",
    "    \n",
    "    In Pandas, you can perform mathematical and statistical transformations using the `df.apply()` method. This method allows you to apply a custom function, a built-in NumPy function, or a statistical function row-wise or column-wise to a DataFrame. Here's how you can use `df.apply()` for such transformations:\n",
    "\n",
    "**1. Applying a Custom Function:**\n",
    "\n",
    "You can define your own custom function and use `df.apply()` to apply it to each row or column of the DataFrame. Here's an example that calculates the square of each element in a DataFrame:"
   ]
  },
  {
   "cell_type": "code",
   "execution_count": 228,
   "id": "8599c890",
   "metadata": {
    "execution": {
     "iopub.execute_input": "2023-10-25T14:11:30.491532Z",
     "iopub.status.busy": "2023-10-25T14:11:30.491120Z",
     "iopub.status.idle": "2023-10-25T14:11:30.501189Z",
     "shell.execute_reply": "2023-10-25T14:11:30.499581Z"
    },
    "papermill": {
     "duration": 0.111275,
     "end_time": "2023-10-25T14:11:30.503417",
     "exception": false,
     "start_time": "2023-10-25T14:11:30.392142",
     "status": "completed"
    },
    "tags": []
   },
   "outputs": [
    {
     "name": "stdout",
     "output_type": "stream",
     "text": [
      "    A   B\n",
      "0   1  25\n",
      "1   4  36\n",
      "2   9  49\n",
      "3  16  64\n"
     ]
    }
   ],
   "source": [
    "\n",
    "import pandas as pd\n",
    "\n",
    "# Sample DataFrame\n",
    "data = {'A': [1, 2, 3, 4],\n",
    "        'B': [5, 6, 7, 8]}\n",
    "df = pd.DataFrame(data)\n",
    "\n",
    "# Define a custom function to calculate the square\n",
    "def square(x):\n",
    "    return x ** 2\n",
    "\n",
    "# Apply the custom function to each element in the DataFrame\n",
    "df_squared = df.apply(square)\n",
    "\n",
    "print(df_squared)\n"
   ]
  },
  {
   "cell_type": "markdown",
   "id": "7c3971db",
   "metadata": {
    "papermill": {
     "duration": 0.098684,
     "end_time": "2023-10-25T14:11:30.700389",
     "exception": false,
     "start_time": "2023-10-25T14:11:30.601705",
     "status": "completed"
    },
    "tags": []
   },
   "source": [
    "**2. Applying Built-in NumPy Functions:**\n",
    "\n",
    "You can apply NumPy functions using `df.apply()` as well. For example, to calculate the mean of each column:"
   ]
  },
  {
   "cell_type": "code",
   "execution_count": 229,
   "id": "b524de9b",
   "metadata": {
    "execution": {
     "iopub.execute_input": "2023-10-25T14:11:30.901420Z",
     "iopub.status.busy": "2023-10-25T14:11:30.900633Z",
     "iopub.status.idle": "2023-10-25T14:11:30.909601Z",
     "shell.execute_reply": "2023-10-25T14:11:30.908361Z"
    },
    "papermill": {
     "duration": 0.110771,
     "end_time": "2023-10-25T14:11:30.911485",
     "exception": false,
     "start_time": "2023-10-25T14:11:30.800714",
     "status": "completed"
    },
    "tags": []
   },
   "outputs": [
    {
     "name": "stdout",
     "output_type": "stream",
     "text": [
      "A    2.5\n",
      "B    6.5\n",
      "dtype: float64\n"
     ]
    }
   ],
   "source": [
    "\n",
    "import pandas as pd\n",
    "import numpy as np\n",
    "\n",
    "# Sample DataFrame\n",
    "data = {'A': [1, 2, 3, 4],\n",
    "        'B': [5, 6, 7, 8]}\n",
    "df = pd.DataFrame(data)\n",
    "\n",
    "# Apply NumPy's mean function to each column\n",
    "column_means = df.apply(np.mean)\n",
    "\n",
    "print(column_means)\n"
   ]
  },
  {
   "cell_type": "markdown",
   "id": "9120c6bd",
   "metadata": {
    "papermill": {
     "duration": 0.098198,
     "end_time": "2023-10-25T14:11:31.109757",
     "exception": false,
     "start_time": "2023-10-25T14:11:31.011559",
     "status": "completed"
    },
    "tags": []
   },
   "source": [
    "**3. Applying Statistical Functions:**\n",
    "\n",
    "You can use statistical functions like `mean()`, `sum()`, `min()`, `max()`, etc., directly with `df.apply()` to compute statistics row-wise or column-wise. For example, to calculate the sum of each row:"
   ]
  },
  {
   "cell_type": "code",
   "execution_count": 230,
   "id": "015dec06",
   "metadata": {
    "execution": {
     "iopub.execute_input": "2023-10-25T14:11:31.307483Z",
     "iopub.status.busy": "2023-10-25T14:11:31.306631Z",
     "iopub.status.idle": "2023-10-25T14:11:31.314588Z",
     "shell.execute_reply": "2023-10-25T14:11:31.313445Z"
    },
    "papermill": {
     "duration": 0.108691,
     "end_time": "2023-10-25T14:11:31.317138",
     "exception": false,
     "start_time": "2023-10-25T14:11:31.208447",
     "status": "completed"
    },
    "tags": []
   },
   "outputs": [
    {
     "name": "stdout",
     "output_type": "stream",
     "text": [
      "0     6\n",
      "1     8\n",
      "2    10\n",
      "3    12\n",
      "dtype: int64\n"
     ]
    }
   ],
   "source": [
    "\n",
    "import pandas as pd\n",
    "\n",
    "# Sample DataFrame\n",
    "data = {'A': [1, 2, 3, 4],\n",
    "        'B': [5, 6, 7, 8]}\n",
    "df = pd.DataFrame(data)\n",
    "\n",
    "# Calculate the sum of each row\n",
    "row_sums = df.apply(sum, axis=1)\n",
    "\n",
    "print(row_sums)\n"
   ]
  },
  {
   "cell_type": "markdown",
   "id": "687bc1b5",
   "metadata": {
    "papermill": {
     "duration": 0.099244,
     "end_time": "2023-10-25T14:11:31.514670",
     "exception": false,
     "start_time": "2023-10-25T14:11:31.415426",
     "status": "completed"
    },
    "tags": []
   },
   "source": [
    "The `axis` parameter specifies whether the function should be applied row-wise (axis=1) or column-wise (axis=0).\n",
    "\n",
    "`df.apply()` is a versatile method that allows you to perform a wide range of mathematical and statistical transformations on DataFrames, making it a valuable tool for data analysis and manipulation."
   ]
  },
  {
   "cell_type": "markdown",
   "id": "9e0acbd1",
   "metadata": {
    "papermill": {
     "duration": 0.097642,
     "end_time": "2023-10-25T14:11:31.711432",
     "exception": false,
     "start_time": "2023-10-25T14:11:31.613790",
     "status": "completed"
    },
    "tags": []
   },
   "source": [
    "Data cleaning and transformation are highly dependent on the specific dataset and analysis goals. Pandas offers a wide range of functions to support these operations, allowing you to preprocess and manipulate data effectively before analysis."
   ]
  },
  {
   "cell_type": "code",
   "execution_count": 231,
   "id": "39d33e2e",
   "metadata": {
    "execution": {
     "iopub.execute_input": "2023-10-25T14:11:31.915843Z",
     "iopub.status.busy": "2023-10-25T14:11:31.915479Z",
     "iopub.status.idle": "2023-10-25T14:11:31.921537Z",
     "shell.execute_reply": "2023-10-25T14:11:31.920289Z"
    },
    "papermill": {
     "duration": 0.110653,
     "end_time": "2023-10-25T14:11:31.923891",
     "exception": false,
     "start_time": "2023-10-25T14:11:31.813238",
     "status": "completed"
    },
    "tags": []
   },
   "outputs": [],
   "source": [
    "import pandas as pd\n",
    "\n",
    "# Convert an integer to a Timedelta (in this case, 5 days)\n",
    "timedelta = pd.to_timedelta(5, unit='D')\n",
    "\n",
    "# Convert a string to a Timedelta (e.g., '3 days 12:30:15')\n",
    "timedelta_str = pd.to_timedelta('3 days 12 hours 30 minutes 15 seconds')\n",
    "\n",
    "# Convert a list or array of strings to a Series of Timedeltas\n",
    "time_values = ['1 day', '2 days', '4 hours']\n",
    "timedeltas = pd.to_timedelta(time_values)\n",
    "\n",
    "# Perform arithmetic operations with Timedeltas\n",
    "total_time = timedelta + timedelta_str"
   ]
  },
  {
   "cell_type": "code",
   "execution_count": 232,
   "id": "9572fa27",
   "metadata": {
    "execution": {
     "iopub.execute_input": "2023-10-25T14:11:32.141388Z",
     "iopub.status.busy": "2023-10-25T14:11:32.141000Z",
     "iopub.status.idle": "2023-10-25T14:11:32.147863Z",
     "shell.execute_reply": "2023-10-25T14:11:32.146696Z"
    },
    "papermill": {
     "duration": 0.113197,
     "end_time": "2023-10-25T14:11:32.150175",
     "exception": false,
     "start_time": "2023-10-25T14:11:32.036978",
     "status": "completed"
    },
    "tags": []
   },
   "outputs": [
    {
     "data": {
      "text/plain": [
       "Timedelta('8 days 12:30:15')"
      ]
     },
     "execution_count": 232,
     "metadata": {},
     "output_type": "execute_result"
    }
   ],
   "source": [
    "total_time"
   ]
  },
  {
   "cell_type": "markdown",
   "id": "1966c787",
   "metadata": {
    "execution": {
     "iopub.execute_input": "2023-10-24T07:55:42.365325Z",
     "iopub.status.busy": "2023-10-24T07:55:42.364881Z",
     "iopub.status.idle": "2023-10-24T07:55:42.371670Z",
     "shell.execute_reply": "2023-10-24T07:55:42.370071Z",
     "shell.execute_reply.started": "2023-10-24T07:55:42.365290Z"
    },
    "papermill": {
     "duration": 0.182966,
     "end_time": "2023-10-25T14:11:32.441138",
     "exception": false,
     "start_time": "2023-10-25T14:11:32.258172",
     "status": "completed"
    },
    "tags": []
   },
   "source": [
    "Let's walk through some examples of using the `groupby()` method in Pandas with code to illustrate its various features:\n",
    "\n",
    "**1. Grouping and Aggregating Data:**\n",
    "\n",
    "```python\n",
    "import pandas as pd\n",
    "\n",
    "# Creating a sample DataFrame\n",
    "data = {'Category': ['A', 'B', 'A', 'B', 'A'],\n",
    "        'Value': [10, 20, 15, 25, 30]}\n",
    "df = pd.DataFrame(data)\n",
    "\n",
    "# Grouping by 'Category' and calculating the sum of 'Value'\n",
    "grouped = df.groupby('Category')['Value'].sum()\n",
    "print(grouped)\n",
    "```\n",
    "\n",
    "**2. Chaining Aggregation Functions:**\n",
    "\n",
    "```python\n",
    "# Grouping by 'Category' and calculating multiple aggregations\n",
    "agg_result = df.groupby('Category')['Value'].agg(['sum', 'mean', 'count'])\n",
    "print(agg_result)\n",
    "```\n",
    "\n",
    "**3. Custom Aggregation Functions:**\n",
    "\n",
    "```python\n",
    "# Define a custom aggregation function to calculate range\n",
    "custom_agg = lambda x: x.max() - x.min()\n",
    "custom_result = df.groupby('Category')['Value'].agg(custom_agg)\n",
    "print(custom_result)\n",
    "```\n",
    "\n",
    "**4. Named Aggregations:**\n",
    "\n",
    "```python\n",
    "# Assign a name to the result of an aggregation\n",
    "named_agg = df.groupby('Category').agg(total_value=('Value', 'sum'))\n",
    "print(named_agg)\n",
    "```\n",
    "\n",
    "**5. Iterating Over Groups:**\n",
    "\n",
    "```python\n",
    "# Iterating over groups\n",
    "for group_name, group_df in df.groupby('Category'):\n",
    "    print(f\"Group: {group_name}\")\n",
    "    print(group_df)\n",
    "```\n",
    "\n",
    "**6. Filtering Groups:**\n",
    "\n",
    "```python\n",
    "# Filtering groups based on a condition\n",
    "filtered_groups = df.groupby('Category').filter(lambda x: x['Value'].sum() > 20)\n",
    "print(filtered_groups)\n",
    "```\n",
    "\n",
    "These examples demonstrate various ways to use the `groupby()` method for grouping, aggregating, and processing data in Pandas. You can apply these techniques to real-world data analysis tasks to gain insights and perform summarization on your data."
   ]
  },
  {
   "cell_type": "code",
   "execution_count": 233,
   "id": "1682c9b0",
   "metadata": {
    "execution": {
     "iopub.execute_input": "2023-10-25T14:11:32.644531Z",
     "iopub.status.busy": "2023-10-25T14:11:32.644131Z",
     "iopub.status.idle": "2023-10-25T14:11:32.653000Z",
     "shell.execute_reply": "2023-10-25T14:11:32.652160Z"
    },
    "papermill": {
     "duration": 0.11197,
     "end_time": "2023-10-25T14:11:32.655148",
     "exception": false,
     "start_time": "2023-10-25T14:11:32.543178",
     "status": "completed"
    },
    "tags": []
   },
   "outputs": [],
   "source": [
    "ipl = pd.read_csv(\"/kaggle/input/ipl-auction-20132022-data/IPl Auction 2013-2022.csv\")"
   ]
  },
  {
   "cell_type": "code",
   "execution_count": 234,
   "id": "358947f5",
   "metadata": {
    "execution": {
     "iopub.execute_input": "2023-10-25T14:11:32.868983Z",
     "iopub.status.busy": "2023-10-25T14:11:32.868191Z",
     "iopub.status.idle": "2023-10-25T14:11:32.881862Z",
     "shell.execute_reply": "2023-10-25T14:11:32.880192Z"
    },
    "papermill": {
     "duration": 0.123104,
     "end_time": "2023-10-25T14:11:32.884203",
     "exception": false,
     "start_time": "2023-10-25T14:11:32.761099",
     "status": "completed"
    },
    "tags": []
   },
   "outputs": [
    {
     "data": {
      "text/html": [
       "<div>\n",
       "<style scoped>\n",
       "    .dataframe tbody tr th:only-of-type {\n",
       "        vertical-align: middle;\n",
       "    }\n",
       "\n",
       "    .dataframe tbody tr th {\n",
       "        vertical-align: top;\n",
       "    }\n",
       "\n",
       "    .dataframe thead th {\n",
       "        text-align: right;\n",
       "    }\n",
       "</style>\n",
       "<table border=\"1\" class=\"dataframe\">\n",
       "  <thead>\n",
       "    <tr style=\"text-align: right;\">\n",
       "      <th></th>\n",
       "      <th>player_name</th>\n",
       "      <th>nationality</th>\n",
       "      <th>type</th>\n",
       "      <th>teams</th>\n",
       "      <th>year</th>\n",
       "      <th>sponsored_by</th>\n",
       "      <th>sold_price</th>\n",
       "    </tr>\n",
       "  </thead>\n",
       "  <tbody>\n",
       "    <tr>\n",
       "      <th>0</th>\n",
       "      <td>Robin Uthappa</td>\n",
       "      <td>Indian</td>\n",
       "      <td>Batsman</td>\n",
       "      <td>Chennai Super Kings</td>\n",
       "      <td>2022</td>\n",
       "      <td>TATA</td>\n",
       "      <td>20000000</td>\n",
       "    </tr>\n",
       "    <tr>\n",
       "      <th>1</th>\n",
       "      <td>Dwayne Bravo</td>\n",
       "      <td>Overseas</td>\n",
       "      <td>All-Rounder</td>\n",
       "      <td>Chennai Super Kings</td>\n",
       "      <td>2022</td>\n",
       "      <td>TATA</td>\n",
       "      <td>44000000</td>\n",
       "    </tr>\n",
       "    <tr>\n",
       "      <th>2</th>\n",
       "      <td>Ambati Rayudu</td>\n",
       "      <td>Indian</td>\n",
       "      <td>Wicket Keeper</td>\n",
       "      <td>Chennai Super Kings</td>\n",
       "      <td>2022</td>\n",
       "      <td>TATA</td>\n",
       "      <td>67500000</td>\n",
       "    </tr>\n",
       "    <tr>\n",
       "      <th>3</th>\n",
       "      <td>Deepak Chahar</td>\n",
       "      <td>Indian</td>\n",
       "      <td>Bowler</td>\n",
       "      <td>Chennai Super Kings</td>\n",
       "      <td>2022</td>\n",
       "      <td>TATA</td>\n",
       "      <td>140000000</td>\n",
       "    </tr>\n",
       "    <tr>\n",
       "      <th>4</th>\n",
       "      <td>C.Hari Nishaanth</td>\n",
       "      <td>Indian</td>\n",
       "      <td>Batsman</td>\n",
       "      <td>Chennai Super Kings</td>\n",
       "      <td>2022</td>\n",
       "      <td>TATA</td>\n",
       "      <td>2000000</td>\n",
       "    </tr>\n",
       "  </tbody>\n",
       "</table>\n",
       "</div>"
      ],
      "text/plain": [
       "        player_name nationality           type                teams  year  \\\n",
       "0     Robin Uthappa      Indian        Batsman  Chennai Super Kings  2022   \n",
       "1      Dwayne Bravo    Overseas    All-Rounder  Chennai Super Kings  2022   \n",
       "2     Ambati Rayudu      Indian  Wicket Keeper  Chennai Super Kings  2022   \n",
       "3     Deepak Chahar      Indian         Bowler  Chennai Super Kings  2022   \n",
       "4  C.Hari Nishaanth      Indian        Batsman  Chennai Super Kings  2022   \n",
       "\n",
       "  sponsored_by  sold_price  \n",
       "0         TATA    20000000  \n",
       "1         TATA    44000000  \n",
       "2         TATA    67500000  \n",
       "3         TATA   140000000  \n",
       "4         TATA     2000000  "
      ]
     },
     "execution_count": 234,
     "metadata": {},
     "output_type": "execute_result"
    }
   ],
   "source": [
    "ipl.head()"
   ]
  },
  {
   "cell_type": "code",
   "execution_count": 235,
   "id": "aea7c4c2",
   "metadata": {
    "execution": {
     "iopub.execute_input": "2023-10-25T14:11:33.089475Z",
     "iopub.status.busy": "2023-10-25T14:11:33.088694Z",
     "iopub.status.idle": "2023-10-25T14:11:33.093665Z",
     "shell.execute_reply": "2023-10-25T14:11:33.092916Z"
    },
    "papermill": {
     "duration": 0.111122,
     "end_time": "2023-10-25T14:11:33.095723",
     "exception": false,
     "start_time": "2023-10-25T14:11:32.984601",
     "status": "completed"
    },
    "tags": []
   },
   "outputs": [],
   "source": [
    "nation_grp = ipl.groupby(by=\"nationality\")"
   ]
  },
  {
   "cell_type": "code",
   "execution_count": 236,
   "id": "3d1d5b6f",
   "metadata": {
    "execution": {
     "iopub.execute_input": "2023-10-25T14:11:33.298027Z",
     "iopub.status.busy": "2023-10-25T14:11:33.297401Z",
     "iopub.status.idle": "2023-10-25T14:11:33.310663Z",
     "shell.execute_reply": "2023-10-25T14:11:33.309570Z"
    },
    "papermill": {
     "duration": 0.117249,
     "end_time": "2023-10-25T14:11:33.312697",
     "exception": false,
     "start_time": "2023-10-25T14:11:33.195448",
     "status": "completed"
    },
    "tags": []
   },
   "outputs": [
    {
     "data": {
      "text/html": [
       "<div>\n",
       "<style scoped>\n",
       "    .dataframe tbody tr th:only-of-type {\n",
       "        vertical-align: middle;\n",
       "    }\n",
       "\n",
       "    .dataframe tbody tr th {\n",
       "        vertical-align: top;\n",
       "    }\n",
       "\n",
       "    .dataframe thead th {\n",
       "        text-align: right;\n",
       "    }\n",
       "</style>\n",
       "<table border=\"1\" class=\"dataframe\">\n",
       "  <thead>\n",
       "    <tr style=\"text-align: right;\">\n",
       "      <th></th>\n",
       "      <th>player_name</th>\n",
       "      <th>type</th>\n",
       "      <th>teams</th>\n",
       "      <th>year</th>\n",
       "      <th>sponsored_by</th>\n",
       "      <th>sold_price</th>\n",
       "    </tr>\n",
       "    <tr>\n",
       "      <th>nationality</th>\n",
       "      <th></th>\n",
       "      <th></th>\n",
       "      <th></th>\n",
       "      <th></th>\n",
       "      <th></th>\n",
       "      <th></th>\n",
       "    </tr>\n",
       "  </thead>\n",
       "  <tbody>\n",
       "    <tr>\n",
       "      <th>Indian</th>\n",
       "      <td>Robin Uthappa</td>\n",
       "      <td>Batsman</td>\n",
       "      <td>Chennai Super Kings</td>\n",
       "      <td>2022</td>\n",
       "      <td>TATA</td>\n",
       "      <td>20000000</td>\n",
       "    </tr>\n",
       "    <tr>\n",
       "      <th>Overseas</th>\n",
       "      <td>Dwayne Bravo</td>\n",
       "      <td>All-Rounder</td>\n",
       "      <td>Chennai Super Kings</td>\n",
       "      <td>2022</td>\n",
       "      <td>TATA</td>\n",
       "      <td>44000000</td>\n",
       "    </tr>\n",
       "  </tbody>\n",
       "</table>\n",
       "</div>"
      ],
      "text/plain": [
       "               player_name         type                teams  year  \\\n",
       "nationality                                                          \n",
       "Indian       Robin Uthappa      Batsman  Chennai Super Kings  2022   \n",
       "Overseas      Dwayne Bravo  All-Rounder  Chennai Super Kings  2022   \n",
       "\n",
       "            sponsored_by  sold_price  \n",
       "nationality                           \n",
       "Indian              TATA    20000000  \n",
       "Overseas            TATA    44000000  "
      ]
     },
     "execution_count": 236,
     "metadata": {},
     "output_type": "execute_result"
    }
   ],
   "source": [
    "nation_grp.first()"
   ]
  },
  {
   "cell_type": "code",
   "execution_count": 237,
   "id": "6e7f02f0",
   "metadata": {
    "execution": {
     "iopub.execute_input": "2023-10-25T14:11:33.514383Z",
     "iopub.status.busy": "2023-10-25T14:11:33.513775Z",
     "iopub.status.idle": "2023-10-25T14:11:33.525593Z",
     "shell.execute_reply": "2023-10-25T14:11:33.524594Z"
    },
    "papermill": {
     "duration": 0.114617,
     "end_time": "2023-10-25T14:11:33.527513",
     "exception": false,
     "start_time": "2023-10-25T14:11:33.412896",
     "status": "completed"
    },
    "tags": []
   },
   "outputs": [
    {
     "data": {
      "text/html": [
       "<div>\n",
       "<style scoped>\n",
       "    .dataframe tbody tr th:only-of-type {\n",
       "        vertical-align: middle;\n",
       "    }\n",
       "\n",
       "    .dataframe tbody tr th {\n",
       "        vertical-align: top;\n",
       "    }\n",
       "\n",
       "    .dataframe thead th {\n",
       "        text-align: right;\n",
       "    }\n",
       "</style>\n",
       "<table border=\"1\" class=\"dataframe\">\n",
       "  <thead>\n",
       "    <tr style=\"text-align: right;\">\n",
       "      <th></th>\n",
       "      <th>player_name</th>\n",
       "      <th>type</th>\n",
       "      <th>teams</th>\n",
       "      <th>year</th>\n",
       "      <th>sponsored_by</th>\n",
       "      <th>sold_price</th>\n",
       "    </tr>\n",
       "    <tr>\n",
       "      <th>nationality</th>\n",
       "      <th></th>\n",
       "      <th></th>\n",
       "      <th></th>\n",
       "      <th></th>\n",
       "      <th></th>\n",
       "      <th></th>\n",
       "    </tr>\n",
       "  </thead>\n",
       "  <tbody>\n",
       "    <tr>\n",
       "      <th>Indian</th>\n",
       "      <td>Saurabh Dubey</td>\n",
       "      <td>Bowler</td>\n",
       "      <td>Sunrisers Hyderabad</td>\n",
       "      <td>2022</td>\n",
       "      <td>TATA</td>\n",
       "      <td>2000000</td>\n",
       "    </tr>\n",
       "    <tr>\n",
       "      <th>Overseas</th>\n",
       "      <td>Sean Abbott</td>\n",
       "      <td>Bowler</td>\n",
       "      <td>Sunrisers Hyderabad</td>\n",
       "      <td>2022</td>\n",
       "      <td>TATA</td>\n",
       "      <td>24000000</td>\n",
       "    </tr>\n",
       "  </tbody>\n",
       "</table>\n",
       "</div>"
      ],
      "text/plain": [
       "               player_name    type                teams  year sponsored_by  \\\n",
       "nationality                                                                  \n",
       "Indian       Saurabh Dubey  Bowler  Sunrisers Hyderabad  2022         TATA   \n",
       "Overseas       Sean Abbott  Bowler  Sunrisers Hyderabad  2022         TATA   \n",
       "\n",
       "             sold_price  \n",
       "nationality              \n",
       "Indian          2000000  \n",
       "Overseas       24000000  "
      ]
     },
     "execution_count": 237,
     "metadata": {},
     "output_type": "execute_result"
    }
   ],
   "source": [
    "nation_grp.last()"
   ]
  },
  {
   "cell_type": "code",
   "execution_count": 238,
   "id": "946c0e09",
   "metadata": {
    "execution": {
     "iopub.execute_input": "2023-10-25T14:11:33.727137Z",
     "iopub.status.busy": "2023-10-25T14:11:33.726535Z",
     "iopub.status.idle": "2023-10-25T14:11:33.761635Z",
     "shell.execute_reply": "2023-10-25T14:11:33.760544Z"
    },
    "papermill": {
     "duration": 0.137674,
     "end_time": "2023-10-25T14:11:33.764002",
     "exception": false,
     "start_time": "2023-10-25T14:11:33.626328",
     "status": "completed"
    },
    "tags": []
   },
   "outputs": [
    {
     "data": {
      "text/html": [
       "<div>\n",
       "<style scoped>\n",
       "    .dataframe tbody tr th:only-of-type {\n",
       "        vertical-align: middle;\n",
       "    }\n",
       "\n",
       "    .dataframe tbody tr th {\n",
       "        vertical-align: top;\n",
       "    }\n",
       "\n",
       "    .dataframe thead tr th {\n",
       "        text-align: left;\n",
       "    }\n",
       "\n",
       "    .dataframe thead tr:last-of-type th {\n",
       "        text-align: right;\n",
       "    }\n",
       "</style>\n",
       "<table border=\"1\" class=\"dataframe\">\n",
       "  <thead>\n",
       "    <tr>\n",
       "      <th></th>\n",
       "      <th colspan=\"8\" halign=\"left\">year</th>\n",
       "      <th colspan=\"8\" halign=\"left\">sold_price</th>\n",
       "    </tr>\n",
       "    <tr>\n",
       "      <th></th>\n",
       "      <th>count</th>\n",
       "      <th>mean</th>\n",
       "      <th>std</th>\n",
       "      <th>min</th>\n",
       "      <th>25%</th>\n",
       "      <th>50%</th>\n",
       "      <th>75%</th>\n",
       "      <th>max</th>\n",
       "      <th>count</th>\n",
       "      <th>mean</th>\n",
       "      <th>std</th>\n",
       "      <th>min</th>\n",
       "      <th>25%</th>\n",
       "      <th>50%</th>\n",
       "      <th>75%</th>\n",
       "      <th>max</th>\n",
       "    </tr>\n",
       "    <tr>\n",
       "      <th>nationality</th>\n",
       "      <th></th>\n",
       "      <th></th>\n",
       "      <th></th>\n",
       "      <th></th>\n",
       "      <th></th>\n",
       "      <th></th>\n",
       "      <th></th>\n",
       "      <th></th>\n",
       "      <th></th>\n",
       "      <th></th>\n",
       "      <th></th>\n",
       "      <th></th>\n",
       "      <th></th>\n",
       "      <th></th>\n",
       "      <th></th>\n",
       "      <th></th>\n",
       "    </tr>\n",
       "  </thead>\n",
       "  <tbody>\n",
       "    <tr>\n",
       "      <th>Indian</th>\n",
       "      <td>137.0</td>\n",
       "      <td>2022.0</td>\n",
       "      <td>0.0</td>\n",
       "      <td>2022.0</td>\n",
       "      <td>2022.0</td>\n",
       "      <td>2022.0</td>\n",
       "      <td>2022.0</td>\n",
       "      <td>2022.0</td>\n",
       "      <td>137.0</td>\n",
       "      <td>2.293431e+07</td>\n",
       "      <td>3.285311e+07</td>\n",
       "      <td>2000000.0</td>\n",
       "      <td>2000000.0</td>\n",
       "      <td>5000000.0</td>\n",
       "      <td>32000000.0</td>\n",
       "      <td>152500000.0</td>\n",
       "    </tr>\n",
       "    <tr>\n",
       "      <th>Overseas</th>\n",
       "      <td>67.0</td>\n",
       "      <td>2022.0</td>\n",
       "      <td>0.0</td>\n",
       "      <td>2022.0</td>\n",
       "      <td>2022.0</td>\n",
       "      <td>2022.0</td>\n",
       "      <td>2022.0</td>\n",
       "      <td>2022.0</td>\n",
       "      <td>67.0</td>\n",
       "      <td>3.544776e+07</td>\n",
       "      <td>3.264886e+07</td>\n",
       "      <td>3000000.0</td>\n",
       "      <td>10000000.0</td>\n",
       "      <td>20000000.0</td>\n",
       "      <td>66250000.0</td>\n",
       "      <td>115000000.0</td>\n",
       "    </tr>\n",
       "  </tbody>\n",
       "</table>\n",
       "</div>"
      ],
      "text/plain": [
       "              year                                                       \\\n",
       "             count    mean  std     min     25%     50%     75%     max   \n",
       "nationality                                                               \n",
       "Indian       137.0  2022.0  0.0  2022.0  2022.0  2022.0  2022.0  2022.0   \n",
       "Overseas      67.0  2022.0  0.0  2022.0  2022.0  2022.0  2022.0  2022.0   \n",
       "\n",
       "            sold_price                                                     \\\n",
       "                 count          mean           std        min         25%   \n",
       "nationality                                                                 \n",
       "Indian           137.0  2.293431e+07  3.285311e+07  2000000.0   2000000.0   \n",
       "Overseas          67.0  3.544776e+07  3.264886e+07  3000000.0  10000000.0   \n",
       "\n",
       "                                                  \n",
       "                    50%         75%          max  \n",
       "nationality                                       \n",
       "Indian        5000000.0  32000000.0  152500000.0  \n",
       "Overseas     20000000.0  66250000.0  115000000.0  "
      ]
     },
     "execution_count": 238,
     "metadata": {},
     "output_type": "execute_result"
    }
   ],
   "source": [
    "nation_grp.describe()"
   ]
  },
  {
   "cell_type": "code",
   "execution_count": 239,
   "id": "95b1a0bc",
   "metadata": {
    "execution": {
     "iopub.execute_input": "2023-10-25T14:11:33.968217Z",
     "iopub.status.busy": "2023-10-25T14:11:33.967851Z",
     "iopub.status.idle": "2023-10-25T14:11:33.974081Z",
     "shell.execute_reply": "2023-10-25T14:11:33.973304Z"
    },
    "papermill": {
     "duration": 0.110393,
     "end_time": "2023-10-25T14:11:33.975964",
     "exception": false,
     "start_time": "2023-10-25T14:11:33.865571",
     "status": "completed"
    },
    "tags": []
   },
   "outputs": [
    {
     "data": {
      "text/plain": [
       "dict_keys(['Indian', 'Overseas'])"
      ]
     },
     "execution_count": 239,
     "metadata": {},
     "output_type": "execute_result"
    }
   ],
   "source": [
    "nation_grp.groups.keys()"
   ]
  },
  {
   "cell_type": "code",
   "execution_count": 240,
   "id": "e1523244",
   "metadata": {
    "execution": {
     "iopub.execute_input": "2023-10-25T14:11:34.178733Z",
     "iopub.status.busy": "2023-10-25T14:11:34.178322Z",
     "iopub.status.idle": "2023-10-25T14:11:34.194358Z",
     "shell.execute_reply": "2023-10-25T14:11:34.193499Z"
    },
    "papermill": {
     "duration": 0.120342,
     "end_time": "2023-10-25T14:11:34.196394",
     "exception": false,
     "start_time": "2023-10-25T14:11:34.076052",
     "status": "completed"
    },
    "tags": []
   },
   "outputs": [
    {
     "data": {
      "text/html": [
       "<div>\n",
       "<style scoped>\n",
       "    .dataframe tbody tr th:only-of-type {\n",
       "        vertical-align: middle;\n",
       "    }\n",
       "\n",
       "    .dataframe tbody tr th {\n",
       "        vertical-align: top;\n",
       "    }\n",
       "\n",
       "    .dataframe thead th {\n",
       "        text-align: right;\n",
       "    }\n",
       "</style>\n",
       "<table border=\"1\" class=\"dataframe\">\n",
       "  <thead>\n",
       "    <tr style=\"text-align: right;\">\n",
       "      <th></th>\n",
       "      <th>player_name</th>\n",
       "      <th>nationality</th>\n",
       "      <th>type</th>\n",
       "      <th>teams</th>\n",
       "      <th>year</th>\n",
       "      <th>sponsored_by</th>\n",
       "      <th>sold_price</th>\n",
       "    </tr>\n",
       "  </thead>\n",
       "  <tbody>\n",
       "    <tr>\n",
       "      <th>0</th>\n",
       "      <td>Robin Uthappa</td>\n",
       "      <td>Indian</td>\n",
       "      <td>Batsman</td>\n",
       "      <td>Chennai Super Kings</td>\n",
       "      <td>2022</td>\n",
       "      <td>TATA</td>\n",
       "      <td>20000000</td>\n",
       "    </tr>\n",
       "    <tr>\n",
       "      <th>2</th>\n",
       "      <td>Ambati Rayudu</td>\n",
       "      <td>Indian</td>\n",
       "      <td>Wicket Keeper</td>\n",
       "      <td>Chennai Super Kings</td>\n",
       "      <td>2022</td>\n",
       "      <td>TATA</td>\n",
       "      <td>67500000</td>\n",
       "    </tr>\n",
       "    <tr>\n",
       "      <th>3</th>\n",
       "      <td>Deepak Chahar</td>\n",
       "      <td>Indian</td>\n",
       "      <td>Bowler</td>\n",
       "      <td>Chennai Super Kings</td>\n",
       "      <td>2022</td>\n",
       "      <td>TATA</td>\n",
       "      <td>140000000</td>\n",
       "    </tr>\n",
       "    <tr>\n",
       "      <th>4</th>\n",
       "      <td>C.Hari Nishaanth</td>\n",
       "      <td>Indian</td>\n",
       "      <td>Batsman</td>\n",
       "      <td>Chennai Super Kings</td>\n",
       "      <td>2022</td>\n",
       "      <td>TATA</td>\n",
       "      <td>2000000</td>\n",
       "    </tr>\n",
       "    <tr>\n",
       "      <th>5</th>\n",
       "      <td>N. Jagadeesan</td>\n",
       "      <td>Indian</td>\n",
       "      <td>Wicket Keeper</td>\n",
       "      <td>Chennai Super Kings</td>\n",
       "      <td>2022</td>\n",
       "      <td>TATA</td>\n",
       "      <td>2000000</td>\n",
       "    </tr>\n",
       "    <tr>\n",
       "      <th>...</th>\n",
       "      <td>...</td>\n",
       "      <td>...</td>\n",
       "      <td>...</td>\n",
       "      <td>...</td>\n",
       "      <td>...</td>\n",
       "      <td>...</td>\n",
       "      <td>...</td>\n",
       "    </tr>\n",
       "    <tr>\n",
       "      <th>193</th>\n",
       "      <td>Shreyas Gopal</td>\n",
       "      <td>Indian</td>\n",
       "      <td>Bowler</td>\n",
       "      <td>Sunrisers Hyderabad</td>\n",
       "      <td>2022</td>\n",
       "      <td>TATA</td>\n",
       "      <td>7500000</td>\n",
       "    </tr>\n",
       "    <tr>\n",
       "      <th>194</th>\n",
       "      <td>Jagadeesha Suchith</td>\n",
       "      <td>Indian</td>\n",
       "      <td>Bowler</td>\n",
       "      <td>Sunrisers Hyderabad</td>\n",
       "      <td>2022</td>\n",
       "      <td>TATA</td>\n",
       "      <td>2000000</td>\n",
       "    </tr>\n",
       "    <tr>\n",
       "      <th>201</th>\n",
       "      <td>R Samarth</td>\n",
       "      <td>Indian</td>\n",
       "      <td>Batsman</td>\n",
       "      <td>Sunrisers Hyderabad</td>\n",
       "      <td>2022</td>\n",
       "      <td>TATA</td>\n",
       "      <td>2000000</td>\n",
       "    </tr>\n",
       "    <tr>\n",
       "      <th>202</th>\n",
       "      <td>Shashank Singh</td>\n",
       "      <td>Indian</td>\n",
       "      <td>All-Rounder</td>\n",
       "      <td>Sunrisers Hyderabad</td>\n",
       "      <td>2022</td>\n",
       "      <td>TATA</td>\n",
       "      <td>2000000</td>\n",
       "    </tr>\n",
       "    <tr>\n",
       "      <th>203</th>\n",
       "      <td>Saurabh Dubey</td>\n",
       "      <td>Indian</td>\n",
       "      <td>Bowler</td>\n",
       "      <td>Sunrisers Hyderabad</td>\n",
       "      <td>2022</td>\n",
       "      <td>TATA</td>\n",
       "      <td>2000000</td>\n",
       "    </tr>\n",
       "  </tbody>\n",
       "</table>\n",
       "<p>137 rows × 7 columns</p>\n",
       "</div>"
      ],
      "text/plain": [
       "            player_name nationality           type                teams  year  \\\n",
       "0         Robin Uthappa      Indian        Batsman  Chennai Super Kings  2022   \n",
       "2         Ambati Rayudu      Indian  Wicket Keeper  Chennai Super Kings  2022   \n",
       "3         Deepak Chahar      Indian         Bowler  Chennai Super Kings  2022   \n",
       "4      C.Hari Nishaanth      Indian        Batsman  Chennai Super Kings  2022   \n",
       "5         N. Jagadeesan      Indian  Wicket Keeper  Chennai Super Kings  2022   \n",
       "..                  ...         ...            ...                  ...   ...   \n",
       "193       Shreyas Gopal      Indian         Bowler  Sunrisers Hyderabad  2022   \n",
       "194  Jagadeesha Suchith      Indian         Bowler  Sunrisers Hyderabad  2022   \n",
       "201           R Samarth      Indian        Batsman  Sunrisers Hyderabad  2022   \n",
       "202      Shashank Singh      Indian    All-Rounder  Sunrisers Hyderabad  2022   \n",
       "203       Saurabh Dubey      Indian         Bowler  Sunrisers Hyderabad  2022   \n",
       "\n",
       "    sponsored_by  sold_price  \n",
       "0           TATA    20000000  \n",
       "2           TATA    67500000  \n",
       "3           TATA   140000000  \n",
       "4           TATA     2000000  \n",
       "5           TATA     2000000  \n",
       "..           ...         ...  \n",
       "193         TATA     7500000  \n",
       "194         TATA     2000000  \n",
       "201         TATA     2000000  \n",
       "202         TATA     2000000  \n",
       "203         TATA     2000000  \n",
       "\n",
       "[137 rows x 7 columns]"
      ]
     },
     "execution_count": 240,
     "metadata": {},
     "output_type": "execute_result"
    }
   ],
   "source": [
    "nation_grp.get_group(\"Indian\")"
   ]
  },
  {
   "cell_type": "code",
   "execution_count": 241,
   "id": "6f8e2a67",
   "metadata": {
    "execution": {
     "iopub.execute_input": "2023-10-25T14:11:34.400038Z",
     "iopub.status.busy": "2023-10-25T14:11:34.399347Z",
     "iopub.status.idle": "2023-10-25T14:11:34.414437Z",
     "shell.execute_reply": "2023-10-25T14:11:34.413561Z"
    },
    "papermill": {
     "duration": 0.118236,
     "end_time": "2023-10-25T14:11:34.416469",
     "exception": false,
     "start_time": "2023-10-25T14:11:34.298233",
     "status": "completed"
    },
    "tags": []
   },
   "outputs": [
    {
     "data": {
      "text/html": [
       "<div>\n",
       "<style scoped>\n",
       "    .dataframe tbody tr th:only-of-type {\n",
       "        vertical-align: middle;\n",
       "    }\n",
       "\n",
       "    .dataframe tbody tr th {\n",
       "        vertical-align: top;\n",
       "    }\n",
       "\n",
       "    .dataframe thead th {\n",
       "        text-align: right;\n",
       "    }\n",
       "</style>\n",
       "<table border=\"1\" class=\"dataframe\">\n",
       "  <thead>\n",
       "    <tr style=\"text-align: right;\">\n",
       "      <th></th>\n",
       "      <th>player_name</th>\n",
       "      <th>nationality</th>\n",
       "      <th>type</th>\n",
       "      <th>teams</th>\n",
       "      <th>year</th>\n",
       "      <th>sponsored_by</th>\n",
       "      <th>sold_price</th>\n",
       "    </tr>\n",
       "  </thead>\n",
       "  <tbody>\n",
       "    <tr>\n",
       "      <th>1</th>\n",
       "      <td>Dwayne Bravo</td>\n",
       "      <td>Overseas</td>\n",
       "      <td>All-Rounder</td>\n",
       "      <td>Chennai Super Kings</td>\n",
       "      <td>2022</td>\n",
       "      <td>TATA</td>\n",
       "      <td>44000000</td>\n",
       "    </tr>\n",
       "    <tr>\n",
       "      <th>9</th>\n",
       "      <td>Chris Jordan</td>\n",
       "      <td>Overseas</td>\n",
       "      <td>All-Rounder</td>\n",
       "      <td>Chennai Super Kings</td>\n",
       "      <td>2022</td>\n",
       "      <td>TATA</td>\n",
       "      <td>36000000</td>\n",
       "    </tr>\n",
       "    <tr>\n",
       "      <th>10</th>\n",
       "      <td>Maheesh Theekshana</td>\n",
       "      <td>Overseas</td>\n",
       "      <td>Bowler</td>\n",
       "      <td>Chennai Super Kings</td>\n",
       "      <td>2022</td>\n",
       "      <td>TATA</td>\n",
       "      <td>7000000</td>\n",
       "    </tr>\n",
       "    <tr>\n",
       "      <th>13</th>\n",
       "      <td>Devon Conway</td>\n",
       "      <td>Overseas</td>\n",
       "      <td>Batsman</td>\n",
       "      <td>Chennai Super Kings</td>\n",
       "      <td>2022</td>\n",
       "      <td>TATA</td>\n",
       "      <td>10000000</td>\n",
       "    </tr>\n",
       "    <tr>\n",
       "      <th>14</th>\n",
       "      <td>Dwaine Pretorius</td>\n",
       "      <td>Overseas</td>\n",
       "      <td>All-Rounder</td>\n",
       "      <td>Chennai Super Kings</td>\n",
       "      <td>2022</td>\n",
       "      <td>TATA</td>\n",
       "      <td>5000000</td>\n",
       "    </tr>\n",
       "    <tr>\n",
       "      <th>...</th>\n",
       "      <td>...</td>\n",
       "      <td>...</td>\n",
       "      <td>...</td>\n",
       "      <td>...</td>\n",
       "      <td>...</td>\n",
       "      <td>...</td>\n",
       "      <td>...</td>\n",
       "    </tr>\n",
       "    <tr>\n",
       "      <th>196</th>\n",
       "      <td>Marco Jansen</td>\n",
       "      <td>Overseas</td>\n",
       "      <td>All-Rounder</td>\n",
       "      <td>Sunrisers Hyderabad</td>\n",
       "      <td>2022</td>\n",
       "      <td>TATA</td>\n",
       "      <td>42000000</td>\n",
       "    </tr>\n",
       "    <tr>\n",
       "      <th>197</th>\n",
       "      <td>Romario Shepherd</td>\n",
       "      <td>Overseas</td>\n",
       "      <td>All-Rounder</td>\n",
       "      <td>Sunrisers Hyderabad</td>\n",
       "      <td>2022</td>\n",
       "      <td>TATA</td>\n",
       "      <td>77500000</td>\n",
       "    </tr>\n",
       "    <tr>\n",
       "      <th>198</th>\n",
       "      <td>Glenn Phillips</td>\n",
       "      <td>Overseas</td>\n",
       "      <td>Wicket Keeper</td>\n",
       "      <td>Sunrisers Hyderabad</td>\n",
       "      <td>2022</td>\n",
       "      <td>TATA</td>\n",
       "      <td>15000000</td>\n",
       "    </tr>\n",
       "    <tr>\n",
       "      <th>199</th>\n",
       "      <td>Fazalhaq Farooqi</td>\n",
       "      <td>Overseas</td>\n",
       "      <td>Bowler</td>\n",
       "      <td>Sunrisers Hyderabad</td>\n",
       "      <td>2022</td>\n",
       "      <td>TATA</td>\n",
       "      <td>5000000</td>\n",
       "    </tr>\n",
       "    <tr>\n",
       "      <th>200</th>\n",
       "      <td>Sean Abbott</td>\n",
       "      <td>Overseas</td>\n",
       "      <td>Bowler</td>\n",
       "      <td>Sunrisers Hyderabad</td>\n",
       "      <td>2022</td>\n",
       "      <td>TATA</td>\n",
       "      <td>24000000</td>\n",
       "    </tr>\n",
       "  </tbody>\n",
       "</table>\n",
       "<p>67 rows × 7 columns</p>\n",
       "</div>"
      ],
      "text/plain": [
       "            player_name nationality           type                teams  year  \\\n",
       "1          Dwayne Bravo    Overseas    All-Rounder  Chennai Super Kings  2022   \n",
       "9          Chris Jordan    Overseas    All-Rounder  Chennai Super Kings  2022   \n",
       "10   Maheesh Theekshana    Overseas         Bowler  Chennai Super Kings  2022   \n",
       "13         Devon Conway    Overseas        Batsman  Chennai Super Kings  2022   \n",
       "14     Dwaine Pretorius    Overseas    All-Rounder  Chennai Super Kings  2022   \n",
       "..                  ...         ...            ...                  ...   ...   \n",
       "196        Marco Jansen    Overseas    All-Rounder  Sunrisers Hyderabad  2022   \n",
       "197    Romario Shepherd    Overseas    All-Rounder  Sunrisers Hyderabad  2022   \n",
       "198      Glenn Phillips    Overseas  Wicket Keeper  Sunrisers Hyderabad  2022   \n",
       "199    Fazalhaq Farooqi    Overseas         Bowler  Sunrisers Hyderabad  2022   \n",
       "200         Sean Abbott    Overseas         Bowler  Sunrisers Hyderabad  2022   \n",
       "\n",
       "    sponsored_by  sold_price  \n",
       "1           TATA    44000000  \n",
       "9           TATA    36000000  \n",
       "10          TATA     7000000  \n",
       "13          TATA    10000000  \n",
       "14          TATA     5000000  \n",
       "..           ...         ...  \n",
       "196         TATA    42000000  \n",
       "197         TATA    77500000  \n",
       "198         TATA    15000000  \n",
       "199         TATA     5000000  \n",
       "200         TATA    24000000  \n",
       "\n",
       "[67 rows x 7 columns]"
      ]
     },
     "execution_count": 241,
     "metadata": {},
     "output_type": "execute_result"
    }
   ],
   "source": [
    "nation_grp.get_group(\"Overseas\")"
   ]
  },
  {
   "cell_type": "code",
   "execution_count": 242,
   "id": "1dc7e6d7",
   "metadata": {
    "execution": {
     "iopub.execute_input": "2023-10-25T14:11:34.618837Z",
     "iopub.status.busy": "2023-10-25T14:11:34.618184Z",
     "iopub.status.idle": "2023-10-25T14:11:34.624749Z",
     "shell.execute_reply": "2023-10-25T14:11:34.623906Z"
    },
    "papermill": {
     "duration": 0.109524,
     "end_time": "2023-10-25T14:11:34.626781",
     "exception": false,
     "start_time": "2023-10-25T14:11:34.517257",
     "status": "completed"
    },
    "tags": []
   },
   "outputs": [
    {
     "data": {
      "text/plain": [
       "137"
      ]
     },
     "execution_count": 242,
     "metadata": {},
     "output_type": "execute_result"
    }
   ],
   "source": [
    "nation_grp.get_group(\"Indian\")['sold_price'].count()"
   ]
  },
  {
   "cell_type": "code",
   "execution_count": 243,
   "id": "c7f6c70f",
   "metadata": {
    "execution": {
     "iopub.execute_input": "2023-10-25T14:11:34.832460Z",
     "iopub.status.busy": "2023-10-25T14:11:34.831787Z",
     "iopub.status.idle": "2023-10-25T14:11:34.838082Z",
     "shell.execute_reply": "2023-10-25T14:11:34.837350Z"
    },
    "papermill": {
     "duration": 0.113016,
     "end_time": "2023-10-25T14:11:34.840092",
     "exception": false,
     "start_time": "2023-10-25T14:11:34.727076",
     "status": "completed"
    },
    "tags": []
   },
   "outputs": [
    {
     "data": {
      "text/plain": [
       "3142000000"
      ]
     },
     "execution_count": 243,
     "metadata": {},
     "output_type": "execute_result"
    }
   ],
   "source": [
    "nation_grp.get_group(\"Indian\")['sold_price'].sum()"
   ]
  },
  {
   "cell_type": "code",
   "execution_count": 244,
   "id": "ffba29bb",
   "metadata": {
    "execution": {
     "iopub.execute_input": "2023-10-25T14:11:35.046633Z",
     "iopub.status.busy": "2023-10-25T14:11:35.045961Z",
     "iopub.status.idle": "2023-10-25T14:11:35.052929Z",
     "shell.execute_reply": "2023-10-25T14:11:35.052097Z"
    },
    "papermill": {
     "duration": 0.112231,
     "end_time": "2023-10-25T14:11:35.054912",
     "exception": false,
     "start_time": "2023-10-25T14:11:34.942681",
     "status": "completed"
    },
    "tags": []
   },
   "outputs": [
    {
     "data": {
      "text/plain": [
       "22934306.569343064"
      ]
     },
     "execution_count": 244,
     "metadata": {},
     "output_type": "execute_result"
    }
   ],
   "source": [
    "nation_grp.get_group(\"Indian\")['sold_price'].mean()"
   ]
  },
  {
   "cell_type": "code",
   "execution_count": 245,
   "id": "0e0a06f5",
   "metadata": {
    "execution": {
     "iopub.execute_input": "2023-10-25T14:11:35.323898Z",
     "iopub.status.busy": "2023-10-25T14:11:35.323189Z",
     "iopub.status.idle": "2023-10-25T14:11:35.329952Z",
     "shell.execute_reply": "2023-10-25T14:11:35.328962Z"
    },
    "papermill": {
     "duration": 0.110613,
     "end_time": "2023-10-25T14:11:35.332057",
     "exception": false,
     "start_time": "2023-10-25T14:11:35.221444",
     "status": "completed"
    },
    "tags": []
   },
   "outputs": [
    {
     "data": {
      "text/plain": [
       "152500000"
      ]
     },
     "execution_count": 245,
     "metadata": {},
     "output_type": "execute_result"
    }
   ],
   "source": [
    "nation_grp.get_group(\"Indian\")['sold_price'].max()"
   ]
  },
  {
   "cell_type": "code",
   "execution_count": 246,
   "id": "d2e81c8a",
   "metadata": {
    "execution": {
     "iopub.execute_input": "2023-10-25T14:11:35.540800Z",
     "iopub.status.busy": "2023-10-25T14:11:35.539835Z",
     "iopub.status.idle": "2023-10-25T14:11:35.547568Z",
     "shell.execute_reply": "2023-10-25T14:11:35.546659Z"
    },
    "papermill": {
     "duration": 0.115045,
     "end_time": "2023-10-25T14:11:35.549582",
     "exception": false,
     "start_time": "2023-10-25T14:11:35.434537",
     "status": "completed"
    },
    "tags": []
   },
   "outputs": [
    {
     "data": {
      "text/plain": [
       "2000000"
      ]
     },
     "execution_count": 246,
     "metadata": {},
     "output_type": "execute_result"
    }
   ],
   "source": [
    "nation_grp.get_group(\"Indian\")['sold_price'].min()"
   ]
  },
  {
   "cell_type": "code",
   "execution_count": 247,
   "id": "ecb4d1ec",
   "metadata": {
    "execution": {
     "iopub.execute_input": "2023-10-25T14:11:35.764054Z",
     "iopub.status.busy": "2023-10-25T14:11:35.763342Z",
     "iopub.status.idle": "2023-10-25T14:11:35.777385Z",
     "shell.execute_reply": "2023-10-25T14:11:35.776204Z"
    },
    "papermill": {
     "duration": 0.11992,
     "end_time": "2023-10-25T14:11:35.779612",
     "exception": false,
     "start_time": "2023-10-25T14:11:35.659692",
     "status": "completed"
    },
    "tags": []
   },
   "outputs": [
    {
     "data": {
      "text/html": [
       "<div>\n",
       "<style scoped>\n",
       "    .dataframe tbody tr th:only-of-type {\n",
       "        vertical-align: middle;\n",
       "    }\n",
       "\n",
       "    .dataframe tbody tr th {\n",
       "        vertical-align: top;\n",
       "    }\n",
       "\n",
       "    .dataframe thead th {\n",
       "        text-align: right;\n",
       "    }\n",
       "</style>\n",
       "<table border=\"1\" class=\"dataframe\">\n",
       "  <thead>\n",
       "    <tr style=\"text-align: right;\">\n",
       "      <th></th>\n",
       "      <th>min</th>\n",
       "      <th>max</th>\n",
       "      <th>sum</th>\n",
       "      <th>mean</th>\n",
       "      <th>count</th>\n",
       "    </tr>\n",
       "    <tr>\n",
       "      <th>type</th>\n",
       "      <th></th>\n",
       "      <th></th>\n",
       "      <th></th>\n",
       "      <th></th>\n",
       "      <th></th>\n",
       "    </tr>\n",
       "  </thead>\n",
       "  <tbody>\n",
       "    <tr>\n",
       "      <th>All-Rounder</th>\n",
       "      <td>1000000</td>\n",
       "      <td>162500000</td>\n",
       "      <td>7846125000</td>\n",
       "      <td>2.248173e+07</td>\n",
       "      <td>349</td>\n",
       "    </tr>\n",
       "    <tr>\n",
       "      <th>Batsman</th>\n",
       "      <td>1000000</td>\n",
       "      <td>160000000</td>\n",
       "      <td>3698500000</td>\n",
       "      <td>2.137861e+07</td>\n",
       "      <td>173</td>\n",
       "    </tr>\n",
       "    <tr>\n",
       "      <th>Bowler</th>\n",
       "      <td>1000000</td>\n",
       "      <td>140000000</td>\n",
       "      <td>6899000000</td>\n",
       "      <td>1.959943e+07</td>\n",
       "      <td>352</td>\n",
       "    </tr>\n",
       "    <tr>\n",
       "      <th>Wicket Keeper</th>\n",
       "      <td>1000000</td>\n",
       "      <td>152500000</td>\n",
       "      <td>1926000000</td>\n",
       "      <td>2.048936e+07</td>\n",
       "      <td>94</td>\n",
       "    </tr>\n",
       "  </tbody>\n",
       "</table>\n",
       "</div>"
      ],
      "text/plain": [
       "                   min        max         sum          mean  count\n",
       "type                                                              \n",
       "All-Rounder    1000000  162500000  7846125000  2.248173e+07    349\n",
       "Batsman        1000000  160000000  3698500000  2.137861e+07    173\n",
       "Bowler         1000000  140000000  6899000000  1.959943e+07    352\n",
       "Wicket Keeper  1000000  152500000  1926000000  2.048936e+07     94"
      ]
     },
     "execution_count": 247,
     "metadata": {},
     "output_type": "execute_result"
    }
   ],
   "source": [
    "ipl.groupby(\"type\")['sold_price'].agg(['min','max','sum', 'mean', 'count'])"
   ]
  },
  {
   "cell_type": "code",
   "execution_count": 248,
   "id": "87e5c82d",
   "metadata": {
    "execution": {
     "iopub.execute_input": "2023-10-25T14:11:35.991218Z",
     "iopub.status.busy": "2023-10-25T14:11:35.990418Z",
     "iopub.status.idle": "2023-10-25T14:11:35.998732Z",
     "shell.execute_reply": "2023-10-25T14:11:35.997240Z"
    },
    "papermill": {
     "duration": 0.117074,
     "end_time": "2023-10-25T14:11:36.001468",
     "exception": false,
     "start_time": "2023-10-25T14:11:35.884394",
     "status": "completed"
    },
    "tags": []
   },
   "outputs": [
    {
     "name": "stdout",
     "output_type": "stream",
     "text": [
      "Indian\n",
      "(137, 7)\n",
      "Overseas\n",
      "(67, 7)\n"
     ]
    }
   ],
   "source": [
    "for name,df in nation_grp:\n",
    "    print(name)\n",
    "    print(df.shape)"
   ]
  },
  {
   "cell_type": "markdown",
   "id": "ae6937ea",
   "metadata": {
    "papermill": {
     "duration": 0.102773,
     "end_time": "2023-10-25T14:11:36.212256",
     "exception": false,
     "start_time": "2023-10-25T14:11:36.109483",
     "status": "completed"
    },
    "tags": []
   },
   "source": [
    "# Graph and Chart Plot\n",
    "Pandas is a powerful data manipulation library in Python, and it can be used to create a variety of graphs and charts. To create different types of graphs and charts using Pandas, you'll typically use the `plot` method on a DataFrame or Series. Here are some common types of charts and graphs you can create with Pandas, along with examples:\n",
    "\n",
    "1. `Line Chart`:\n",
    "   A line chart is used to visualize data points over a continuous interval or time series."
   ]
  },
  {
   "cell_type": "code",
   "execution_count": 249,
   "id": "2c4693a3",
   "metadata": {
    "execution": {
     "iopub.execute_input": "2023-10-25T14:11:36.419187Z",
     "iopub.status.busy": "2023-10-25T14:11:36.418599Z",
     "iopub.status.idle": "2023-10-25T14:11:36.743206Z",
     "shell.execute_reply": "2023-10-25T14:11:36.742087Z"
    },
    "papermill": {
     "duration": 0.428682,
     "end_time": "2023-10-25T14:11:36.745496",
     "exception": false,
     "start_time": "2023-10-25T14:11:36.316814",
     "status": "completed"
    },
    "tags": []
   },
   "outputs": [
    {
     "data": {
      "image/png": "[encoded data removed]",
      "text/plain": [
       "<Figure size 640x480 with 1 Axes>"
      ]
     },
     "metadata": {},
     "output_type": "display_data"
    }
   ],
   "source": [
    "import pandas as pd\n",
    "import matplotlib.pyplot as plt\n",
    "\n",
    "data = {'Year': [2010, 2011, 2012, 2013, 2014],\n",
    "        'Sales': [100, 150, 200, 180, 250]}\n",
    "\n",
    "df = pd.DataFrame(data)\n",
    "\n",
    "df.plot(x='Year', y='Sales', kind='line')\n",
    "plt.title('Yearly Sales')\n",
    "plt.show()"
   ]
  },
  {
   "cell_type": "markdown",
   "id": "5554209b",
   "metadata": {
    "papermill": {
     "duration": 0.103859,
     "end_time": "2023-10-25T14:11:36.956356",
     "exception": false,
     "start_time": "2023-10-25T14:11:36.852497",
     "status": "completed"
    },
    "tags": []
   },
   "source": [
    "2. Bar Chart:\n",
    "   Bar charts are used to compare different categories or values."
   ]
  },
  {
   "cell_type": "code",
   "execution_count": 250,
   "id": "61b5eab9",
   "metadata": {
    "execution": {
     "iopub.execute_input": "2023-10-25T14:11:37.164472Z",
     "iopub.status.busy": "2023-10-25T14:11:37.163786Z",
     "iopub.status.idle": "2023-10-25T14:11:37.389051Z",
     "shell.execute_reply": "2023-10-25T14:11:37.387900Z"
    },
    "papermill": {
     "duration": 0.330169,
     "end_time": "2023-10-25T14:11:37.391315",
     "exception": false,
     "start_time": "2023-10-25T14:11:37.061146",
     "status": "completed"
    },
    "tags": []
   },
   "outputs": [
    {
     "data": {
      "image/png": "[encoded data removed]",
      "text/plain": [
       "<Figure size 640x480 with 1 Axes>"
      ]
     },
     "metadata": {},
     "output_type": "display_data"
    }
   ],
   "source": [
    "data = {'Category': ['A', 'B', 'C', 'D'],\n",
    "        'Values': [15, 30, 25, 40]}\n",
    "\n",
    "df = pd.DataFrame(data)\n",
    "\n",
    "df.plot(x='Category', y='Values', kind='bar')\n",
    "plt.title('Category-wise Values')\n",
    "plt.show()"
   ]
  },
  {
   "cell_type": "markdown",
   "id": "dbc08a80",
   "metadata": {
    "papermill": {
     "duration": 0.106681,
     "end_time": "2023-10-25T14:11:37.603459",
     "exception": false,
     "start_time": "2023-10-25T14:11:37.496778",
     "status": "completed"
    },
    "tags": []
   },
   "source": [
    "3. Histogram:\n",
    "   Histograms are used to display the distribution of a single variable."
   ]
  },
  {
   "cell_type": "code",
   "execution_count": 251,
   "id": "fd781f08",
   "metadata": {
    "execution": {
     "iopub.execute_input": "2023-10-25T14:11:37.814170Z",
     "iopub.status.busy": "2023-10-25T14:11:37.813573Z",
     "iopub.status.idle": "2023-10-25T14:11:38.067804Z",
     "shell.execute_reply": "2023-10-25T14:11:38.066580Z"
    },
    "papermill": {
     "duration": 0.362507,
     "end_time": "2023-10-25T14:11:38.070247",
     "exception": false,
     "start_time": "2023-10-25T14:11:37.707740",
     "status": "completed"
    },
    "tags": []
   },
   "outputs": [
    {
     "data": {
      "image/png": "[encoded data removed]",
      "text/plain": [
       "<Figure size 640x480 with 1 Axes>"
      ]
     },
     "metadata": {},
     "output_type": "display_data"
    }
   ],
   "source": [
    "data = {'Scores': [85, 92, 78, 88, 95, 76, 89, 90, 82, 86]}\n",
    "\n",
    "df = pd.DataFrame(data)\n",
    "\n",
    "df.plot(y='Scores', kind='hist', bins=5)\n",
    "plt.title('Score Distribution')\n",
    "plt.show()"
   ]
  },
  {
   "cell_type": "markdown",
   "id": "6c6467f2",
   "metadata": {
    "papermill": {
     "duration": 0.101476,
     "end_time": "2023-10-25T14:11:38.275118",
     "exception": false,
     "start_time": "2023-10-25T14:11:38.173642",
     "status": "completed"
    },
    "tags": []
   },
   "source": [
    "4. Scatter Plot:\n",
    "   Scatter plots are used to visualize the relationship between two variables."
   ]
  },
  {
   "cell_type": "code",
   "execution_count": 252,
   "id": "c5957d3a",
   "metadata": {
    "execution": {
     "iopub.execute_input": "2023-10-25T14:11:38.482211Z",
     "iopub.status.busy": "2023-10-25T14:11:38.481852Z",
     "iopub.status.idle": "2023-10-25T14:11:38.718344Z",
     "shell.execute_reply": "2023-10-25T14:11:38.717169Z"
    },
    "papermill": {
     "duration": 0.343294,
     "end_time": "2023-10-25T14:11:38.720603",
     "exception": false,
     "start_time": "2023-10-25T14:11:38.377309",
     "status": "completed"
    },
    "tags": []
   },
   "outputs": [
    {
     "data": {
      "image/png": "[encoded data removed]",
      "text/plain": [
       "<Figure size 640x480 with 1 Axes>"
      ]
     },
     "metadata": {},
     "output_type": "display_data"
    }
   ],
   "source": [
    "data = {'X': [1, 2, 3, 4, 5],\n",
    "        'Y': [5, 8, 6, 9, 10]}\n",
    "\n",
    "df = pd.DataFrame(data)\n",
    "\n",
    "df.plot(x='X', y='Y', kind='scatter')\n",
    "plt.title('Scatter Plot')\n",
    "plt.show()"
   ]
  },
  {
   "cell_type": "markdown",
   "id": "54f2493a",
   "metadata": {
    "papermill": {
     "duration": 0.170598,
     "end_time": "2023-10-25T14:11:38.998240",
     "exception": false,
     "start_time": "2023-10-25T14:11:38.827642",
     "status": "completed"
    },
    "tags": []
   },
   "source": [
    "5. Pie Chart:\n",
    "   Pie charts are used to represent parts of a whole."
   ]
  },
  {
   "cell_type": "code",
   "execution_count": 253,
   "id": "a416cdfc",
   "metadata": {
    "execution": {
     "iopub.execute_input": "2023-10-25T14:11:39.208238Z",
     "iopub.status.busy": "2023-10-25T14:11:39.207894Z",
     "iopub.status.idle": "2023-10-25T14:11:39.374688Z",
     "shell.execute_reply": "2023-10-25T14:11:39.373408Z"
    },
    "papermill": {
     "duration": 0.274664,
     "end_time": "2023-10-25T14:11:39.377663",
     "exception": false,
     "start_time": "2023-10-25T14:11:39.102999",
     "status": "completed"
    },
    "tags": []
   },
   "outputs": [
    {
     "data": {
      "image/png": "[encoded data removed]",
      "text/plain": [
       "<Figure size 640x480 with 1 Axes>"
      ]
     },
     "metadata": {},
     "output_type": "display_data"
    }
   ],
   "source": [
    "data = {'Category': ['A', 'B', 'C', 'D'],\n",
    "        'Values': [15, 30, 25, 40]}\n",
    "\n",
    "df = pd.DataFrame(data)\n",
    "\n",
    "df.plot(y='Values', kind='pie', labels=df['Category'], autopct='%1.1f%%')\n",
    "plt.title('Category-wise Distribution')\n",
    "plt.show()"
   ]
  },
  {
   "cell_type": "markdown",
   "id": "32814837",
   "metadata": {
    "papermill": {
     "duration": 0.10519,
     "end_time": "2023-10-25T14:11:39.614679",
     "exception": false,
     "start_time": "2023-10-25T14:11:39.509489",
     "status": "completed"
    },
    "tags": []
   },
   "source": [
    "6. Box Plot:\n",
    "   Box plots are used to visualize the distribution of a dataset and identify outliers."
   ]
  },
  {
   "cell_type": "code",
   "execution_count": 254,
   "id": "db37e1e0",
   "metadata": {
    "execution": {
     "iopub.execute_input": "2023-10-25T14:11:39.827980Z",
     "iopub.status.busy": "2023-10-25T14:11:39.827578Z",
     "iopub.status.idle": "2023-10-25T14:11:40.185501Z",
     "shell.execute_reply": "2023-10-25T14:11:40.184447Z"
    },
    "papermill": {
     "duration": 0.469758,
     "end_time": "2023-10-25T14:11:40.187765",
     "exception": false,
     "start_time": "2023-10-25T14:11:39.718007",
     "status": "completed"
    },
    "tags": []
   },
   "outputs": [
    {
     "data": {
      "image/png": "[encoded data removed]",
      "text/plain": [
       "<Figure size 640x480 with 1 Axes>"
      ]
     },
     "metadata": {},
     "output_type": "display_data"
    }
   ],
   "source": [
    "data = {'Category': ['A', 'B', 'A', 'C', 'B', 'C'],\n",
    "        'Values': [15, 30, 22, 40, 33, 45]}\n",
    "\n",
    "df = pd.DataFrame(data)\n",
    "\n",
    "df.boxplot(by='Category', column='Values')\n",
    "plt.title('Box Plot by Category')\n",
    "plt.suptitle('')  # Remove the default title\n",
    "plt.show()"
   ]
  },
  {
   "cell_type": "markdown",
   "id": "9396c6ab",
   "metadata": {
    "papermill": {
     "duration": 0.110143,
     "end_time": "2023-10-25T14:11:40.403543",
     "exception": false,
     "start_time": "2023-10-25T14:11:40.293400",
     "status": "completed"
    },
    "tags": []
   },
   "source": [
    "These are some of the common types of charts and graphs you can create using Pandas. Depending on your data and analysis needs, you can customize these charts further and explore more advanced plotting options offered by libraries like Matplotlib and Seaborn in conjunction with Pandas."
   ]
  },
  {
   "cell_type": "markdown",
   "id": "579de10b",
   "metadata": {
    "papermill": {
     "duration": 0.105231,
     "end_time": "2023-10-25T14:11:40.613747",
     "exception": false,
     "start_time": "2023-10-25T14:11:40.508516",
     "status": "completed"
    },
    "tags": []
   },
   "source": [
    "\n",
    "# Conclusion\n",
    "\n",
    "In this comprehensive tutorial, we've covered a wide range of topics related to data manipulation and analysis using the Pandas library in Python. Whether you're a beginner or an experienced data analyst, Pandas is an invaluable tool for working with structured data effectively. With Pandas, you can load, clean, transform, and analyze data, making it a fundamental library for any data-driven project.\n",
    "\n",
    "We explored the following key aspects of Pandas:\n",
    "\n",
    "1. **Introduction to Pandas:** We started with an overview of what Pandas is and why it's so popular for data analysis and manipulation.\n",
    "\n",
    "2. **Data Structures:** We delved into the two primary data structures in Pandas: Series and DataFrames. These structures are the building blocks for working with data.\n",
    "\n",
    "3. **Data Cleaning:** We discussed techniques for handling missing data, duplications, and outliers, which are crucial for preparing data for analysis.\n",
    "\n",
    "4. **Data Transformation:** We explored various techniques for reshaping data, creating new columns, and combining DataFrames.\n",
    "\n",
    "5. **Grouping and Aggregation:** We demonstrated how to group data and perform aggregation operations using Pandas.\n",
    "\n",
    "6. **Reading and Writing Data:** You learned how to read data from various file formats and save your Pandas DataFrames to different formats.\n",
    "\n",
    "7. **Data Visualization:** We discussed how to create basic data visualizations with Pandas and Matplotlib.\n",
    "\n",
    "8. **Custom Functions and Transformations:** You learned how to write and apply custom functions for data cleaning, transformation, and analysis.\n",
    "\n",
    "Throughout the tutorial, we provided practical examples to help you understand how to use Pandas effectively. Remember that Pandas is a versatile library, and as you become more familiar with its capabilities, you'll be better equipped to handle real-world data analysis tasks.\n",
    "\n",
    "We hope this tutorial has been a valuable resource in your journey to become proficient with Pandas. Data manipulation and analysis are foundational skills for many domains, including data science, machine learning, finance, and more. Continue exploring and experimenting with Pandas to build your expertise and take your data analysis skills to the next level.\n",
    "\n",
    "If you have any questions or need further assistance in the future, feel free to return. Happy coding and data analyzing!\n",
    "\n",
    "---\n",
    "\n",
    "Thank you for going through this Pandas tutorial, and we wish you the best in your data analysis endeavors!"
   ]
  }
 ],
 "metadata": {
  "kernelspec": {
   "display_name": "Python 3",
   "language": "python",
   "name": "python3"
  },
  "language_info": {
   "codemirror_mode": {
    "name": "ipython",
    "version": 3
   },
   "file_extension": ".py",
   "mimetype": "text/x-python",
   "name": "python",
   "nbconvert_exporter": "python",
   "pygments_lexer": "ipython3",
   "version": "3.10.12"
  },
  "papermill": {
   "default_parameters": {},
   "duration": 75.629161,
   "end_time": "2023-10-25T14:11:41.338929",
   "environment_variables": {},
   "exception": null,
   "input_path": "__notebook__.ipynb",
   "output_path": "__notebook__.ipynb",
   "parameters": {},
   "start_time": "2023-10-25T14:10:25.709768",
   "version": "2.4.0"
  }
 },
 "nbformat": 4,
 "nbformat_minor": 5
}
